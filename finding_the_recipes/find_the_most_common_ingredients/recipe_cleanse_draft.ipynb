{
 "cells": [
  {
   "cell_type": "code",
   "execution_count": 2,
   "metadata": {},
   "outputs": [],
   "source": [
    "import numpy as np\n",
    "import pandas as pd"
   ]
  },
  {
   "cell_type": "markdown",
   "metadata": {},
   "source": [
    "# Load recipes"
   ]
  },
  {
   "cell_type": "code",
   "execution_count": 131,
   "metadata": {},
   "outputs": [],
   "source": [
    "with np.load('simplified-recipes-1M_Issi.npz', allow_pickle=True) as data:\n",
    "    recipes = data['recipes']\n",
    "    ingredients = data['ingredients']"
   ]
  },
  {
   "cell_type": "code",
   "execution_count": 132,
   "metadata": {},
   "outputs": [
    {
     "data": {
      "text/plain": [
       "(1067557,)"
      ]
     },
     "execution_count": 132,
     "metadata": {},
     "output_type": "execute_result"
    }
   ],
   "source": [
    "recipes.shape"
   ]
  },
  {
   "cell_type": "markdown",
   "metadata": {},
   "source": [
    "# Clean data: non-ingredients, non-specific ingredients etc."
   ]
  },
  {
   "cell_type": "code",
   "execution_count": 4,
   "metadata": {},
   "outputs": [
    {
     "data": {
      "text/plain": [
       "array([array([ 233, 2754,   42,  120,  560,  345,  150, 2081,   12,   21]),\n",
       "       array([ 198,  249,    2,  194, 1884,  791,  965,  423,   53,   48,  798,\n",
       "         31,  362, 1031,   94,   26,    8]),\n",
       "       array([ 328,  263,   62,   46,  445,   55, 1196,   82,  664,    3,  602,\n",
       "         10,    7,    6,    1,  128,   61,  141,    0,  262,  140,  655,\n",
       "         21,    8,   23,   84]),\n",
       "       array([ 988, 1307]),\n",
       "       array([  14, 1117,  998, 1010,    9,   30,   18,   29,  214, 1752, 1477,\n",
       "          1,  132,  196,  658, 1301,   26,  113])], dtype=object)"
      ]
     },
     "execution_count": 4,
     "metadata": {},
     "output_type": "execute_result"
    }
   ],
   "source": [
    "recipes[0:5]"
   ]
  },
  {
   "cell_type": "code",
   "execution_count": 5,
   "metadata": {},
   "outputs": [
    {
     "data": {
      "text/plain": [
       "array([ 233, 2754,   42,  120,  560,  345,  150, 2081,   12,   21])"
      ]
     },
     "execution_count": 5,
     "metadata": {},
     "output_type": "execute_result"
    }
   ],
   "source": [
    "recipes[0]"
   ]
  },
  {
   "cell_type": "code",
   "execution_count": 6,
   "metadata": {},
   "outputs": [
    {
     "data": {
      "text/plain": [
       "array(['basil leaves', 'focaccia', 'leaves', 'mozzarella', 'pesto',\n",
       "       'plum tomatoes', 'rosemary', 'sandwiches', 'sliced', 'tomatoes'],\n",
       "      dtype='<U39')"
      ]
     },
     "execution_count": 6,
     "metadata": {},
     "output_type": "execute_result"
    }
   ],
   "source": [
    "ingredients[recipes[0]]"
   ]
  },
  {
   "cell_type": "code",
   "execution_count": 7,
   "metadata": {},
   "outputs": [
    {
     "data": {
      "text/plain": [
       "'salt'"
      ]
     },
     "execution_count": 7,
     "metadata": {},
     "output_type": "execute_result"
    }
   ],
   "source": [
    "ingredients[0]"
   ]
  },
  {
   "cell_type": "code",
   "execution_count": 8,
   "metadata": {},
   "outputs": [],
   "source": [
    "file_delete = '/Users/iskriyanavasileva/git/deep-food/data/recipe_delete.csv'"
   ]
  },
  {
   "cell_type": "code",
   "execution_count": 9,
   "metadata": {},
   "outputs": [],
   "source": [
    "df_delete = pd.read_csv(file_delete)"
   ]
  },
  {
   "cell_type": "code",
   "execution_count": 10,
   "metadata": {},
   "outputs": [
    {
     "data": {
      "text/html": [
       "<div>\n",
       "<style scoped>\n",
       "    .dataframe tbody tr th:only-of-type {\n",
       "        vertical-align: middle;\n",
       "    }\n",
       "\n",
       "    .dataframe tbody tr th {\n",
       "        vertical-align: top;\n",
       "    }\n",
       "\n",
       "    .dataframe thead th {\n",
       "        text-align: right;\n",
       "    }\n",
       "</style>\n",
       "<table border=\"1\" class=\"dataframe\">\n",
       "  <thead>\n",
       "    <tr style=\"text-align: right;\">\n",
       "      <th></th>\n",
       "      <th>to_delete</th>\n",
       "    </tr>\n",
       "  </thead>\n",
       "  <tbody>\n",
       "    <tr>\n",
       "      <th>0</th>\n",
       "      <td>white</td>\n",
       "    </tr>\n",
       "    <tr>\n",
       "      <th>1</th>\n",
       "      <td>extrace</td>\n",
       "    </tr>\n",
       "    <tr>\n",
       "      <th>2</th>\n",
       "      <td>vegetable</td>\n",
       "    </tr>\n",
       "    <tr>\n",
       "      <th>3</th>\n",
       "      <td>leaves</td>\n",
       "    </tr>\n",
       "    <tr>\n",
       "      <th>4</th>\n",
       "      <td>packed</td>\n",
       "    </tr>\n",
       "  </tbody>\n",
       "</table>\n",
       "</div>"
      ],
      "text/plain": [
       "   to_delete\n",
       "0      white\n",
       "1    extrace\n",
       "2  vegetable\n",
       "3     leaves\n",
       "4     packed"
      ]
     },
     "execution_count": 10,
     "metadata": {},
     "output_type": "execute_result"
    }
   ],
   "source": [
    "df_delete.head()"
   ]
  },
  {
   "cell_type": "code",
   "execution_count": 11,
   "metadata": {},
   "outputs": [],
   "source": [
    "np_delete = df_delete.to_numpy()"
   ]
  },
  {
   "cell_type": "code",
   "execution_count": 12,
   "metadata": {},
   "outputs": [],
   "source": [
    "ingredients_l = [i for i in ingredients]"
   ]
  },
  {
   "cell_type": "code",
   "execution_count": 13,
   "metadata": {},
   "outputs": [
    {
     "data": {
      "text/plain": [
       "['white', 'extrace', 'vegetable', 'leaves', 'packed']"
      ]
     },
     "execution_count": 13,
     "metadata": {},
     "output_type": "execute_result"
    }
   ],
   "source": [
    "np_delete_l = [i[0] for i in np_delete]\n",
    "np_delete_l[0:5]"
   ]
  },
  {
   "cell_type": "code",
   "execution_count": 14,
   "metadata": {},
   "outputs": [
    {
     "data": {
      "text/plain": [
       "array(['basil leaves', 'focaccia', 'leaves', 'mozzarella', 'pesto',\n",
       "       'plum tomatoes', 'rosemary', 'sandwiches', 'sliced', 'tomatoes'],\n",
       "      dtype='<U39')"
      ]
     },
     "execution_count": 14,
     "metadata": {},
     "output_type": "execute_result"
    }
   ],
   "source": [
    "ingredients[recipes[0]]"
   ]
  },
  {
   "cell_type": "code",
   "execution_count": 15,
   "metadata": {},
   "outputs": [
    {
     "name": "stdout",
     "output_type": "stream",
     "text": [
      "basil leaves white\n",
      "focaccia white\n",
      "leaves white\n",
      "mozzarella white\n",
      "pesto white\n",
      "plum tomatoes white\n",
      "rosemary white\n",
      "sandwiches white\n",
      "sliced white\n",
      "tomatoes white\n"
     ]
    }
   ],
   "source": [
    "for i in ingredients[recipes[0]]:\n",
    "    print(i, np_delete[0][0])"
   ]
  },
  {
   "cell_type": "code",
   "execution_count": 16,
   "metadata": {},
   "outputs": [
    {
     "data": {
      "text/plain": [
       "array([ 233, 2754,   42,  120,  560,  345,  150, 2081,   12,   21])"
      ]
     },
     "execution_count": 16,
     "metadata": {},
     "output_type": "execute_result"
    }
   ],
   "source": [
    "recipes[0]"
   ]
  },
  {
   "cell_type": "code",
   "execution_count": 17,
   "metadata": {},
   "outputs": [
    {
     "name": "stderr",
     "output_type": "stream",
     "text": [
      "/Users/iskriyanavasileva/opt/anaconda3/envs/deep-food/lib/python3.6/site-packages/ipykernel_launcher.py:1: FutureWarning: elementwise comparison failed; returning scalar instead, but in the future will perform elementwise comparison\n",
      "  \"\"\"Entry point for launching an IPython kernel.\n"
     ]
    },
    {
     "data": {
      "text/plain": [
       "array([['salt', 'pepper', 'butter', ..., 'watercress leaves',\n",
       "        'emerils essence', 'corn flakes cereal']], dtype='<U39')"
      ]
     },
     "execution_count": 17,
     "metadata": {},
     "output_type": "execute_result"
    }
   ],
   "source": [
    "ingredients[recipes[0] != 'leaves']"
   ]
  },
  {
   "cell_type": "code",
   "execution_count": 18,
   "metadata": {},
   "outputs": [
    {
     "data": {
      "text/plain": [
       "array(['basil leaves', 'focaccia', 'mozzarella', 'pesto', 'plum tomatoes',\n",
       "       'rosemary', 'sandwiches', 'sliced', 'tomatoes'], dtype='<U39')"
      ]
     },
     "execution_count": 18,
     "metadata": {},
     "output_type": "execute_result"
    }
   ],
   "source": [
    "test = np.delete(ingredients[recipes[0]], np.argwhere(ingredients[recipes[0]] == np_delete_l[3]))\n",
    "test"
   ]
  },
  {
   "cell_type": "code",
   "execution_count": 19,
   "metadata": {},
   "outputs": [
    {
     "data": {
      "text/plain": [
       "array(['basil leaves', 'focaccia', 'leaves', 'mozzarella', 'pesto',\n",
       "       'plum tomatoes', 'rosemary', 'sandwiches', 'sliced', 'tomatoes'],\n",
       "      dtype='<U39')"
      ]
     },
     "execution_count": 19,
     "metadata": {},
     "output_type": "execute_result"
    }
   ],
   "source": [
    "ingredients[recipes[0]]"
   ]
  },
  {
   "cell_type": "code",
   "execution_count": 20,
   "metadata": {},
   "outputs": [],
   "source": [
    "recipes_test = recipes[0:10]\n",
    "#recipes_test"
   ]
  },
  {
   "cell_type": "code",
   "execution_count": 21,
   "metadata": {},
   "outputs": [],
   "source": [
    "dict_ingr_ind = dict(enumerate(ingredients))"
   ]
  },
  {
   "cell_type": "code",
   "execution_count": 22,
   "metadata": {},
   "outputs": [],
   "source": [
    "keys = ingredients\n",
    "values = range(len(ingredients))\n",
    "\n",
    "dict_ingr_ind_rev = dict(zip(keys, values))\n",
    "#dict_ingr_ind_rev"
   ]
  },
  {
   "cell_type": "code",
   "execution_count": 23,
   "metadata": {},
   "outputs": [],
   "source": [
    "#for k, v in dict_ingr_ind.items():\n",
    "#    print(k, v)\n",
    "#    print(dict_ingr_ind_rev[v])"
   ]
  },
  {
   "cell_type": "code",
   "execution_count": 24,
   "metadata": {},
   "outputs": [
    {
     "data": {
      "text/plain": [
       "array([ 233, 2754,   42,  120,  560,  345,  150, 2081,   12,   21])"
      ]
     },
     "execution_count": 24,
     "metadata": {},
     "output_type": "execute_result"
    }
   ],
   "source": [
    "recipes_test[0]"
   ]
  },
  {
   "cell_type": "code",
   "execution_count": 25,
   "metadata": {},
   "outputs": [
    {
     "name": "stdout",
     "output_type": "stream",
     "text": [
      "[False False  True False False False False False False False]\n"
     ]
    },
    {
     "data": {
      "text/plain": [
       "array(['basil leaves', 'focaccia', 'mozzarella', 'pesto', 'plum tomatoes',\n",
       "       'rosemary', 'sandwiches', 'sliced', 'tomatoes'], dtype='<U39')"
      ]
     },
     "execution_count": 25,
     "metadata": {},
     "output_type": "execute_result"
    }
   ],
   "source": [
    "current_recipe = ingredients[recipes_test[0]]\n",
    "elements_to_delete = np.intersect1d(current_recipe, np_delete)\n",
    "mask_delete = np.isin(current_recipe, elements_to_delete)\n",
    "print(mask_delete)\n",
    "clean_recipe = current_recipe[~mask_delete]\n",
    "clean_recipe"
   ]
  },
  {
   "cell_type": "code",
   "execution_count": 26,
   "metadata": {},
   "outputs": [
    {
     "data": {
      "text/plain": [
       "[233, 2754, 120, 560, 345, 150, 2081, 12, 21]"
      ]
     },
     "execution_count": 26,
     "metadata": {},
     "output_type": "execute_result"
    }
   ],
   "source": [
    "clean_recipe_idx = [dict_ingr_ind_rev[ingredient] for ingredient in clean_recipe]\n",
    "clean_recipe_idx"
   ]
  },
  {
   "cell_type": "code",
   "execution_count": 27,
   "metadata": {},
   "outputs": [
    {
     "data": {
      "text/plain": [
       "array([ 233, 2754,  120,  560,  345,  150, 2081,   12,   21])"
      ]
     },
     "execution_count": 27,
     "metadata": {},
     "output_type": "execute_result"
    }
   ],
   "source": [
    "clean_recipe_test = np.delete(recipes_test[0], 2)\n",
    "clean_recipe_test"
   ]
  },
  {
   "cell_type": "code",
   "execution_count": 28,
   "metadata": {},
   "outputs": [
    {
     "name": "stdout",
     "output_type": "stream",
     "text": [
      "[ 233 2754   42  120  560  345  150 2081   12   21]\n",
      "current_recipe ['basil leaves' 'focaccia' 'leaves' 'mozzarella' 'pesto' 'plum tomatoes'\n",
      " 'rosemary' 'sandwiches' 'sliced' 'tomatoes']\n",
      "------------------------------------\n",
      "[False False  True False False False False False False False]\n",
      "clean_recipe ['basil leaves' 'focaccia' 'mozzarella' 'pesto' 'plum tomatoes' 'rosemary'\n",
      " 'sandwiches' 'sliced' 'tomatoes']\n",
      "------------------------------------\n",
      "[2]\n",
      "(2,)\n",
      "deleted ['leaves']\n",
      "current_recipe2 ['basil leaves' 'focaccia' 'leaves' 'mozzarella' 'pesto' 'plum tomatoes'\n",
      " 'rosemary' 'sandwiches' 'sliced' 'tomatoes']\n",
      "************************************\n",
      "[ 198  249    2  194 1884  791  965  423   53   48  798   31  362 1031\n",
      "   94   26    8]\n",
      "current_recipe ['balsamic vinegar' 'boiling water' 'butter' 'cooking spray'\n",
      " 'crumbled gorgonzola' 'currants' 'gorgonzola' 'grated orange' 'kosher'\n",
      " 'kosher salt' 'orange rind' 'parsley' 'pine nuts' 'polenta' 'toasted'\n",
      " 'vinegar' 'water']\n",
      "------------------------------------\n",
      "[False False False  True False False False False False False False False\n",
      " False False  True False False]\n",
      "clean_recipe ['balsamic vinegar' 'boiling water' 'butter' 'crumbled gorgonzola'\n",
      " 'currants' 'gorgonzola' 'grated orange' 'kosher' 'kosher salt'\n",
      " 'orange rind' 'parsley' 'pine nuts' 'polenta' 'vinegar' 'water']\n",
      "------------------------------------\n",
      "[ 3 14]\n",
      "(3, 14)\n",
      "deleted ['cooking spray' 'toasted']\n",
      "current_recipe2 ['balsamic vinegar' 'boiling water' 'butter' 'cooking spray'\n",
      " 'crumbled gorgonzola' 'currants' 'gorgonzola' 'grated orange' 'kosher'\n",
      " 'kosher salt' 'orange rind' 'parsley' 'pine nuts' 'polenta' 'toasted'\n",
      " 'vinegar' 'water']\n",
      "************************************\n",
      "[ 328  263   62   46  445   55 1196   82  664    3  602   10    7    6\n",
      "    1  128   61  141    0  262  140  655   21    8   23   84]\n",
      "current_recipe ['bottle' 'bouillon' 'carrots' 'celery' 'chicken bouillon' 'cilantro'\n",
      " 'clam juice' 'cloves' 'fish' 'garlic' 'medium shrimp' 'olive' 'olive oil'\n",
      " 'onion' 'pepper' 'pepper flakes' 'red pepper' 'red pepper flakes' 'salt'\n",
      " 'sherry' 'shrimp' 'stewed tomatoes' 'tomatoes' 'water' 'white'\n",
      " 'white wine']\n",
      "------------------------------------\n",
      "[ True False False False False False False False False False False False\n",
      " False False False False False False False False False False False False\n",
      "  True False]\n",
      "clean_recipe ['bouillon' 'carrots' 'celery' 'chicken bouillon' 'cilantro' 'clam juice'\n",
      " 'cloves' 'fish' 'garlic' 'medium shrimp' 'olive' 'olive oil' 'onion'\n",
      " 'pepper' 'pepper flakes' 'red pepper' 'red pepper flakes' 'salt' 'sherry'\n",
      " 'shrimp' 'stewed tomatoes' 'tomatoes' 'water' 'white wine']\n",
      "------------------------------------\n",
      "[ 0 24]\n",
      "(0, 24)\n",
      "deleted ['bottle' 'white']\n",
      "current_recipe2 ['bottle' 'bouillon' 'carrots' 'celery' 'chicken bouillon' 'cilantro'\n",
      " 'clam juice' 'cloves' 'fish' 'garlic' 'medium shrimp' 'olive' 'olive oil'\n",
      " 'onion' 'pepper' 'pepper flakes' 'red pepper' 'red pepper flakes' 'salt'\n",
      " 'sherry' 'shrimp' 'stewed tomatoes' 'tomatoes' 'water' 'white'\n",
      " 'white wine']\n",
      "************************************\n",
      "[ 988 1307]\n",
      "current_recipe ['grand marnier' 'kahlua']\n",
      "------------------------------------\n",
      "[False False]\n",
      "clean_recipe ['grand marnier' 'kahlua']\n",
      "------------------------------------\n",
      "[]\n",
      "()\n",
      "deleted []\n",
      "current_recipe2 ['grand marnier' 'kahlua']\n",
      "************************************\n",
      "[  14 1117  998 1010    9   30   18   29  214 1752 1477    1  132  196\n",
      "  658 1301   26  113]\n",
      "current_recipe ['black pepper' 'coarse sea salt' 'fresh lemon' 'fresh lemon juice'\n",
      " 'ground' 'ground black pepper' 'lemon' 'lemon juice' 'lime' 'lime peel'\n",
      " 'mayonaise' 'pepper' 'sea salt' 'shallots' 'sherry wine'\n",
      " 'sherry wine vinegar' 'vinegar' 'wine vinegar']\n",
      "------------------------------------\n",
      "[False False False False False False False False False False False False\n",
      " False False False False False False]\n",
      "clean_recipe ['black pepper' 'coarse sea salt' 'fresh lemon' 'fresh lemon juice'\n",
      " 'ground' 'ground black pepper' 'lemon' 'lemon juice' 'lime' 'lime peel'\n",
      " 'mayonaise' 'pepper' 'sea salt' 'shallots' 'sherry wine'\n",
      " 'sherry wine vinegar' 'vinegar' 'wine vinegar']\n",
      "------------------------------------\n",
      "[]\n",
      "()\n",
      "deleted []\n",
      "current_recipe2 ['black pepper' 'coarse sea salt' 'fresh lemon' 'fresh lemon juice'\n",
      " 'ground' 'ground black pepper' 'lemon' 'lemon juice' 'lime' 'lime peel'\n",
      " 'mayonaise' 'pepper' 'sea salt' 'shallots' 'sherry wine'\n",
      " 'sherry wine vinegar' 'vinegar' 'wine vinegar']\n",
      "************************************\n",
      "[ 14 458 155  16 185 193 474   1 284 323 161 920   0  20  26 118]\n",
      "current_recipe ['black pepper' 'blue cheese' 'buttermilk' 'cheese' 'chives'\n",
      " 'cider vinegar' 'cracked black pepper' 'pepper' 'ricotta'\n",
      " 'ricotta cheese' 'roasted' 'roasted garlic' 'salt' 'sauce' 'vinegar'\n",
      " 'worcestershire sauce']\n",
      "------------------------------------\n",
      "[False False False False False False False False False False  True False\n",
      " False False False False]\n",
      "clean_recipe ['black pepper' 'blue cheese' 'buttermilk' 'cheese' 'chives'\n",
      " 'cider vinegar' 'cracked black pepper' 'pepper' 'ricotta'\n",
      " 'ricotta cheese' 'roasted garlic' 'salt' 'sauce' 'vinegar'\n",
      " 'worcestershire sauce']\n",
      "------------------------------------\n",
      "[10]\n",
      "(10,)\n",
      "deleted ['roasted']\n",
      "current_recipe2 ['black pepper' 'blue cheese' 'buttermilk' 'cheese' 'chives'\n",
      " 'cider vinegar' 'cracked black pepper' 'pepper' 'ricotta'\n",
      " 'ricotta cheese' 'roasted' 'roasted garlic' 'salt' 'sauce' 'vinegar'\n",
      " 'worcestershire sauce']\n",
      "************************************\n",
      "[ 131  669  724  208 2487   22  358  985  654  116  243   55   32  624\n",
      "   82  146 1240 1182 1032  100  325  337   42   15  260 2378   71   25\n",
      "  565   11  152  476    0   21  244 1270    8  133]\n",
      "current_recipe ['almonds' 'basmati' 'basmati rice' 'bay leaves' 'black cardamom pods'\n",
      " 'brown' 'cardamom' 'cardamom pods' 'cashews' 'chili powder' 'chilies'\n",
      " 'cilantro' 'cinnamon' 'cinnamon sticks' 'cloves' 'coriander'\n",
      " 'coriander powder' 'cumin powder' 'ghee' 'green' 'green chilies'\n",
      " 'hot water' 'leaves' 'milk' 'mint' 'mutton' 'oil' 'onions' 'paste'\n",
      " 'powder' 'raisins' 'saffron' 'salt' 'tomatoes' 'turmeric'\n",
      " 'turmeric powder' 'water' 'yogurt']\n",
      "------------------------------------\n",
      "[False False False False False  True False False False False False False\n",
      " False False False False False False False  True False False  True False\n",
      " False False False False False False False False False False False False\n",
      " False False]\n",
      "clean_recipe ['almonds' 'basmati' 'basmati rice' 'bay leaves' 'black cardamom pods'\n",
      " 'cardamom' 'cardamom pods' 'cashews' 'chili powder' 'chilies' 'cilantro'\n",
      " 'cinnamon' 'cinnamon sticks' 'cloves' 'coriander' 'coriander powder'\n",
      " 'cumin powder' 'ghee' 'green chilies' 'hot water' 'milk' 'mint' 'mutton'\n",
      " 'oil' 'onions' 'paste' 'powder' 'raisins' 'saffron' 'salt' 'tomatoes'\n",
      " 'turmeric' 'turmeric powder' 'water' 'yogurt']\n",
      "------------------------------------\n",
      "[ 5 19 22]\n",
      "(5, 19, 22)\n",
      "deleted ['brown' 'green' 'leaves']\n",
      "current_recipe2 ['almonds' 'basmati' 'basmati rice' 'bay leaves' 'black cardamom pods'\n",
      " 'brown' 'cardamom' 'cardamom pods' 'cashews' 'chili powder' 'chilies'\n",
      " 'cilantro' 'cinnamon' 'cinnamon sticks' 'cloves' 'coriander'\n",
      " 'coriander powder' 'cumin powder' 'ghee' 'green' 'green chilies'\n",
      " 'hot water' 'leaves' 'milk' 'mint' 'mutton' 'oil' 'onions' 'paste'\n",
      " 'powder' 'raisins' 'saffron' 'salt' 'tomatoes' 'turmeric'\n",
      " 'turmeric powder' 'water' 'yogurt']\n",
      "************************************\n",
      "[  14   78  110   19   64   55   32  213   17 1540    3   79    9   30\n",
      "   87  119  365   10    7   25    1  744  175 3256   11  221    0  829\n",
      " 1594  126  425    8  166]\n",
      "current_recipe ['black pepper' 'cayenne' 'cayenne pepper' 'chicken' 'chicken broth'\n",
      " 'cilantro' 'cinnamon' 'cocoa powder' 'cream' 'fresh cilantro' 'garlic'\n",
      " 'garlic powder' 'ground' 'ground black pepper' 'ground cinnamon'\n",
      " 'ground cumin' 'meat' 'olive' 'olive oil' 'onions' 'pepper' 'poblano'\n",
      " 'pork' 'pork stew meat' 'powder' 'pumpkin' 'salt' 'stew meat'\n",
      " 'sweet pepper' 'unsweetened' 'unsweetened cocoa powder' 'water'\n",
      " 'whipping cream']\n",
      "------------------------------------\n",
      "[False False False False False False False False False False False False\n",
      " False False False False False False False False False False False False\n",
      " False False False False False  True False False False]\n",
      "clean_recipe ['black pepper' 'cayenne' 'cayenne pepper' 'chicken' 'chicken broth'\n",
      " 'cilantro' 'cinnamon' 'cocoa powder' 'cream' 'fresh cilantro' 'garlic'\n",
      " 'garlic powder' 'ground' 'ground black pepper' 'ground cinnamon'\n",
      " 'ground cumin' 'meat' 'olive' 'olive oil' 'onions' 'pepper' 'poblano'\n",
      " 'pork' 'pork stew meat' 'powder' 'pumpkin' 'salt' 'stew meat'\n",
      " 'sweet pepper' 'unsweetened cocoa powder' 'water' 'whipping cream']\n",
      "------------------------------------\n",
      "[29]\n",
      "(29,)\n",
      "deleted ['unsweetened']\n",
      "current_recipe2 ['black pepper' 'cayenne' 'cayenne pepper' 'chicken' 'chicken broth'\n",
      " 'cilantro' 'cinnamon' 'cocoa powder' 'cream' 'fresh cilantro' 'garlic'\n",
      " 'garlic powder' 'ground' 'ground black pepper' 'ground cinnamon'\n",
      " 'ground cumin' 'meat' 'olive' 'olive oil' 'onions' 'pepper' 'poblano'\n",
      " 'pork' 'pork stew meat' 'powder' 'pumpkin' 'salt' 'stew meat'\n",
      " 'sweet pepper' 'unsweetened' 'unsweetened cocoa powder' 'water'\n",
      " 'whipping cream']\n",
      "************************************\n",
      "[ 32 300  24 179 174 388  34  87  15   4 231 361  38   8 112]\n",
      "current_recipe ['cinnamon' 'condensed milk' 'egg' 'egg whites' 'egg yolks'\n",
      " 'evaporated milk' 'extract' 'ground cinnamon' 'milk' 'sugar' 'sweetened'\n",
      " 'sweetened condensed milk' 'vanilla extract' 'water' 'white sugar']\n",
      "------------------------------------\n",
      "[False False False False False False False False False False  True False\n",
      " False False False]\n",
      "clean_recipe ['cinnamon' 'condensed milk' 'egg' 'egg whites' 'egg yolks'\n",
      " 'evaporated milk' 'extract' 'ground cinnamon' 'milk' 'sugar'\n",
      " 'sweetened condensed milk' 'vanilla extract' 'water' 'white sugar']\n",
      "------------------------------------\n",
      "[10]\n",
      "(10,)\n",
      "deleted ['sweetened']\n",
      "current_recipe2 ['cinnamon' 'condensed milk' 'egg' 'egg whites' 'egg yolks'\n",
      " 'evaporated milk' 'extract' 'ground cinnamon' 'milk' 'sugar' 'sweetened'\n",
      " 'sweetened condensed milk' 'vanilla extract' 'water' 'white sugar']\n",
      "************************************\n",
      "[468  37  52  28  32 246  13  34   5  87  11   0  43   4  38 165]\n",
      "current_recipe ['applesauce' 'baking powder' 'baking soda' 'brown sugar' 'cinnamon'\n",
      " 'cranberries' 'eggs' 'extract' 'flour' 'ground cinnamon' 'powder' 'salt'\n",
      " 'soda' 'sugar' 'vanilla extract' 'zucchini']\n",
      "------------------------------------\n",
      "[False False False False False False False False False False False False\n",
      " False False False False]\n",
      "clean_recipe ['applesauce' 'baking powder' 'baking soda' 'brown sugar' 'cinnamon'\n",
      " 'cranberries' 'eggs' 'extract' 'flour' 'ground cinnamon' 'powder' 'salt'\n",
      " 'soda' 'sugar' 'vanilla extract' 'zucchini']\n",
      "------------------------------------\n",
      "[]\n",
      "()\n",
      "deleted []\n",
      "current_recipe2 ['applesauce' 'baking powder' 'baking soda' 'brown sugar' 'cinnamon'\n",
      " 'cranberries' 'eggs' 'extract' 'flour' 'ground cinnamon' 'powder' 'salt'\n",
      " 'soda' 'sugar' 'vanilla extract' 'zucchini']\n",
      "************************************\n"
     ]
    }
   ],
   "source": [
    "#recipes_test_new = np.empty(recipes_test.shape)\n",
    "recipes_test_new = []\n",
    "#recipes_test_new = np.full(recipes_test.shape, None)\n",
    "for recipe in range(len(recipes_test)):\n",
    "    current_recipe = ingredients[recipes_test[recipe]]\n",
    "    print(recipes_test[recipe])\n",
    "    print(f'current_recipe {current_recipe}')\n",
    "    print('------------------------------------')\n",
    "    #for ingr in range(len(np_delete)):\n",
    "        #np.delete(current_recipe, np.argwhere(current_recipe == np_delete[ingr]))\n",
    "    #clean_recipe = np.delete(current_recipe, np.argwhere(np.intersect1d(current_recipe,np_delete)))\n",
    "    #clean_recipe = current_recipe[current_recipe != np.intersect1d(current_recipe,np_delete)]\n",
    "    #mask_delete = np.where(np.intersect1d(current_recipe,np_delete)) \n",
    "    #clean_recipe = np.delete(current_recipe, mask_delete) - not working because of index mismatch\n",
    "    \n",
    "    elements_to_delete = np.intersect1d(current_recipe,np_delete)\n",
    "    mask_delete = np.isin(current_recipe, elements_to_delete) \n",
    "    print(mask_delete)\n",
    "    clean_recipe = current_recipe[~mask_delete]\n",
    "    \n",
    "    #https://stackoverflow.com/questions/33529593/how-to-use-a-dictionary-to-translate-replace-elements-of-an-array\n",
    "    clean_recipe_idx = [dict_ingr_ind_rev[ingredient] for ingredient in clean_recipe]\n",
    "    #recipes_test_new.append(clean_recipe)\n",
    "    recipes_test_new.append(clean_recipe_idx)\n",
    "    #np.append(recipes_test_new, clean_recipe)\n",
    "    print(f'clean_recipe {clean_recipe}')\n",
    "    print('------------------------------------')\n",
    "    \n",
    "    #deleted ingridients and their indices\n",
    "    deleted = current_recipe[mask_delete]\n",
    "    \n",
    "    indices_to_delete = np.isin(current_recipe, elements_to_delete).nonzero()[0]\n",
    "    print(indices_to_delete)\n",
    "    indices_to_delete = tuple(indices_to_delete)\n",
    "    print(indices_to_delete)\n",
    "    current_recipe2 = np.delete(current_recipe, indices_to_delete)\n",
    "    np.delete(ingredients[recipes_test[recipe]], indices_to_delete)\n",
    "    print(f'deleted {deleted}')\n",
    "    print(f'current_recipe2 {current_recipe}')\n",
    "    print('************************************')\n",
    "    #np.delete(ingredients[recipes_test[i]], np.argwhere(ingredients[recipes_test[i]] == np_delete_l[3]))\n",
    "    #print(ingredients[i])\n",
    "    #print(np_delete_l)\n",
    "    #print(ingredients)\n",
    "    "
   ]
  },
  {
   "cell_type": "code",
   "execution_count": 130,
   "metadata": {},
   "outputs": [
    {
     "data": {
      "text/plain": [
       "[[233, 2754, 120, 560, 345, 150, 2081, 12, 21],\n",
       " [198, 249, 2, 1884, 791, 965, 423, 53, 48, 798, 31, 362, 1031, 26, 8],\n",
       " [263,\n",
       "  62,\n",
       "  46,\n",
       "  445,\n",
       "  55,\n",
       "  1196,\n",
       "  82,\n",
       "  664,\n",
       "  3,\n",
       "  602,\n",
       "  10,\n",
       "  7,\n",
       "  6,\n",
       "  1,\n",
       "  128,\n",
       "  61,\n",
       "  141,\n",
       "  0,\n",
       "  262,\n",
       "  140,\n",
       "  655,\n",
       "  21,\n",
       "  8,\n",
       "  84],\n",
       " [988, 1307],\n",
       " [14,\n",
       "  1117,\n",
       "  998,\n",
       "  1010,\n",
       "  9,\n",
       "  30,\n",
       "  18,\n",
       "  29,\n",
       "  214,\n",
       "  1752,\n",
       "  1477,\n",
       "  1,\n",
       "  132,\n",
       "  196,\n",
       "  658,\n",
       "  1301,\n",
       "  26,\n",
       "  113],\n",
       " [14, 458, 155, 16, 185, 193, 474, 1, 284, 323, 920, 0, 20, 26, 118],\n",
       " [131,\n",
       "  669,\n",
       "  724,\n",
       "  208,\n",
       "  2487,\n",
       "  358,\n",
       "  985,\n",
       "  654,\n",
       "  116,\n",
       "  243,\n",
       "  55,\n",
       "  32,\n",
       "  624,\n",
       "  82,\n",
       "  146,\n",
       "  1240,\n",
       "  1182,\n",
       "  1032,\n",
       "  325,\n",
       "  337,\n",
       "  15,\n",
       "  260,\n",
       "  2378,\n",
       "  71,\n",
       "  25,\n",
       "  565,\n",
       "  11,\n",
       "  152,\n",
       "  476,\n",
       "  0,\n",
       "  21,\n",
       "  244,\n",
       "  1270,\n",
       "  8,\n",
       "  133],\n",
       " [14,\n",
       "  78,\n",
       "  110,\n",
       "  19,\n",
       "  64,\n",
       "  55,\n",
       "  32,\n",
       "  213,\n",
       "  17,\n",
       "  1540,\n",
       "  3,\n",
       "  79,\n",
       "  9,\n",
       "  30,\n",
       "  87,\n",
       "  119,\n",
       "  365,\n",
       "  10,\n",
       "  7,\n",
       "  25,\n",
       "  1,\n",
       "  744,\n",
       "  175,\n",
       "  3256,\n",
       "  11,\n",
       "  221,\n",
       "  0,\n",
       "  829,\n",
       "  1594,\n",
       "  425,\n",
       "  8,\n",
       "  166],\n",
       " [32, 300, 24, 179, 174, 388, 34, 87, 15, 4, 361, 38, 8, 112],\n",
       " [468, 37, 52, 28, 32, 246, 13, 34, 5, 87, 11, 0, 43, 4, 38, 165]]"
      ]
     },
     "execution_count": 130,
     "metadata": {},
     "output_type": "execute_result"
    }
   ],
   "source": [
    "recipes_test_new"
   ]
  },
  {
   "cell_type": "code",
   "execution_count": null,
   "metadata": {},
   "outputs": [],
   "source": []
  },
  {
   "cell_type": "code",
   "execution_count": null,
   "metadata": {},
   "outputs": [],
   "source": [
    "ingredients[recipes_test_new[0]]"
   ]
  },
  {
   "cell_type": "code",
   "execution_count": null,
   "metadata": {},
   "outputs": [],
   "source": [
    "np.isin(ingredients, clean_recipe).nonzero()[0]"
   ]
  },
  {
   "cell_type": "code",
   "execution_count": null,
   "metadata": {},
   "outputs": [],
   "source": [
    "ingredients[np.isin(clean_recipe, ingredients).nonzero()[0]]"
   ]
  },
  {
   "cell_type": "code",
   "execution_count": null,
   "metadata": {},
   "outputs": [],
   "source": [
    "np.isin(ingredients, np_delete).nonzero()[0]"
   ]
  },
  {
   "cell_type": "code",
   "execution_count": null,
   "metadata": {},
   "outputs": [],
   "source": [
    "recipes_test_new.shape"
   ]
  },
  {
   "cell_type": "code",
   "execution_count": null,
   "metadata": {},
   "outputs": [],
   "source": [
    "ingredients[recipes_test[0]]"
   ]
  },
  {
   "cell_type": "code",
   "execution_count": null,
   "metadata": {},
   "outputs": [],
   "source": [
    "np.delete(ingredients[recipes_test[0]], (2,3,7))"
   ]
  },
  {
   "cell_type": "code",
   "execution_count": null,
   "metadata": {},
   "outputs": [],
   "source": [
    "for recipe in range(len(recipes_test)):\n",
    "    current_recipe = ingredients[recipes_test[recipe]]\n",
    "    print(f'current_recipe {current_recipe}')"
   ]
  },
  {
   "cell_type": "code",
   "execution_count": null,
   "metadata": {},
   "outputs": [],
   "source": [
    "current_recipe = ingredients[recipes_test[0]]\n",
    "current_recipe"
   ]
  },
  {
   "cell_type": "markdown",
   "metadata": {},
   "source": [
    "### Tests for Selection and Deletion\n",
    "https://stackoverflow.com/questions/47540800/how-to-select-all-elements-in-a-numpy-array-except-for-a-sequence-of-indices"
   ]
  },
  {
   "cell_type": "code",
   "execution_count": null,
   "metadata": {},
   "outputs": [],
   "source": [
    "test_one = np.array(['A','C','B','E'])\n",
    "test_one.shape"
   ]
  },
  {
   "cell_type": "code",
   "execution_count": null,
   "metadata": {},
   "outputs": [],
   "source": [
    "test_two = np.array(['A','F','B'])"
   ]
  },
  {
   "cell_type": "code",
   "execution_count": null,
   "metadata": {},
   "outputs": [],
   "source": [
    "np.where(np.intersect1d(test_one,test_two))"
   ]
  },
  {
   "cell_type": "code",
   "execution_count": null,
   "metadata": {},
   "outputs": [],
   "source": [
    "interesect_elements = np.intersect1d(test_one,test_two)\n",
    "interesect_elements"
   ]
  },
  {
   "cell_type": "code",
   "execution_count": null,
   "metadata": {},
   "outputs": [],
   "source": [
    "mask_isin = np.isin(test_one, interesect_elements)\n",
    "mask_isin"
   ]
  },
  {
   "cell_type": "code",
   "execution_count": null,
   "metadata": {},
   "outputs": [],
   "source": [
    "test_one[~mask_isin]"
   ]
  },
  {
   "cell_type": "code",
   "execution_count": null,
   "metadata": {},
   "outputs": [],
   "source": [
    "mask_new = [np.where(test_one == x)[0][0] for x in test_two]\n",
    "mask_new"
   ]
  },
  {
   "cell_type": "code",
   "execution_count": null,
   "metadata": {},
   "outputs": [],
   "source": [
    "test_res = np.delete(test_one, mask_new)\n",
    "test_res"
   ]
  },
  {
   "cell_type": "code",
   "execution_count": null,
   "metadata": {},
   "outputs": [],
   "source": [
    "test_clean = test_one[test_one != np.intersect1d(test_one.reshape(-1,1),test_two.reshape(-1,1))]\n",
    "test_clean"
   ]
  },
  {
   "cell_type": "code",
   "execution_count": null,
   "metadata": {},
   "outputs": [],
   "source": [
    "test_one1 = test_one"
   ]
  },
  {
   "cell_type": "code",
   "execution_count": null,
   "metadata": {},
   "outputs": [],
   "source": [
    "test_one1 = np.delete(test_one1, 1, 0)\n",
    "test_one1"
   ]
  },
  {
   "cell_type": "code",
   "execution_count": null,
   "metadata": {},
   "outputs": [],
   "source": [
    "clean_recipe = current_recipe[current_recipe != np.intersect1d(current_recipe,np_delete)]\n",
    "clean_recipe"
   ]
  },
  {
   "cell_type": "code",
   "execution_count": null,
   "metadata": {},
   "outputs": [],
   "source": [
    "np.intersect1d(current_recipe,np_delete)\n",
    "#np.where(np.in1d(current_recipe,np_delete))"
   ]
  },
  {
   "cell_type": "code",
   "execution_count": null,
   "metadata": {},
   "outputs": [],
   "source": [
    "(current_recipe==np_delete).all()"
   ]
  },
  {
   "cell_type": "code",
   "execution_count": null,
   "metadata": {},
   "outputs": [],
   "source": [
    "#for ingr in range(len(np_delete)):\n",
    "np.delete(current_recipe, np.argwhere(current_recipe == np_delete[3]))\n",
    "    #print(ingr)"
   ]
  },
  {
   "cell_type": "code",
   "execution_count": null,
   "metadata": {},
   "outputs": [],
   "source": [
    "current_recipe"
   ]
  },
  {
   "cell_type": "code",
   "execution_count": null,
   "metadata": {},
   "outputs": [],
   "source": [
    "np_delete[3]"
   ]
  },
  {
   "cell_type": "code",
   "execution_count": null,
   "metadata": {},
   "outputs": [],
   "source": [
    "#ingredients == np_delete_l[3]\n",
    "np.argwhere(ingredients == np_delete[3])"
   ]
  },
  {
   "cell_type": "code",
   "execution_count": null,
   "metadata": {},
   "outputs": [],
   "source": [
    "ingredients[42]"
   ]
  },
  {
   "cell_type": "code",
   "execution_count": null,
   "metadata": {},
   "outputs": [],
   "source": [
    "recipes_test"
   ]
  },
  {
   "cell_type": "code",
   "execution_count": null,
   "metadata": {},
   "outputs": [],
   "source": [
    "for x in recipes_test:\n",
    "    for y in x:\n",
    "        print(ingredients[y])\n",
    "        np.delete(ingredients[y], np.argwhere(ingredients[y] == np_delete_l[3]))"
   ]
  },
  {
   "cell_type": "markdown",
   "metadata": {},
   "source": [
    "# Map Data"
   ]
  },
  {
   "cell_type": "code",
   "execution_count": 29,
   "metadata": {},
   "outputs": [],
   "source": [
    "file_mapping = '/Users/iskriyanavasileva/git/deep-food/data/recipe_mapping.csv'"
   ]
  },
  {
   "cell_type": "code",
   "execution_count": 30,
   "metadata": {},
   "outputs": [],
   "source": [
    "df_mapping = pd.read_csv(file_mapping, delimiter=';')"
   ]
  },
  {
   "cell_type": "code",
   "execution_count": 31,
   "metadata": {},
   "outputs": [
    {
     "data": {
      "text/html": [
       "<div>\n",
       "<style scoped>\n",
       "    .dataframe tbody tr th:only-of-type {\n",
       "        vertical-align: middle;\n",
       "    }\n",
       "\n",
       "    .dataframe tbody tr th {\n",
       "        vertical-align: top;\n",
       "    }\n",
       "\n",
       "    .dataframe thead th {\n",
       "        text-align: right;\n",
       "    }\n",
       "</style>\n",
       "<table border=\"1\" class=\"dataframe\">\n",
       "  <thead>\n",
       "    <tr style=\"text-align: right;\">\n",
       "      <th></th>\n",
       "      <th>recipes</th>\n",
       "      <th>classifier</th>\n",
       "    </tr>\n",
       "  </thead>\n",
       "  <tbody>\n",
       "    <tr>\n",
       "      <th>0</th>\n",
       "      <td>chicken</td>\n",
       "      <td>chicken_breast</td>\n",
       "    </tr>\n",
       "    <tr>\n",
       "      <th>1</th>\n",
       "      <td>tomatoes</td>\n",
       "      <td>tomato</td>\n",
       "    </tr>\n",
       "    <tr>\n",
       "      <th>2</th>\n",
       "      <td>eggs</td>\n",
       "      <td>egg</td>\n",
       "    </tr>\n",
       "    <tr>\n",
       "      <th>3</th>\n",
       "      <td>onions</td>\n",
       "      <td>onion</td>\n",
       "    </tr>\n",
       "    <tr>\n",
       "      <th>4</th>\n",
       "      <td>black pepper</td>\n",
       "      <td>pepper</td>\n",
       "    </tr>\n",
       "  </tbody>\n",
       "</table>\n",
       "</div>"
      ],
      "text/plain": [
       "        recipes      classifier\n",
       "0       chicken  chicken_breast\n",
       "1      tomatoes          tomato\n",
       "2          eggs             egg\n",
       "3        onions           onion\n",
       "4  black pepper          pepper"
      ]
     },
     "execution_count": 31,
     "metadata": {},
     "output_type": "execute_result"
    }
   ],
   "source": [
    "df_mapping.head()"
   ]
  },
  {
   "cell_type": "code",
   "execution_count": 32,
   "metadata": {},
   "outputs": [],
   "source": [
    "#mapping_dict = df_mapping.to_dict(orient='records')"
   ]
  },
  {
   "cell_type": "code",
   "execution_count": 38,
   "metadata": {},
   "outputs": [
    {
     "data": {
      "text/plain": [
       "0      chicken_breast\n",
       "1              tomato\n",
       "2                 egg\n",
       "3               onion\n",
       "4              pepper\n",
       "            ...      \n",
       "281     chicken broth\n",
       "282           pumpkin\n",
       "283             flour\n",
       "284              corn\n",
       "285            tomato\n",
       "Name: classifier, Length: 286, dtype: object"
      ]
     },
     "execution_count": 38,
     "metadata": {},
     "output_type": "execute_result"
    }
   ],
   "source": [
    "df_mapping['classifier']"
   ]
  },
  {
   "cell_type": "code",
   "execution_count": 45,
   "metadata": {},
   "outputs": [],
   "source": [
    "mapping_dict = dict(zip(df_mapping['recipes'], df_mapping['classifier']))"
   ]
  },
  {
   "cell_type": "code",
   "execution_count": 48,
   "metadata": {},
   "outputs": [
    {
     "data": {
      "text/plain": [
       "'chicken_breast'"
      ]
     },
     "execution_count": 48,
     "metadata": {},
     "output_type": "execute_result"
    }
   ],
   "source": [
    "mapping_dict['chicken']"
   ]
  },
  {
   "cell_type": "code",
   "execution_count": 47,
   "metadata": {},
   "outputs": [
    {
     "data": {
      "text/plain": [
       "{'chicken': 'chicken_breast',\n",
       " 'tomatoes': 'tomato',\n",
       " 'eggs': 'egg',\n",
       " 'onions': 'onion',\n",
       " 'black pepper': 'pepper',\n",
       " 'ground black pepper': 'pepper',\n",
       " 'brown sugar': 'sugar',\n",
       " 'garlic cloves': 'garlic',\n",
       " 'unsalted butter': 'butter',\n",
       " 'vanilla extract': 'vanilla',\n",
       " 'parmesan': 'grated_cheese',\n",
       " 'kosher salt': 'salt',\n",
       " 'baking soda': 'baking powder',\n",
       " 'cheddar': 'cheese',\n",
       " 'parmesan cheese': 'grated_cheese',\n",
       " 'cheddar cheese': 'cheese',\n",
       " 'red pepper': 'paprika',\n",
       " 'carrots': 'carrot',\n",
       " 'bell pepper': 'paprika',\n",
       " 'cayenne': 'pepper',\n",
       " 'garlic powder': 'garlic',\n",
       " 'cloves': 'clove',\n",
       " 'white wine': 'wine',\n",
       " 'peppers': 'paprika',\n",
       " 'garlic minced': 'garlic',\n",
       " 'heavy cream': 'cream',\n",
       " 'lime juice': 'lemon juice',\n",
       " 'ground cinnamon': 'cinnamon',\n",
       " 'green onions': 'scallion',\n",
       " 'virgin olive oil': 'oil',\n",
       " 'granulated sugar': 'sugar',\n",
       " 'chicken breast': 'chicken_breast',\n",
       " 'ground beef': 'beef',\n",
       " 'extra virgin olive oil': 'oil',\n",
       " 'ground pepper': 'pepper',\n",
       " 'wine vinegar': 'vinegar',\n",
       " 'cayenne pepper': 'pepper',\n",
       " 'red onion': 'onion',\n",
       " 'red wine': 'wine',\n",
       " 'recipe': 'model',\n",
       " 'mozzarella': 'cheese',\n",
       " 'grated parmesan cheese': 'grated_cheese',\n",
       " 'chocolate chips': 'chocolate',\n",
       " 'orange juice': 'juice',\n",
       " 'sea salt': 'salt',\n",
       " 'pepper flakes': 'pepper',\n",
       " 'boneless skinless chicken': 'chicken_breast',\n",
       " 'chicken stock': 'chicken broth',\n",
       " 'minced garlic': 'garlic',\n",
       " 'dijon mustard': 'mustard',\n",
       " 'powdered sugar': 'sugar',\n",
       " 'canola oil': 'oil',\n",
       " 'white sugar': 'sugar',\n",
       " 'red pepper flakes': 'pepper',\n",
       " 'almonds': 'almond',\n",
       " 'mozzarella cheese': 'cheese',\n",
       " 'ground cumin': 'cumin',\n",
       " 'red bell pepper': 'paprika',\n",
       " 'dried oregano': 'oregano',\n",
       " 'scallions': 'scallion',\n",
       " 'whipping cream': 'cream',\n",
       " 'semisweet chocolate': 'chocolate',\n",
       " 'sesame oil': 'oil',\n",
       " 'egg yolks': 'egg',\n",
       " 'tomato paste': 'tomato sauce',\n",
       " 'freshly ground pepper': 'pepper',\n",
       " 'breadcrumbs': 'crumbs',\n",
       " 'olives': 'olive',\n",
       " 'stock': 'chicken broth',\n",
       " 'egg whites': 'egg',\n",
       " 'fillets': 'pork',\n",
       " 'cider vinegar': 'vinegar',\n",
       " 'dry white wine': 'wine',\n",
       " 'confectioners sugar': 'sugar',\n",
       " 'balsamic vinegar': 'vinegar',\n",
       " 'shallots': 'onion',\n",
       " 'green onion': 'scallion',\n",
       " 'strawberries': 'strawberry',\n",
       " 'lemon zest': 'lemon',\n",
       " 'green pepper': 'paprika',\n",
       " 'red wine vinegar': 'vinegar',\n",
       " 'bay leaves': 'bay leaf',\n",
       " 'bay': 'bay leaf',\n",
       " 'potato': 'potatoes',\n",
       " 'dried thyme': 'thyme',\n",
       " 'light brown sugar': 'sugar',\n",
       " 'skinless chicken breasts': 'chicken_breast',\n",
       " 'green bell pepper': 'paprika',\n",
       " 'broth': 'chicken broth',\n",
       " 'bread crumbs': 'crumbs',\n",
       " 'chilies': 'jalapeno',\n",
       " 'boneless skinless chicken breasts': 'chicken_breast',\n",
       " 'ground ginger': 'ginger',\n",
       " 'basil leaves': 'basil',\n",
       " 'onion powder': 'onion',\n",
       " 'chili': 'jalapeno',\n",
       " 'white pepper': 'pepper',\n",
       " 'sesame seeds': 'sesame',\n",
       " 'black beans': 'beans',\n",
       " 'ground nutmeg': 'nutmeg',\n",
       " 'seeds': 'nuts',\n",
       " 'wheat flour': 'flour',\n",
       " 'yellow onion': 'onion',\n",
       " 'bananas': 'banana',\n",
       " 'maple syrup': 'syrup',\n",
       " 'jack cheese': 'cheese',\n",
       " 'boiling water': 'water',\n",
       " 'monterey jack': 'cheese',\n",
       " 'cold water': 'water',\n",
       " 'blueberries': 'blueberry',\n",
       " 'curry powder': 'curry',\n",
       " 'hot sauce': 'salsa',\n",
       " 'spaghetti': 'pasta',\n",
       " 'dried basil': 'basil',\n",
       " 'green beans': 'beans',\n",
       " 'shallot': 'onion',\n",
       " 'melted butter': 'butter',\n",
       " 'apple cider': 'wine',\n",
       " 'ricotta': 'cheese',\n",
       " 'coconut milk': 'coconut',\n",
       " 'topping': 'dressing',\n",
       " 'white vinegar': 'vinegar',\n",
       " 'bouillon': 'chicken broth',\n",
       " 'semisweet chocolate chips': 'chocolate',\n",
       " 'wheat': 'flour',\n",
       " 'feta cheese': 'cheese',\n",
       " 'peppercorns': 'paprika',\n",
       " 'corn syrup': 'syrup',\n",
       " 'parsley leaves': 'parsley',\n",
       " 'mushroom soup': 'mushroom',\n",
       " 'cherry tomatoes': 'tomato',\n",
       " 'dry yeast': 'yeast',\n",
       " 'warm water': 'water',\n",
       " 'dry mustard': 'mustard',\n",
       " 'green chilies': 'jalapeno',\n",
       " 'chicken breast halves': 'chicken_breast',\n",
       " 'black olives': 'olive',\n",
       " 'beef broth': 'chicken broth',\n",
       " 'cooked chicken': 'chicken_breast',\n",
       " 'lemons': 'lemon',\n",
       " 'garlic salt': 'salt',\n",
       " 'ground cloves': 'clove',\n",
       " 'molasses': 'syrup',\n",
       " 'cocoa': 'cocoa powder',\n",
       " 'pure vanilla': 'vanilla',\n",
       " 'boneless chicken': 'chicken_breast',\n",
       " 'pure vanilla extract': 'vanilla',\n",
       " 'flour tortillas': 'tortillas',\n",
       " 'cool whip': 'cream',\n",
       " 'lean ground beef': 'beef',\n",
       " 'sharp cheddar cheese': 'cheese',\n",
       " 'chips': 'potatoes',\n",
       " 'white rice': 'rice',\n",
       " 'rice vinegar': 'vinegar',\n",
       " 'monterey jack cheese': 'cheese',\n",
       " 'kidney': 'beans',\n",
       " 'condensed milk': 'milk',\n",
       " 'plain yogurt': 'yogurt',\n",
       " 'orange zest': 'orange',\n",
       " 'whipped topping': 'cream',\n",
       " 'cream of mushroom soup': 'mushroom',\n",
       " 'ricotta cheese': 'cheese',\n",
       " 'steak': 'beef',\n",
       " 'plum tomatoes': 'tomato',\n",
       " 'peanuts': 'nuts',\n",
       " 'evaporated milk': 'milk',\n",
       " 'raspberries': 'raspberry',\n",
       " 'kidney beans': 'beans',\n",
       " 'low sodium': 'baking powder',\n",
       " 'almond extract': 'almond',\n",
       " 'hot water': 'water',\n",
       " 'coarse salt ': 'salt',\n",
       " 'meat': 'pork',\n",
       " 'cilantro leaves': 'cilantro',\n",
       " 'crust': 'crumbs',\n",
       " 'italian seasoning': 'dressing',\n",
       " 'sliced mushrooms': 'mushroom',\n",
       " 'chile': 'jalapeno',\n",
       " 'chiles': 'jalapeno',\n",
       " 'chipotle': 'jalapeno',\n",
       " 'ground coriander': 'coriander',\n",
       " 'dark brown sugar': 'sugar',\n",
       " 'fish sauce': 'sauce',\n",
       " 'oranges': 'orange',\n",
       " 'greens': 'lettuce',\n",
       " 'white wine vinegar': 'vinegar',\n",
       " 'vegetable broth': 'chicken broth',\n",
       " 'macaroni': 'pasta',\n",
       " 'yolk': 'egg',\n",
       " 'peanut oil': 'oil',\n",
       " 'pepper sauce': 'salsa',\n",
       " 'cherries': 'cherry',\n",
       " 'egg yolk': 'egg',\n",
       " 'whipped cream': 'cream',\n",
       " 'white onion': 'onion',\n",
       " 'swiss cheese': 'cheese',\n",
       " 'thyme leaves': 'thyme',\n",
       " 'mint leaves': 'mint',\n",
       " 'pine nuts': 'nuts',\n",
       " 'cake flour': 'flour',\n",
       " 'hot pepper': 'jalapeno',\n",
       " 'sodium': 'baking powder',\n",
       " 'apple cider vinegar': 'vinegar',\n",
       " 'grain': 'corn',\n",
       " 'heavy whipping cream': 'cream',\n",
       " 'baby spinach': 'spinach',\n",
       " 'cream of chicken soup': 'chicken broth',\n",
       " 'rolled oats': 'oats',\n",
       " 'steaks': 'beef',\n",
       " 'sweetened condensed milk': 'milk',\n",
       " 'peaches': 'peach',\n",
       " 'white chocolate': 'chocolate',\n",
       " 'chicken thighs': 'chicken_breast',\n",
       " 'vegetable stock': 'chicken broth',\n",
       " 'egg white': 'egg',\n",
       " 'active dry yeast': 'yeast',\n",
       " 'brown rice': 'rice',\n",
       " 'stick butter': 'butter',\n",
       " 'frozen peas': 'pea',\n",
       " 'jalapeno pepper': 'jalapeno',\n",
       " 'red peppers': 'paprika',\n",
       " 'cereal': 'oats',\n",
       " 'skim milk': 'milk',\n",
       " 'minced onion': 'onion',\n",
       " 'red chili': 'jalapeno',\n",
       " 'barbecue sauce': 'sauce',\n",
       " 'corn tortillas': 'tortillas',\n",
       " 'unsweetened cocoa powder': 'cocoa powder',\n",
       " 'cottage cheese': 'cheese',\n",
       " 'goat cheese': 'cheese',\n",
       " 'salad dressing': 'dressing',\n",
       " 'ground turkey': 'turkey',\n",
       " 'limes': 'lime',\n",
       " 'cooked rice': 'rice',\n",
       " 'chili sauce': 'salsa',\n",
       " 'sliced almonds': 'almond',\n",
       " 'black peppercorns': 'pepper',\n",
       " 'red bell peppers': 'paprika',\n",
       " 'rice wine': 'wine',\n",
       " 'celery ribs': 'celery',\n",
       " 'romaine lettuce': 'lettuce',\n",
       " 'grated orange': 'orange',\n",
       " 'frozen spinach': 'spinach',\n",
       " 'grated nutmeg': 'nutmeg',\n",
       " 'dried parsley': 'parsley',\n",
       " 'paste': 'tomato sauce',\n",
       " 'light corn syrup': 'syrup',\n",
       " 'freshly grated parmesan': 'grated_cheese',\n",
       " 'grated lemon zest': 'lemon',\n",
       " 'hot pepper sauce': 'salsa',\n",
       " 'sirloin': 'beef',\n",
       " 'pinapple juice': 'juice',\n",
       " 'white bread': 'bread',\n",
       " 'tenderloin': 'beef',\n",
       " 'bread flour': 'flour',\n",
       " 'dried cranberries': 'cranberry',\n",
       " 'greek yogurt': 'yogurt',\n",
       " 'italian sausage': 'salami',\n",
       " 'ground allspice': 'pepper',\n",
       " 'sunflower': 'oil',\n",
       " 'sweet onion': 'onion',\n",
       " 'apple juice': 'juice',\n",
       " 'salad': 'lettuce',\n",
       " 'splenda': 'sugar',\n",
       " 'slivered almonds': 'almond',\n",
       " 'french bread': 'bread',\n",
       " 'chicken bouillon': 'chicken broth',\n",
       " 'cracked black pepper': 'pepper',\n",
       " 'minced parsley': 'parsley',\n",
       " 'cucumbers': 'cucumber',\n",
       " 'ground pork': 'pork',\n",
       " 'frozen corn': 'corn',\n",
       " 'cream of tartar': 'beef',\n",
       " 'pork chops': 'pork',\n",
       " 'dry sherry': 'sherry',\n",
       " 'pie crust': 'crumbs',\n",
       " 'spinach leaves': 'spinach',\n",
       " 'artichoke hearts': 'artichoke',\n",
       " 'bittersweet chocolate': 'chocolate',\n",
       " 'beef stock': 'chicken broth',\n",
       " 'butternut': 'pumpkin',\n",
       " 'all-purpose flour': 'flour',\n",
       " 'corn kernels': 'corn',\n",
       " 'medium tomatoes': 'tomato'}"
      ]
     },
     "execution_count": 47,
     "metadata": {},
     "output_type": "execute_result"
    }
   ],
   "source": [
    "mapping_dict"
   ]
  },
  {
   "cell_type": "code",
   "execution_count": 46,
   "metadata": {},
   "outputs": [
    {
     "name": "stdout",
     "output_type": "stream",
     "text": [
      "('chicken', 'chicken_breast')\n",
      "('tomatoes', 'tomato')\n",
      "('eggs', 'egg')\n",
      "('onions', 'onion')\n",
      "('black pepper', 'pepper')\n",
      "('ground black pepper', 'pepper')\n",
      "('brown sugar', 'sugar')\n",
      "('garlic cloves', 'garlic')\n",
      "('unsalted butter', 'butter')\n",
      "('vanilla extract', 'vanilla')\n",
      "('parmesan', 'grated_cheese')\n",
      "('kosher salt', 'salt')\n",
      "('baking soda', 'baking powder')\n",
      "('cheddar', 'cheese')\n",
      "('parmesan cheese', 'grated_cheese')\n",
      "('cheddar cheese', 'cheese')\n",
      "('red pepper', 'paprika')\n",
      "('carrots', 'carrot')\n",
      "('bell pepper', 'paprika')\n",
      "('cayenne', 'pepper')\n",
      "('garlic powder', 'garlic')\n",
      "('cloves', 'clove')\n",
      "('white wine', 'wine')\n",
      "('peppers', 'paprika')\n",
      "('garlic minced', 'garlic')\n",
      "('heavy cream', 'cream')\n",
      "('lime juice', 'lemon juice')\n",
      "('ground cinnamon', 'cinnamon')\n",
      "('green onions', 'scallion')\n",
      "('virgin olive oil', 'oil')\n",
      "('granulated sugar', 'sugar')\n",
      "('chicken breast', 'chicken_breast')\n",
      "('ground beef', 'beef')\n",
      "('extra virgin olive oil', 'oil')\n",
      "('ground pepper', 'pepper')\n",
      "('wine vinegar', 'vinegar')\n",
      "('cayenne pepper', 'pepper')\n",
      "('red onion', 'onion')\n",
      "('red wine', 'wine')\n",
      "('recipe', 'model')\n",
      "('mozzarella', 'cheese')\n",
      "('grated parmesan cheese', 'grated_cheese')\n",
      "('chocolate chips', 'chocolate')\n",
      "('orange juice', 'juice')\n",
      "('sea salt', 'salt')\n",
      "('pepper flakes', 'pepper')\n",
      "('boneless skinless chicken', 'chicken_breast')\n",
      "('chicken stock', 'chicken broth')\n",
      "('minced garlic', 'garlic')\n",
      "('dijon mustard', 'mustard')\n",
      "('powdered sugar', 'sugar')\n",
      "('canola oil', 'oil')\n",
      "('white sugar', 'sugar')\n",
      "('red pepper flakes', 'pepper')\n",
      "('almonds', 'almond')\n",
      "('mozzarella cheese', 'cheese')\n",
      "('chicken breast', 'chicken_breast')\n",
      "('ground cumin', 'cumin')\n",
      "('red bell pepper', 'paprika')\n",
      "('dried oregano', 'oregano')\n",
      "('scallions', 'scallion')\n",
      "('whipping cream', 'cream')\n",
      "('semisweet chocolate', 'chocolate')\n",
      "('sesame oil', 'oil')\n",
      "('egg yolks', 'egg')\n",
      "('tomato paste', 'tomato sauce')\n",
      "('freshly ground pepper', 'pepper')\n",
      "('breadcrumbs', 'crumbs')\n",
      "('olives', 'olive')\n",
      "('stock', 'chicken broth')\n",
      "('egg whites', 'egg')\n",
      "('fillets', 'pork')\n",
      "('cider vinegar', 'vinegar')\n",
      "('dry white wine', 'wine')\n",
      "('confectioners sugar', 'sugar')\n",
      "('balsamic vinegar', 'vinegar')\n",
      "('shallots', 'onion')\n",
      "('green onion', 'scallion')\n",
      "('strawberries', 'strawberry')\n",
      "('lemon zest', 'lemon')\n",
      "('green pepper', 'paprika')\n",
      "('red wine vinegar', 'vinegar')\n",
      "('bay leaves', 'bay leaf')\n",
      "('bay', 'bay leaf')\n",
      "('potato', 'potatoes')\n",
      "('dried thyme', 'thyme')\n",
      "('light brown sugar', 'sugar')\n",
      "('skinless chicken breasts', 'chicken_breast')\n",
      "('green bell pepper', 'paprika')\n",
      "('broth', 'chicken broth')\n",
      "('bread crumbs', 'crumbs')\n",
      "('chilies', 'jalapeno')\n",
      "('boneless skinless chicken breasts', 'chicken_breast')\n",
      "('ground ginger', 'ginger')\n",
      "('basil leaves', 'basil')\n",
      "('onion powder', 'onion')\n",
      "('chili', 'jalapeno')\n",
      "('white pepper', 'pepper')\n",
      "('bell pepper', 'paprika')\n",
      "('sesame seeds', 'sesame')\n",
      "('black beans', 'beans')\n",
      "('ground nutmeg', 'nutmeg')\n",
      "('seeds', 'nuts')\n",
      "('wheat flour', 'flour')\n",
      "('yellow onion', 'onion')\n",
      "('bananas', 'banana')\n",
      "('maple syrup', 'syrup')\n",
      "('jack cheese', 'cheese')\n",
      "('boiling water', 'water')\n",
      "('monterey jack', 'cheese')\n",
      "('cold water', 'water')\n",
      "('blueberries', 'blueberry')\n",
      "('curry powder', 'curry')\n",
      "('hot sauce', 'salsa')\n",
      "('spaghetti', 'pasta')\n",
      "('dried basil', 'basil')\n",
      "('green beans', 'beans')\n",
      "('shallot', 'onion')\n",
      "('melted butter', 'butter')\n",
      "('apple cider', 'wine')\n",
      "('ricotta', 'cheese')\n",
      "('coconut milk', 'coconut')\n",
      "('topping', 'dressing')\n",
      "('white vinegar', 'vinegar')\n",
      "('bouillon', 'chicken broth')\n",
      "('semisweet chocolate chips', 'chocolate')\n",
      "('wheat', 'flour')\n",
      "('feta cheese', 'cheese')\n",
      "('peppercorns', 'paprika')\n",
      "('corn syrup', 'syrup')\n",
      "('parsley leaves', 'parsley')\n",
      "('mushroom soup', 'mushroom')\n",
      "('cherry tomatoes', 'tomato')\n",
      "('dry yeast', 'yeast')\n",
      "('warm water', 'water')\n",
      "('dry mustard', 'mustard')\n",
      "('green chilies', 'jalapeno')\n",
      "('chicken breast halves', 'chicken_breast')\n",
      "('black olives', 'olive')\n",
      "('beef broth', 'chicken broth')\n",
      "('cooked chicken', 'chicken_breast')\n",
      "('lemons', 'lemon')\n",
      "('garlic salt', 'salt')\n",
      "('ground cloves', 'clove')\n",
      "('molasses', 'syrup')\n",
      "('cocoa', 'cocoa powder')\n",
      "('pure vanilla', 'vanilla')\n",
      "('boneless chicken', 'chicken_breast')\n",
      "('pure vanilla extract', 'vanilla')\n",
      "('flour tortillas', 'tortillas')\n",
      "('cool whip', 'cream')\n",
      "('lean ground beef', 'beef')\n",
      "('sharp cheddar cheese', 'cheese')\n",
      "('chips', 'potatoes')\n",
      "('white rice', 'rice')\n",
      "('rice vinegar', 'vinegar')\n",
      "('monterey jack cheese', 'cheese')\n",
      "('kidney', 'beans')\n",
      "('condensed milk', 'milk')\n",
      "('plain yogurt', 'yogurt')\n",
      "('orange zest', 'orange')\n",
      "('whipped topping', 'cream')\n",
      "('cream of mushroom soup', 'mushroom')\n",
      "('ricotta cheese', 'cheese')\n",
      "('steak', 'beef')\n",
      "('plum tomatoes', 'tomato')\n",
      "('peanuts', 'nuts')\n",
      "('evaporated milk', 'milk')\n",
      "('raspberries', 'raspberry')\n",
      "('kidney beans', 'beans')\n",
      "('low sodium', 'baking powder')\n",
      "('almond extract', 'almond')\n",
      "('hot water', 'water')\n",
      "('coarse salt ', 'salt')\n",
      "('meat', 'pork')\n",
      "('cilantro leaves', 'cilantro')\n",
      "('crust', 'crumbs')\n",
      "('italian seasoning', 'dressing')\n",
      "('sliced mushrooms', 'mushroom')\n",
      "('chile', 'jalapeno')\n",
      "('chiles', 'jalapeno')\n",
      "('chipotle', 'jalapeno')\n",
      "('ground coriander', 'coriander')\n",
      "('dark brown sugar', 'sugar')\n",
      "('fish sauce', 'sauce')\n",
      "('oranges', 'orange')\n",
      "('greens', 'lettuce')\n",
      "('white wine vinegar', 'vinegar')\n",
      "('vegetable broth', 'chicken broth')\n",
      "('macaroni', 'pasta')\n",
      "('yolk', 'egg')\n",
      "('peanut oil', 'oil')\n",
      "('pepper sauce', 'salsa')\n",
      "('cherries', 'cherry')\n",
      "('egg yolk', 'egg')\n",
      "('whipped cream', 'cream')\n",
      "('white onion', 'onion')\n",
      "('swiss cheese', 'cheese')\n",
      "('thyme leaves', 'thyme')\n",
      "('mint leaves', 'mint')\n",
      "('pine nuts', 'nuts')\n",
      "('cake flour', 'flour')\n",
      "('hot pepper', 'jalapeno')\n",
      "('sodium', 'baking powder')\n",
      "('apple cider vinegar', 'vinegar')\n",
      "('grain', 'corn')\n",
      "('heavy whipping cream', 'cream')\n",
      "('baby spinach', 'spinach')\n",
      "('cream of chicken soup', 'chicken broth')\n",
      "('rolled oats', 'oats')\n",
      "('steaks', 'beef')\n",
      "('sweetened condensed milk', 'milk')\n",
      "('peaches', 'peach')\n",
      "('white chocolate', 'chocolate')\n",
      "('chicken thighs', 'chicken_breast')\n",
      "('vegetable stock', 'chicken broth')\n",
      "('egg white', 'egg')\n",
      "('active dry yeast', 'yeast')\n",
      "('brown rice', 'rice')\n",
      "('stick butter', 'butter')\n",
      "('frozen peas', 'pea')\n",
      "('jalapeno pepper', 'jalapeno')\n",
      "('red peppers', 'paprika')\n",
      "('cereal', 'oats')\n",
      "('skim milk', 'milk')\n",
      "('minced onion', 'onion')\n",
      "('red chili', 'jalapeno')\n",
      "('barbecue sauce', 'sauce')\n",
      "('corn tortillas', 'tortillas')\n",
      "('unsweetened cocoa powder', 'cocoa powder')\n",
      "('cottage cheese', 'cheese')\n",
      "('goat cheese', 'cheese')\n",
      "('salad dressing', 'dressing')\n",
      "('ground turkey', 'turkey')\n",
      "('limes', 'lime')\n",
      "('cooked rice', 'rice')\n",
      "('chili sauce', 'salsa')\n",
      "('sliced almonds', 'almond')\n",
      "('black peppercorns', 'pepper')\n",
      "('red bell peppers', 'paprika')\n",
      "('rice wine', 'wine')\n",
      "('celery ribs', 'celery')\n",
      "('romaine lettuce', 'lettuce')\n",
      "('grated orange', 'orange')\n",
      "('frozen spinach', 'spinach')\n",
      "('grated nutmeg', 'nutmeg')\n",
      "('dried parsley', 'parsley')\n",
      "('paste', 'tomato sauce')\n",
      "('light corn syrup', 'syrup')\n",
      "('freshly grated parmesan', 'grated_cheese')\n",
      "('grated lemon zest', 'lemon')\n",
      "('hot pepper sauce', 'salsa')\n",
      "('sirloin', 'beef')\n",
      "('pinapple juice', 'juice')\n",
      "('white bread', 'bread')\n",
      "('tenderloin', 'beef')\n",
      "('bread flour', 'flour')\n",
      "('dried cranberries', 'cranberry')\n",
      "('greek yogurt', 'yogurt')\n",
      "('italian sausage', 'salami')\n",
      "('ground allspice', 'pepper')\n",
      "('sunflower', 'oil')\n",
      "('sweet onion', 'onion')\n",
      "('apple juice', 'juice')\n",
      "('salad', 'lettuce')\n",
      "('splenda', 'sugar')\n",
      "('slivered almonds', 'almond')\n",
      "('french bread', 'bread')\n",
      "('chicken bouillon', 'chicken broth')\n",
      "('cracked black pepper', 'pepper')\n",
      "('minced parsley', 'parsley')\n",
      "('cucumbers', 'cucumber')\n",
      "('ground pork', 'pork')\n",
      "('frozen corn', 'corn')\n",
      "('cream of tartar', 'beef')\n",
      "('pork chops', 'pork')\n",
      "('dry sherry', 'sherry')\n",
      "('pie crust', 'crumbs')\n",
      "('spinach leaves', 'spinach')\n",
      "('artichoke hearts', 'artichoke')\n",
      "('bittersweet chocolate', 'chocolate')\n",
      "('beef stock', 'chicken broth')\n",
      "('butternut', 'pumpkin')\n",
      "('all-purpose flour', 'flour')\n",
      "('corn kernels', 'corn')\n",
      "('medium tomatoes', 'tomato')\n"
     ]
    }
   ],
   "source": [
    "test_dict = zip(df_mapping['recipes'], df_mapping['classifier'])\n",
    "\n",
    "for i in test_dict:\n",
    "    print(i)"
   ]
  },
  {
   "cell_type": "code",
   "execution_count": 50,
   "metadata": {},
   "outputs": [
    {
     "data": {
      "text/plain": [
       "numpy.ndarray"
      ]
     },
     "execution_count": 50,
     "metadata": {},
     "output_type": "execute_result"
    }
   ],
   "source": [
    "type(clean_recipe)"
   ]
  },
  {
   "cell_type": "code",
   "execution_count": 51,
   "metadata": {},
   "outputs": [],
   "source": [
    "np_map = df_mapping['recipes'].to_numpy()"
   ]
  },
  {
   "cell_type": "code",
   "execution_count": 89,
   "metadata": {},
   "outputs": [
    {
     "data": {
      "text/plain": [
       "array(['applesauce', 'baking powder', 'baking soda', 'brown sugar',\n",
       "       'cinnamon', 'cranberries', 'eggs', 'extract', 'flour',\n",
       "       'ground cinnamon', 'powder', 'salt', 'soda', 'sugar',\n",
       "       'vanilla extract', 'zucchini'], dtype='<U39')"
      ]
     },
     "execution_count": 89,
     "metadata": {},
     "output_type": "execute_result"
    }
   ],
   "source": [
    "clean_recipe"
   ]
  },
  {
   "cell_type": "code",
   "execution_count": 65,
   "metadata": {},
   "outputs": [
    {
     "name": "stdout",
     "output_type": "stream",
     "text": [
      "['baking soda' 'brown sugar' 'eggs' 'ground cinnamon' 'vanilla extract']\n",
      "[False False  True  True False False  True False False  True False False\n",
      " False False  True False]\n"
     ]
    },
    {
     "data": {
      "text/plain": [
       "array(['baking soda', 'brown sugar', 'eggs', 'ground cinnamon',\n",
       "       'vanilla extract'], dtype='<U39')"
      ]
     },
     "execution_count": 65,
     "metadata": {},
     "output_type": "execute_result"
    }
   ],
   "source": [
    "elements_to_map = np.intersect1d(clean_recipe, np_map)\n",
    "print(elements_to_map)\n",
    "mask_map = np.isin(clean_recipe, elements_to_map)\n",
    "print(mask_map)\n",
    "map_recipe = clean_recipe[mask_map]\n",
    "map_recipe"
   ]
  },
  {
   "cell_type": "code",
   "execution_count": 129,
   "metadata": {},
   "outputs": [
    {
     "name": "stdout",
     "output_type": "stream",
     "text": [
      "['applesauce', 'baking powder', 'baking powder', 'sugar', 'cinnamon', 'cranberries', 'egg', 'extract', 'flour', 'cinnamon', 'powder', 'salt', 'soda', 'sugar', 'vanilla', 'zucchini']\n"
     ]
    }
   ],
   "source": [
    "mapped_recipe = [mapping_dict[ingredient] if (ingredient in mapping_dict.keys()) else ingredient for ingredient in clean_recipe ]\n",
    "#print(clean_recipe)\n",
    "print(mapped_recipe)\n",
    "#mapping_dict\n",
    "#mapping_dict['chicken']"
   ]
  },
  {
   "cell_type": "code",
   "execution_count": 115,
   "metadata": {},
   "outputs": [
    {
     "data": {
      "text/plain": [
       "True"
      ]
     },
     "execution_count": 115,
     "metadata": {},
     "output_type": "execute_result"
    }
   ],
   "source": [
    "'baking powder' in mapping_dict.values()"
   ]
  },
  {
   "cell_type": "code",
   "execution_count": 117,
   "metadata": {},
   "outputs": [
    {
     "data": {
      "text/plain": [
       "True"
      ]
     },
     "execution_count": 117,
     "metadata": {},
     "output_type": "execute_result"
    }
   ],
   "source": [
    "'baking powder' == mapping_dict['baking soda'] "
   ]
  },
  {
   "cell_type": "code",
   "execution_count": 123,
   "metadata": {},
   "outputs": [
    {
     "ename": "KeyError",
     "evalue": "'baking powder'",
     "output_type": "error",
     "traceback": [
      "\u001b[0;31m---------------------------------------------------------------------------\u001b[0m",
      "\u001b[0;31mKeyError\u001b[0m                                  Traceback (most recent call last)",
      "\u001b[0;32m<ipython-input-123-b4720be8101d>\u001b[0m in \u001b[0;36m<module>\u001b[0;34m\u001b[0m\n\u001b[0;32m----> 1\u001b[0;31m \u001b[0mmapping_dict\u001b[0m\u001b[0;34m[\u001b[0m\u001b[0;34m'baking powder'\u001b[0m\u001b[0;34m]\u001b[0m\u001b[0;34m\u001b[0m\u001b[0;34m\u001b[0m\u001b[0m\n\u001b[0m",
      "\u001b[0;31mKeyError\u001b[0m: 'baking powder'"
     ]
    }
   ],
   "source": [
    "mapping_dict['baking powder']"
   ]
  },
  {
   "cell_type": "markdown",
   "metadata": {},
   "source": [
    "# Clean Recipes"
   ]
  },
  {
   "cell_type": "code",
   "execution_count": null,
   "metadata": {},
   "outputs": [],
   "source": [
    "# https://numpy.org/doc/stable/reference/generated/numpy.load.html"
   ]
  },
  {
   "cell_type": "code",
   "execution_count": null,
   "metadata": {},
   "outputs": [],
   "source": []
  }
 ],
 "metadata": {
  "kernelspec": {
   "display_name": "deep-food",
   "language": "python",
   "name": "deep-food"
  },
  "language_info": {
   "codemirror_mode": {
    "name": "ipython",
    "version": 3
   },
   "file_extension": ".py",
   "mimetype": "text/x-python",
   "name": "python",
   "nbconvert_exporter": "python",
   "pygments_lexer": "ipython3",
   "version": "3.6.10"
  }
 },
 "nbformat": 4,
 "nbformat_minor": 4
}

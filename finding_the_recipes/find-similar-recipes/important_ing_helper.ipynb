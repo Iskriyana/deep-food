{
 "cells": [
  {
   "cell_type": "code",
   "execution_count": 1,
   "metadata": {},
   "outputs": [
    {
     "name": "stderr",
     "output_type": "stream",
     "text": [
      "/Users/iskriyanavasileva/opt/anaconda3/envs/deep-food/lib/python3.6/site-packages/tensorflow/python/framework/dtypes.py:516: FutureWarning: Passing (type, 1) or '1type' as a synonym of type is deprecated; in a future version of numpy, it will be understood as (type, (1,)) / '(1,)type'.\n",
      "  _np_qint8 = np.dtype([(\"qint8\", np.int8, 1)])\n",
      "/Users/iskriyanavasileva/opt/anaconda3/envs/deep-food/lib/python3.6/site-packages/tensorflow/python/framework/dtypes.py:517: FutureWarning: Passing (type, 1) or '1type' as a synonym of type is deprecated; in a future version of numpy, it will be understood as (type, (1,)) / '(1,)type'.\n",
      "  _np_quint8 = np.dtype([(\"quint8\", np.uint8, 1)])\n",
      "/Users/iskriyanavasileva/opt/anaconda3/envs/deep-food/lib/python3.6/site-packages/tensorflow/python/framework/dtypes.py:518: FutureWarning: Passing (type, 1) or '1type' as a synonym of type is deprecated; in a future version of numpy, it will be understood as (type, (1,)) / '(1,)type'.\n",
      "  _np_qint16 = np.dtype([(\"qint16\", np.int16, 1)])\n",
      "/Users/iskriyanavasileva/opt/anaconda3/envs/deep-food/lib/python3.6/site-packages/tensorflow/python/framework/dtypes.py:519: FutureWarning: Passing (type, 1) or '1type' as a synonym of type is deprecated; in a future version of numpy, it will be understood as (type, (1,)) / '(1,)type'.\n",
      "  _np_quint16 = np.dtype([(\"quint16\", np.uint16, 1)])\n",
      "/Users/iskriyanavasileva/opt/anaconda3/envs/deep-food/lib/python3.6/site-packages/tensorflow/python/framework/dtypes.py:520: FutureWarning: Passing (type, 1) or '1type' as a synonym of type is deprecated; in a future version of numpy, it will be understood as (type, (1,)) / '(1,)type'.\n",
      "  _np_qint32 = np.dtype([(\"qint32\", np.int32, 1)])\n",
      "/Users/iskriyanavasileva/opt/anaconda3/envs/deep-food/lib/python3.6/site-packages/tensorflow/python/framework/dtypes.py:525: FutureWarning: Passing (type, 1) or '1type' as a synonym of type is deprecated; in a future version of numpy, it will be understood as (type, (1,)) / '(1,)type'.\n",
      "  np_resource = np.dtype([(\"resource\", np.ubyte, 1)])\n",
      "/Users/iskriyanavasileva/opt/anaconda3/envs/deep-food/lib/python3.6/site-packages/tensorboard/compat/tensorflow_stub/dtypes.py:541: FutureWarning: Passing (type, 1) or '1type' as a synonym of type is deprecated; in a future version of numpy, it will be understood as (type, (1,)) / '(1,)type'.\n",
      "  _np_qint8 = np.dtype([(\"qint8\", np.int8, 1)])\n",
      "/Users/iskriyanavasileva/opt/anaconda3/envs/deep-food/lib/python3.6/site-packages/tensorboard/compat/tensorflow_stub/dtypes.py:542: FutureWarning: Passing (type, 1) or '1type' as a synonym of type is deprecated; in a future version of numpy, it will be understood as (type, (1,)) / '(1,)type'.\n",
      "  _np_quint8 = np.dtype([(\"quint8\", np.uint8, 1)])\n",
      "/Users/iskriyanavasileva/opt/anaconda3/envs/deep-food/lib/python3.6/site-packages/tensorboard/compat/tensorflow_stub/dtypes.py:543: FutureWarning: Passing (type, 1) or '1type' as a synonym of type is deprecated; in a future version of numpy, it will be understood as (type, (1,)) / '(1,)type'.\n",
      "  _np_qint16 = np.dtype([(\"qint16\", np.int16, 1)])\n",
      "/Users/iskriyanavasileva/opt/anaconda3/envs/deep-food/lib/python3.6/site-packages/tensorboard/compat/tensorflow_stub/dtypes.py:544: FutureWarning: Passing (type, 1) or '1type' as a synonym of type is deprecated; in a future version of numpy, it will be understood as (type, (1,)) / '(1,)type'.\n",
      "  _np_quint16 = np.dtype([(\"quint16\", np.uint16, 1)])\n",
      "/Users/iskriyanavasileva/opt/anaconda3/envs/deep-food/lib/python3.6/site-packages/tensorboard/compat/tensorflow_stub/dtypes.py:545: FutureWarning: Passing (type, 1) or '1type' as a synonym of type is deprecated; in a future version of numpy, it will be understood as (type, (1,)) / '(1,)type'.\n",
      "  _np_qint32 = np.dtype([(\"qint32\", np.int32, 1)])\n",
      "/Users/iskriyanavasileva/opt/anaconda3/envs/deep-food/lib/python3.6/site-packages/tensorboard/compat/tensorflow_stub/dtypes.py:550: FutureWarning: Passing (type, 1) or '1type' as a synonym of type is deprecated; in a future version of numpy, it will be understood as (type, (1,)) / '(1,)type'.\n",
      "  np_resource = np.dtype([(\"resource\", np.ubyte, 1)])\n"
     ]
    }
   ],
   "source": [
    "import numpy as np\n",
    "import pandas as pd\n",
    "from tensorflow.keras.backend import one_hot\n",
    "from random import sample"
   ]
  },
  {
   "cell_type": "code",
   "execution_count": 2,
   "metadata": {},
   "outputs": [
    {
     "name": "stdout",
     "output_type": "stream",
     "text": [
      "... loading the original dataset\n",
      "... loading finished.\n",
      "\n"
     ]
    }
   ],
   "source": [
    "# read this from the recipes, currently hot coded\n",
    "MAX_NR_INGREDIENTS = 3500\n",
    "\n",
    "nr_important_ingredients = 200\n",
    "\n",
    "print(\"... loading the original dataset\")\n",
    "recipes = np.load('../find_the_most_common_ingredients/recipes_clean.npy', allow_pickle=True)\n",
    "ingredients = np.load('../find_the_most_common_ingredients/ingredients_clean.npy', allow_pickle=True).item()\n",
    "print(\"... loading finished.\\n\")"
   ]
  },
  {
   "cell_type": "code",
   "execution_count": 3,
   "metadata": {},
   "outputs": [],
   "source": [
    "important_ingredients = np.array([])"
   ]
  },
  {
   "cell_type": "code",
   "execution_count": 4,
   "metadata": {},
   "outputs": [],
   "source": [
    "file_classifier_labels = '~/git/deep-food/data/recipe_classifier_labels.csv'"
   ]
  },
  {
   "cell_type": "code",
   "execution_count": 5,
   "metadata": {},
   "outputs": [],
   "source": [
    "df_classifier = pd.read_csv(file_classifier_labels, delimiter=';')"
   ]
  },
  {
   "cell_type": "code",
   "execution_count": 6,
   "metadata": {},
   "outputs": [
    {
     "data": {
      "text/html": [
       "<div>\n",
       "<style scoped>\n",
       "    .dataframe tbody tr th:only-of-type {\n",
       "        vertical-align: middle;\n",
       "    }\n",
       "\n",
       "    .dataframe tbody tr th {\n",
       "        vertical-align: top;\n",
       "    }\n",
       "\n",
       "    .dataframe thead th {\n",
       "        text-align: right;\n",
       "    }\n",
       "</style>\n",
       "<table border=\"1\" class=\"dataframe\">\n",
       "  <thead>\n",
       "    <tr style=\"text-align: right;\">\n",
       "      <th></th>\n",
       "      <th>classifier_labels</th>\n",
       "    </tr>\n",
       "  </thead>\n",
       "  <tbody>\n",
       "    <tr>\n",
       "      <th>0</th>\n",
       "      <td>almond</td>\n",
       "    </tr>\n",
       "    <tr>\n",
       "      <th>1</th>\n",
       "      <td>apple</td>\n",
       "    </tr>\n",
       "    <tr>\n",
       "      <th>2</th>\n",
       "      <td>apricot</td>\n",
       "    </tr>\n",
       "    <tr>\n",
       "      <th>3</th>\n",
       "      <td>avocado</td>\n",
       "    </tr>\n",
       "    <tr>\n",
       "      <th>4</th>\n",
       "      <td>banana</td>\n",
       "    </tr>\n",
       "  </tbody>\n",
       "</table>\n",
       "</div>"
      ],
      "text/plain": [
       "  classifier_labels\n",
       "0            almond\n",
       "1             apple\n",
       "2           apricot\n",
       "3           avocado\n",
       "4            banana"
      ]
     },
     "execution_count": 6,
     "metadata": {},
     "output_type": "execute_result"
    }
   ],
   "source": [
    "df_classifier.head()"
   ]
  },
  {
   "cell_type": "code",
   "execution_count": 7,
   "metadata": {},
   "outputs": [],
   "source": [
    "np_classifier = df_classifier.to_numpy()"
   ]
  },
  {
   "cell_type": "code",
   "execution_count": 8,
   "metadata": {},
   "outputs": [],
   "source": [
    "important_ingredients = np.append(important_ingredients, np_classifier)"
   ]
  },
  {
   "cell_type": "code",
   "execution_count": 9,
   "metadata": {},
   "outputs": [
    {
     "data": {
      "text/plain": [
       "(52,)"
      ]
     },
     "execution_count": 9,
     "metadata": {},
     "output_type": "execute_result"
    }
   ],
   "source": [
    "important_ingredients.shape"
   ]
  },
  {
   "cell_type": "code",
   "execution_count": 10,
   "metadata": {},
   "outputs": [],
   "source": [
    "file_out_of_fridge_labels = '~/git/deep-food/data/recipe_out_of_fridge.csv'"
   ]
  },
  {
   "cell_type": "code",
   "execution_count": 11,
   "metadata": {},
   "outputs": [],
   "source": [
    "df_out_of_fridge = pd.read_csv(file_out_of_fridge_labels, delimiter=';')"
   ]
  },
  {
   "cell_type": "code",
   "execution_count": 12,
   "metadata": {},
   "outputs": [
    {
     "data": {
      "text/html": [
       "<div>\n",
       "<style scoped>\n",
       "    .dataframe tbody tr th:only-of-type {\n",
       "        vertical-align: middle;\n",
       "    }\n",
       "\n",
       "    .dataframe tbody tr th {\n",
       "        vertical-align: top;\n",
       "    }\n",
       "\n",
       "    .dataframe thead th {\n",
       "        text-align: right;\n",
       "    }\n",
       "</style>\n",
       "<table border=\"1\" class=\"dataframe\">\n",
       "  <thead>\n",
       "    <tr style=\"text-align: right;\">\n",
       "      <th></th>\n",
       "      <th>out_of_fridge</th>\n",
       "    </tr>\n",
       "  </thead>\n",
       "  <tbody>\n",
       "    <tr>\n",
       "      <th>0</th>\n",
       "      <td>garlic</td>\n",
       "    </tr>\n",
       "    <tr>\n",
       "      <th>1</th>\n",
       "      <td>butter</td>\n",
       "    </tr>\n",
       "    <tr>\n",
       "      <th>2</th>\n",
       "      <td>flour</td>\n",
       "    </tr>\n",
       "    <tr>\n",
       "      <th>3</th>\n",
       "      <td>milk</td>\n",
       "    </tr>\n",
       "    <tr>\n",
       "      <th>4</th>\n",
       "      <td>vinegar</td>\n",
       "    </tr>\n",
       "  </tbody>\n",
       "</table>\n",
       "</div>"
      ],
      "text/plain": [
       "  out_of_fridge\n",
       "0        garlic\n",
       "1        butter\n",
       "2         flour\n",
       "3          milk\n",
       "4       vinegar"
      ]
     },
     "execution_count": 12,
     "metadata": {},
     "output_type": "execute_result"
    }
   ],
   "source": [
    "df_out_of_fridge.head()"
   ]
  },
  {
   "cell_type": "code",
   "execution_count": 13,
   "metadata": {},
   "outputs": [],
   "source": [
    "np_out_of_fridge = df_out_of_fridge.to_numpy()"
   ]
  },
  {
   "cell_type": "code",
   "execution_count": 14,
   "metadata": {},
   "outputs": [],
   "source": [
    "important_ingredients = np.append(important_ingredients, np_out_of_fridge)"
   ]
  },
  {
   "cell_type": "code",
   "execution_count": 15,
   "metadata": {},
   "outputs": [
    {
     "data": {
      "text/plain": [
       "(168,)"
      ]
     },
     "execution_count": 15,
     "metadata": {},
     "output_type": "execute_result"
    }
   ],
   "source": [
    "important_ingredients.shape"
   ]
  },
  {
   "cell_type": "code",
   "execution_count": 16,
   "metadata": {},
   "outputs": [
    {
     "data": {
      "text/plain": [
       "(array([], dtype=int64),)"
      ]
     },
     "execution_count": 16,
     "metadata": {},
     "output_type": "execute_result"
    }
   ],
   "source": [
    "ingr = np.where(ingredients == important_ingredients[0])\n",
    "ingr"
   ]
  },
  {
   "cell_type": "code",
   "execution_count": 17,
   "metadata": {},
   "outputs": [],
   "source": [
    "important_ingredients_ids = []"
   ]
  },
  {
   "cell_type": "code",
   "execution_count": 26,
   "metadata": {},
   "outputs": [],
   "source": [
    "for ingr in important_ingredients:\n",
    "    idx_ingr = ingredients[ingr]#np.where(ingredients == important_ingredients[ingr])\n",
    "    #print(ingr, ingredients[ingr])\n",
    "    important_ingredients_ids.append(idx_ingr)\n",
    "#important_ingredients_ids"
   ]
  },
  {
   "cell_type": "code",
   "execution_count": 19,
   "metadata": {},
   "outputs": [
    {
     "data": {
      "text/plain": [
       "3501"
      ]
     },
     "execution_count": 19,
     "metadata": {},
     "output_type": "execute_result"
    }
   ],
   "source": [
    "ingredients['apple']"
   ]
  },
  {
   "cell_type": "code",
   "execution_count": null,
   "metadata": {},
   "outputs": [],
   "source": [
    "type(ingredients)"
   ]
  },
  {
   "cell_type": "code",
   "execution_count": 20,
   "metadata": {},
   "outputs": [
    {
     "data": {
      "text/plain": [
       "168"
      ]
     },
     "execution_count": 20,
     "metadata": {},
     "output_type": "execute_result"
    }
   ],
   "source": [
    "len(important_ingredients)"
   ]
  },
  {
   "cell_type": "code",
   "execution_count": 28,
   "metadata": {},
   "outputs": [
    {
     "name": "stdout",
     "output_type": "stream",
     "text": [
      "0 3500\n",
      "1 3501\n",
      "2 3502\n",
      "3 3503\n",
      "4 3504\n",
      "5 3505\n",
      "6 3506\n",
      "7 3507\n",
      "8 3508\n",
      "9 3509\n",
      "10 3510\n",
      "11 3511\n",
      "12 3512\n",
      "13 3513\n",
      "14 3514\n",
      "15 3515\n",
      "16 3516\n",
      "17 3517\n",
      "18 3518\n",
      "19 3519\n",
      "20 3520\n",
      "21 3521\n",
      "22 3522\n",
      "23 3523\n",
      "24 3524\n",
      "25 3525\n",
      "26 3526\n",
      "27 3527\n",
      "28 3528\n",
      "29 3529\n",
      "30 3530\n",
      "31 3531\n",
      "32 3532\n",
      "33 3533\n",
      "34 3534\n",
      "35 3535\n",
      "36 3536\n",
      "37 3537\n",
      "38 3538\n",
      "39 3539\n",
      "40 3540\n",
      "41 3541\n",
      "42 3542\n",
      "43 3543\n",
      "44 3544\n",
      "45 3545\n",
      "46 3546\n",
      "47 3547\n",
      "48 3548\n",
      "49 3549\n",
      "50 3550\n",
      "51 3551\n",
      "52 3\n",
      "53 2\n",
      "54 5\n",
      "55 15\n",
      "56 26\n",
      "57 4\n",
      "58 29\n",
      "59 31\n",
      "60 32\n",
      "61 36\n",
      "62 35\n",
      "63 51\n",
      "64 37\n",
      "65 49\n",
      "66 43\n",
      "67 47\n",
      "68 54\n",
      "69 55\n",
      "70 56\n",
      "71 57\n",
      "72 40\n",
      "73 64\n",
      "74 63\n",
      "75 60\n",
      "76 71\n",
      "77 66\n",
      "78 70\n",
      "79 72\n",
      "80 76\n",
      "81 75\n",
      "82 85\n",
      "83 0\n",
      "84 1\n",
      "85 102\n",
      "86 69\n",
      "87 93\n",
      "88 101\n",
      "89 107\n",
      "90 111\n",
      "91 108\n",
      "92 116\n",
      "93 118\n",
      "94 117\n",
      "95 114\n",
      "96 163\n",
      "97 134\n",
      "98 124\n",
      "99 80\n",
      "100 140\n",
      "101 133\n",
      "102 138\n",
      "103 139\n",
      "104 148\n",
      "105 127\n",
      "106 150\n",
      "107 146\n",
      "108 152\n",
      "109 155\n",
      "110 156\n",
      "111 178\n",
      "112 181\n",
      "113 182\n",
      "114 185\n",
      "115 170\n",
      "116 172\n",
      "117 186\n",
      "118 188\n",
      "119 217\n",
      "120 212\n",
      "121 213\n",
      "122 226\n",
      "123 221\n",
      "124 225\n",
      "125 251\n",
      "126 224\n",
      "127 234\n",
      "128 201\n",
      "129 245\n",
      "130 244\n",
      "131 285\n",
      "132 520\n",
      "133 260\n",
      "134 462\n",
      "135 262\n",
      "136 254\n",
      "137 282\n",
      "138 302\n",
      "139 295\n",
      "140 310\n",
      "141 315\n",
      "142 306\n",
      "143 346\n",
      "144 342\n",
      "145 336\n",
      "146 359\n",
      "147 313\n",
      "148 20\n",
      "149 358\n",
      "150 717\n",
      "151 390\n",
      "152 405\n",
      "153 387\n",
      "154 403\n",
      "155 431\n",
      "156 398\n",
      "157 401\n",
      "158 434\n",
      "159 478\n",
      "160 441\n",
      "161 414\n",
      "162 470\n",
      "163 462\n",
      "164 515\n",
      "165 460\n",
      "166 410\n",
      "167 501\n",
      "168 3500\n",
      "169 3501\n",
      "170 3502\n",
      "171 3503\n",
      "172 3504\n",
      "173 3505\n",
      "174 3506\n",
      "175 3507\n",
      "176 3508\n",
      "177 3509\n",
      "178 3510\n",
      "179 3511\n",
      "180 3512\n",
      "181 3513\n",
      "182 3514\n",
      "183 3515\n",
      "184 3516\n",
      "185 3517\n",
      "186 3518\n",
      "187 3519\n",
      "188 3520\n",
      "189 3521\n",
      "190 3522\n",
      "191 3523\n",
      "192 3524\n",
      "193 3525\n",
      "194 3526\n",
      "195 3527\n",
      "196 3528\n",
      "197 3529\n",
      "198 3530\n",
      "199 3531\n",
      "200 3532\n",
      "201 3533\n",
      "202 3534\n",
      "203 3535\n",
      "204 3536\n",
      "205 3537\n",
      "206 3538\n",
      "207 3539\n",
      "208 3540\n",
      "209 3541\n",
      "210 3542\n",
      "211 3543\n",
      "212 3544\n",
      "213 3545\n",
      "214 3546\n",
      "215 3547\n",
      "216 3548\n",
      "217 3549\n",
      "218 3550\n",
      "219 3551\n",
      "220 3\n",
      "221 2\n",
      "222 5\n",
      "223 15\n",
      "224 26\n",
      "225 4\n",
      "226 29\n",
      "227 31\n",
      "228 32\n",
      "229 36\n",
      "230 35\n",
      "231 51\n",
      "232 37\n",
      "233 49\n",
      "234 43\n",
      "235 47\n",
      "236 54\n",
      "237 55\n",
      "238 56\n",
      "239 57\n",
      "240 40\n",
      "241 64\n",
      "242 63\n",
      "243 60\n",
      "244 71\n",
      "245 66\n",
      "246 70\n",
      "247 72\n",
      "248 76\n",
      "249 75\n",
      "250 85\n",
      "251 0\n",
      "252 1\n",
      "253 102\n",
      "254 69\n",
      "255 93\n",
      "256 101\n",
      "257 107\n",
      "258 111\n",
      "259 108\n",
      "260 116\n",
      "261 118\n",
      "262 117\n",
      "263 114\n",
      "264 163\n",
      "265 134\n",
      "266 124\n",
      "267 80\n",
      "268 140\n",
      "269 133\n",
      "270 138\n",
      "271 139\n",
      "272 148\n",
      "273 127\n",
      "274 150\n",
      "275 146\n",
      "276 152\n",
      "277 155\n",
      "278 156\n",
      "279 178\n",
      "280 181\n",
      "281 182\n",
      "282 185\n",
      "283 170\n",
      "284 172\n",
      "285 186\n",
      "286 188\n",
      "287 217\n",
      "288 212\n",
      "289 213\n",
      "290 226\n",
      "291 221\n",
      "292 225\n",
      "293 251\n",
      "294 224\n",
      "295 234\n",
      "296 201\n",
      "297 245\n",
      "298 244\n",
      "299 285\n",
      "300 520\n",
      "301 260\n",
      "302 462\n",
      "303 262\n",
      "304 254\n",
      "305 282\n",
      "306 302\n",
      "307 295\n",
      "308 310\n",
      "309 315\n",
      "310 306\n",
      "311 346\n",
      "312 342\n",
      "313 336\n",
      "314 359\n",
      "315 313\n",
      "316 20\n",
      "317 358\n",
      "318 717\n",
      "319 390\n",
      "320 405\n",
      "321 387\n",
      "322 403\n",
      "323 431\n",
      "324 398\n",
      "325 401\n",
      "326 434\n",
      "327 478\n",
      "328 441\n",
      "329 414\n",
      "330 470\n",
      "331 462\n",
      "332 515\n",
      "333 460\n",
      "334 410\n",
      "335 501\n"
     ]
    }
   ],
   "source": [
    "for i in range(len(important_ingredients_ids)):\n",
    "    ingredient_id = important_ingredients_ids[i]\n",
    "    print(i, ingredient_id)"
   ]
  },
  {
   "cell_type": "code",
   "execution_count": null,
   "metadata": {},
   "outputs": [],
   "source": []
  }
 ],
 "metadata": {
  "kernelspec": {
   "display_name": "deep-food",
   "language": "python",
   "name": "deep-food"
  },
  "language_info": {
   "codemirror_mode": {
    "name": "ipython",
    "version": 3
   },
   "file_extension": ".py",
   "mimetype": "text/x-python",
   "name": "python",
   "nbconvert_exporter": "python",
   "pygments_lexer": "ipython3",
   "version": "3.6.10"
  }
 },
 "nbformat": 4,
 "nbformat_minor": 4
}

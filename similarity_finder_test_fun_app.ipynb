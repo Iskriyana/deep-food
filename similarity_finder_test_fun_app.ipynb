{
 "cells": [
  {
   "cell_type": "code",
   "execution_count": 1,
   "metadata": {},
   "outputs": [],
   "source": [
    "from similarity_finder_for_app import find_similar_recipes"
   ]
  },
  {
   "cell_type": "code",
   "execution_count": 11,
   "metadata": {},
   "outputs": [
    {
     "name": "stdout",
     "output_type": "stream",
     "text": [
      "... loading the datasets\n",
      "... finding the similar recipes to the fridge\n"
     ]
    }
   ],
   "source": [
    "oof_labels = ['pear', 'apple']#['carrot', 'buttermilk', 'watermelon', 'corn', 'jalapeno', 'vegetable oil']\n",
    "final_suggestions = find_similar_recipes(oof_labels)"
   ]
  },
  {
   "cell_type": "code",
   "execution_count": 12,
   "metadata": {},
   "outputs": [
    {
     "data": {
      "text/html": [
       "<div>\n",
       "<style scoped>\n",
       "    .dataframe tbody tr th:only-of-type {\n",
       "        vertical-align: middle;\n",
       "    }\n",
       "\n",
       "    .dataframe tbody tr th {\n",
       "        vertical-align: top;\n",
       "    }\n",
       "\n",
       "    .dataframe thead th {\n",
       "        text-align: right;\n",
       "    }\n",
       "</style>\n",
       "<table border=\"1\" class=\"dataframe\">\n",
       "  <thead>\n",
       "    <tr style=\"text-align: right;\">\n",
       "      <th></th>\n",
       "      <th>Unnamed: 0</th>\n",
       "      <th>title</th>\n",
       "      <th>ingredients</th>\n",
       "      <th>url</th>\n",
       "    </tr>\n",
       "  </thead>\n",
       "  <tbody>\n",
       "    <tr>\n",
       "      <th>3764</th>\n",
       "      <td>3764</td>\n",
       "      <td>Warm Quinoa Salad</td>\n",
       "      <td>1/4 cup fresh lemon juice, 1 tablespoon grated...</td>\n",
       "      <td>http://cooking.nytimes.com/recipes/3001</td>\n",
       "    </tr>\n",
       "    <tr>\n",
       "      <th>7123</th>\n",
       "      <td>7123</td>\n",
       "      <td>Autumn Fruit-Infused Bourbon</td>\n",
       "      <td>Peel from 1 whole grapefruit, Peels from 2 lem...</td>\n",
       "      <td>http://www.foodandwine.com/recipes/autumn-frui...</td>\n",
       "    </tr>\n",
       "    <tr>\n",
       "      <th>9804</th>\n",
       "      <td>9804</td>\n",
       "      <td>Cranberry Conserve</td>\n",
       "      <td>1 pound fresh cranberries, 1 cup water, 1 1/2 ...</td>\n",
       "      <td>http://www.foodnetwork.com/recipes/emeril-laga...</td>\n",
       "    </tr>\n",
       "  </tbody>\n",
       "</table>\n",
       "</div>"
      ],
      "text/plain": [
       "      Unnamed: 0                         title  \\\n",
       "3764        3764             Warm Quinoa Salad   \n",
       "7123        7123  Autumn Fruit-Infused Bourbon   \n",
       "9804        9804            Cranberry Conserve   \n",
       "\n",
       "                                            ingredients  \\\n",
       "3764  1/4 cup fresh lemon juice, 1 tablespoon grated...   \n",
       "7123  Peel from 1 whole grapefruit, Peels from 2 lem...   \n",
       "9804  1 pound fresh cranberries, 1 cup water, 1 1/2 ...   \n",
       "\n",
       "                                                    url  \n",
       "3764            http://cooking.nytimes.com/recipes/3001  \n",
       "7123  http://www.foodandwine.com/recipes/autumn-frui...  \n",
       "9804  http://www.foodnetwork.com/recipes/emeril-laga...  "
      ]
     },
     "execution_count": 12,
     "metadata": {},
     "output_type": "execute_result"
    }
   ],
   "source": [
    "final_suggestions.head()"
   ]
  },
  {
   "cell_type": "code",
   "execution_count": 4,
   "metadata": {},
   "outputs": [
    {
     "data": {
      "text/plain": [
       "(3, 4)"
      ]
     },
     "execution_count": 4,
     "metadata": {},
     "output_type": "execute_result"
    }
   ],
   "source": [
    "final_suggestions.shape"
   ]
  },
  {
   "cell_type": "code",
   "execution_count": 20,
   "metadata": {},
   "outputs": [],
   "source": [
    "import numpy as np"
   ]
  },
  {
   "cell_type": "code",
   "execution_count": 21,
   "metadata": {},
   "outputs": [
    {
     "data": {
      "text/plain": [
       "['apple', 'pear']"
      ]
     },
     "execution_count": 21,
     "metadata": {},
     "output_type": "execute_result"
    }
   ],
   "source": [
    "pred_labels = np.load(\"pred_labels.npy\", allow_pickle=True)\n",
    "pred_labels\n",
    "pred_labels_l = list(pred_labels)\n",
    "pred_labels_l"
   ]
  },
  {
   "cell_type": "code",
   "execution_count": 22,
   "metadata": {},
   "outputs": [
    {
     "name": "stdout",
     "output_type": "stream",
     "text": [
      "... loading the datasets\n",
      "... finding the similar recipes to the fridge\n"
     ]
    }
   ],
   "source": [
    "recipes = find_similar_recipes(pred_labels_l)"
   ]
  },
  {
   "cell_type": "code",
   "execution_count": 23,
   "metadata": {},
   "outputs": [
    {
     "data": {
      "text/html": [
       "<div>\n",
       "<style scoped>\n",
       "    .dataframe tbody tr th:only-of-type {\n",
       "        vertical-align: middle;\n",
       "    }\n",
       "\n",
       "    .dataframe tbody tr th {\n",
       "        vertical-align: top;\n",
       "    }\n",
       "\n",
       "    .dataframe thead th {\n",
       "        text-align: right;\n",
       "    }\n",
       "</style>\n",
       "<table border=\"1\" class=\"dataframe\">\n",
       "  <thead>\n",
       "    <tr style=\"text-align: right;\">\n",
       "      <th></th>\n",
       "      <th>Unnamed: 0</th>\n",
       "      <th>title</th>\n",
       "      <th>ingredients</th>\n",
       "      <th>url</th>\n",
       "    </tr>\n",
       "  </thead>\n",
       "  <tbody>\n",
       "    <tr>\n",
       "      <th>3764</th>\n",
       "      <td>3764</td>\n",
       "      <td>Warm Quinoa Salad</td>\n",
       "      <td>1/4 cup fresh lemon juice, 1 tablespoon grated...</td>\n",
       "      <td>http://cooking.nytimes.com/recipes/3001</td>\n",
       "    </tr>\n",
       "    <tr>\n",
       "      <th>7123</th>\n",
       "      <td>7123</td>\n",
       "      <td>Autumn Fruit-Infused Bourbon</td>\n",
       "      <td>Peel from 1 whole grapefruit, Peels from 2 lem...</td>\n",
       "      <td>http://www.foodandwine.com/recipes/autumn-frui...</td>\n",
       "    </tr>\n",
       "    <tr>\n",
       "      <th>9804</th>\n",
       "      <td>9804</td>\n",
       "      <td>Cranberry Conserve</td>\n",
       "      <td>1 pound fresh cranberries, 1 cup water, 1 1/2 ...</td>\n",
       "      <td>http://www.foodnetwork.com/recipes/emeril-laga...</td>\n",
       "    </tr>\n",
       "  </tbody>\n",
       "</table>\n",
       "</div>"
      ],
      "text/plain": [
       "      Unnamed: 0                         title  \\\n",
       "3764        3764             Warm Quinoa Salad   \n",
       "7123        7123  Autumn Fruit-Infused Bourbon   \n",
       "9804        9804            Cranberry Conserve   \n",
       "\n",
       "                                            ingredients  \\\n",
       "3764  1/4 cup fresh lemon juice, 1 tablespoon grated...   \n",
       "7123  Peel from 1 whole grapefruit, Peels from 2 lem...   \n",
       "9804  1 pound fresh cranberries, 1 cup water, 1 1/2 ...   \n",
       "\n",
       "                                                    url  \n",
       "3764            http://cooking.nytimes.com/recipes/3001  \n",
       "7123  http://www.foodandwine.com/recipes/autumn-frui...  \n",
       "9804  http://www.foodnetwork.com/recipes/emeril-laga...  "
      ]
     },
     "execution_count": 23,
     "metadata": {},
     "output_type": "execute_result"
    }
   ],
   "source": [
    "recipes.head()"
   ]
  },
  {
   "cell_type": "code",
   "execution_count": 50,
   "metadata": {},
   "outputs": [],
   "source": [
    "recipe_name = recipes.loc[:, 'title']"
   ]
  },
  {
   "cell_type": "code",
   "execution_count": 53,
   "metadata": {},
   "outputs": [
    {
     "data": {
      "text/plain": [
       "3764               Warm Quinoa Salad\n",
       "7123    Autumn Fruit-Infused Bourbon\n",
       "9804              Cranberry Conserve\n",
       "Name: title, dtype: object"
      ]
     },
     "execution_count": 53,
     "metadata": {},
     "output_type": "execute_result"
    }
   ],
   "source": [
    "recipe_name"
   ]
  },
  {
   "cell_type": "code",
   "execution_count": 26,
   "metadata": {},
   "outputs": [],
   "source": [
    "recipes_ingr = recipes.loc[:, 'ingredients']"
   ]
  },
  {
   "cell_type": "code",
   "execution_count": 27,
   "metadata": {},
   "outputs": [
    {
     "data": {
      "text/plain": [
       "3764    1/4 cup fresh lemon juice, 1 tablespoon grated...\n",
       "7123    Peel from 1 whole grapefruit, Peels from 2 lem...\n",
       "9804    1 pound fresh cranberries, 1 cup water, 1 1/2 ...\n",
       "Name: ingredients, dtype: object"
      ]
     },
     "execution_count": 27,
     "metadata": {},
     "output_type": "execute_result"
    }
   ],
   "source": [
    "recipes_ingr"
   ]
  },
  {
   "cell_type": "code",
   "execution_count": 54,
   "metadata": {},
   "outputs": [
    {
     "data": {
      "text/plain": [
       "3764              http://cooking.nytimes.com/recipes/3001\n",
       "7123    http://www.foodandwine.com/recipes/autumn-frui...\n",
       "9804    http://www.foodnetwork.com/recipes/emeril-laga...\n",
       "Name: url, dtype: object"
      ]
     },
     "execution_count": 54,
     "metadata": {},
     "output_type": "execute_result"
    }
   ],
   "source": [
    "recipe_url = recipes.loc[:, 'url']\n",
    "recipe_url"
   ]
  },
  {
   "cell_type": "code",
   "execution_count": 29,
   "metadata": {},
   "outputs": [
    {
     "data": {
      "text/plain": [
       "3"
      ]
     },
     "execution_count": 29,
     "metadata": {},
     "output_type": "execute_result"
    }
   ],
   "source": [
    "recipes.shape[0]"
   ]
  },
  {
   "cell_type": "code",
   "execution_count": 64,
   "metadata": {},
   "outputs": [
    {
     "name": "stdout",
     "output_type": "stream",
     "text": [
      "Warm Quinoa Salad\n",
      "http://cooking.nytimes.com/recipes/3001\n",
      "1/4 cup fresh lemon juice, 1 tablespoon grated lemon rind, 1/2 teaspoon salt, plus more to taste, 1 teaspoon freshly ground pepper, plus more to taste, 1 tablespoon hazelnut oil, 1 ripe Anjou pear, cored and cut into 1/4-inch dice, 1 red Delicious apple, cored and cut into 1/4-inch dice, 1/4 cup fresh lime juice, 1 cup quinoa, 1 bay leaf, 3 sprigs fresh thyme, 2 cups chicken or vegetable broth, homemade or low-sodium canned, 1/2 cup fresh coriander leaves, 1/4 cup minced parsley leaves, \n",
      "Autumn Fruit-Infused Bourbon\n",
      "http://www.foodandwine.com/recipes/autumn-fruit-infused-bourbon\n",
      "Peel from 1 whole grapefruit, Peels from 2 lemons, 2 pear cores, 2 apple cores, One 750-ml bottle bourbon, \n",
      "Cranberry Conserve\n",
      "http://www.foodnetwork.com/recipes/emeril-lagasse/cranberry-conserve-recipe.html\n",
      "1 pound fresh cranberries, 1 cup water, 1 1/2 cups sugar, 1 whole orange, seeds removed, chopped (about 1 cup), 1 cup peeled and chopped apple, 1 cup peeled and chopped pear, 1 cup golden raisins, 1 tablespoon fresh lemon juice, 3/4 cup coarsely chopped pecans, \n"
     ]
    }
   ],
   "source": [
    "for index, row in recipes.iterrows():\n",
    "    print(row['title'])\n",
    "    print(row['url'])\n",
    "    print(row['ingredients'])"
   ]
  },
  {
   "cell_type": "code",
   "execution_count": null,
   "metadata": {},
   "outputs": [],
   "source": []
  }
 ],
 "metadata": {
  "kernelspec": {
   "display_name": "deep-food",
   "language": "python",
   "name": "deep-food"
  },
  "language_info": {
   "codemirror_mode": {
    "name": "ipython",
    "version": 3
   },
   "file_extension": ".py",
   "mimetype": "text/x-python",
   "name": "python",
   "nbconvert_exporter": "python",
   "pygments_lexer": "ipython3",
   "version": "3.6.10"
  }
 },
 "nbformat": 4,
 "nbformat_minor": 4
}

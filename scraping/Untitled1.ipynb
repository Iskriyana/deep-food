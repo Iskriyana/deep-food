{
 "cells": [
  {
   "cell_type": "code",
   "execution_count": 1,
   "metadata": {},
   "outputs": [],
   "source": [
    "import image_downloader\n",
    "import os"
   ]
  },
  {
   "cell_type": "code",
   "execution_count": 2,
   "metadata": {},
   "outputs": [
    {
     "name": "stdout",
     "output_type": "stream",
     "text": [
      "Working in apple\n",
      "Working in avocado\n",
      "Working in banana\n",
      "Working in blueberries\n",
      "Working in oranges\n",
      "Working in kiwi\n",
      "Working in lemon\n",
      "Working in grapefruit\n",
      "Working in pineapple\n",
      "Working in melon\n",
      "Working in watermelon\n",
      "Working in oat\n",
      "Working in stawberries\n",
      "Working in fried eggs\n",
      "Working in boiled eggs\n",
      "Working in beef\n",
      "Working in chicken\n",
      "Working in chicken breasts\n",
      "Working in almonds\n",
      "Working in nuts\n"
     ]
    }
   ],
   "source": [
    "food_list = image_downloader.get_list_foods('./20_food_classes.txt', max_imgs=1)"
   ]
  },
  {
   "cell_type": "code",
   "execution_count": 3,
   "metadata": {},
   "outputs": [],
   "source": [
    "# create paths\n",
    "image_downloader.create_paths_images(food_list)"
   ]
  },
  {
   "cell_type": "code",
   "execution_count": 4,
   "metadata": {},
   "outputs": [
    {
     "name": "stdout",
     "output_type": "stream",
     "text": [
      "apple #1 failed to download\n",
      "apple #2 failed to download\n",
      "avocado #1 failed to download\n",
      "avocado #2 failed to download\n",
      "banana #1 failed to download\n",
      "banana #2 failed to download\n",
      "blueberries #1 failed to download\n",
      "blueberries #2 failed to download\n",
      "oranges #1 failed to download\n",
      "oranges #2 failed to download\n",
      "kiwi #1 failed to download\n",
      "kiwi #2 failed to download\n",
      "lemon #1 failed to download\n",
      "lemon #2 failed to download\n",
      "grapefruit #1 failed to download\n",
      "grapefruit #2 failed to download\n",
      "pineapple #1 failed to download\n",
      "pineapple #2 failed to download\n",
      "melon #1 failed to download\n",
      "melon #2 failed to download\n",
      "watermelon #1 failed to download\n",
      "watermelon #2 failed to download\n",
      "stawberries #1 failed to download\n",
      "stawberries #2 failed to download\n"
     ]
    },
    {
     "ename": "FileNotFoundError",
     "evalue": "[Errno 2] No such file or directory: './data/fried eggs.csv'",
     "output_type": "error",
     "traceback": [
      "\u001b[0;31m---------------------------------------------------------------------------\u001b[0m",
      "\u001b[0;31mFileNotFoundError\u001b[0m                         Traceback (most recent call last)",
      "\u001b[0;32m<ipython-input-4-38822bc4e1cd>\u001b[0m in \u001b[0;36m<module>\u001b[0;34m\u001b[0m\n\u001b[0;32m----> 1\u001b[0;31m \u001b[0mimage_downloader\u001b[0m\u001b[0;34m.\u001b[0m\u001b[0mdownload_images\u001b[0m\u001b[0;34m(\u001b[0m\u001b[0mfood_list\u001b[0m\u001b[0;34m)\u001b[0m\u001b[0;34m\u001b[0m\u001b[0;34m\u001b[0m\u001b[0m\n\u001b[0m",
      "\u001b[0;32m~/Desktop/DataScience_Projects/deep-food/scraping/image_downloader.py\u001b[0m in \u001b[0;36mdownload_images\u001b[0;34m(food_list)\u001b[0m\n\u001b[1;32m     31\u001b[0m         \u001b[0mpath\u001b[0m \u001b[0;34m=\u001b[0m \u001b[0;34m'./data/'\u001b[0m\u001b[0;34m\u001b[0m\u001b[0;34m\u001b[0m\u001b[0m\n\u001b[1;32m     32\u001b[0m         \u001b[0mfood_urls\u001b[0m \u001b[0;34m=\u001b[0m \u001b[0;34m[\u001b[0m\u001b[0;34m]\u001b[0m\u001b[0;34m\u001b[0m\u001b[0;34m\u001b[0m\u001b[0m\n\u001b[0;32m---> 33\u001b[0;31m         \u001b[0;32mwith\u001b[0m \u001b[0mopen\u001b[0m\u001b[0;34m(\u001b[0m\u001b[0mpath\u001b[0m \u001b[0;34m+\u001b[0m \u001b[0mfood\u001b[0m \u001b[0;34m+\u001b[0m \u001b[0;34m'.csv'\u001b[0m\u001b[0;34m,\u001b[0m \u001b[0;34m'r'\u001b[0m\u001b[0;34m)\u001b[0m \u001b[0;32mas\u001b[0m \u001b[0mf\u001b[0m\u001b[0;34m:\u001b[0m\u001b[0;34m\u001b[0m\u001b[0;34m\u001b[0m\u001b[0m\n\u001b[0m\u001b[1;32m     34\u001b[0m             \u001b[0;32mfor\u001b[0m \u001b[0ml\u001b[0m \u001b[0;32min\u001b[0m \u001b[0mf\u001b[0m\u001b[0;34m:\u001b[0m\u001b[0;34m\u001b[0m\u001b[0;34m\u001b[0m\u001b[0m\n\u001b[1;32m     35\u001b[0m                 \u001b[0mfood_urls\u001b[0m\u001b[0;34m.\u001b[0m\u001b[0mappend\u001b[0m\u001b[0;34m(\u001b[0m\u001b[0ml\u001b[0m\u001b[0;34m)\u001b[0m\u001b[0;34m\u001b[0m\u001b[0;34m\u001b[0m\u001b[0m\n",
      "\u001b[0;31mFileNotFoundError\u001b[0m: [Errno 2] No such file or directory: './data/fried eggs.csv'"
     ]
    }
   ],
   "source": [
    "image_downloader.download_images(food_list)"
   ]
  },
  {
   "cell_type": "code",
   "execution_count": null,
   "metadata": {},
   "outputs": [],
   "source": []
  }
 ],
 "metadata": {
  "kernelspec": {
   "display_name": "Python 3",
   "language": "python",
   "name": "python3"
  },
  "language_info": {
   "codemirror_mode": {
    "name": "ipython",
    "version": 3
   },
   "file_extension": ".py",
   "mimetype": "text/x-python",
   "name": "python",
   "nbconvert_exporter": "python",
   "pygments_lexer": "ipython3",
   "version": "3.7.7"
  }
 },
 "nbformat": 4,
 "nbformat_minor": 4
}

{
 "cells": [
  {
   "cell_type": "code",
   "execution_count": 10,
   "metadata": {},
   "outputs": [],
   "source": [
    "food_classes = []\n",
    "with open('./20_food_classes.txt', 'r') as f:\n",
    "    for l in f:\n",
    "        food_classes.append(l.split('\\n')[0])"
   ]
  },
  {
   "cell_type": "code",
   "execution_count": 11,
   "metadata": {},
   "outputs": [
    {
     "data": {
      "text/plain": [
       "['apple',\n",
       " 'avocado',\n",
       " 'banana',\n",
       " 'blueberries',\n",
       " 'oranges',\n",
       " 'kiwi',\n",
       " 'lemon',\n",
       " 'grapefruit',\n",
       " 'pineapple',\n",
       " 'melon',\n",
       " 'watermelon',\n",
       " 'oat',\n",
       " 'stawberries',\n",
       " 'fried eggs',\n",
       " 'boiled eggs',\n",
       " 'beef',\n",
       " 'chicken',\n",
       " 'chicken breasts',\n",
       " 'almonds',\n",
       " 'nuts']"
      ]
     },
     "execution_count": 11,
     "metadata": {},
     "output_type": "execute_result"
    }
   ],
   "source": [
    "food_classes"
   ]
  },
  {
   "cell_type": "code",
   "execution_count": 15,
   "metadata": {},
   "outputs": [],
   "source": [
    "# Using the code from: https://github.com/deepanprabhu/duckduckgo-images-api\n",
    "from helpers.duckduckgo_imageURLdownloader import ImageURLDownloader\n",
    "import os\n",
    "from fastai.vision import *\n",
    "\n",
    "max_imgs = 250\n",
    "dloader = ImageURLDownloader(max_results=max_imgs)"
   ]
  },
  {
   "cell_type": "code",
   "execution_count": 16,
   "metadata": {},
   "outputs": [],
   "source": [
    "def get_list_foods(path_list):\n",
    "    food_classes = []\n",
    "    with open(path_list, 'r') as f:\n",
    "        for l in f:\n",
    "            food_classes.append(l.split('\\n')[0])\n",
    "    \n",
    "    for food in food_classes:\n",
    "        print(f'Working in {food}')\n",
    "        dloader.get(food) # Saves a .csv with the url of the image\n",
    "    \n",
    "    \n",
    "def create_paths_images(food_list):\n",
    "    for food in food_list:\n",
    "        os.mkdir('./data/' + food)\n",
    "\n",
    "\n",
    "def get_images(file, download_into_path, path_to_data):\n",
    "    name = file.replace(\".csv\", \"\")\n",
    "    print(name)\n",
    "    dest = download_into_path/name\n",
    "    print(dest)\n",
    "#     download_images(path_to_data/file, dest, max_pics=max_imgs)\n"
   ]
  },
  {
   "cell_type": "code",
   "execution_count": 17,
   "metadata": {},
   "outputs": [
    {
     "name": "stdout",
     "output_type": "stream",
     "text": [
      "Working in apple\n",
      "Working in avocado\n",
      "Working in banana\n",
      "Working in blueberries\n",
      "Working in oranges\n",
      "Working in kiwi\n",
      "Working in lemon\n",
      "Working in grapefruit\n",
      "Working in pineapple\n",
      "Working in melon\n",
      "Working in watermelon\n",
      "Working in oat\n",
      "Working in stawberries\n",
      "Working in fried eggs\n",
      "Working in boiled eggs\n",
      "Working in beef\n",
      "Working in chicken\n",
      "Working in chicken breasts\n",
      "Working in almonds\n",
      "Working in nuts\n"
     ]
    }
   ],
   "source": [
    "get_list_foods('./20_food_classes.txt')"
   ]
  },
  {
   "cell_type": "code",
   "execution_count": 24,
   "metadata": {},
   "outputs": [
    {
     "data": {
      "text/plain": [
       "PosixPath('/home/neuralcrypto/Desktop/DataScience_Projects/deep-food/scraping/data')"
      ]
     },
     "execution_count": 24,
     "metadata": {},
     "output_type": "execute_result"
    }
   ],
   "source": [
    "dloader.dest"
   ]
  },
  {
   "cell_type": "code",
   "execution_count": 26,
   "metadata": {},
   "outputs": [],
   "source": [
    "from fastai.vision.utils import download_images"
   ]
  },
  {
   "cell_type": "code",
   "execution_count": 34,
   "metadata": {},
   "outputs": [
    {
     "data": {
      "text/plain": [
       "\u001b[0;31mSignature:\u001b[0m\n",
       "\u001b[0mdownload_images\u001b[0m\u001b[0;34m(\u001b[0m\u001b[0;34m\u001b[0m\n",
       "\u001b[0;34m\u001b[0m    \u001b[0mdest\u001b[0m\u001b[0;34m,\u001b[0m\u001b[0;34m\u001b[0m\n",
       "\u001b[0;34m\u001b[0m    \u001b[0murl_file\u001b[0m\u001b[0;34m=\u001b[0m\u001b[0;32mNone\u001b[0m\u001b[0;34m,\u001b[0m\u001b[0;34m\u001b[0m\n",
       "\u001b[0;34m\u001b[0m    \u001b[0murls\u001b[0m\u001b[0;34m=\u001b[0m\u001b[0;32mNone\u001b[0m\u001b[0;34m,\u001b[0m\u001b[0;34m\u001b[0m\n",
       "\u001b[0;34m\u001b[0m    \u001b[0mmax_pics\u001b[0m\u001b[0;34m=\u001b[0m\u001b[0;36m1000\u001b[0m\u001b[0;34m,\u001b[0m\u001b[0;34m\u001b[0m\n",
       "\u001b[0;34m\u001b[0m    \u001b[0mn_workers\u001b[0m\u001b[0;34m=\u001b[0m\u001b[0;36m8\u001b[0m\u001b[0;34m,\u001b[0m\u001b[0;34m\u001b[0m\n",
       "\u001b[0;34m\u001b[0m    \u001b[0mtimeout\u001b[0m\u001b[0;34m=\u001b[0m\u001b[0;36m4\u001b[0m\u001b[0;34m,\u001b[0m\u001b[0;34m\u001b[0m\n",
       "\u001b[0;34m\u001b[0m\u001b[0;34m)\u001b[0m\u001b[0;34m\u001b[0m\u001b[0;34m\u001b[0m\u001b[0m\n",
       "\u001b[0;31mSource:\u001b[0m   \n",
       "\u001b[0;32mdef\u001b[0m \u001b[0mdownload_images\u001b[0m\u001b[0;34m(\u001b[0m\u001b[0mdest\u001b[0m\u001b[0;34m,\u001b[0m \u001b[0murl_file\u001b[0m\u001b[0;34m=\u001b[0m\u001b[0;32mNone\u001b[0m\u001b[0;34m,\u001b[0m \u001b[0murls\u001b[0m\u001b[0;34m=\u001b[0m\u001b[0;32mNone\u001b[0m\u001b[0;34m,\u001b[0m \u001b[0mmax_pics\u001b[0m\u001b[0;34m=\u001b[0m\u001b[0;36m1000\u001b[0m\u001b[0;34m,\u001b[0m \u001b[0mn_workers\u001b[0m\u001b[0;34m=\u001b[0m\u001b[0;36m8\u001b[0m\u001b[0;34m,\u001b[0m \u001b[0mtimeout\u001b[0m\u001b[0;34m=\u001b[0m\u001b[0;36m4\u001b[0m\u001b[0;34m)\u001b[0m\u001b[0;34m:\u001b[0m\u001b[0;34m\u001b[0m\n",
       "\u001b[0;34m\u001b[0m    \u001b[0;34m\"Download images listed in text file `url_file` to path `dest`, at most `max_pics`\"\u001b[0m\u001b[0;34m\u001b[0m\n",
       "\u001b[0;34m\u001b[0m    \u001b[0;32mif\u001b[0m \u001b[0murls\u001b[0m \u001b[0;32mis\u001b[0m \u001b[0;32mNone\u001b[0m\u001b[0;34m:\u001b[0m \u001b[0murls\u001b[0m \u001b[0;34m=\u001b[0m \u001b[0murl_file\u001b[0m\u001b[0;34m.\u001b[0m\u001b[0mread\u001b[0m\u001b[0;34m(\u001b[0m\u001b[0;34m)\u001b[0m\u001b[0;34m.\u001b[0m\u001b[0mstrip\u001b[0m\u001b[0;34m(\u001b[0m\u001b[0;34m)\u001b[0m\u001b[0;34m.\u001b[0m\u001b[0msplit\u001b[0m\u001b[0;34m(\u001b[0m\u001b[0;34m\"\\n\"\u001b[0m\u001b[0;34m)\u001b[0m\u001b[0;34m[\u001b[0m\u001b[0;34m:\u001b[0m\u001b[0mmax_pics\u001b[0m\u001b[0;34m]\u001b[0m\u001b[0;34m\u001b[0m\n",
       "\u001b[0;34m\u001b[0m    \u001b[0mdest\u001b[0m \u001b[0;34m=\u001b[0m \u001b[0mPath\u001b[0m\u001b[0;34m(\u001b[0m\u001b[0mdest\u001b[0m\u001b[0;34m)\u001b[0m\u001b[0;34m\u001b[0m\n",
       "\u001b[0;34m\u001b[0m    \u001b[0mdest\u001b[0m\u001b[0;34m.\u001b[0m\u001b[0mmkdir\u001b[0m\u001b[0;34m(\u001b[0m\u001b[0mexist_ok\u001b[0m\u001b[0;34m=\u001b[0m\u001b[0;32mTrue\u001b[0m\u001b[0;34m)\u001b[0m\u001b[0;34m\u001b[0m\n",
       "\u001b[0;34m\u001b[0m    \u001b[0mparallel\u001b[0m\u001b[0;34m(\u001b[0m\u001b[0mpartial\u001b[0m\u001b[0;34m(\u001b[0m\u001b[0m_download_image_inner\u001b[0m\u001b[0;34m,\u001b[0m \u001b[0mdest\u001b[0m\u001b[0;34m,\u001b[0m \u001b[0mtimeout\u001b[0m\u001b[0;34m=\u001b[0m\u001b[0mtimeout\u001b[0m\u001b[0;34m)\u001b[0m\u001b[0;34m,\u001b[0m \u001b[0mlist\u001b[0m\u001b[0;34m(\u001b[0m\u001b[0menumerate\u001b[0m\u001b[0;34m(\u001b[0m\u001b[0murls\u001b[0m\u001b[0;34m)\u001b[0m\u001b[0;34m)\u001b[0m\u001b[0;34m,\u001b[0m \u001b[0mn_workers\u001b[0m\u001b[0;34m=\u001b[0m\u001b[0mn_workers\u001b[0m\u001b[0;34m)\u001b[0m\u001b[0;34m\u001b[0m\u001b[0;34m\u001b[0m\u001b[0m\n",
       "\u001b[0;31mFile:\u001b[0m      ~/anaconda3/envs/deep-food/lib/python3.7/site-packages/fastai/vision/utils.py\n",
       "\u001b[0;31mType:\u001b[0m      function\n"
      ]
     },
     "metadata": {},
     "output_type": "display_data"
    }
   ],
   "source": [
    "download_images??"
   ]
  },
  {
   "cell_type": "code",
   "execution_count": 41,
   "metadata": {},
   "outputs": [
    {
     "data": {
      "text/html": [],
      "text/plain": [
       "<IPython.core.display.HTML object>"
      ]
     },
     "metadata": {},
     "output_type": "display_data"
    }
   ],
   "source": [
    "download_images(dest='./data', urls='./data/almonds.csv')"
   ]
  },
  {
   "cell_type": "code",
   "execution_count": 43,
   "metadata": {},
   "outputs": [
    {
     "name": "stdout",
     "output_type": "stream",
     "text": [
      "--2020-08-28 16:43:14--  https://32lxcujgg9-flywheel.netdna-ssl.com/wp-content/uploads/2016/12/oats.jpg\n",
      "Resolving 32lxcujgg9-flywheel.netdna-ssl.com (32lxcujgg9-flywheel.netdna-ssl.com)... 23.111.9.35\n",
      "Connecting to 32lxcujgg9-flywheel.netdna-ssl.com (32lxcujgg9-flywheel.netdna-ssl.com)|23.111.9.35|:443... connected.\n",
      "HTTP request sent, awaiting response... 200 OK\n",
      "Length: 372894 (364K) [image/jpeg]\n",
      "Saving to: ‘oats.jpg’\n",
      "\n",
      "oats.jpg            100%[===================>] 364,15K  --.-KB/s    in 0,08s   \n",
      "\n",
      "2020-08-28 16:43:14 (4,20 MB/s) - ‘oats.jpg’ saved [372894/372894]\n",
      "\n"
     ]
    }
   ],
   "source": [
    "!wget https://32lxcujgg9-flywheel.netdna-ssl.com/wp-content/uploads/2016/12/oats.jpg"
   ]
  },
  {
   "cell_type": "code",
   "execution_count": 31,
   "metadata": {
    "collapsed": true,
    "jupyter": {
     "outputs_hidden": true
    }
   },
   "outputs": [
    {
     "name": "stdout",
     "output_type": "stream",
     "text": [
      "https://i.ebayimg.com/images/i/182499446396-0-1/s-l1000.jpg\n",
      "\n",
      "https://www.almanac.com/sites/default/files/image_nodes/cover_oats_romarioien_ss.jpg\n",
      "\n",
      "https://www.agric.wa.gov.au/sites/gateway/files/W08_0015_Wandering_oats.jpg\n",
      "\n",
      "http://prod.static9.net.au/_/media/Network/Images/2017/07/25/10/39/170725_coach_oats.jpg\n",
      "\n",
      "https://upload.wikimedia.org/wikipedia/commons/thumb/9/9b/Bowl_of_dry_steel-cut_oats_with_full_spoon.jpeg/1200px-Bowl_of_dry_steel-cut_oats_with_full_spoon.jpeg\n",
      "\n",
      "https://32lxcujgg9-flywheel.netdna-ssl.com/wp-content/uploads/2016/12/oats.jpg\n",
      "\n",
      "https://kiallafoods.com.au/wp-content/uploads/2015/06/Rolled-Oats-detail.jpg\n",
      "\n",
      "https://upload.wikimedia.org/wikipedia/commons/thumb/f/f7/Avena_sativa_L.jpg/1200px-Avena_sativa_L.jpg\n",
      "\n",
      "http://www.glutenfreecat.com/wp-content/uploads/2011/04/IMG_6819.jpg\n",
      "\n",
      "http://img1.cookinglight.timeinc.net/sites/default/files/styles/4_3_horizontal_-_1200x900/public/1512147628/171w-whole-oat-groats-getty.jpg?itok=t8gDWEgc\n",
      "\n",
      "http://thesource.com/wp-content/uploads/2015/07/oats.jpg\n",
      "\n",
      "http://www.chatelaine.com/wp-content/uploads/2017/05/pantry101-quick-oats-versus-large-flake-oats.jpeg\n",
      "\n",
      "https://qph.fs.quoracdn.net/main-qimg-9b040ba3a859134d963277503eb848f2\n",
      "\n",
      "http://3.bp.blogspot.com/-5LLW5lDlb_Q/T4jOtsvE_9I/AAAAAAAAOG4/cYuteUYNcwU/s1600/IMG_5623.JPG\n",
      "\n",
      "https://www.danielstrading.com/wp-content/uploads/2013/05/markets_grains-oilseeds_oats_849x565.jpg\n",
      "\n",
      "https://media.mnn.com/assets/images/2015/01/oat-groats.jpg.653x0_q80_crop-smart.jpg\n",
      "\n",
      "http://cdn1.medicalnewstoday.com/content/images/articles/270680-oats.jpg\n",
      "\n",
      "https://shape180fitness.files.wordpress.com/2015/06/stories-oatheart.jpg\n",
      "\n",
      "https://lh4.googleusercontent.com/-WO_E1_K0Nc8/TYzPkik99zI/AAAAAAAAB9Y/tFKGn7AmDCQ/s1600/sprouting+-+hulless+oats.jpg\n",
      "\n",
      "https://upload.wikimedia.org/wikipedia/commons/thumb/6/6c/Avena_sativa_004.JPG/220px-Avena_sativa_004.JPG\n",
      "\n",
      "https://upload.wikimedia.org/wikipedia/commons/thumb/3/39/Oatmeal.jpg/1200px-Oatmeal.jpg\n",
      "\n",
      "https://cdn.pixabay.com/photo/2015/10/02/20/33/oats-968980_640.jpg\n",
      "\n",
      "https://hendricksfeed.com/wp-content/uploads/2017/12/Jerry-Oat-Seeds.jpg\n",
      "\n",
      "http://strengthandsunshine.com/wp-content/uploads/2015/08/Oat-Flour.jpg\n",
      "\n",
      "https://www.wikihow.com/images/0/05/Use-Oat-Bran-Step-11.jpg\n",
      "\n",
      "https://www.forageseeds.com/wp-content/uploads/images/products/small-grain/jerry-oats-seed.jpg\n",
      "\n",
      "http://1.bp.blogspot.com/-liyIvBnknQk/TonP32vmMgI/AAAAAAAAL1A/exRJWNW7rDI/s1600/IMG_1123.JPG\n",
      "\n",
      "http://www.glutenfreecat.com/wp-content/uploads/2012/06/Buckwheat.jpg\n",
      "\n",
      "http://www.bio-botanica.com/wp-content/uploads/2016/12/product_oat-seed.jpg\n",
      "\n",
      "http://3.bp.blogspot.com/-UfZ1HoHma-o/UYuTkRqOijI/AAAAAAAACaw/2EaN-p2RJcE/s1600/Oats.JPG\n",
      "\n",
      "http://2.bp.blogspot.com/-wzVra0aSlV8/T0JY9Y4lf8I/AAAAAAAAA2E/LZ9i4ujYpdk/s1600/oat-plant.jpg\n",
      "\n",
      "http://littlerock.com.mt/wp-content/uploads/2015/06/Oat-flakes.jpeg\n",
      "\n",
      "http://4.bp.blogspot.com/_9g1Ege5PHsE/TQfcMCM3wqI/AAAAAAAADDg/6MwmcQgHKz4/s1600/07605l1.jpg\n",
      "\n",
      "https://www.acs.org/content/acs/en/pressroom/presspacs/2015/acs-presspac-february-25-2015/oat-breakfast-cereals-may-contain-a-common-mold-related-toxin/_jcr_content/pressPacContent/columnsbootstrap/column1/image.img.jpg/1424758764684.jpg\n",
      "\n",
      "https://images.101cookbooks.com/Triple-Oat-Breakfast-Cereal-4.jpg?w=620&auto=format\n",
      "\n",
      "https://thumbs.dreamstime.com/z/oats-grains-25958348.jpg\n",
      "\n",
      "https://cdn.shopify.com/s/files/1/0200/5036/products/Oats_1.JPG?v=1498632440\n",
      "\n",
      "https://image.freepik.com/free-photo/close-up-of-oat-flakes_1127-224.jpg\n",
      "\n",
      "https://www.agric.wa.gov.au/sites/gateway/files/4639023%20Oat%20Harvesting.jpg\n",
      "\n",
      "https://c8.alamy.com/comp/PAMW0M/bundle-of-oat-plant-with-oatmeal-isolated-on-white-PAMW0M.jpg\n",
      "\n",
      "http://www.sheilakealey.com/wp-content/uploads/2015/07/Oat-Processing.jpg\n",
      "\n",
      "https://www.cookingclassy.com/wp-content/uploads/2017/09/oatmeal-3-1.jpg\n",
      "\n",
      "http://cdn-img.health.com/sites/default/files/migration/img/web/2013/09/slides/oatmeal-burn-fat-400x400.jpg\n",
      "\n",
      "https://chefsavvy.com/wp-content/uploads/2014/10/0111.jpg\n",
      "\n",
      "https://cdn.sallysbakingaddiction.com/wp-content/uploads/2019/01/baked-oatmeal-5.jpg\n",
      "\n",
      "https://nootriment.com/wp-content/uploads/2014/01/oat-straw.jpg\n",
      "\n",
      "http://i.ebayimg.com/images/i/300748604554-0-1/s-l1000.jpg\n",
      "\n",
      "https://cdn.britannica.com/700x450/87/187187-004-94F5EE9B.jpg\n",
      "\n",
      "https://image.freepik.com/free-vector/3d-realistic-oat-ears-grains-with-white-bowl-detailed-cereal-plant_1441-1785.jpg\n",
      "\n",
      "http://cropchatter.com/wp-content/uploads/2014/07/oat-blast.jpg\n",
      "\n",
      "https://www.hippressurecooking.com/wp-content/uploads/2014/11/avena_lo.jpg\n",
      "\n",
      "https://www.newdirectionsaromatics.ca/images/products/main/Oat_CO.jpg\n",
      "\n",
      "http://3.bp.blogspot.com/-eLNS47yZNNQ/T4LtwjGGeaI/AAAAAAAAAWY/3doSrY68rm4/s1600/Oats.jpg\n",
      "\n",
      "https://www.feedipedia.org/sites/default/files/images/Avena_sativa_003.JPG\n",
      "\n",
      "http://www.graincentral.com/wp-content/uploads/2017/04/040417-Oats-plantings-pic-005-National-Oat-Breeding-Program.jpg\n",
      "\n",
      "https://cdn.apartmenttherapy.info/image/fetch/f_auto,q_auto:eco,c_fill,g_auto,w_1500/https:%2F%2Fstorage.googleapis.com%2Fgen-atmedia%2F3%2F2011%2F01%2F0a157e273dbf7a9b24779e0221540c85ebe1419e.jpeg\n",
      "\n",
      "https://cdn2.tmbi.com/TOH/Images/Photos/37/1200x1200/Baked-Oatmeal_exps2346_W101973175C05_12_4bC_RMS.jpg\n",
      "\n",
      "https://www.consumerhealthdigest.com/wp-content/uploads/2017/11/Oat-Straw.jpg\n",
      "\n",
      "http://www.feedipedia.org/sites/default/files/images/oat_forage_04.jpg\n",
      "\n",
      "https://media1.popsugar-assets.com/files/thumbor/Sn38-Q_pxnFrt5ab2UgHPSBFMp0/fit-in/1024x1024/filters:format_auto-!!-:strip_icc-!!-/2014/10/06/055/n/1922729/13a98543ccd7c1a5_thumb_temp_cover_file129811285754400/i/Healthy-Oatmeal-Toppings.jpg\n",
      "\n",
      "http://assets.marthastewart.com/styles/wmax-1500/d30/apple-oat-muffins-0091-d112215/apple-oat-muffins-0091-d112215_horiz.jpg?itok=IbaSnkBi\n",
      "\n",
      "http://www.marthastewart.com/sites/files/marthastewart.com/styles/wmax-520-highdpi/public/d19/1086_recipe_oatmeal/1086_recipe_oatmeal_xl.jpg?itok=mMPHU4Xo\n",
      "\n",
      "http://www.geo.msu.edu/geogmich/images/oats3.JPG\n",
      "\n",
      "http://trainwithlyzabeth.com/wp-content/uploads/2016/07/oat-pile.png\n",
      "\n",
      "http://www.mamasblissfulbites.com/wp-content/uploads/2012/11/Cherry-Oat-Cereal.jpg\n",
      "\n",
      "https://i.ytimg.com/vi/pnj8MXlUWlk/maxresdefault.jpg\n",
      "\n",
      "https://www.feedipedia.org/sites/default/files/images/Avena_sativa_001.JPG\n",
      "\n",
      "https://img1.cookinglight.timeinc.net/sites/default/files/styles/4_3_horizontal_-_1200x900/public/1512150385/1711w-quaker-oats-instant-oatmeal-amazon.jpg?itok=_VDjJrwL\n",
      "\n",
      "https://i.ytimg.com/vi/fGYBvrhtTE0/maxresdefault.jpg\n",
      "\n",
      "https://upload.wikimedia.org/wikipedia/commons/thumb/5/57/Haverkorrels_Avena_sativa.jpg/220px-Haverkorrels_Avena_sativa.jpg\n",
      "\n",
      "https://www.worldatlas.com/r/w728-h425-c728x425/upload/e6/32/6d/oats-8949-1280.jpg\n",
      "\n",
      "http://www.ravensdottirrunes.com/wp-content/uploads/2014/01/oatstraw-dry.jpg\n",
      "\n",
      "https://torchlakeviews.files.wordpress.com/2009/08/oatfield.jpg\n",
      "\n",
      "http://4.bp.blogspot.com/-ohYoetYzs7c/UXAmjFXqrTI/AAAAAAAAGrs/ULM6CACVUoE/s1600/Avena+sativa+Oats+Aama+jai+Futterhafer+Avoine+cultive+Atiyav.jpg\n",
      "\n",
      "https://upload.wikimedia.org/wikipedia/commons/thumb/2/2d/Avena_sativa_002.JPG/1200px-Avena_sativa_002.JPG\n",
      "\n",
      "https://www.xinova.com/wp-content/uploads/2019/02/Oat-HullsMedium.jpg\n",
      "\n",
      "https://naturalnoshing.files.wordpress.com/2012/01/oat-bran-maple-2.jpg\n",
      "\n",
      "http://www.mealberry.com/upload/iblock/caa/caa46bc1c1496939c776ec64cb22ed73.png\n",
      "\n",
      "http://img-aws.ehowcdn.com/600x600p/photos.demandstudios.com/getty/article/41/180/56359784.jpg\n",
      "\n",
      "https://www.gardeningknowhow.com/wp-content/uploads/2016/07/growing-oats.jpg\n",
      "\n",
      "https://media1.popsugar-assets.com/files/thumbor/dh5cjPfjC9-xt1aJ67SEDNEb4WQ/fit-in/1024x1024/filters:format_auto-!!-:strip_icc-!!-/2014/03/16/145/n/1922729/49b84bf1b381a34b_bars.jpg\n",
      "\n",
      "https://feelgoodfoodie.net/wp-content/uploads/2019/01/How-to-Make-Oatmeal-10-400x600.jpg\n",
      "\n",
      "http://2.bp.blogspot.com/-P0bE2S6NY8g/T4jOqvfILPI/AAAAAAAAOGw/C-3eg-KfepM/s1600/IMG_5598.JPG\n",
      "\n",
      "https://i1.wp.com/www.inthekitchenwithapril.com/wp-content/uploads/2015/05/Oat-and-Sunflower-Seed-Yeast-Loaf-topped-with-Oats-and-Sunflower-Seeds.jpg\n",
      "\n",
      "http://media.gettyimages.com/photos/healthy-food-whole-grain-oats-and-cereal-spikelets-picture-id157563029?s=612x612\n",
      "\n",
      "https://img1.cookinglight.timeinc.net/sites/default/files/styles/4_3_horizontal_-_1200x900/public/1512582965/1712w-bowl-of-oatmeal-getty.jpg?itok=VKYpLSIY\n",
      "\n",
      "http://www.healthysupplies.co.uk/pics/organic-oat-groats-sussex-1kg.jpg\n",
      "\n",
      "https://d3cizcpymoenau.cloudfront.net/images/legacy/37546/SFS_apple_cinnamon_oatmeal-3_20_1_.jpg\n",
      "\n",
      "http://media.web.britannica.com/eb-media/62/3162-004-F682A16B.jpg\n",
      "\n",
      "http://www.eatgood4life.com/wp-content/uploads/2015/05/almond-oatmeal-cookies.jpg\n",
      "\n",
      "https://ae01.alicdn.com/kf/HTB14xDVKXXXXXc5XpXXq6xXFXXXL/High-yielding-wheat-font-b-oat-b-font-seeds-Crop-DIY-home-garden-font-b-plant.jpg\n",
      "\n",
      "http://d1dd4ethwnlwo2.cloudfront.net/wp-content/uploads/2015/04/rolled-oat-cookies-600x314.jpg\n",
      "\n",
      "http://www.blog.generalmills.com/wp-content/uploads/OatHulls2.jpg\n",
      "\n",
      "https://dish-environment-prod-contentbucket-10u8bszryovz3.s3.amazonaws.com/assets/s3fs-public/styles/content_image_medium/public/102249513-Clockwise-Quick-cooking-oats-steel-cut-oats-rolled-oats-instant-oats-Photo-by-Meredith.jpg?itok=FqmaEicJ\n",
      "\n",
      "http://assets.fwi.co.uk/sites/1/170817-oats-in-a-field-c-tim-scrivener-1882013-5317.jpg\n",
      "\n",
      "https://veganfamilyrecipes.com/wp-content/uploads/2014/11/Puffed-Quinoa-Oat-Bars-44-680x1024-680x1024.jpg\n",
      "\n",
      "https://www.farminguk.com/images/News/44481_1.jpg\n",
      "\n",
      "http://www.wikihow.com/images/6/65/Make-Oat-Flour-Final.jpg\n",
      "\n",
      "https://s23991.pcdn.co/wp-content/uploads/2014/03/oatmeal-cookies-recipe.jpg\n",
      "\n",
      "https://i.cbc.ca/1.3981862.1487088504!/fileImage/httpImage/image.jpg_gen/derivatives/16x9_780/oats.jpg\n",
      "\n",
      "https://dish-environment-prod-contentbucket-10u8bszryovz3.s3.amazonaws.com/assets/s3fs-public/styles/content_image_medium/public/102249513-Clockwise-Quick-cooking-oats-steel-cut-oats-rolled-oats-instant-oats-Photo-by-Meredith.jpg?itok=FqmaEicJ\n",
      "\n",
      "https://www.mountainroseherbs.com/assets/products/703/oatstraw_M12941-T-product_2x-1559334593.jpg\n",
      "\n",
      "https://s3.amazonaws.com/secretsaucefiles/photos/images/000/160/463/large/grains-oatmeal.jpg?1493326397\n",
      "\n",
      "https://3.bp.blogspot.com/-UfXkjsfbVCg/UaZj031o2hI/AAAAAAAABEg/HMZUyE2TMS0/s1600/OatFlour.jpg\n",
      "\n",
      "https://www.farminguk.com/images/News/44481_1.jpg\n",
      "\n",
      "https://www.eatlikenoone.com/wp-content/uploads/2017/08/Oat-Groats.jpg\n",
      "\n",
      "https://torchlakeviews.files.wordpress.com/2009/08/oatfield.jpg?w=594\n",
      "\n",
      "http://web.tradekorea.com/product/292/684292_03/Oat_Plant_milk_Powder.jpg\n",
      "\n",
      "http://thumbs.dreamstime.com/z/oat-plant-morning-dew-field-32991270.jpg\n",
      "\n",
      "https://blog.generalmills.com/wp-content/uploads/OatHulls2-1024x515.jpg\n",
      "\n",
      "http://img-aws.ehowcdn.com/350x235p/photos.demandstudios.com/160/106/fotolia_7274863_XS.jpg\n",
      "\n",
      "http://grainplacefoods.com/wp-content/uploads/2014/05/aps_oat_groats.jpg\n",
      "\n",
      "http://eyeforarecipe.ca/wp-content/uploads/2010/12/oat-flour.jpg\n",
      "\n",
      "https://veganfamilyrecipes.com/wp-content/uploads/2014/11/Puffed-Quinoa-Oat-Bars-44-680x1024-680x1024.jpg\n",
      "\n",
      "https://qph.fs.quoracdn.net/main-qimg-f2e41da3a5d041386f9f056ee9369613\n",
      "\n",
      "https://i.cbc.ca/1.3981862.1487088504!/fileImage/httpImage/image.jpg_gen/derivatives/16x9_780/oats.jpg\n",
      "\n",
      "https://thumbs.dreamstime.com/z/oat-flakes-heart-angle-shot-26852688.jpg\n",
      "\n",
      "https://cdn-a.william-reed.com/var/wrbm_gb_food_pharma/storage/images/9/8/3/9/119389-2-eng-GB/Oat-hulls-are-widely-used-in-industry-as-a-fiber-ingredient.jpg\n",
      "\n",
      "https://d2gg9evh47fn9z.cloudfront.net/800px_COLOURBOX2646990.jpg\n",
      "\n",
      "https://thumbs.dreamstime.com/z/wheat-oat-10485827.jpg\n",
      "\n",
      "http://www.herbco.com/images/product/large/p-527-oatstraw-cs-organic.jpg\n",
      "\n",
      "http://images01.tastingtable.com/images/articles/2015_04/Web-Article-Soak-Oats-for-Better-Oatmeal-Breakfast-Cooking-Tips-Pamela-Yung-pastry-chef-Semilia-Brooklyn-Fermented-Oat-Dessert.jpg\n",
      "\n",
      "http://www.wikihow.com/images/6/65/Make-Oat-Flour-Final.jpg\n",
      "\n",
      "http://4.bp.blogspot.com/-RSnJQCdL8l0/T6jj9c6O22I/AAAAAAAAD8c/3hzylUuQIOA/s1600/oat.jpg\n",
      "\n",
      "https://dontwastethecrumbs.com/wp-content/uploads/2015/02/Oat-Flour.jpg\n",
      "\n",
      "http://www.realfoods.co.uk/ProductImagesID/716_1.jpg\n",
      "\n",
      "http://cdn.brownfieldagnews.com/wp-content/uploads/2014/07/Jim-Stoutenboro-harvesting-oats-in-Central-Illinois.jpg\n",
      "\n",
      "https://peasandcrayons.com/wp-content/uploads/2017/01/healthy-chocolate-cherry-oat-cookies-recipe-peas-and-crayons-2-4653.jpg\n",
      "\n",
      "http://www.hendricksfeed.com/wp-content/uploads/2017/12/Oat-Seeds.jpg\n",
      "\n",
      "https://s23991.pcdn.co/wp-content/uploads/2014/03/oatmeal-cookies-recipe.jpg\n",
      "\n",
      "https://acleanbake.com/wp-content/uploads/2014/05/DIY-Oat-Flour-Gluten-Free-1.jpg\n",
      "\n",
      "https://3.bp.blogspot.com/-uiHlAN_5uqs/UQ00og6XPoI/AAAAAAAAAZk/3ISkBC_Ue-A/s1600/Oat+Seed.JPG\n",
      "\n",
      "https://thumbs.dreamstime.com/z/oat-flakes-21079942.jpg\n",
      "\n",
      "http://www.swankyrecipes.com/wp-content/uploads/2015/10/Strawberry-Oatmeal-Bars.jpg\n",
      "\n",
      "https://myfavouritepastime.files.wordpress.com/2015/06/large-oat-flakes-myfavouritepastime-com_3613.jpg?w=1200\n",
      "\n",
      "http://img.aws.livestrongcdn.com/ls-article-image-400/cme/cme_public_images/www_livestrong_com/photos.demandstudios.com/97/138/fotolia_13391523_XS.jpg\n",
      "\n",
      "https://www.agric.wa.gov.au/sites/gateway/files/P08_3407_Feed_oats.jpg\n",
      "\n",
      "https://d3cizcpymoenau.cloudfront.net/images/legacy/35872/SFS_apple_cinnamon_oatmeal-3.jpg\n",
      "\n",
      "http://assets.fwi.co.uk/Wheat.jpg\n",
      "\n",
      "https://upload.wikimedia.org/wikipedia/commons/thumb/f/f7/Avena_sativa_L.jpg/220px-Avena_sativa_L.jpg\n",
      "\n",
      "https://upload.wikimedia.org/wikipedia/commons/thumb/5/53/Uniola_paniculata_%28plume%29.jpg/1200px-Uniola_paniculata_%28plume%29.jpg\n",
      "\n",
      "https://i.ytimg.com/vi/3_2YtOgtnNs/maxresdefault.jpg\n",
      "\n",
      "https://aunaturalorganics.com/wp-content/uploads/2016/07/Oat-Oil-%E2%80%93-100ml1.jpg\n",
      "\n",
      "https://theherbalacademy.com/wp-content/uploads/2014/05/Oat1.jpg\n",
      "\n",
      "https://www.eagleseed.com/sitebuilder/images/black_oat-402x298.jpg\n",
      "\n",
      "https://upload.wikimedia.org/wikipedia/commons/thumb/7/7a/SK-OatAvena-sativa.JPG/200px-SK-OatAvena-sativa.JPG\n",
      "\n",
      "https://avirtualvegan.com/wp-content/uploads/2018/01/oat-milk-2.jpg\n",
      "\n",
      "http://www.kingsagriseeds.com/wp-content/uploads/2013/07/Proleaf-234-Oats-10-16-Planted-8-31.jpg\n",
      "\n",
      "http://assets.marthastewart.com/styles/wmax-520-highdpi/d34/blueberry-oat-muffins-0023-d112215/blueberry-oat-muffins-0023-d112215_vert.jpg?itok=w4nmcfgb\n",
      "\n",
      "http://www.healthfulpursuit.com/wp-content/uploads/2016/08/Keto-Overnight-Oats_INTRO-630x945.jpg\n",
      "\n",
      "http://www.healthysupplies.co.uk/pics/whole-oat-groats-close-inf.jpg\n",
      "\n",
      "https://dapurnyadydie.files.wordpress.com/2015/08/steel-cut-oats-and-other-oats.jpg\n",
      "\n",
      "https://www.wellplated.com/wp-content/uploads/2017/02/Banana-Oatmeal-Pancakes-Healthy-Recipe.jpg\n",
      "\n",
      "http://c.shld.net/rpx/i/s/i/spin/10127449/prod_ec_1576325202??hei=64&wid=64&qlt=50\n",
      "\n",
      "https://www.nutrisslim.com/media/wysiwyg/oat_flakes.jpg\n",
      "\n",
      "https://www.theredheadbaker.com/wp-content/uploads/2015/03/irish-oatmeal-bread-3.jpg\n",
      "\n",
      "https://mrsveg.files.wordpress.com/2014/08/s1031583.jpg\n",
      "\n",
      "https://www.canr.msu.edu/uploads/images/3-July-OatPea_1.jpg\n",
      "\n",
      "https://www.wikihow.com/images/9/90/Cook-Oat-Bran-Step-13.jpg\n",
      "\n",
      "https://assets.marthastewart.com/styles/wmax-750/d30/apple-oat-muffins-0091-d112215/apple-oat-muffins-0091-d112215_horiz.jpg?itok=aa99maIK\n",
      "\n",
      "https://i5.walmartimages.com/asr/4197a0b2-6123-4b51-9d54-b4590c7b31cc_1.bba3ca8a2b6018d00f2b6a008b33d95f.jpeg\n",
      "\n",
      "https://img.buzzfeed.com/thumbnailer-prod-us-east-1/e1daa496858648d3ba78c7fe20269c60/FB_FR_OATMILK.jpg\n",
      "\n",
      "http://3.bp.blogspot.com/-73sp4B-XUiY/Twmc40S4D9I/AAAAAAAAKdQ/rqF-HDY5b70/s1600/oatmeal+with+raisons.jpg\n",
      "\n",
      "https://i.ebayimg.com/images/g/D~IAAOxyV85R0MKa/s-l300.jpg\n",
      "\n",
      "https://www.atlantisskincare.com/wp-content/uploads/2017/08/Ingredients_OatOil.jpg\n",
      "\n",
      "https://img0.etsystatic.com/000/0/5479604/il_fullxfull.310148816.jpg\n",
      "\n",
      "http://ecx.images-amazon.com/images/I/51ee5gXmkzL._SX300_.jpg\n",
      "\n",
      "https://lovingitvegan.com/wp-content/uploads/2018/04/Oat-Milk-9.jpg\n",
      "\n",
      "http://www.runningwithspoons.com/wp-content/uploads/2016/07/Greek-Yogurt-Banana-Oat-Bread5.jpg\n",
      "\n",
      "http://pictures-of-cats.org/wp-content/uploads/2017/01/oat-sprouts.jpg\n",
      "\n",
      "https://www.brewshop.co.nz/media/catalog/product/cache/1/image/9df78eab33525d08d6e5fb8d27136e95/o/a/oat-hulls-loose.jpg\n",
      "\n",
      "http://4.bp.blogspot.com/_8o1izOuikhM/SSPukMump_I/AAAAAAAAAQA/xfy2X-s_cO8/w1200-h630-p-nu/Oats.JPG\n",
      "\n",
      "https://img1.cookinglight.timeinc.net/sites/default/files/styles/4_3_horizontal_-_1200x900/public/1540323682/1810w-Quaker-Oat-Milk.jpg?itok=oT2DLA9t\n",
      "\n",
      "https://img1.etsystatic.com/054/0/7576449/il_570xN.729783379_5rjx.jpg\n",
      "\n",
      "https://media.istockphoto.com/photos/single-oat-flakes-picture-id531237401?k=6&m=531237401&s=612x612&w=0&h=74ywbzdBxB-OFHJFMxII4bQs9Ru5RFcJQYaPBc_rs14=\n",
      "\n",
      "https://s3-ap-southeast-1.amazonaws.com/media.redmart.com/newmedia/1600x/i/m/Oatmeal-Squares_1423058664178.jpg\n",
      "\n",
      "https://ichef.bbci.co.uk/food/ic/food_16x9_832/recipes/no-bake_fruity_oat_bars_35421_16x9.jpg\n",
      "\n",
      "https://i5.walmartimages.com/asr/77168579-99e2-4426-9e6b-2101a20957c4_1.a8b5a89b2108b6073ab164cde4ec8ded.jpeg\n",
      "\n",
      "https://www.affordablewholefoods.com.au/wp-content/uploads/2016/02/Oat-Groats-Organic.jpg\n",
      "\n",
      "http://detoxproject.org/wp-content/uploads/2016/05/quaker.jpg\n",
      "\n",
      "https://www.agric.wa.gov.au/sites/gateway/files/1920013_Rust_disease_oat_crop.jpg\n",
      "\n",
      "http://www.juicefiesta.com/wp-content/uploads/2012/06/Oat_plant_Extract-299x300.jpg\n",
      "\n",
      "http://www.herbco.com/images/Category/large/c-276-oatstraw.jpg\n",
      "\n",
      "http://citronlimette.com/wp-content/uploads/2014/10/oat-bran.jpg\n",
      "\n",
      "http://pics.davesgarden.com/pics/2007/11/23/kennedyh/be00c1.jpg\n",
      "\n",
      "http://i.ebayimg.com/images/i/270919647997-0-1/s-l1000.jpg\n",
      "\n",
      "https://i5.walmartimages.com/asr/0de91063-6b1e-4538-9b17-6a4a29f580ed_1.fc8aac7559279afbfaf572422cbf7e81.jpeg?odnHeight=450&odnWidth=450&odnBg=ffffff\n",
      "\n",
      "http://mycookingspot.com/wp-content/uploads/2015/04/honey-oat-bread.png\n",
      "\n",
      "https://i.ytimg.com/vi/zZyPCHl0pA8/maxresdefault.jpg\n",
      "\n",
      "https://www.foodrepublic.com/wp-content/uploads/2018/05/Screen-Shot-2018-05-21-at-4.17.00-PM.png\n",
      "\n",
      "http://forthemommas.com/wp-content/uploads/2015/06/quaker-oatmeal-squares.jpg\n",
      "\n",
      "https://monsonmadethis.com/wp-content/uploads/2018/10/Oat-Milk-Instagram-1.jpg\n",
      "\n",
      "http://pics.davesgarden.com/pics/2009/10/02/plutodrive/51a789.jpg\n",
      "\n",
      "https://s3.amazonaws.com/fallingrain/uploads/b39bc15e36ba4e979a59dbb61f3fc0ff/original/Grain%20mix%20-%20oat-barley-vetch-pea%20-%20Farm%20Tender%20.jpg?1531096061\n",
      "\n",
      "https://brendid.com/wp-content/uploads/2017/03/Banana-Walnut-Blender-Muffins-from-Bren-Did-5.jpg\n",
      "\n",
      "https://i5.walmartimages.com/asr/6c495d84-90b7-4879-b853-2bef357649b7_2.819cce4bd6aa7c65097911153d52f181.jpeg\n",
      "\n",
      "https://media1.popsugar-assets.com/files/thumbor/7XuHcr4nu46h9mU5dMpbIwRaKyc/fit-in/2048xorig/filters:format_auto-!!-:strip_icc-!!-/2019/01/10/687/n/1922729/tmp_IJCoV9_d70bbda1c8da7bd1_oat-milk.jpg\n",
      "\n",
      "http://www.eatgood4life.com/wp-content/uploads/2015/05/almond-oat-cookies.jpg\n",
      "\n",
      "http://blog.catchmyparty.com/wp-content/uploads/2012/03/steel-cut-oat-scone-19.jpg\n",
      "\n",
      "https://www.thespruceeats.com/thmb/l1rG_W5JLqNUIo1R9NFugDjrVT8=/3005x2003/filters:fill(auto,1)/apple-oat-cake-3050737-final-5bae7641c9e77c0026c99106.jpg\n",
      "\n",
      "https://st2.depositphotos.com/5823990/12336/i/950/depositphotos_123364216-stock-photo-natural-oat-grains-with-husk.jpg\n",
      "\n",
      "https://s3.amazonaws.com/fallingrain/uploads/b39bc15e36ba4e979a59dbb61f3fc0ff/original/Grain%20mix%20-%20oat-barley-vetch-pea%20-%20Farm%20Tender%20.jpg?1531096061\n",
      "\n",
      "https://img0.etsystatic.com/110/0/11519553/il_570xN.962640018_lc2x.jpg\n",
      "\n",
      "https://mbsseed.com/wp-content/uploads/2016/06/oat2-scaled.jpg\n",
      "\n",
      "https://upload.wikimedia.org/wikipedia/commons/thumb/4/45/Porridge_oats.JPG/220px-Porridge_oats.JPG\n",
      "\n",
      "https://www.sattvicfoods.in/wp-content/uploads/2018/02/oat-bran-copy.png\n",
      "\n",
      "https://i.ytimg.com/vi/nMLKBXV89qM/maxresdefault.jpg\n",
      "\n",
      "https://i.ytimg.com/vi/yVg4WIJn3kA/maxresdefault.jpg\n",
      "\n",
      "http://www.onlyfoods.net/wp-content/uploads/2013/05/Oat-Bran-Photos.jpg\n",
      "\n",
      "http://blog.catchmyparty.com/wp-content/uploads/2012/03/steel-cut-oat-scone-19.jpg\n",
      "\n",
      "https://target.scene7.com/is/image/Target/13304765\n",
      "\n",
      "https://i.pinimg.com/originals/10/c5/d5/10c5d5c4fec073a6e4224aedda840332.jpg\n",
      "\n",
      "http://3.bp.blogspot.com/-uiHlAN_5uqs/UQ00og6XPoI/AAAAAAAAAZk/3ISkBC_Ue-A/s1600/Oat+Seed.JPG\n",
      "\n",
      "https://i5.walmartimages.com/asr/6c495d84-90b7-4879-b853-2bef357649b7_2.819cce4bd6aa7c65097911153d52f181.jpeg\n",
      "\n",
      "https://5.imimg.com/data5/DJ/HP/MY-24437295/oat-seed-250x250.jpg\n",
      "\n",
      "https://i5.walmartimages.com/asr/0de91063-6b1e-4538-9b17-6a4a29f580ed_1.fc8aac7559279afbfaf572422cbf7e81.jpeg?odnHeight=450&odnWidth=450&odnBg=ffffff\n",
      "\n",
      "https://i5.walmartimages.com/asr/3f55f2e5-2919-446b-8cae-ac4e468baa66_1.8206e4f64570dfe2a208210f6f093d32.jpeg\n",
      "\n",
      "https://www.gannett-cdn.com/-mm-/cfcb303a4b3425e185572055575baa9b143d376b/c=0-370-4000-2630/local/-/media/2016/09/13/WIGroup/Milwaukee/636093963976641027-9-21-Oat-Milk.jpg?width=3200&height=1680&fit=crop\n",
      "\n",
      "http://pics.davesgarden.com/pics/2009/10/02/plutodrive/4d2cae.jpg\n",
      "\n",
      "https://brendid.com/wp-content/uploads/2017/03/Banana-Walnut-Blender-Muffins-from-Bren-Did-5.jpg\n",
      "\n",
      "https://i.pinimg.com/originals/8d/27/8f/8d278f1b55aa48469e1adc0c6a7a5a90.jpg\n",
      "\n",
      "http://www.medicalmedium.com/blog-photos/oatstraw_medical_medium.jpg\n",
      "\n",
      "http://insulatedoverall.com/wp-content/uploads/2013/07/DSCN6978-1024x768.jpg\n",
      "\n",
      "https://www.thespruceeats.com/thmb/l1rG_W5JLqNUIo1R9NFugDjrVT8=/3005x2003/filters:fill(auto,1)/apple-oat-cake-3050737-final-5bae7641c9e77c0026c99106.jpg\n",
      "\n",
      "http://www.theequinest.com/images/oat-plant-2.jpg\n",
      "\n",
      "https://images-na.ssl-images-amazon.com/images/I/81S%2B68UZsuL.jpg\n",
      "\n",
      "https://empoweredsustenance.com/wp-content/uploads/2014/04/Paleo-Oatmeal-No-Oatmeal.jpg\n",
      "\n",
      "http://warehouse1.indicia.org.uk/upload/Oat-grass%2C%20False%20(Arrhenatherum%20elatius)%20Leicester%20Road%20%20%20Sapcote%20SP%205018%209311%20(taken%2031.5.2008).JPG\n",
      "\n",
      "https://www.alpro.com/upload/products/Alpro+Drink+Oat+Original+1L+edge+UK_HU_HR_CZ_SK_RO_PL_RU_A_Alpro+Drink+Oat+Original+1L+edge+UK_HU_HR_CZ_SK_RO_PL_RU_AR+copy_540x576_p_edf8ff.jpg\n",
      "\n",
      "https://upload.wikimedia.org/wikipedia/commons/thumb/1/15/Stack_of_Cracklin'_Oat_Bran_cereal.jpg/1200px-Stack_of_Cracklin'_Oat_Bran_cereal.jpg\n",
      "\n",
      "http://www.budgetbytes.com/wp-content/uploads/2014/07/Whole-Oat-Groats.jpg\n",
      "\n",
      "http://4.bp.blogspot.com/-9UInw1AnwTA/T0T14syguEI/AAAAAAAADa4/eicnomUnDB4/s1600/IMG_2610.JPG\n",
      "\n",
      "https://www.rareseeds.com/assets/1/14/DimLarge/Grains-Hulless-Oats-GS129-web.jpg\n",
      "\n",
      "https://s-media-cache-ak0.pinimg.com/736x/90/51/c7/9051c71043c471eec882adac07e41b60.jpg\n",
      "\n",
      "https://www.tasteofhome.com/wp-content/uploads/2017/10/Rolled-Oat-Cookies_exps1309_CK133085C05_07_2bC_RMS-1-696x696.jpg\n",
      "\n",
      "https://www.canr.msu.edu/contentAsset/image/f6a7972b-b27d-46d6-9e56-abea9d6fb563/fileAsset/filter/Resize,Crop,Jpeg/resize_w/300/crop_w/300/crop_h/200/crop_x/0/crop_y/0/jpeg_q/50\n",
      "\n",
      "http://russellsny.com/photogallery/plog-content/images/plants/ornamental-grasses/oatgrass-copy.jpg\n",
      "\n",
      "https://i5.walmartimages.com/asr/d6e70326-39c9-4cab-97d8-ae9c97ba7b9f_2.b69090b717696e4d7c8d933030d66b8a.jpeg?odnHeight=450&odnWidth=450&odnBg=FFFFFF\n",
      "\n",
      "https://fwi-wp-assets-live.s3-eu-west-1.amazonaws.com/sites/1/130117-oat-harvest-c-Tim-Scrivener.jpg\n",
      "\n",
      "https://www.gov.mb.ca/agriculture/crops/weeds/images/fab19s00g.jpg\n",
      "\n",
      "http://i.ytimg.com/vi/Th5TxcSHBy0/maxresdefault.jpg\n",
      "\n",
      "https://i.pinimg.com/736x/64/c0/e8/64c0e8add3920165e59d64543f6a0726.jpg\n",
      "\n",
      "https://www.phreshproducts.com/wp-content/uploads/2014/01/11-319px-oat-grass.jpg\n",
      "\n",
      "https://www.wellplated.com/wp-content/uploads/2017/02/Banana-Oatmeal-Pancakes-Healthy-Recipe.jpg\n",
      "\n",
      "https://static.country-guide.ca/wp-content/uploads/2017/11/Linda-Hall-oat-plots-wgrf.jpg\n",
      "\n",
      "https://4.bp.blogspot.com/-PRfVUyOwj90/Ta7dEivNCvI/AAAAAAAAAD4/gDeFfPcICVY/s1600/006.JPG\n",
      "\n",
      "https://media1.popsugar-assets.com/files/thumbor/7XuHcr4nu46h9mU5dMpbIwRaKyc/fit-in/2048xorig/filters:format_auto-!!-:strip_icc-!!-/2019/01/10/687/n/1922729/tmp_IJCoV9_d70bbda1c8da7bd1_oat-milk.jpg\n",
      "\n",
      "http://warehouse1.indicia.org.uk/upload/p15mmi30qgqfd3qd9v5mv0153n2.jpg\n",
      "\n",
      "http://1.bp.blogspot.com/-GC6Sg5Jz-BQ/UBlsosNb0RI/AAAAAAAAAjI/BvrajHAaSJc/s1600/DSC04162.JPG\n",
      "\n",
      "http://1.bp.blogspot.com/-7ich2bJVzpo/Ta7bQyaXkOI/AAAAAAAAAD0/Vmm7DimMh8g/s1600/004+%25282%2529.JPG\n",
      "\n"
     ]
    }
   ],
   "source": [
    "with open('./data/oat.csv', 'r') as f:\n",
    "    for l in f:\n",
    "        print(l)"
   ]
  },
  {
   "cell_type": "code",
   "execution_count": 53,
   "metadata": {},
   "outputs": [
    {
     "data": {
      "text/plain": [
       "'http://1.bp.blogspot.com/-7ich2bJVzpo/Ta7bQyaXkOI/AAAAAAAAAD0/Vmm7DimMh8g/s1600/004+%25282%2529.JPG'"
      ]
     },
     "execution_count": 53,
     "metadata": {},
     "output_type": "execute_result"
    }
   ],
   "source": [
    "l.split('\\n')[0]"
   ]
  },
  {
   "cell_type": "code",
   "execution_count": 45,
   "metadata": {},
   "outputs": [
    {
     "name": "stdout",
     "output_type": "stream",
     "text": [
      "/home/neuralcrypto/Desktop/DataScience_Projects/deep-food/scraping\n",
      "/home/neuralcrypto/Desktop/DataScience_Projects/deep-food/scraping\n"
     ]
    }
   ],
   "source": [
    "for i in range(2):\n",
    "    !pwd"
   ]
  },
  {
   "cell_type": "code",
   "execution_count": 46,
   "metadata": {},
   "outputs": [
    {
     "name": "stdout",
     "output_type": "stream",
     "text": [
      "/bin/bash: -c: line 0: syntax error near unexpected token `('\n",
      "/bin/bash: -c: line 0: `wget -P ./data food+str(counter)'\n"
     ]
    }
   ],
   "source": [
    "!wget -P ./data food+str(counter)"
   ]
  },
  {
   "cell_type": "code",
   "execution_count": 54,
   "metadata": {},
   "outputs": [],
   "source": [
    "food = 'oats'\n",
    "counter = 25\n",
    "url = l.split('\\n')[0]"
   ]
  },
  {
   "cell_type": "code",
   "execution_count": 63,
   "metadata": {},
   "outputs": [
    {
     "data": {
      "text/plain": [
       "0"
      ]
     },
     "execution_count": 63,
     "metadata": {},
     "output_type": "execute_result"
    }
   ],
   "source": [
    "os.system(f'wget -P ./data/{food} -O {food}_{counter} \"{url}\"' )"
   ]
  },
  {
   "cell_type": "code",
   "execution_count": 57,
   "metadata": {},
   "outputs": [],
   "source": [
    "import os"
   ]
  },
  {
   "cell_type": "code",
   "execution_count": 56,
   "metadata": {},
   "outputs": [
    {
     "name": "stdout",
     "output_type": "stream",
     "text": [
      "--2020-08-28 17:00:38--  http://url/\n",
      "Resolving url (url)... failed: Temporary failure in name resolution.\n",
      "wget: unable to resolve host address ‘url’\n"
     ]
    }
   ],
   "source": [
    "!wget url"
   ]
  },
  {
   "cell_type": "code",
   "execution_count": 60,
   "metadata": {},
   "outputs": [
    {
     "data": {
      "text/plain": [
       "0"
      ]
     },
     "execution_count": 60,
     "metadata": {},
     "output_type": "execute_result"
    }
   ],
   "source": [
    "os.system('wget \"http://1.bp.blogspot.com/-7ich2bJVzpo/Ta7bQyaXkOI/AAAAAAAAAD0/Vmm7DimMh8g/s1600/004+%25282%2529.JPG\"')"
   ]
  },
  {
   "cell_type": "code",
   "execution_count": null,
   "metadata": {},
   "outputs": [],
   "source": []
  }
 ],
 "metadata": {
  "kernelspec": {
   "display_name": "Python 3",
   "language": "python",
   "name": "python3"
  },
  "language_info": {
   "codemirror_mode": {
    "name": "ipython",
    "version": 3
   },
   "file_extension": ".py",
   "mimetype": "text/x-python",
   "name": "python",
   "nbconvert_exporter": "python",
   "pygments_lexer": "ipython3",
   "version": "3.7.7"
  }
 },
 "nbformat": 4,
 "nbformat_minor": 4
}

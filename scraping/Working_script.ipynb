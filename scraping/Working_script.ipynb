{
 "cells": [
  {
   "cell_type": "code",
   "execution_count": 4,
   "metadata": {},
   "outputs": [],
   "source": [
    "from selenium import webdriver\n",
    "from selenium.webdriver.common.keys import Keys"
   ]
  },
  {
   "cell_type": "code",
   "execution_count": 5,
   "metadata": {},
   "outputs": [],
   "source": [
    "path_chromedriver = '/home/neuralcrypto/Desktop/scraping/chromedriver_newest/chromedriver'"
   ]
  },
  {
   "cell_type": "code",
   "execution_count": 77,
   "metadata": {},
   "outputs": [],
   "source": [
    "from urllib import request\n",
    "import numpy as np\n",
    "from tqdm import tqdm\n",
    "import time\n",
    "import os"
   ]
  },
  {
   "cell_type": "code",
   "execution_count": 38,
   "metadata": {},
   "outputs": [],
   "source": [
    "def merge_url_lists(list1, list2):\n",
    "    empty_index = []\n",
    "    for i, url in enumerate(list1):\n",
    "        if url == None:\n",
    "            empty_index.append(i)\n",
    "    for i in empty_index:\n",
    "        list1[i] = list2[i]\n",
    "    return list1"
   ]
  },
  {
   "cell_type": "code",
   "execution_count": 45,
   "metadata": {},
   "outputs": [],
   "source": [
    "def get_urls_query(query, food_class):\n",
    "    \n",
    "    # Initialize webwebdriver & Google Images\n",
    "    wd = webdriver.Chrome(executable_path=path_chromedriver)\n",
    "    wd.get('https://www.google.com/imghp')\n",
    "    search_box = wd.find_element_by_css_selector('input.gLFyf')\n",
    "    \n",
    "    # Search for the query and select the boxes of the images\n",
    "    search_box.send_keys(query)\n",
    "    search_box.send_keys(Keys.ENTER)\n",
    "    urls = wd.find_elements_by_class_name(\"rg_i.Q4LuWd\")\n",
    "    \n",
    "    # Get the 2 possible lists for the images\n",
    "    img_urls = [urls[i].get_attribute('src') for i in range(len(urls))]\n",
    "    img_urls_2 = [urls[i].get_attribute('data-src') for i in range(len(urls))]\n",
    "    \n",
    "    return {\n",
    "        'food_class': food_class,\n",
    "        'urls': merge_url_lists(img_urls, img_urls_2)\n",
    "    }"
   ]
  },
  {
   "cell_type": "code",
   "execution_count": 79,
   "metadata": {},
   "outputs": [],
   "source": [
    "def download_urls(food_url_dict):\n",
    "    food_class = food_url_dict['food_class']\n",
    "    \n",
    "    for i, url in enumerate(food_url_dict['urls']):\n",
    "        os.makedirs(f'./data/{food_class}', exist_ok=True)\n",
    "        img_name = f'./data/{food_class}/{food_class}+{str(time.time_ns())}+.jpg'\n",
    "        request.urlretrieve(url, img_name)\n",
    "        time.sleep(np.random.randint(4, 21)/10)"
   ]
  },
  {
   "cell_type": "code",
   "execution_count": null,
   "metadata": {},
   "outputs": [],
   "source": [
    "download_urls(dict_gleb)"
   ]
  },
  {
   "cell_type": "code",
   "execution_count": 46,
   "metadata": {},
   "outputs": [],
   "source": [
    "dict_gleb =  get_urls_query('manzana roja buena', 'apple')"
   ]
  }
 ],
 "metadata": {
  "kernelspec": {
   "display_name": "Python 3",
   "language": "python",
   "name": "python3"
  },
  "language_info": {
   "codemirror_mode": {
    "name": "ipython",
    "version": 3
   },
   "file_extension": ".py",
   "mimetype": "text/x-python",
   "name": "python",
   "nbconvert_exporter": "python",
   "pygments_lexer": "ipython3",
   "version": "3.7.7"
  }
 },
 "nbformat": 4,
 "nbformat_minor": 4
}

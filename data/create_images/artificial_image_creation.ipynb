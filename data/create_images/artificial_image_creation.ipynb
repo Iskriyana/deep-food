{
 "cells": [
  {
   "cell_type": "code",
   "execution_count": 1,
   "metadata": {},
   "outputs": [],
   "source": [
    "import numpy as np\n",
    "import pandas as pd\n",
    "\n",
    "import sys\n",
    "import os\n",
    "import random\n",
    "\n",
    "from PIL import Image\n",
    "\n",
    "import cv2\n",
    "\n",
    "import matplotlib.pyplot as plt"
   ]
  },
  {
   "cell_type": "markdown",
   "metadata": {},
   "source": [
    "# 1. Add an alpha channel to the image"
   ]
  },
  {
   "cell_type": "code",
   "execution_count": 2,
   "metadata": {},
   "outputs": [],
   "source": [
    "def add_alpha_convert_to_png(path):\n",
    "    \"\"\"\n",
    "    adds an alpha channel to the image\n",
    "    converts it to png\n",
    "    turns all pixels with value higher than 200 to white\n",
    "    \"\"\"  \n",
    "    for root, dirs, files in os.walk(path):\n",
    "        files = [f for f in files if not f[0] == '.' and f.find('bg') == -1] \n",
    "        for file in files: \n",
    "            img_path = os.path.join(root, file)\n",
    "            img = Image.open(img_path)\n",
    "            img = img.convert(\"RGBA\")\n",
    "            data = img.getdata()\n",
    "            \n",
    "            newData = []\n",
    "            for item in data:\n",
    "                if item[0] > 200 and item[1] > 200 and item[2] > 200:\n",
    "                    newData.append((255, 255, 255, 0))\n",
    "                else:\n",
    "                    newData.append(item)\n",
    "\n",
    "            img.putdata(newData)\n",
    "            file_name = os.path.basename(img_path).split('.')[0]\n",
    "            file_png_path = os.path.join(root, f'{file_name}.png')\n",
    "            img.save(file_png_path, \"PNG\")"
   ]
  },
  {
   "cell_type": "markdown",
   "metadata": {},
   "source": [
    "# 2. Load random background"
   ]
  },
  {
   "cell_type": "code",
   "execution_count": 3,
   "metadata": {},
   "outputs": [],
   "source": [
    "def load_bg_random_art(bg_path):\n",
    "    \"\"\"\n",
    "    chooses a random background image\n",
    "    \"\"\"    \n",
    "    bg_folder = bg_path\n",
    "    bg_files = os.listdir(bg_folder)\n",
    "    bg_files = [f for f in bg_files if not f[0] == '.']\n",
    "    bg_index = random.randrange(0, len(bg_files))\n",
    "    \n",
    "    bg = os.path.join(bg_path, bg_files[bg_index])\n",
    "    \n",
    "    background = cv2.imread(bg)\n",
    "    rows_b, cols_b, channels_b = background.shape\n",
    "    \n",
    "    return background, rows_b, cols_b, channels_b "
   ]
  },
  {
   "cell_type": "markdown",
   "metadata": {},
   "source": [
    "# 3. Combine image with alpha channel and background"
   ]
  },
  {
   "cell_type": "code",
   "execution_count": 4,
   "metadata": {},
   "outputs": [],
   "source": [
    "def semi_artificial_data_creation(bg_path, path):\n",
    "    \"\"\"\n",
    "    goes through all the images in the folder\n",
    "    randomly picks a background image\n",
    "    pastes the ingredient image with transparent background on the background image\n",
    "    \"\"\"\n",
    "    \n",
    "    for root, dirs, files in os.walk(path):\n",
    "        for dir in dirs:\n",
    "            parent_folder, _ = os.path.split(path)\n",
    "            folder_art_name = f'{dir}_semi_art'\n",
    "            folder_art_path = os.path.join(root, folder_art_name)\n",
    "            os.makedirs(folder_art_path)\n",
    "\n",
    "        files = [f for f in files if not f[0] == '.' and f.find('bg') == -1] \n",
    "        for file in files: \n",
    "            if file.endswith(\".png\"):\n",
    "                img_path = os.path.join(root, file)\n",
    "                ingredient = Image.open(img_path)\n",
    "\n",
    "                # background generation\n",
    "                background = load_bg_random_art(bg_path)[0]\n",
    "                background = cv2.cvtColor(background, cv2.COLOR_BGR2RGB)\n",
    "                background = Image.fromarray(background)\n",
    "                bg = background.resize((300, 300)).copy()\n",
    "\n",
    "                # resize ingredient image to be the same size as the background\n",
    "                ingredient_res = ingredient.resize((300,300))\n",
    "\n",
    "                # combine ingredient image with transparent background and random background\n",
    "                bg.paste(ingredient_res, (0,0) , ingredient_res)\n",
    "\n",
    "                # save artificially created image in a new sub-folder\n",
    "                img_art_name = os.path.splitext(file)[0]\n",
    "                \n",
    "                current_ingr_path, _ = os.path.split(img_path)\n",
    "                _, current_ingr_folder = os.path.split(current_ingr_path)\n",
    "                parent_folder, _ = os.path.split(current_ingr_path)\n",
    "                \n",
    "                folder_art_name = f'{current_ingr_folder}_semi_art'\n",
    "                img_art_path = os.path.join(parent_folder, folder_art_name, f'{img_art_name}_semi_art.jpg')\n",
    "                \n",
    "                bg.save(img_art_path)"
   ]
  },
  {
   "cell_type": "code",
   "execution_count": 5,
   "metadata": {},
   "outputs": [],
   "source": [
    "path = '../scraping/scraped_images'\n",
    "bg_path = './background'"
   ]
  },
  {
   "cell_type": "code",
   "execution_count": 6,
   "metadata": {},
   "outputs": [],
   "source": [
    "semi_artificial_data_creation(bg_path, path)"
   ]
  },
  {
   "cell_type": "code",
   "execution_count": 7,
   "metadata": {},
   "outputs": [],
   "source": [
    "img = Image.open('../scraping/scraped_images/carrot_semi_art/image00004_semi_art.jpg')"
   ]
  },
  {
   "cell_type": "code",
   "execution_count": 8,
   "metadata": {},
   "outputs": [],
   "source": [
    "img.show()"
   ]
  },
  {
   "cell_type": "code",
   "execution_count": null,
   "metadata": {},
   "outputs": [],
   "source": []
  }
 ],
 "metadata": {
  "kernelspec": {
   "display_name": "deep-food",
   "language": "python",
   "name": "deep-food"
  },
  "language_info": {
   "codemirror_mode": {
    "name": "ipython",
    "version": 3
   },
   "file_extension": ".py",
   "mimetype": "text/x-python",
   "name": "python",
   "nbconvert_exporter": "python",
   "pygments_lexer": "ipython3",
   "version": "3.6.10"
  }
 },
 "nbformat": 4,
 "nbformat_minor": 4
}

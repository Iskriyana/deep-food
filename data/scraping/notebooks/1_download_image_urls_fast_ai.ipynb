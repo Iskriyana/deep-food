{
 "cells": [
  {
   "cell_type": "code",
   "execution_count": 1,
   "metadata": {},
   "outputs": [],
   "source": [
    "food_classes = []\n",
    "path_food_cl = '../utils/50_food_classes.txt'\n",
    "with open(path_food_cl, 'r') as f:\n",
    "    for l in f:\n",
    "        food_classes.append(l.split('\\n')[0])"
   ]
  },
  {
   "cell_type": "code",
   "execution_count": 2,
   "metadata": {},
   "outputs": [
    {
     "data": {
      "text/plain": [
       "['apple',\n",
       " 'avocado',\n",
       " 'banana',\n",
       " 'blueberries',\n",
       " 'oranges',\n",
       " 'kiwi',\n",
       " 'lemon',\n",
       " 'grapefruit',\n",
       " 'pineapple',\n",
       " 'melon',\n",
       " 'watermelon',\n",
       " 'oat',\n",
       " 'stawberries',\n",
       " 'fried eggs',\n",
       " 'boiled eggs',\n",
       " 'beef',\n",
       " 'chicken',\n",
       " 'chicken breasts',\n",
       " 'almonds',\n",
       " 'nuts',\n",
       " 'walnuts',\n",
       " 'tofu',\n",
       " 'peanuts',\n",
       " 'carrot',\n",
       " 'leek',\n",
       " 'green peas',\n",
       " 'white peas',\n",
       " 'bell pepper',\n",
       " 'asparagus',\n",
       " 'spinach',\n",
       " 'eggplant',\n",
       " 'brocoli',\n",
       " 'cauliflower',\n",
       " 'onion',\n",
       " 'tomatoes',\n",
       " 'cucumber',\n",
       " 'shrimp',\n",
       " 'tuna',\n",
       " 'rice',\n",
       " 'brown rice',\n",
       " 'pasta',\n",
       " 'quinoa',\n",
       " 'white bread',\n",
       " 'brown bread',\n",
       " 'beans',\n",
       " 'lentils',\n",
       " 'mozzarella cheese',\n",
       " 'potatoes',\n",
       " 'dark chocolate',\n",
       " 'bacon']"
      ]
     },
     "execution_count": 2,
     "metadata": {},
     "output_type": "execute_result"
    }
   ],
   "source": [
    "food_classes"
   ]
  },
  {
   "cell_type": "code",
   "execution_count": 3,
   "metadata": {},
   "outputs": [],
   "source": [
    "import os,sys,inspect\n",
    "current_dir = os.path.dirname(os.path.abspath(inspect.getfile(inspect.currentframe())))\n",
    "parent_dir = os.path.dirname(current_dir)\n",
    "sys.path.insert(0, parent_dir) "
   ]
  },
  {
   "cell_type": "code",
   "execution_count": 4,
   "metadata": {},
   "outputs": [],
   "source": [
    "# Using the code from: https://github.com/deepanprabhu/duckduckgo-images-api\n",
    "from helpers.duckduckgo_imageURLdownloader import ImageURLDownloader\n",
    "import os\n",
    "from fastai.vision import *\n",
    "\n",
    "max_imgs = 2\n",
    "dloader = ImageURLDownloader(max_results=max_imgs)"
   ]
  },
  {
   "cell_type": "code",
   "execution_count": 5,
   "metadata": {},
   "outputs": [],
   "source": [
    "def get_list_foods(path_list):\n",
    "    food_classes = []\n",
    "    with open(path_list, 'r') as f:\n",
    "        for l in f:\n",
    "            food_classes.append(l.split('\\n')[0])\n",
    "    \n",
    "    for food in food_classes:\n",
    "        print(f'Working in {food}')\n",
    "        dloader.get(food) # Saves a .csv with the url of the image\n",
    "    \n",
    "    \n",
    "def create_paths_images(food_list):\n",
    "    for food in food_list:\n",
    "        os.mkdir(Path().absolute().parents[0]/'scraped_images/' + food)\n",
    "\n",
    "\n",
    "def get_images(file, download_into_path, path_to_data):\n",
    "    name = file.replace(\".csv\", \"\")\n",
    "    print(name)\n",
    "    dest = download_into_path/name\n",
    "    print(dest)\n",
    "#     download_images(path_to_data/file, dest, max_pics=max_imgs)\n"
   ]
  },
  {
   "cell_type": "code",
   "execution_count": 6,
   "metadata": {},
   "outputs": [
    {
     "name": "stdout",
     "output_type": "stream",
     "text": [
      "Working in apple\n",
      "Working in avocado\n",
      "Working in banana\n",
      "Working in blueberries\n",
      "Working in oranges\n",
      "Working in kiwi\n",
      "Working in lemon\n",
      "Working in grapefruit\n",
      "Working in pineapple\n",
      "Working in melon\n",
      "Working in watermelon\n",
      "Working in oat\n",
      "Working in stawberries\n",
      "Working in fried eggs\n",
      "Working in boiled eggs\n",
      "Working in beef\n",
      "Working in chicken\n",
      "Working in chicken breasts\n",
      "Working in almonds\n",
      "Working in nuts\n",
      "Working in walnuts\n",
      "Working in tofu\n",
      "Working in peanuts\n",
      "Working in carrot\n",
      "Working in leek\n",
      "Working in green peas\n",
      "Working in white peas\n",
      "Working in bell pepper\n",
      "Working in asparagus\n",
      "Working in spinach\n",
      "Working in eggplant\n",
      "Working in brocoli\n",
      "Working in cauliflower\n",
      "Working in onion\n",
      "Working in tomatoes\n",
      "Working in cucumber\n",
      "Working in shrimp\n",
      "Working in tuna\n",
      "Working in rice\n",
      "Working in brown rice\n",
      "Working in pasta\n",
      "Working in quinoa\n",
      "Working in white bread\n",
      "Working in brown bread\n",
      "Working in beans\n",
      "Working in lentils\n",
      "Working in mozzarella cheese\n",
      "Working in potatoes\n",
      "Working in dark chocolate\n",
      "Working in bacon\n"
     ]
    }
   ],
   "source": [
    "get_list_foods(path_food_cl)"
   ]
  },
  {
   "cell_type": "code",
   "execution_count": 7,
   "metadata": {},
   "outputs": [
    {
     "data": {
      "text/plain": [
       "PosixPath('/Users/iskriyanavasileva/git/deep-food/data/scraping/scraped_images')"
      ]
     },
     "execution_count": 7,
     "metadata": {},
     "output_type": "execute_result"
    }
   ],
   "source": [
    "dloader.dest"
   ]
  },
  {
   "cell_type": "code",
   "execution_count": 8,
   "metadata": {},
   "outputs": [],
   "source": [
    "from fastai.vision.utils import download_images"
   ]
  },
  {
   "cell_type": "code",
   "execution_count": 9,
   "metadata": {},
   "outputs": [
    {
     "data": {
      "text/plain": [
       "\u001b[0;31mSignature:\u001b[0m\n",
       "\u001b[0mdownload_images\u001b[0m\u001b[0;34m(\u001b[0m\u001b[0;34m\u001b[0m\n",
       "\u001b[0;34m\u001b[0m    \u001b[0mdest\u001b[0m\u001b[0;34m,\u001b[0m\u001b[0;34m\u001b[0m\n",
       "\u001b[0;34m\u001b[0m    \u001b[0murl_file\u001b[0m\u001b[0;34m=\u001b[0m\u001b[0;32mNone\u001b[0m\u001b[0;34m,\u001b[0m\u001b[0;34m\u001b[0m\n",
       "\u001b[0;34m\u001b[0m    \u001b[0murls\u001b[0m\u001b[0;34m=\u001b[0m\u001b[0;32mNone\u001b[0m\u001b[0;34m,\u001b[0m\u001b[0;34m\u001b[0m\n",
       "\u001b[0;34m\u001b[0m    \u001b[0mmax_pics\u001b[0m\u001b[0;34m=\u001b[0m\u001b[0;36m1000\u001b[0m\u001b[0;34m,\u001b[0m\u001b[0;34m\u001b[0m\n",
       "\u001b[0;34m\u001b[0m    \u001b[0mn_workers\u001b[0m\u001b[0;34m=\u001b[0m\u001b[0;36m8\u001b[0m\u001b[0;34m,\u001b[0m\u001b[0;34m\u001b[0m\n",
       "\u001b[0;34m\u001b[0m    \u001b[0mtimeout\u001b[0m\u001b[0;34m=\u001b[0m\u001b[0;36m4\u001b[0m\u001b[0;34m,\u001b[0m\u001b[0;34m\u001b[0m\n",
       "\u001b[0;34m\u001b[0m\u001b[0;34m)\u001b[0m\u001b[0;34m\u001b[0m\u001b[0;34m\u001b[0m\u001b[0m\n",
       "\u001b[0;31mSource:\u001b[0m   \n",
       "\u001b[0;32mdef\u001b[0m \u001b[0mdownload_images\u001b[0m\u001b[0;34m(\u001b[0m\u001b[0mdest\u001b[0m\u001b[0;34m,\u001b[0m \u001b[0murl_file\u001b[0m\u001b[0;34m=\u001b[0m\u001b[0;32mNone\u001b[0m\u001b[0;34m,\u001b[0m \u001b[0murls\u001b[0m\u001b[0;34m=\u001b[0m\u001b[0;32mNone\u001b[0m\u001b[0;34m,\u001b[0m \u001b[0mmax_pics\u001b[0m\u001b[0;34m=\u001b[0m\u001b[0;36m1000\u001b[0m\u001b[0;34m,\u001b[0m \u001b[0mn_workers\u001b[0m\u001b[0;34m=\u001b[0m\u001b[0;36m8\u001b[0m\u001b[0;34m,\u001b[0m \u001b[0mtimeout\u001b[0m\u001b[0;34m=\u001b[0m\u001b[0;36m4\u001b[0m\u001b[0;34m)\u001b[0m\u001b[0;34m:\u001b[0m\u001b[0;34m\u001b[0m\n",
       "\u001b[0;34m\u001b[0m    \u001b[0;34m\"Download images listed in text file `url_file` to path `dest`, at most `max_pics`\"\u001b[0m\u001b[0;34m\u001b[0m\n",
       "\u001b[0;34m\u001b[0m    \u001b[0;32mif\u001b[0m \u001b[0murls\u001b[0m \u001b[0;32mis\u001b[0m \u001b[0;32mNone\u001b[0m\u001b[0;34m:\u001b[0m \u001b[0murls\u001b[0m \u001b[0;34m=\u001b[0m \u001b[0murl_file\u001b[0m\u001b[0;34m.\u001b[0m\u001b[0mread\u001b[0m\u001b[0;34m(\u001b[0m\u001b[0;34m)\u001b[0m\u001b[0;34m.\u001b[0m\u001b[0mstrip\u001b[0m\u001b[0;34m(\u001b[0m\u001b[0;34m)\u001b[0m\u001b[0;34m.\u001b[0m\u001b[0msplit\u001b[0m\u001b[0;34m(\u001b[0m\u001b[0;34m\"\\n\"\u001b[0m\u001b[0;34m)\u001b[0m\u001b[0;34m[\u001b[0m\u001b[0;34m:\u001b[0m\u001b[0mmax_pics\u001b[0m\u001b[0;34m]\u001b[0m\u001b[0;34m\u001b[0m\n",
       "\u001b[0;34m\u001b[0m    \u001b[0mdest\u001b[0m \u001b[0;34m=\u001b[0m \u001b[0mPath\u001b[0m\u001b[0;34m(\u001b[0m\u001b[0mdest\u001b[0m\u001b[0;34m)\u001b[0m\u001b[0;34m\u001b[0m\n",
       "\u001b[0;34m\u001b[0m    \u001b[0mdest\u001b[0m\u001b[0;34m.\u001b[0m\u001b[0mmkdir\u001b[0m\u001b[0;34m(\u001b[0m\u001b[0mexist_ok\u001b[0m\u001b[0;34m=\u001b[0m\u001b[0;32mTrue\u001b[0m\u001b[0;34m)\u001b[0m\u001b[0;34m\u001b[0m\n",
       "\u001b[0;34m\u001b[0m    \u001b[0mparallel\u001b[0m\u001b[0;34m(\u001b[0m\u001b[0mpartial\u001b[0m\u001b[0;34m(\u001b[0m\u001b[0m_download_image_inner\u001b[0m\u001b[0;34m,\u001b[0m \u001b[0mdest\u001b[0m\u001b[0;34m,\u001b[0m \u001b[0mtimeout\u001b[0m\u001b[0;34m=\u001b[0m\u001b[0mtimeout\u001b[0m\u001b[0;34m)\u001b[0m\u001b[0;34m,\u001b[0m \u001b[0mlist\u001b[0m\u001b[0;34m(\u001b[0m\u001b[0menumerate\u001b[0m\u001b[0;34m(\u001b[0m\u001b[0murls\u001b[0m\u001b[0;34m)\u001b[0m\u001b[0;34m)\u001b[0m\u001b[0;34m,\u001b[0m \u001b[0mn_workers\u001b[0m\u001b[0;34m=\u001b[0m\u001b[0mn_workers\u001b[0m\u001b[0;34m)\u001b[0m\u001b[0;34m\u001b[0m\u001b[0;34m\u001b[0m\u001b[0m\n",
       "\u001b[0;31mFile:\u001b[0m      ~/opt/anaconda3/envs/deep-food/lib/python3.6/site-packages/fastai/vision/utils.py\n",
       "\u001b[0;31mType:\u001b[0m      function\n"
      ]
     },
     "metadata": {},
     "output_type": "display_data"
    }
   ],
   "source": [
    "download_images??"
   ]
  },
  {
   "cell_type": "code",
   "execution_count": 10,
   "metadata": {},
   "outputs": [
    {
     "data": {
      "text/html": [],
      "text/plain": [
       "<IPython.core.display.HTML object>"
      ]
     },
     "metadata": {},
     "output_type": "display_data"
    }
   ],
   "source": [
    "download_images(dest='../scraped_images', urls='../scraped_images/almonds.csv')"
   ]
  },
  {
   "cell_type": "code",
   "execution_count": 11,
   "metadata": {},
   "outputs": [
    {
     "name": "stdout",
     "output_type": "stream",
     "text": [
      "--2020-10-06 22:46:26--  https://32lxcujgg9-flywheel.netdna-ssl.com/wp-content/uploads/2016/12/oats.jpg\n",
      "Resolving 32lxcujgg9-flywheel.netdna-ssl.com (32lxcujgg9-flywheel.netdna-ssl.com)... 23.111.9.35\n",
      "Connecting to 32lxcujgg9-flywheel.netdna-ssl.com (32lxcujgg9-flywheel.netdna-ssl.com)|23.111.9.35|:443... connected.\n",
      "HTTP request sent, awaiting response... 200 OK\n",
      "Length: 372894 (364K) [image/jpeg]\n",
      "Saving to: ‘oats.jpg.1’\n",
      "\n",
      "oats.jpg.1          100%[===================>] 364,15K  --.-KB/s    in 0,1s    \n",
      "\n",
      "2020-10-06 22:46:26 (3,69 MB/s) - ‘oats.jpg.1’ saved [372894/372894]\n",
      "\n"
     ]
    }
   ],
   "source": [
    "!wget https://32lxcujgg9-flywheel.netdna-ssl.com/wp-content/uploads/2016/12/oats.jpg"
   ]
  },
  {
   "cell_type": "code",
   "execution_count": 12,
   "metadata": {},
   "outputs": [
    {
     "name": "stdout",
     "output_type": "stream",
     "text": [
      "https://www.oat.co.uk/wp-content/uploads/2016/05/naturaloatgrains.jpg\n",
      "\n",
      "https://www.oat.co.uk/wp-content/uploads/2016/05/naturaloatgrains.jpg\n",
      "\n",
      "http://www.glutenfreecat.com/wp-content/uploads/2011/04/IMG_6819.jpg\n",
      "\n",
      "https://www.oat.co.uk/wp-content/uploads/2016/05/naturaloatgrains.jpg\n",
      "\n",
      "https://www.oat.co.uk/wp-content/uploads/2016/05/naturaloatgrains.jpg\n",
      "\n",
      "https://www.oat.co.uk/wp-content/uploads/2016/05/naturaloatgrains.jpg\n",
      "\n",
      "https://www.oat.co.uk/wp-content/uploads/2016/05/naturaloatgrains.jpg\n",
      "\n",
      "https://www.oat.co.uk/wp-content/uploads/2016/05/naturaloatgrains.jpg\n",
      "\n",
      "https://www.oat.co.uk/wp-content/uploads/2016/05/naturaloatgrains.jpg\n",
      "\n",
      "https://www.oat.co.uk/wp-content/uploads/2016/05/naturaloatgrains.jpg\n",
      "\n",
      "http://www.glutenfreecat.com/wp-content/uploads/2011/04/IMG_6819.jpg\n",
      "\n",
      "https://www.oat.co.uk/wp-content/uploads/2016/05/naturaloatgrains.jpg\n",
      "\n",
      "http://www.glutenfreecat.com/wp-content/uploads/2011/04/IMG_6819.jpg\n",
      "\n"
     ]
    }
   ],
   "source": [
    "urls = []\n",
    "with open('../scraped_images/oat.csv', 'r') as f:\n",
    "    #urls = f.read()\n",
    "    for line in f:\n",
    "        print(line)\n",
    "        urls.append(line)\n",
    "#        pass"
   ]
  },
  {
   "cell_type": "code",
   "execution_count": 13,
   "metadata": {},
   "outputs": [
    {
     "data": {
      "text/plain": [
       "['https://www.oat.co.uk/wp-content/uploads/2016/05/naturaloatgrains.jpg', '']"
      ]
     },
     "execution_count": 13,
     "metadata": {},
     "output_type": "execute_result"
    }
   ],
   "source": [
    "urls[0].split('\\n')"
   ]
  },
  {
   "cell_type": "code",
   "execution_count": 14,
   "metadata": {},
   "outputs": [
    {
     "name": "stdout",
     "output_type": "stream",
     "text": [
      "/Users/iskriyanavasileva/git/deep-food/data/scraping/notebooks\n",
      "/Users/iskriyanavasileva/git/deep-food/data/scraping/notebooks\n"
     ]
    }
   ],
   "source": [
    "for i in range(2):\n",
    "    !pwd"
   ]
  },
  {
   "cell_type": "code",
   "execution_count": 15,
   "metadata": {},
   "outputs": [
    {
     "data": {
      "text/plain": [
       "'http://www.glutenfreecat.com/wp-content/uploads/2011/04/IMG_6819.jpg'"
      ]
     },
     "execution_count": 15,
     "metadata": {},
     "output_type": "execute_result"
    }
   ],
   "source": [
    "food = 'oats'\n",
    "counter = 25\n",
    "url = line.split('\\n')[0]\n",
    "url"
   ]
  },
  {
   "cell_type": "code",
   "execution_count": 16,
   "metadata": {},
   "outputs": [
    {
     "name": "stdout",
     "output_type": "stream",
     "text": [
      "zsh:1: number expected\n"
     ]
    }
   ],
   "source": [
    "!wget -P ./scraped_images food+str(counter)"
   ]
  },
  {
   "cell_type": "code",
   "execution_count": 17,
   "metadata": {},
   "outputs": [
    {
     "data": {
      "text/plain": [
       "0"
      ]
     },
     "execution_count": 17,
     "metadata": {},
     "output_type": "execute_result"
    }
   ],
   "source": [
    "os.system(f'wget -P \"./scraped_images/{food}\" -O {food}_{counter}.jpg \"{url}\"' )"
   ]
  },
  {
   "cell_type": "code",
   "execution_count": 18,
   "metadata": {},
   "outputs": [
    {
     "name": "stdout",
     "output_type": "stream",
     "text": [
      "wget: missing URL\n",
      "Usage: wget [OPTION]... [URL]...\n",
      "\n",
      "Try `wget --help' for more options.\n"
     ]
    }
   ],
   "source": [
    "!wget -O food_counter.jpg "
   ]
  },
  {
   "cell_type": "code",
   "execution_count": 19,
   "metadata": {},
   "outputs": [],
   "source": [
    "import os"
   ]
  },
  {
   "cell_type": "code",
   "execution_count": 20,
   "metadata": {},
   "outputs": [
    {
     "name": "stdout",
     "output_type": "stream",
     "text": [
      "--2020-10-06 22:47:13--  http://url/\n",
      "Resolving url (url)... failed: nodename nor servname provided, or not known.\n",
      "wget: unable to resolve host address ‘url’\n"
     ]
    }
   ],
   "source": [
    "!wget url"
   ]
  },
  {
   "cell_type": "code",
   "execution_count": 21,
   "metadata": {},
   "outputs": [
    {
     "data": {
      "text/plain": [
       "256"
      ]
     },
     "execution_count": 21,
     "metadata": {},
     "output_type": "execute_result"
    }
   ],
   "source": [
    "os.system(f'wget -O {food}_{2123}.jpg \"hp://1.bp.blogspot.com/-7ich2bJdeVzpo/Ta7bQyaXkOI/AAAAAAAAAD0/Vmm7DimMh8g/s1600/004+%25282%2529.JPG\"')"
   ]
  },
  {
   "cell_type": "code",
   "execution_count": 22,
   "metadata": {},
   "outputs": [
    {
     "name": "stdout",
     "output_type": "stream",
     "text": [
      "<Response [406]>\n"
     ]
    }
   ],
   "source": [
    "import requests\n",
    "\n",
    "with open('pic1.jpg', 'wb') as handle:\n",
    "        response = requests.get(url, stream=True)\n",
    "\n",
    "        if not response.ok:\n",
    "            print(response)\n",
    "\n",
    "        for block in response.iter_content(1024):\n",
    "            if not block:\n",
    "                break\n",
    "\n",
    "            handle.write(block)"
   ]
  },
  {
   "cell_type": "code",
   "execution_count": 23,
   "metadata": {},
   "outputs": [
    {
     "data": {
      "text/plain": [
       "<function fastai.vision.utils.download_images(dest, url_file=None, urls=None, max_pics=1000, n_workers=8, timeout=4)>"
      ]
     },
     "execution_count": 23,
     "metadata": {},
     "output_type": "execute_result"
    }
   ],
   "source": [
    "download_images"
   ]
  },
  {
   "cell_type": "code",
   "execution_count": 24,
   "metadata": {},
   "outputs": [
    {
     "name": "stdout",
     "output_type": "stream",
     "text": [
      "/Users/iskriyanavasileva/git/deep-food/data/scraping/notebooks\n"
     ]
    }
   ],
   "source": [
    "!pwd"
   ]
  },
  {
   "cell_type": "code",
   "execution_count": 25,
   "metadata": {},
   "outputs": [],
   "source": [
    "from pathlib import Path"
   ]
  },
  {
   "cell_type": "code",
   "execution_count": 26,
   "metadata": {},
   "outputs": [],
   "source": [
    "path = Path().absolute().parents[0]/'scraped_images'#Path('/home/neuralcrypto/Desktop/DataScience_Projects/deep-food/scraping')"
   ]
  },
  {
   "cell_type": "code",
   "execution_count": 27,
   "metadata": {},
   "outputs": [
    {
     "data": {
      "text/html": [],
      "text/plain": [
       "<IPython.core.display.HTML object>"
      ]
     },
     "metadata": {},
     "output_type": "display_data"
    }
   ],
   "source": [
    "download_images(dest=path, urls=urls)"
   ]
  },
  {
   "cell_type": "code",
   "execution_count": 28,
   "metadata": {},
   "outputs": [],
   "source": [
    "import os"
   ]
  },
  {
   "cell_type": "code",
   "execution_count": 29,
   "metadata": {},
   "outputs": [],
   "source": [
    "#!pip3 install wget\n",
    "import wget"
   ]
  },
  {
   "cell_type": "code",
   "execution_count": 30,
   "metadata": {},
   "outputs": [],
   "source": [
    "url = \"https://i.ebayimg.com/images/i/182499446396-0-1/s-l1000.jpg\"\n",
    "out = str(Path().absolute()/'oats.jpg')"
   ]
  },
  {
   "cell_type": "code",
   "execution_count": 31,
   "metadata": {},
   "outputs": [
    {
     "data": {
      "text/plain": [
       "'/Users/iskriyanavasileva/git/deep-food/data/scraping/notebooks/oats (1).jpg'"
      ]
     },
     "execution_count": 31,
     "metadata": {},
     "output_type": "execute_result"
    }
   ],
   "source": [
    "wget.download(url=url, out=out)"
   ]
  },
  {
   "cell_type": "code",
   "execution_count": 32,
   "metadata": {},
   "outputs": [
    {
     "name": "stdout",
     "output_type": "stream",
     "text": [
      "/Users/iskriyanavasileva/git/deep-food/data/scraping/notebooks\n"
     ]
    }
   ],
   "source": [
    "!pwd"
   ]
  },
  {
   "cell_type": "code",
   "execution_count": 33,
   "metadata": {},
   "outputs": [
    {
     "data": {
      "text/plain": [
       "\u001b[0;31mSignature:\u001b[0m\n",
       "\u001b[0mdownload_images\u001b[0m\u001b[0;34m(\u001b[0m\u001b[0;34m\u001b[0m\n",
       "\u001b[0;34m\u001b[0m    \u001b[0mdest\u001b[0m\u001b[0;34m,\u001b[0m\u001b[0;34m\u001b[0m\n",
       "\u001b[0;34m\u001b[0m    \u001b[0murl_file\u001b[0m\u001b[0;34m=\u001b[0m\u001b[0;32mNone\u001b[0m\u001b[0;34m,\u001b[0m\u001b[0;34m\u001b[0m\n",
       "\u001b[0;34m\u001b[0m    \u001b[0murls\u001b[0m\u001b[0;34m=\u001b[0m\u001b[0;32mNone\u001b[0m\u001b[0;34m,\u001b[0m\u001b[0;34m\u001b[0m\n",
       "\u001b[0;34m\u001b[0m    \u001b[0mmax_pics\u001b[0m\u001b[0;34m=\u001b[0m\u001b[0;36m1000\u001b[0m\u001b[0;34m,\u001b[0m\u001b[0;34m\u001b[0m\n",
       "\u001b[0;34m\u001b[0m    \u001b[0mn_workers\u001b[0m\u001b[0;34m=\u001b[0m\u001b[0;36m8\u001b[0m\u001b[0;34m,\u001b[0m\u001b[0;34m\u001b[0m\n",
       "\u001b[0;34m\u001b[0m    \u001b[0mtimeout\u001b[0m\u001b[0;34m=\u001b[0m\u001b[0;36m4\u001b[0m\u001b[0;34m,\u001b[0m\u001b[0;34m\u001b[0m\n",
       "\u001b[0;34m\u001b[0m\u001b[0;34m)\u001b[0m\u001b[0;34m\u001b[0m\u001b[0;34m\u001b[0m\u001b[0m\n",
       "\u001b[0;31mSource:\u001b[0m   \n",
       "\u001b[0;32mdef\u001b[0m \u001b[0mdownload_images\u001b[0m\u001b[0;34m(\u001b[0m\u001b[0mdest\u001b[0m\u001b[0;34m,\u001b[0m \u001b[0murl_file\u001b[0m\u001b[0;34m=\u001b[0m\u001b[0;32mNone\u001b[0m\u001b[0;34m,\u001b[0m \u001b[0murls\u001b[0m\u001b[0;34m=\u001b[0m\u001b[0;32mNone\u001b[0m\u001b[0;34m,\u001b[0m \u001b[0mmax_pics\u001b[0m\u001b[0;34m=\u001b[0m\u001b[0;36m1000\u001b[0m\u001b[0;34m,\u001b[0m \u001b[0mn_workers\u001b[0m\u001b[0;34m=\u001b[0m\u001b[0;36m8\u001b[0m\u001b[0;34m,\u001b[0m \u001b[0mtimeout\u001b[0m\u001b[0;34m=\u001b[0m\u001b[0;36m4\u001b[0m\u001b[0;34m)\u001b[0m\u001b[0;34m:\u001b[0m\u001b[0;34m\u001b[0m\n",
       "\u001b[0;34m\u001b[0m    \u001b[0;34m\"Download images listed in text file `url_file` to path `dest`, at most `max_pics`\"\u001b[0m\u001b[0;34m\u001b[0m\n",
       "\u001b[0;34m\u001b[0m    \u001b[0;32mif\u001b[0m \u001b[0murls\u001b[0m \u001b[0;32mis\u001b[0m \u001b[0;32mNone\u001b[0m\u001b[0;34m:\u001b[0m \u001b[0murls\u001b[0m \u001b[0;34m=\u001b[0m \u001b[0murl_file\u001b[0m\u001b[0;34m.\u001b[0m\u001b[0mread\u001b[0m\u001b[0;34m(\u001b[0m\u001b[0;34m)\u001b[0m\u001b[0;34m.\u001b[0m\u001b[0mstrip\u001b[0m\u001b[0;34m(\u001b[0m\u001b[0;34m)\u001b[0m\u001b[0;34m.\u001b[0m\u001b[0msplit\u001b[0m\u001b[0;34m(\u001b[0m\u001b[0;34m\"\\n\"\u001b[0m\u001b[0;34m)\u001b[0m\u001b[0;34m[\u001b[0m\u001b[0;34m:\u001b[0m\u001b[0mmax_pics\u001b[0m\u001b[0;34m]\u001b[0m\u001b[0;34m\u001b[0m\n",
       "\u001b[0;34m\u001b[0m    \u001b[0mdest\u001b[0m \u001b[0;34m=\u001b[0m \u001b[0mPath\u001b[0m\u001b[0;34m(\u001b[0m\u001b[0mdest\u001b[0m\u001b[0;34m)\u001b[0m\u001b[0;34m\u001b[0m\n",
       "\u001b[0;34m\u001b[0m    \u001b[0mdest\u001b[0m\u001b[0;34m.\u001b[0m\u001b[0mmkdir\u001b[0m\u001b[0;34m(\u001b[0m\u001b[0mexist_ok\u001b[0m\u001b[0;34m=\u001b[0m\u001b[0;32mTrue\u001b[0m\u001b[0;34m)\u001b[0m\u001b[0;34m\u001b[0m\n",
       "\u001b[0;34m\u001b[0m    \u001b[0mparallel\u001b[0m\u001b[0;34m(\u001b[0m\u001b[0mpartial\u001b[0m\u001b[0;34m(\u001b[0m\u001b[0m_download_image_inner\u001b[0m\u001b[0;34m,\u001b[0m \u001b[0mdest\u001b[0m\u001b[0;34m,\u001b[0m \u001b[0mtimeout\u001b[0m\u001b[0;34m=\u001b[0m\u001b[0mtimeout\u001b[0m\u001b[0;34m)\u001b[0m\u001b[0;34m,\u001b[0m \u001b[0mlist\u001b[0m\u001b[0;34m(\u001b[0m\u001b[0menumerate\u001b[0m\u001b[0;34m(\u001b[0m\u001b[0murls\u001b[0m\u001b[0;34m)\u001b[0m\u001b[0;34m)\u001b[0m\u001b[0;34m,\u001b[0m \u001b[0mn_workers\u001b[0m\u001b[0;34m=\u001b[0m\u001b[0mn_workers\u001b[0m\u001b[0;34m)\u001b[0m\u001b[0;34m\u001b[0m\u001b[0;34m\u001b[0m\u001b[0m\n",
       "\u001b[0;31mFile:\u001b[0m      ~/opt/anaconda3/envs/deep-food/lib/python3.6/site-packages/fastai/vision/utils.py\n",
       "\u001b[0;31mType:\u001b[0m      function\n"
      ]
     },
     "metadata": {},
     "output_type": "display_data"
    }
   ],
   "source": [
    "download_images??"
   ]
  },
  {
   "cell_type": "code",
   "execution_count": null,
   "metadata": {},
   "outputs": [],
   "source": []
  }
 ],
 "metadata": {
  "kernelspec": {
   "display_name": "deep-food",
   "language": "python",
   "name": "deep-food"
  },
  "language_info": {
   "codemirror_mode": {
    "name": "ipython",
    "version": 3
   },
   "file_extension": ".py",
   "mimetype": "text/x-python",
   "name": "python",
   "nbconvert_exporter": "python",
   "pygments_lexer": "ipython3",
   "version": "3.6.10"
  }
 },
 "nbformat": 4,
 "nbformat_minor": 4
}

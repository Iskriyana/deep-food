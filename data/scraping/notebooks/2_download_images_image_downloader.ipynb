{
 "cells": [
  {
   "cell_type": "code",
   "execution_count": 1,
   "metadata": {},
   "outputs": [],
   "source": [
    "from pathlib import Path\n",
    "import os,sys,inspect\n",
    "current_dir = os.path.dirname(os.path.abspath(inspect.getfile(inspect.currentframe())))\n",
    "parent_dir = os.path.dirname(current_dir)\n",
    "sys.path.insert(0, parent_dir) "
   ]
  },
  {
   "cell_type": "code",
   "execution_count": 2,
   "metadata": {},
   "outputs": [],
   "source": [
    "import image_downloader"
   ]
  },
  {
   "cell_type": "code",
   "execution_count": 3,
   "metadata": {},
   "outputs": [
    {
     "name": "stdout",
     "output_type": "stream",
     "text": [
      "Working in apple\n",
      "Working in avocado\n",
      "Working in banana\n",
      "Working in blueberries\n",
      "Working in oranges\n",
      "Working in kiwi\n",
      "Working in lemon\n",
      "Working in grapefruit\n",
      "Working in pineapple\n",
      "Working in melon\n",
      "Working in watermelon\n",
      "Working in oat\n",
      "Working in stawberries\n",
      "Working in fried eggs\n",
      "Working in boiled eggs\n",
      "Working in beef\n",
      "Working in chicken\n",
      "Working in chicken breasts\n",
      "Working in almonds\n",
      "Working in nuts\n",
      "Working in walnuts\n",
      "Working in tofu\n",
      "Working in peanuts\n",
      "Working in carrot\n",
      "Working in leek\n",
      "Working in green peas\n",
      "Working in white peas\n",
      "Working in bell pepper\n",
      "Working in asparagus\n",
      "Working in spinach\n",
      "Working in eggplant\n",
      "Working in brocoli\n",
      "Working in cauliflower\n",
      "Working in onion\n",
      "Working in tomatoes\n",
      "Working in cucumber\n",
      "Working in shrimp\n",
      "Working in tuna\n",
      "Working in rice\n",
      "Working in brown rice\n",
      "Working in pasta\n",
      "Working in quinoa\n",
      "Working in white bread\n",
      "Working in brown bread\n",
      "Working in beans\n",
      "Working in lentils\n",
      "Working in mozzarella cheese\n",
      "Working in potatoes\n",
      "Working in dark chocolate\n",
      "Working in bacon\n"
     ]
    }
   ],
   "source": [
    "food_list = image_downloader.get_list_foods('../utils/50_food_classes.txt', max_imgs=1)"
   ]
  },
  {
   "cell_type": "code",
   "execution_count": 4,
   "metadata": {},
   "outputs": [],
   "source": [
    "# create paths\n",
    "image_downloader.create_paths_images(food_list)"
   ]
  },
  {
   "cell_type": "code",
   "execution_count": 5,
   "metadata": {},
   "outputs": [
    {
     "data": {
      "text/plain": [
       "['wget -O ../scraped_images/apple/apple_1.jpg http://i.huffpost.com/gen/1838694/images/o-RED-APPLE-facebook.jpg',\n",
       " 'wget -O ../scraped_images/apple/apple_2.jpg http://i.huffpost.com/gen/1838694/images/o-RED-APPLE-facebook.jpg',\n",
       " 'wget -O ../scraped_images/apple/apple_3.jpg https://upload.wikimedia.org/wikipedia/commons/0/04/New_York_Empire_Apples.jpg',\n",
       " 'wget -O ../scraped_images/apple/apple_4.jpg http://i.huffpost.com/gen/1838694/images/o-RED-APPLE-facebook.jpg',\n",
       " 'wget -O ../scraped_images/apple/apple_5.jpg http://i.huffpost.com/gen/1838694/images/o-RED-APPLE-facebook.jpg',\n",
       " 'wget -O ../scraped_images/apple/apple_6.jpg http://i.huffpost.com/gen/1838694/images/o-RED-APPLE-facebook.jpg',\n",
       " 'wget -O ../scraped_images/apple/apple_7.jpg http://i.huffpost.com/gen/1838694/images/o-RED-APPLE-facebook.jpg',\n",
       " 'wget -O ../scraped_images/apple/apple_8.jpg http://i.huffpost.com/gen/1838694/images/o-RED-APPLE-facebook.jpg',\n",
       " 'wget -O ../scraped_images/apple/apple_9.jpg http://i.huffpost.com/gen/1838694/images/o-RED-APPLE-facebook.jpg']"
      ]
     },
     "execution_count": 5,
     "metadata": {},
     "output_type": "execute_result"
    }
   ],
   "source": [
    "image_downloader.download_images(food_list)"
   ]
  }
 ],
 "metadata": {
  "kernelspec": {
   "display_name": "deep-food",
   "language": "python",
   "name": "deep-food"
  },
  "language_info": {
   "codemirror_mode": {
    "name": "ipython",
    "version": 3
   },
   "file_extension": ".py",
   "mimetype": "text/x-python",
   "name": "python",
   "nbconvert_exporter": "python",
   "pygments_lexer": "ipython3",
   "version": "3.6.10"
  }
 },
 "nbformat": 4,
 "nbformat_minor": 4
}

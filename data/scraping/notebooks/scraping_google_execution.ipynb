{
 "cells": [
  {
   "cell_type": "code",
   "execution_count": 1,
   "metadata": {},
   "outputs": [],
   "source": [
    "from pathlib import Path\n",
    "import os,sys,inspect\n",
    "current_dir = os.path.dirname(os.path.abspath(inspect.getfile(inspect.currentframe())))\n",
    "parent_dir = os.path.dirname(current_dir)\n",
    "sys.path.insert(0, parent_dir) "
   ]
  },
  {
   "cell_type": "code",
   "execution_count": 2,
   "metadata": {},
   "outputs": [
    {
     "data": {
      "text/plain": [
       "['/Users/iskriyanavasileva/git/deep-food/data/scraping',\n",
       " '/Users/iskriyanavasileva/opt/anaconda3/envs/deep-food/lib/python36.zip',\n",
       " '/Users/iskriyanavasileva/opt/anaconda3/envs/deep-food/lib/python3.6',\n",
       " '/Users/iskriyanavasileva/opt/anaconda3/envs/deep-food/lib/python3.6/lib-dynload',\n",
       " '',\n",
       " '/Users/iskriyanavasileva/opt/anaconda3/envs/deep-food/lib/python3.6/site-packages',\n",
       " '/Users/iskriyanavasileva/opt/anaconda3/envs/deep-food/lib/python3.6/site-packages/aeosa',\n",
       " '/Users/iskriyanavasileva/opt/anaconda3/envs/deep-food/lib/python3.6/site-packages/IPython/extensions',\n",
       " '/Users/iskriyanavasileva/.ipython']"
      ]
     },
     "execution_count": 2,
     "metadata": {},
     "output_type": "execute_result"
    }
   ],
   "source": [
    "#sys.path"
   ]
  },
  {
   "cell_type": "code",
   "execution_count": 3,
   "metadata": {},
   "outputs": [],
   "source": [
    "from scripts.scrape_google import *\n",
    "from selenium import webdriver"
   ]
  },
  {
   "cell_type": "code",
   "execution_count": 4,
   "metadata": {},
   "outputs": [],
   "source": [
    "query = 'mushroom_food'"
   ]
  },
  {
   "cell_type": "code",
   "execution_count": 5,
   "metadata": {},
   "outputs": [
    {
     "name": "stdout",
     "output_type": "stream",
     "text": [
      "400 images found.\n",
      "340 images found.\n",
      "Looks like you've reached the end.\n"
     ]
    }
   ],
   "source": [
    "image_urls = google_query(query, images_to_download=600, verbose=1)"
   ]
  },
  {
   "cell_type": "code",
   "execution_count": 6,
   "metadata": {},
   "outputs": [
    {
     "data": {
      "text/plain": [
       "[]"
      ]
     },
     "execution_count": 6,
     "metadata": {},
     "output_type": "execute_result"
    }
   ],
   "source": [
    "download_images(image_urls, \n",
    "                parent_path = f'{parent_dir}/scraped_images/{query}')"
   ]
  },
  {
   "cell_type": "code",
   "execution_count": null,
   "metadata": {},
   "outputs": [],
   "source": []
  }
 ],
 "metadata": {
  "kernelspec": {
   "display_name": "deep-food",
   "language": "python",
   "name": "deep-food"
  },
  "language_info": {
   "codemirror_mode": {
    "name": "ipython",
    "version": 3
   },
   "file_extension": ".py",
   "mimetype": "text/x-python",
   "name": "python",
   "nbconvert_exporter": "python",
   "pygments_lexer": "ipython3",
   "version": "3.6.10"
  }
 },
 "nbformat": 4,
 "nbformat_minor": 4
}

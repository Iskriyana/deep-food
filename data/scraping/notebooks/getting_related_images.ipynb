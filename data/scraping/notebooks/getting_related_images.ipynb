{
 "cells": [
  {
   "cell_type": "code",
   "execution_count": 1,
   "metadata": {},
   "outputs": [
    {
     "name": "stdout",
     "output_type": "stream",
     "text": [
      "Requirement already satisfied: requests in /Users/iskriyanavasileva/opt/anaconda3/envs/deep-food/lib/python3.6/site-packages (2.24.0)\n",
      "Requirement already satisfied: chardet<4,>=3.0.2 in /Users/iskriyanavasileva/opt/anaconda3/envs/deep-food/lib/python3.6/site-packages (from requests) (3.0.4)\n",
      "Requirement already satisfied: idna<3,>=2.5 in /Users/iskriyanavasileva/opt/anaconda3/envs/deep-food/lib/python3.6/site-packages (from requests) (2.10)\n",
      "Requirement already satisfied: urllib3!=1.25.0,!=1.25.1,<1.26,>=1.21.1 in /Users/iskriyanavasileva/opt/anaconda3/envs/deep-food/lib/python3.6/site-packages (from requests) (1.25.10)\n",
      "Requirement already satisfied: certifi>=2017.4.17 in /Users/iskriyanavasileva/opt/anaconda3/envs/deep-food/lib/python3.6/site-packages (from requests) (2020.6.20)\n"
     ]
    }
   ],
   "source": [
    "!pip install requests"
   ]
  },
  {
   "cell_type": "code",
   "execution_count": 2,
   "metadata": {},
   "outputs": [
    {
     "name": "stdout",
     "output_type": "stream",
     "text": [
      "Requirement already satisfied: beautifulsoup4 in /Users/iskriyanavasileva/opt/anaconda3/envs/deep-food/lib/python3.6/site-packages (4.9.1)\n",
      "Requirement already satisfied: soupsieve>1.2 in /Users/iskriyanavasileva/opt/anaconda3/envs/deep-food/lib/python3.6/site-packages (from beautifulsoup4) (2.0.1)\n"
     ]
    }
   ],
   "source": [
    "!pip install beautifulsoup4"
   ]
  },
  {
   "cell_type": "code",
   "execution_count": 3,
   "metadata": {},
   "outputs": [
    {
     "name": "stdout",
     "output_type": "stream",
     "text": [
      "Requirement already satisfied: selenium in /Users/iskriyanavasileva/opt/anaconda3/envs/deep-food/lib/python3.6/site-packages (3.141.0)\n",
      "Requirement already satisfied: urllib3 in /Users/iskriyanavasileva/opt/anaconda3/envs/deep-food/lib/python3.6/site-packages (from selenium) (1.25.10)\n"
     ]
    }
   ],
   "source": [
    "!pip install selenium"
   ]
  },
  {
   "cell_type": "code",
   "execution_count": 4,
   "metadata": {},
   "outputs": [
    {
     "name": "stdout",
     "output_type": "stream",
     "text": [
      "\u001b[31mERROR: Could not find a version that satisfies the requirement webdriver (from versions: none)\u001b[0m\n",
      "\u001b[31mERROR: No matching distribution found for webdriver\u001b[0m\n"
     ]
    }
   ],
   "source": [
    "!pip install webdriver"
   ]
  },
  {
   "cell_type": "code",
   "execution_count": 5,
   "metadata": {},
   "outputs": [],
   "source": [
    "from selenium import webdriver as wd"
   ]
  },
  {
   "cell_type": "code",
   "execution_count": 6,
   "metadata": {},
   "outputs": [],
   "source": [
    "from selenium.webdriver.common.keys import Keys"
   ]
  },
  {
   "cell_type": "code",
   "execution_count": 7,
   "metadata": {},
   "outputs": [],
   "source": [
    "path_chromedriver = '../utils/chromedriver'"
   ]
  },
  {
   "cell_type": "code",
   "execution_count": 8,
   "metadata": {},
   "outputs": [],
   "source": [
    "wd = wd.Chrome(executable_path=path_chromedriver)\n",
    "wd.get('https://www.google.com/imghp')"
   ]
  },
  {
   "cell_type": "code",
   "execution_count": 9,
   "metadata": {},
   "outputs": [],
   "source": [
    "search_box = wd.find_element_by_css_selector('input.gLFyf')\n",
    "search_box.send_keys('one apple red')"
   ]
  },
  {
   "cell_type": "markdown",
   "metadata": {},
   "source": [
    "Guide on how to use the keys of the keyboard and the arrows:\n",
    "\n",
    "https://artoftesting.com/press-enter-tab-space-arrow-function-keys-in-selenium-webdriver-with-java"
   ]
  },
  {
   "cell_type": "code",
   "execution_count": 10,
   "metadata": {},
   "outputs": [],
   "source": [
    "search_box.send_keys(Keys.ENTER)"
   ]
  },
  {
   "cell_type": "code",
   "execution_count": 11,
   "metadata": {},
   "outputs": [
    {
     "data": {
      "text/plain": [
       "48"
      ]
     },
     "execution_count": 11,
     "metadata": {},
     "output_type": "execute_result"
    }
   ],
   "source": [
    "urls = wd.find_elements_by_class_name(\"rg_i.Q4LuWd\")\n",
    "len(urls)"
   ]
  },
  {
   "cell_type": "code",
   "execution_count": 12,
   "metadata": {},
   "outputs": [],
   "source": [
    "img_urls = [urls[i].get_attribute('src') for i in range(len(urls))]\n",
    "img_urls_2 = [urls[i].get_attribute('data-src') for i in range(len(urls))]"
   ]
  },
  {
   "cell_type": "markdown",
   "metadata": {},
   "source": [
    "Once the lists are created, I need to merge the datasets."
   ]
  },
  {
   "cell_type": "code",
   "execution_count": 13,
   "metadata": {},
   "outputs": [],
   "source": [
    "empty_index = []\n",
    "for i, url in enumerate(img_urls):\n",
    "    if url == None:\n",
    "        empty_index.append(i)"
   ]
  },
  {
   "cell_type": "code",
   "execution_count": 14,
   "metadata": {},
   "outputs": [],
   "source": [
    "for i in empty_index:\n",
    "    img_urls[i] = img_urls_2[i]"
   ]
  },
  {
   "cell_type": "code",
   "execution_count": 15,
   "metadata": {},
   "outputs": [
    {
     "data": {
      "text/plain": [
       "'data:image/jpeg;base64,/9j/4AAQSkZJRgABAQAAAQABAAD/2wCEAAkGBxATEhMSEhIVFRUQEBASDxUQFRAVFQ8VFRUWFhUWFRUYHSggGBolGxUVITEhJSkrLi4uFx8zODMsNygtLi0BCgoKDg0OGxAQGjcmICUtLS0tLS0tLS0tLS0tMC0tLy0vLS0uLS0uKy8tLS0tNS0tLi0rLS8tLS4tLS0tLS0tNf/AABEIAQMAwgMBIgACEQEDEQH/xAAcAAACAgMBAQAAAAAAAAAAAAAABAMFAgYHAQj/xAA/EAACAgEBBQUECAQGAgMBAAABAgADEQQFEiExUQYTQXGRImGBoQcUMkJSscHRM3KS4SNigqLC8ENTFrPxFf/EABoBAAIDAQEAAAAAAAAAAAAAAAADAQIEBQb/xAAwEQACAgEEAQEFBwUBAAAAAAAAAQIDEQQSITFBUQUTFCKBMkJhcZGx8FKhwdHhI//aAAwDAQACEQMRAD8A7jCEIAEIQgAQhCABCEIAEIQgAQhCABCET2prO6Qt948FB6yllka4ucukBPqdQla7znA/PyHjKTW9oDyqH+p/0H7yn1usaw7znPToo9wizWcfh/38jPO6n2pbY8VcL18/8J4LHUbXubgXx/J7Pz5xUXsMneYZ5+0ePnEzbMHt+ZAPrMEnbN5lJv6kOSRZ0a21TlbGHDxOR6HhJhtS/Oe8Pxxj0xKvvpjZfyx48JMZXLhSa+rBySNk0vaBsgWAEeJQHPpmXGm2jU/BXGeh4H0M0dLRMzcJsp9p6iviXzL8e/1Dg3+E1fQ9qlGFuGBy31ycfzLz+I9Js1VisAykEMAVIOQQfEGeho1ELo5gyMmUIQjiQhCEACEIQAIQhAAhCEACEIQAIQhADwmaVtHWmx2bPAn2R0A5TZ9vXbmnsP8Al3f6iF/WaI9nH4H9JxPa03JxrXXb/wAEOWDNrIuH+17sAeWP7yOy2Lm3n4knw8eE50KjPK3kk'"
      ]
     },
     "execution_count": 15,
     "metadata": {},
     "output_type": "execute_result"
    }
   ],
   "source": [
    "img_urls[0][:1000]"
   ]
  },
  {
   "cell_type": "code",
   "execution_count": 16,
   "metadata": {},
   "outputs": [
    {
     "name": "stdout",
     "output_type": "stream",
     "text": [
      "28\n"
     ]
    }
   ],
   "source": [
    "print(len([img for img in img_urls_2 if img != None]))\n",
    "# [img for img in img_urls_2 if img != None]"
   ]
  },
  {
   "cell_type": "code",
   "execution_count": 17,
   "metadata": {},
   "outputs": [],
   "source": [
    "from urllib import request\n",
    "import numpy as np\n",
    "from tqdm import tqdm"
   ]
  },
  {
   "cell_type": "code",
   "execution_count": 18,
   "metadata": {},
   "outputs": [],
   "source": [
    "#for j, url in"
   ]
  },
  {
   "cell_type": "code",
   "execution_count": 19,
   "metadata": {},
   "outputs": [
    {
     "data": {
      "text/plain": [
       "('../scraped_images/kiwi/test.jpg', <email.message.Message at 0x7f9980c7b940>)"
      ]
     },
     "execution_count": 19,
     "metadata": {},
     "output_type": "execute_result"
    }
   ],
   "source": [
    "request.urlretrieve(img_urls[1], '../scraped_images/kiwi/test.jpg')"
   ]
  },
  {
   "cell_type": "markdown",
   "metadata": {},
   "source": [
    "### Getting SIMILAR images"
   ]
  },
  {
   "cell_type": "code",
   "execution_count": 20,
   "metadata": {},
   "outputs": [],
   "source": [
    "import selenium\n",
    "from selenium.webdriver.common.action_chains import ActionChains\n",
    "from selenium.webdriver.common.keys import Keys"
   ]
  },
  {
   "cell_type": "code",
   "execution_count": 21,
   "metadata": {},
   "outputs": [],
   "source": [
    "#wd = wd.Chrome(executable_path=path_chromedriver)\n",
    "\n",
    "wd.get('https://www.google.com/imghp')\n",
    "\n",
    "search_box = wd.find_element_by_css_selector('input.gLFyf')\n",
    "search_box.send_keys('fresh lemon nice')\n",
    "search_box.send_keys(Keys.ENTER)"
   ]
  },
  {
   "cell_type": "code",
   "execution_count": 22,
   "metadata": {},
   "outputs": [],
   "source": [
    "# With this method we click on the first name. Then we can tab a few times\n",
    "wd.find_element_by_class_name(\"rg_i.Q4LuWd\").click()"
   ]
  },
  {
   "cell_type": "code",
   "execution_count": 23,
   "metadata": {},
   "outputs": [],
   "source": [
    "actions = ActionChains(wd)"
   ]
  },
  {
   "cell_type": "markdown",
   "metadata": {},
   "source": [
    "## Be careful, because the ACTION CHAINS get accumulated in the instance that you are using"
   ]
  },
  {
   "cell_type": "markdown",
   "metadata": {},
   "source": [
    "Use .context_click() == right click \n",
    "\n",
    "\n",
    "(an example of how to do the right click on the image)\n",
    "\n",
    "Actions action= new Actions(driver);\n",
    "action.contextClick(productLink).sendKeys(Keys.ARROW_DOWN).sendKeys(Keys.ARROW_DOWN).sendKeys(Keys.RETURN).build().perform();"
   ]
  },
  {
   "cell_type": "code",
   "execution_count": 24,
   "metadata": {},
   "outputs": [],
   "source": [
    "actions.send_keys(Keys.TAB).perform()"
   ]
  },
  {
   "cell_type": "code",
   "execution_count": 25,
   "metadata": {},
   "outputs": [],
   "source": [
    "ActionChains(wd).send_keys(Keys.SHIFT).send_keys(Keys.F10).send_keys(Keys.ARROW_DOWN).send_keys(Keys.ENTER).perform()"
   ]
  },
  {
   "cell_type": "code",
   "execution_count": 26,
   "metadata": {},
   "outputs": [],
   "source": [
    "ActionChains(wd).context_click().perform()"
   ]
  },
  {
   "cell_type": "code",
   "execution_count": 27,
   "metadata": {},
   "outputs": [],
   "source": [
    "ActionChains(wd).double_click().perform()"
   ]
  },
  {
   "cell_type": "code",
   "execution_count": 28,
   "metadata": {},
   "outputs": [],
   "source": [
    "actions.send_keys(Keys.ARROW_DOWN).perform()"
   ]
  },
  {
   "cell_type": "code",
   "execution_count": 29,
   "metadata": {},
   "outputs": [],
   "source": [
    "actions.click().perform()"
   ]
  },
  {
   "cell_type": "code",
   "execution_count": 30,
   "metadata": {},
   "outputs": [
    {
     "data": {
      "text/plain": [
       "<selenium.webdriver.common.action_chains.ActionChains at 0x7f9980c83470>"
      ]
     },
     "execution_count": 30,
     "metadata": {},
     "output_type": "execute_result"
    }
   ],
   "source": [
    "actions.key_down(1)"
   ]
  },
  {
   "cell_type": "code",
   "execution_count": 31,
   "metadata": {},
   "outputs": [],
   "source": [
    "# Making a screenshot, nice\n",
    "# wd.save_screenshot('testing_screenshot.png')"
   ]
  },
  {
   "cell_type": "markdown",
   "metadata": {},
   "source": [
    "## THIS IS JUST CRAZY COOL! by specifiying the self.driver, in our case wd, we can do the Action Chains"
   ]
  },
  {
   "cell_type": "code",
   "execution_count": 32,
   "metadata": {},
   "outputs": [],
   "source": [
    "#wd.switch_to_window()"
   ]
  },
  {
   "cell_type": "code",
   "execution_count": 34,
   "metadata": {},
   "outputs": [],
   "source": [
    "#wd.switch_to.active_element()"
   ]
  },
  {
   "cell_type": "code",
   "execution_count": 35,
   "metadata": {},
   "outputs": [],
   "source": [
    "actions = ActionChains(wd)"
   ]
  },
  {
   "cell_type": "code",
   "execution_count": 36,
   "metadata": {},
   "outputs": [
    {
     "data": {
      "text/plain": [
       "<selenium.webdriver.common.action_chains.ActionChains at 0x7f99407e45c0>"
      ]
     },
     "execution_count": 36,
     "metadata": {},
     "output_type": "execute_result"
    }
   ],
   "source": [
    "actions.send_keys(Keys.TAB)"
   ]
  },
  {
   "cell_type": "code",
   "execution_count": 37,
   "metadata": {},
   "outputs": [],
   "source": [
    "wd.quit()"
   ]
  },
  {
   "cell_type": "code",
   "execution_count": 38,
   "metadata": {},
   "outputs": [
    {
     "data": {
      "text/plain": [
       "<selenium.webdriver.chrome.webdriver.WebDriver (session=\"1b95552589e6b2cb3195395934e2c637\")>"
      ]
     },
     "execution_count": 38,
     "metadata": {},
     "output_type": "execute_result"
    }
   ],
   "source": [
    "selenium.webdriver.Chrome(path_chromedriver)"
   ]
  },
  {
   "cell_type": "code",
   "execution_count": 39,
   "metadata": {},
   "outputs": [
    {
     "data": {
      "text/plain": [
       "'../utils/chromedriver'"
      ]
     },
     "execution_count": 39,
     "metadata": {},
     "output_type": "execute_result"
    }
   ],
   "source": [
    "path_chromedriver"
   ]
  },
  {
   "cell_type": "code",
   "execution_count": null,
   "metadata": {},
   "outputs": [],
   "source": []
  }
 ],
 "metadata": {
  "kernelspec": {
   "display_name": "deep-food",
   "language": "python",
   "name": "deep-food"
  },
  "language_info": {
   "codemirror_mode": {
    "name": "ipython",
    "version": 3
   },
   "file_extension": ".py",
   "mimetype": "text/x-python",
   "name": "python",
   "nbconvert_exporter": "python",
   "pygments_lexer": "ipython3",
   "version": "3.6.10"
  }
 },
 "nbformat": 4,
 "nbformat_minor": 4
}

{
 "cells": [
  {
   "cell_type": "code",
   "execution_count": 1,
   "metadata": {},
   "outputs": [],
   "source": [
    "import numpy as np\n",
    "import pandas as pd\n",
    "from tensorflow.keras.backend import one_hot\n",
    "from random import sample\n",
    "from pathlib import Path"
   ]
  },
  {
   "cell_type": "code",
   "execution_count": 2,
   "metadata": {},
   "outputs": [
    {
     "name": "stdout",
     "output_type": "stream",
     "text": [
      "... loading the original dataset\n",
      "... loading finished.\n",
      "\n"
     ]
    }
   ],
   "source": [
    "# read this from the recipes, currently hot coded\n",
    "MAX_NR_INGREDIENTS = 3500\n",
    "\n",
    "nr_important_ingredients = 200\n",
    "\n",
    "print(\"... loading the original dataset\")\n",
    "\n",
    "path_recipes = str(Path().absolute().parents[1]/'data/recipe_data_sets/output/recipes_clean.npy')\n",
    "recipes = np.load(path_recipes, allow_pickle=True)\n",
    "                   \n",
    "path_ingredients = str(Path().absolute().parents[1]/'data/recipe_data_sets/output/ingredients_clean.npy')\n",
    "ingredients = np.load(path_ingredients, allow_pickle=True).item()\n",
    "print(\"... loading finished.\\n\")"
   ]
  },
  {
   "cell_type": "code",
   "execution_count": 3,
   "metadata": {},
   "outputs": [],
   "source": [
    "important_ingredients = np.array([])"
   ]
  },
  {
   "cell_type": "code",
   "execution_count": 4,
   "metadata": {},
   "outputs": [],
   "source": [
    "food_classifier_labels = str(Path().absolute().parents[1]/'data/recipe_data_sets/input/recipe_food_classifier_labels.csv')"
   ]
  },
  {
   "cell_type": "code",
   "execution_count": 5,
   "metadata": {},
   "outputs": [],
   "source": [
    "df_classifier = pd.read_csv(food_classifier_labels, delimiter=';')"
   ]
  },
  {
   "cell_type": "code",
   "execution_count": 6,
   "metadata": {},
   "outputs": [
    {
     "data": {
      "text/html": [
       "<div>\n",
       "<style scoped>\n",
       "    .dataframe tbody tr th:only-of-type {\n",
       "        vertical-align: middle;\n",
       "    }\n",
       "\n",
       "    .dataframe tbody tr th {\n",
       "        vertical-align: top;\n",
       "    }\n",
       "\n",
       "    .dataframe thead th {\n",
       "        text-align: right;\n",
       "    }\n",
       "</style>\n",
       "<table border=\"1\" class=\"dataframe\">\n",
       "  <thead>\n",
       "    <tr style=\"text-align: right;\">\n",
       "      <th></th>\n",
       "      <th>classifier_labels</th>\n",
       "    </tr>\n",
       "  </thead>\n",
       "  <tbody>\n",
       "    <tr>\n",
       "      <th>0</th>\n",
       "      <td>almond</td>\n",
       "    </tr>\n",
       "    <tr>\n",
       "      <th>1</th>\n",
       "      <td>apple</td>\n",
       "    </tr>\n",
       "    <tr>\n",
       "      <th>2</th>\n",
       "      <td>apricot</td>\n",
       "    </tr>\n",
       "    <tr>\n",
       "      <th>3</th>\n",
       "      <td>avocado</td>\n",
       "    </tr>\n",
       "    <tr>\n",
       "      <th>4</th>\n",
       "      <td>banana</td>\n",
       "    </tr>\n",
       "  </tbody>\n",
       "</table>\n",
       "</div>"
      ],
      "text/plain": [
       "  classifier_labels\n",
       "0            almond\n",
       "1             apple\n",
       "2           apricot\n",
       "3           avocado\n",
       "4            banana"
      ]
     },
     "execution_count": 6,
     "metadata": {},
     "output_type": "execute_result"
    }
   ],
   "source": [
    "df_classifier.head()"
   ]
  },
  {
   "cell_type": "code",
   "execution_count": 7,
   "metadata": {},
   "outputs": [],
   "source": [
    "np_classifier = df_classifier.to_numpy()"
   ]
  },
  {
   "cell_type": "code",
   "execution_count": 8,
   "metadata": {},
   "outputs": [],
   "source": [
    "important_ingredients = np.append(important_ingredients, np_classifier)"
   ]
  },
  {
   "cell_type": "code",
   "execution_count": 9,
   "metadata": {},
   "outputs": [
    {
     "data": {
      "text/plain": [
       "(52,)"
      ]
     },
     "execution_count": 9,
     "metadata": {},
     "output_type": "execute_result"
    }
   ],
   "source": [
    "important_ingredients.shape"
   ]
  },
  {
   "cell_type": "code",
   "execution_count": 10,
   "metadata": {},
   "outputs": [],
   "source": [
    "file_out_of_fridge_labels = str(Path().absolute().parents[1]/'data/recipe_data_sets/input/recipe_out_of_fridge.csv')"
   ]
  },
  {
   "cell_type": "code",
   "execution_count": 11,
   "metadata": {},
   "outputs": [],
   "source": [
    "df_out_of_fridge = pd.read_csv(file_out_of_fridge_labels, delimiter=';')"
   ]
  },
  {
   "cell_type": "code",
   "execution_count": 12,
   "metadata": {},
   "outputs": [
    {
     "data": {
      "text/html": [
       "<div>\n",
       "<style scoped>\n",
       "    .dataframe tbody tr th:only-of-type {\n",
       "        vertical-align: middle;\n",
       "    }\n",
       "\n",
       "    .dataframe tbody tr th {\n",
       "        vertical-align: top;\n",
       "    }\n",
       "\n",
       "    .dataframe thead th {\n",
       "        text-align: right;\n",
       "    }\n",
       "</style>\n",
       "<table border=\"1\" class=\"dataframe\">\n",
       "  <thead>\n",
       "    <tr style=\"text-align: right;\">\n",
       "      <th></th>\n",
       "      <th>out_of_fridge</th>\n",
       "    </tr>\n",
       "  </thead>\n",
       "  <tbody>\n",
       "    <tr>\n",
       "      <th>0</th>\n",
       "      <td>garlic</td>\n",
       "    </tr>\n",
       "    <tr>\n",
       "      <th>1</th>\n",
       "      <td>butter</td>\n",
       "    </tr>\n",
       "    <tr>\n",
       "      <th>2</th>\n",
       "      <td>flour</td>\n",
       "    </tr>\n",
       "    <tr>\n",
       "      <th>3</th>\n",
       "      <td>milk</td>\n",
       "    </tr>\n",
       "    <tr>\n",
       "      <th>4</th>\n",
       "      <td>vinegar</td>\n",
       "    </tr>\n",
       "  </tbody>\n",
       "</table>\n",
       "</div>"
      ],
      "text/plain": [
       "  out_of_fridge\n",
       "0        garlic\n",
       "1        butter\n",
       "2         flour\n",
       "3          milk\n",
       "4       vinegar"
      ]
     },
     "execution_count": 12,
     "metadata": {},
     "output_type": "execute_result"
    }
   ],
   "source": [
    "df_out_of_fridge.head()"
   ]
  },
  {
   "cell_type": "code",
   "execution_count": 13,
   "metadata": {},
   "outputs": [],
   "source": [
    "np_out_of_fridge = df_out_of_fridge.to_numpy()"
   ]
  },
  {
   "cell_type": "code",
   "execution_count": 14,
   "metadata": {},
   "outputs": [],
   "source": [
    "important_ingredients = np.append(important_ingredients, np_out_of_fridge)"
   ]
  },
  {
   "cell_type": "code",
   "execution_count": 15,
   "metadata": {},
   "outputs": [
    {
     "data": {
      "text/plain": [
       "(168,)"
      ]
     },
     "execution_count": 15,
     "metadata": {},
     "output_type": "execute_result"
    }
   ],
   "source": [
    "important_ingredients.shape"
   ]
  },
  {
   "cell_type": "code",
   "execution_count": 16,
   "metadata": {},
   "outputs": [
    {
     "data": {
      "text/plain": [
       "(array([], dtype=int64),)"
      ]
     },
     "execution_count": 16,
     "metadata": {},
     "output_type": "execute_result"
    }
   ],
   "source": [
    "ingr = np.where(ingredients == important_ingredients[0])\n",
    "ingr"
   ]
  },
  {
   "cell_type": "code",
   "execution_count": 17,
   "metadata": {},
   "outputs": [],
   "source": [
    "important_ingredients_ids = []"
   ]
  },
  {
   "cell_type": "code",
   "execution_count": 18,
   "metadata": {},
   "outputs": [],
   "source": [
    "for ingr in important_ingredients:\n",
    "    idx_ingr = ingredients[ingr]#np.where(ingredients == important_ingredients[ingr])\n",
    "    #print(ingr, ingredients[ingr])\n",
    "    important_ingredients_ids.append(idx_ingr)\n",
    "#important_ingredients_ids"
   ]
  },
  {
   "cell_type": "code",
   "execution_count": 19,
   "metadata": {},
   "outputs": [
    {
     "data": {
      "text/plain": [
       "3501"
      ]
     },
     "execution_count": 19,
     "metadata": {},
     "output_type": "execute_result"
    }
   ],
   "source": [
    "ingredients['apple']"
   ]
  },
  {
   "cell_type": "code",
   "execution_count": 20,
   "metadata": {},
   "outputs": [
    {
     "data": {
      "text/plain": [
       "dict"
      ]
     },
     "execution_count": 20,
     "metadata": {},
     "output_type": "execute_result"
    }
   ],
   "source": [
    "type(ingredients)"
   ]
  },
  {
   "cell_type": "code",
   "execution_count": 21,
   "metadata": {},
   "outputs": [
    {
     "data": {
      "text/plain": [
       "168"
      ]
     },
     "execution_count": 21,
     "metadata": {},
     "output_type": "execute_result"
    }
   ],
   "source": [
    "len(important_ingredients)"
   ]
  },
  {
   "cell_type": "code",
   "execution_count": 22,
   "metadata": {},
   "outputs": [
    {
     "name": "stdout",
     "output_type": "stream",
     "text": [
      "0 3500\n",
      "1 3501\n",
      "2 3502\n",
      "3 3503\n",
      "4 3504\n",
      "5 3505\n",
      "6 3506\n",
      "7 3507\n",
      "8 3508\n",
      "9 3509\n",
      "10 3510\n",
      "11 3511\n",
      "12 3512\n",
      "13 3513\n",
      "14 3514\n",
      "15 3515\n",
      "16 3516\n",
      "17 3517\n",
      "18 3518\n",
      "19 3519\n",
      "20 3520\n",
      "21 3521\n",
      "22 3522\n",
      "23 3523\n",
      "24 3524\n",
      "25 3525\n",
      "26 3526\n",
      "27 3527\n",
      "28 3528\n",
      "29 3529\n",
      "30 3530\n",
      "31 3531\n",
      "32 3532\n",
      "33 3533\n",
      "34 3534\n",
      "35 3535\n",
      "36 3536\n",
      "37 3537\n",
      "38 3538\n",
      "39 3539\n",
      "40 3540\n",
      "41 3541\n",
      "42 3542\n",
      "43 3543\n",
      "44 3544\n",
      "45 3545\n",
      "46 3546\n",
      "47 3547\n",
      "48 3548\n",
      "49 3549\n",
      "50 3550\n",
      "51 3551\n",
      "52 3\n",
      "53 2\n",
      "54 5\n",
      "55 15\n",
      "56 26\n",
      "57 4\n",
      "58 29\n",
      "59 31\n",
      "60 32\n",
      "61 36\n",
      "62 35\n",
      "63 51\n",
      "64 37\n",
      "65 49\n",
      "66 43\n",
      "67 47\n",
      "68 54\n",
      "69 55\n",
      "70 56\n",
      "71 57\n",
      "72 40\n",
      "73 64\n",
      "74 63\n",
      "75 60\n",
      "76 71\n",
      "77 66\n",
      "78 70\n",
      "79 72\n",
      "80 76\n",
      "81 75\n",
      "82 85\n",
      "83 0\n",
      "84 1\n",
      "85 102\n",
      "86 69\n",
      "87 93\n",
      "88 101\n",
      "89 107\n",
      "90 111\n",
      "91 108\n",
      "92 116\n",
      "93 118\n",
      "94 117\n",
      "95 114\n",
      "96 163\n",
      "97 134\n",
      "98 124\n",
      "99 80\n",
      "100 140\n",
      "101 133\n",
      "102 138\n",
      "103 139\n",
      "104 148\n",
      "105 127\n",
      "106 150\n",
      "107 146\n",
      "108 152\n",
      "109 155\n",
      "110 156\n",
      "111 178\n",
      "112 181\n",
      "113 182\n",
      "114 185\n",
      "115 170\n",
      "116 172\n",
      "117 186\n",
      "118 188\n",
      "119 217\n",
      "120 212\n",
      "121 213\n",
      "122 226\n",
      "123 221\n",
      "124 225\n",
      "125 251\n",
      "126 224\n",
      "127 234\n",
      "128 201\n",
      "129 245\n",
      "130 244\n",
      "131 285\n",
      "132 520\n",
      "133 260\n",
      "134 462\n",
      "135 262\n",
      "136 254\n",
      "137 282\n",
      "138 302\n",
      "139 295\n",
      "140 310\n",
      "141 315\n",
      "142 306\n",
      "143 346\n",
      "144 342\n",
      "145 336\n",
      "146 359\n",
      "147 313\n",
      "148 20\n",
      "149 358\n",
      "150 717\n",
      "151 390\n",
      "152 405\n",
      "153 387\n",
      "154 403\n",
      "155 431\n",
      "156 398\n",
      "157 401\n",
      "158 434\n",
      "159 478\n",
      "160 441\n",
      "161 414\n",
      "162 470\n",
      "163 462\n",
      "164 515\n",
      "165 460\n",
      "166 410\n",
      "167 501\n"
     ]
    }
   ],
   "source": [
    "for i in range(len(important_ingredients_ids)):\n",
    "    ingredient_id = important_ingredients_ids[i]\n",
    "    print(i, ingredient_id)"
   ]
  },
  {
   "cell_type": "code",
   "execution_count": null,
   "metadata": {},
   "outputs": [],
   "source": []
  }
 ],
 "metadata": {
  "kernelspec": {
   "display_name": "deep-food",
   "language": "python",
   "name": "deep-food"
  },
  "language_info": {
   "codemirror_mode": {
    "name": "ipython",
    "version": 3
   },
   "file_extension": ".py",
   "mimetype": "text/x-python",
   "name": "python",
   "nbconvert_exporter": "python",
   "pygments_lexer": "ipython3",
   "version": "3.6.10"
  }
 },
 "nbformat": 4,
 "nbformat_minor": 4
}

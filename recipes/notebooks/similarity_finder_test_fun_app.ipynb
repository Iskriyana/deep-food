{
 "cells": [
  {
   "cell_type": "code",
   "execution_count": 1,
   "metadata": {},
   "outputs": [],
   "source": [
    "from pathlib import Path\n",
    "import os,sys,inspect\n",
    "current_dir = os.path.dirname(os.path.abspath(inspect.getfile(inspect.currentframe())))\n",
    "parent_dir = os.path.dirname(current_dir)\n",
    "sys.path.insert(0, parent_dir) "
   ]
  },
  {
   "cell_type": "code",
   "execution_count": 3,
   "metadata": {},
   "outputs": [],
   "source": [
    "from scripts.similarity_finder_for_app import find_similar_recipes"
   ]
  },
  {
   "cell_type": "code",
   "execution_count": 4,
   "metadata": {},
   "outputs": [
    {
     "name": "stdout",
     "output_type": "stream",
     "text": [
      "... loading the datasets\n",
      "... finding the similar recipes to the fridge\n"
     ]
    }
   ],
   "source": [
    "oof_labels = ['apple', 'pear']#['carrot', 'buttermilk', 'watermelon', 'corn', 'jalapeno', 'vegetable oil']\n",
    "final_suggestions = find_similar_recipes(oof_labels)"
   ]
  },
  {
   "cell_type": "code",
   "execution_count": 5,
   "metadata": {},
   "outputs": [
    {
     "data": {
      "text/html": [
       "<div>\n",
       "<style scoped>\n",
       "    .dataframe tbody tr th:only-of-type {\n",
       "        vertical-align: middle;\n",
       "    }\n",
       "\n",
       "    .dataframe tbody tr th {\n",
       "        vertical-align: top;\n",
       "    }\n",
       "\n",
       "    .dataframe thead th {\n",
       "        text-align: right;\n",
       "    }\n",
       "</style>\n",
       "<table border=\"1\" class=\"dataframe\">\n",
       "  <thead>\n",
       "    <tr style=\"text-align: right;\">\n",
       "      <th></th>\n",
       "      <th>Unnamed: 0</th>\n",
       "      <th>title</th>\n",
       "      <th>ingredients</th>\n",
       "      <th>url</th>\n",
       "    </tr>\n",
       "  </thead>\n",
       "  <tbody>\n",
       "    <tr>\n",
       "      <th>1003334</th>\n",
       "      <td>1003334</td>\n",
       "      <td>Cheesy Apple Rings</td>\n",
       "      <td>1 medium apple, 2 KRAFT Singles Target 2 For $...</td>\n",
       "      <td>http://www.kraftrecipes.com/recipes/cheesy-app...</td>\n",
       "    </tr>\n",
       "    <tr>\n",
       "      <th>26021</th>\n",
       "      <td>26021</td>\n",
       "      <td>Appletini</td>\n",
       "      <td>1 12 ounces green apple vodka, 1 ounce sour ap...</td>\n",
       "      <td>http://www.food.com/recipe/appletini-332365</td>\n",
       "    </tr>\n",
       "    <tr>\n",
       "      <th>965471</th>\n",
       "      <td>965471</td>\n",
       "      <td>Apple and Pear Juice</td>\n",
       "      <td>1 medium apple, cut into wedges, 1 medium pear...</td>\n",
       "      <td>http://www.food.com/recipe/apple-and-pear-juic...</td>\n",
       "    </tr>\n",
       "  </tbody>\n",
       "</table>\n",
       "</div>"
      ],
      "text/plain": [
       "         Unnamed: 0                 title  \\\n",
       "1003334     1003334    Cheesy Apple Rings   \n",
       "26021         26021             Appletini   \n",
       "965471       965471  Apple and Pear Juice   \n",
       "\n",
       "                                               ingredients  \\\n",
       "1003334  1 medium apple, 2 KRAFT Singles Target 2 For $...   \n",
       "26021    1 12 ounces green apple vodka, 1 ounce sour ap...   \n",
       "965471   1 medium apple, cut into wedges, 1 medium pear...   \n",
       "\n",
       "                                                       url  \n",
       "1003334  http://www.kraftrecipes.com/recipes/cheesy-app...  \n",
       "26021          http://www.food.com/recipe/appletini-332365  \n",
       "965471   http://www.food.com/recipe/apple-and-pear-juic...  "
      ]
     },
     "execution_count": 5,
     "metadata": {},
     "output_type": "execute_result"
    }
   ],
   "source": [
    "final_suggestions.head()"
   ]
  },
  {
   "cell_type": "code",
   "execution_count": 6,
   "metadata": {},
   "outputs": [
    {
     "data": {
      "text/plain": [
       "(3, 4)"
      ]
     },
     "execution_count": 6,
     "metadata": {},
     "output_type": "execute_result"
    }
   ],
   "source": [
    "final_suggestions.shape"
   ]
  },
  {
   "cell_type": "code",
   "execution_count": 7,
   "metadata": {},
   "outputs": [],
   "source": [
    "import numpy as np"
   ]
  },
  {
   "cell_type": "code",
   "execution_count": 8,
   "metadata": {},
   "outputs": [
    {
     "data": {
      "text/plain": [
       "['eggplant', 'grapes', 'lemon', 'olive', 'orange', 'paprika']"
      ]
     },
     "execution_count": 8,
     "metadata": {},
     "output_type": "execute_result"
    }
   ],
   "source": [
    "pred_labels = np.load(\"../input/pred_labels.npy\", allow_pickle=True)\n",
    "pred_labels\n",
    "pred_labels_l = list(pred_labels)\n",
    "pred_labels_l"
   ]
  },
  {
   "cell_type": "code",
   "execution_count": 9,
   "metadata": {},
   "outputs": [
    {
     "name": "stdout",
     "output_type": "stream",
     "text": [
      "... loading the datasets\n",
      "... finding the similar recipes to the fridge\n"
     ]
    }
   ],
   "source": [
    "recipes = find_similar_recipes(pred_labels_l)"
   ]
  },
  {
   "cell_type": "code",
   "execution_count": 10,
   "metadata": {},
   "outputs": [
    {
     "data": {
      "text/html": [
       "<div>\n",
       "<style scoped>\n",
       "    .dataframe tbody tr th:only-of-type {\n",
       "        vertical-align: middle;\n",
       "    }\n",
       "\n",
       "    .dataframe tbody tr th {\n",
       "        vertical-align: top;\n",
       "    }\n",
       "\n",
       "    .dataframe thead th {\n",
       "        text-align: right;\n",
       "    }\n",
       "</style>\n",
       "<table border=\"1\" class=\"dataframe\">\n",
       "  <thead>\n",
       "    <tr style=\"text-align: right;\">\n",
       "      <th></th>\n",
       "      <th>Unnamed: 0</th>\n",
       "      <th>title</th>\n",
       "      <th>ingredients</th>\n",
       "      <th>url</th>\n",
       "    </tr>\n",
       "  </thead>\n",
       "  <tbody>\n",
       "    <tr>\n",
       "      <th>105739</th>\n",
       "      <td>105739</td>\n",
       "      <td>Baked Halibut</td>\n",
       "      <td>1 lb. fresh halibut, 1 fresh lemon, 2 Tbs. oli...</td>\n",
       "      <td>http://www.foodnetwork.com/recipes/baked-halib...</td>\n",
       "    </tr>\n",
       "    <tr>\n",
       "      <th>490557</th>\n",
       "      <td>490557</td>\n",
       "      <td>Basic Fruit Salad</td>\n",
       "      <td>1 (11 ounce) can mandarin oranges, 2 green app...</td>\n",
       "      <td>http://www.food.com/recipe/basic-fruit-salad-2...</td>\n",
       "    </tr>\n",
       "    <tr>\n",
       "      <th>269913</th>\n",
       "      <td>269913</td>\n",
       "      <td>The Venetian Spritz</td>\n",
       "      <td>4 ounces prosecco, Sparkling water, 1 1/2 to 2...</td>\n",
       "      <td>http://cooking.nytimes.com/recipes/1015338</td>\n",
       "    </tr>\n",
       "  </tbody>\n",
       "</table>\n",
       "</div>"
      ],
      "text/plain": [
       "        Unnamed: 0                title  \\\n",
       "105739      105739        Baked Halibut   \n",
       "490557      490557    Basic Fruit Salad   \n",
       "269913      269913  The Venetian Spritz   \n",
       "\n",
       "                                              ingredients  \\\n",
       "105739  1 lb. fresh halibut, 1 fresh lemon, 2 Tbs. oli...   \n",
       "490557  1 (11 ounce) can mandarin oranges, 2 green app...   \n",
       "269913  4 ounces prosecco, Sparkling water, 1 1/2 to 2...   \n",
       "\n",
       "                                                      url  \n",
       "105739  http://www.foodnetwork.com/recipes/baked-halib...  \n",
       "490557  http://www.food.com/recipe/basic-fruit-salad-2...  \n",
       "269913         http://cooking.nytimes.com/recipes/1015338  "
      ]
     },
     "execution_count": 10,
     "metadata": {},
     "output_type": "execute_result"
    }
   ],
   "source": [
    "recipes.head()"
   ]
  },
  {
   "cell_type": "code",
   "execution_count": 11,
   "metadata": {},
   "outputs": [],
   "source": [
    "recipe_name = recipes.loc[:, 'title']"
   ]
  },
  {
   "cell_type": "code",
   "execution_count": 12,
   "metadata": {},
   "outputs": [
    {
     "data": {
      "text/plain": [
       "105739          Baked Halibut\n",
       "490557      Basic Fruit Salad\n",
       "269913    The Venetian Spritz\n",
       "Name: title, dtype: object"
      ]
     },
     "execution_count": 12,
     "metadata": {},
     "output_type": "execute_result"
    }
   ],
   "source": [
    "recipe_name"
   ]
  },
  {
   "cell_type": "code",
   "execution_count": 13,
   "metadata": {},
   "outputs": [],
   "source": [
    "recipes_ingr = recipes.loc[:, 'ingredients']"
   ]
  },
  {
   "cell_type": "code",
   "execution_count": 14,
   "metadata": {},
   "outputs": [
    {
     "data": {
      "text/plain": [
       "105739    1 lb. fresh halibut, 1 fresh lemon, 2 Tbs. oli...\n",
       "490557    1 (11 ounce) can mandarin oranges, 2 green app...\n",
       "269913    4 ounces prosecco, Sparkling water, 1 1/2 to 2...\n",
       "Name: ingredients, dtype: object"
      ]
     },
     "execution_count": 14,
     "metadata": {},
     "output_type": "execute_result"
    }
   ],
   "source": [
    "recipes_ingr"
   ]
  },
  {
   "cell_type": "code",
   "execution_count": 15,
   "metadata": {},
   "outputs": [
    {
     "data": {
      "text/plain": [
       "105739    http://www.foodnetwork.com/recipes/baked-halib...\n",
       "490557    http://www.food.com/recipe/basic-fruit-salad-2...\n",
       "269913           http://cooking.nytimes.com/recipes/1015338\n",
       "Name: url, dtype: object"
      ]
     },
     "execution_count": 15,
     "metadata": {},
     "output_type": "execute_result"
    }
   ],
   "source": [
    "recipe_url = recipes.loc[:, 'url']\n",
    "recipe_url"
   ]
  },
  {
   "cell_type": "code",
   "execution_count": 16,
   "metadata": {},
   "outputs": [
    {
     "data": {
      "text/plain": [
       "3"
      ]
     },
     "execution_count": 16,
     "metadata": {},
     "output_type": "execute_result"
    }
   ],
   "source": [
    "recipes.shape[0]"
   ]
  },
  {
   "cell_type": "code",
   "execution_count": 17,
   "metadata": {},
   "outputs": [
    {
     "name": "stdout",
     "output_type": "stream",
     "text": [
      "Baked Halibut\n",
      "http://www.foodnetwork.com/recipes/baked-halibut-recipe.html\n",
      "1 lb. fresh halibut, 1 fresh lemon, 2 Tbs. olive oil, 1 Tbs. paprika, \n",
      "Basic Fruit Salad\n",
      "http://www.food.com/recipe/basic-fruit-salad-287692\n",
      "1 (11 ounce) can mandarin oranges, 2 green apples, 2 bosc pears, 12 lemon, 12 cantaloupe, 12 honeydew melon, 2 cups grapes, \n",
      "The Venetian Spritz\n",
      "http://cooking.nytimes.com/recipes/1015338\n",
      "4 ounces prosecco, Sparkling water, 1 1/2 to 2 ounces Aperol, Orange, Lemon, 1 green olive, \n"
     ]
    }
   ],
   "source": [
    "for index, row in recipes.iterrows():\n",
    "    print(row['title'])\n",
    "    print(row['url'])\n",
    "    print(row['ingredients'])"
   ]
  },
  {
   "cell_type": "code",
   "execution_count": null,
   "metadata": {},
   "outputs": [],
   "source": []
  }
 ],
 "metadata": {
  "kernelspec": {
   "display_name": "deep-food",
   "language": "python",
   "name": "deep-food"
  },
  "language_info": {
   "codemirror_mode": {
    "name": "ipython",
    "version": 3
   },
   "file_extension": ".py",
   "mimetype": "text/x-python",
   "name": "python",
   "nbconvert_exporter": "python",
   "pygments_lexer": "ipython3",
   "version": "3.6.10"
  }
 },
 "nbformat": 4,
 "nbformat_minor": 4
}

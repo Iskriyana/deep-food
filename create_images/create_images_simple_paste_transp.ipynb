{
 "cells": [
  {
   "cell_type": "code",
   "execution_count": 1,
   "metadata": {},
   "outputs": [],
   "source": [
    "import numpy as np\n",
    "import pandas as pd\n",
    "\n",
    "import sys\n",
    "import os\n",
    "import random\n",
    "\n",
    "from PIL import Image, ImageFont, ImageDraw\n",
    "from PIL.ImageChops import add, subtract, multiply, difference, screen\n",
    "\n",
    "import cv2\n",
    "\n",
    "import matplotlib.pyplot as plt"
   ]
  },
  {
   "cell_type": "code",
   "execution_count": 310,
   "metadata": {},
   "outputs": [],
   "source": [
    "# save it to image and check then\n",
    "# convert to png\n",
    "# try with putalpha https://note.nkmk.me/en/python-pillow-putalpha/\n",
    "# try with alpha from 255 to 0"
   ]
  },
  {
   "cell_type": "code",
   "execution_count": 253,
   "metadata": {},
   "outputs": [],
   "source": [
    "#apple = Image.open(\"../artificial_dataset/small-combiner-of-ingred-with-background/apple.png\")\n",
    "#apple = Image.open(\"../artificial_dataset/small-combiner-of-ingred-with-background/apple.jpg\")\n",
    "#apple = Image.open(\"../test_images/apple_transp6.png\")\n",
    "#apple = Image.open(\"apple_transp_3_new_img.png\")\n",
    "#apple = Image.open(\"apple_transp_2tr_pil_tr.png\") #- the best, quasi threshold\n",
    "#apple = Image.open(\"apple_transp_3_np_tr.png\")\n",
    "#apple = Image.open(\"apple_transp_flour_pil_tr.png\")\n",
    "apple = Image.open(\"test.png\")"
   ]
  },
  {
   "cell_type": "code",
   "execution_count": 254,
   "metadata": {},
   "outputs": [
    {
     "data": {
      "text/plain": [
       "'RGBA'"
      ]
     },
     "execution_count": 254,
     "metadata": {},
     "output_type": "execute_result"
    }
   ],
   "source": [
    "apple.mode"
   ]
  },
  {
   "cell_type": "code",
   "execution_count": 255,
   "metadata": {},
   "outputs": [],
   "source": [
    "apple_w, apple_h = (200, 200)"
   ]
  },
  {
   "cell_type": "code",
   "execution_count": 256,
   "metadata": {},
   "outputs": [],
   "source": [
    "apple = apple.resize((apple_w,apple_h))"
   ]
  },
  {
   "cell_type": "code",
   "execution_count": 257,
   "metadata": {},
   "outputs": [],
   "source": [
    "background = Image.open(\"../artificial_dataset/small-combiner-of-ingred-with-background/background.jpg\")"
   ]
  },
  {
   "cell_type": "code",
   "execution_count": 258,
   "metadata": {},
   "outputs": [],
   "source": [
    "background.paste(apple, (0,0) , apple)"
   ]
  },
  {
   "cell_type": "code",
   "execution_count": 259,
   "metadata": {},
   "outputs": [],
   "source": [
    "background.show()"
   ]
  },
  {
   "cell_type": "markdown",
   "metadata": {},
   "source": [
    "# Save it to image"
   ]
  },
  {
   "cell_type": "code",
   "execution_count": 38,
   "metadata": {},
   "outputs": [
    {
     "data": {
      "text/plain": [
       "'RGB'"
      ]
     },
     "execution_count": 38,
     "metadata": {},
     "output_type": "execute_result"
    }
   ],
   "source": [
    "#apple_s = Image.open(\"../artificial_dataset/small-combiner-of-ingred-with-background/apple.jpg\")\n",
    "apple_s = Image.open(\"../test_images/apple_transp_3.jpeg\")\n",
    "apple_s.mode"
   ]
  },
  {
   "cell_type": "code",
   "execution_count": 39,
   "metadata": {},
   "outputs": [],
   "source": [
    "#apple_s.show()"
   ]
  },
  {
   "cell_type": "code",
   "execution_count": 40,
   "metadata": {},
   "outputs": [
    {
     "data": {
      "text/plain": [
       "'RGBA'"
      ]
     },
     "execution_count": 40,
     "metadata": {},
     "output_type": "execute_result"
    }
   ],
   "source": [
    "apple_s = apple_s.convert('RGBA')\n",
    "apple_s.mode"
   ]
  },
  {
   "cell_type": "code",
   "execution_count": 41,
   "metadata": {},
   "outputs": [],
   "source": [
    "apple_s_w, apple_s_h = (200, 200)"
   ]
  },
  {
   "cell_type": "code",
   "execution_count": 42,
   "metadata": {},
   "outputs": [],
   "source": [
    "apple_s = apple_s.resize((apple_s_w, apple_s_h))"
   ]
  },
  {
   "cell_type": "code",
   "execution_count": 43,
   "metadata": {},
   "outputs": [
    {
     "data": {
      "text/plain": [
       "'RGB'"
      ]
     },
     "execution_count": 43,
     "metadata": {},
     "output_type": "execute_result"
    }
   ],
   "source": [
    "background_s = Image.open(\"../artificial_dataset/small-combiner-of-ingred-with-background/background.jpg\")\n",
    "background_s.mode"
   ]
  },
  {
   "cell_type": "code",
   "execution_count": 44,
   "metadata": {},
   "outputs": [
    {
     "data": {
      "text/plain": [
       "'RGBA'"
      ]
     },
     "execution_count": 44,
     "metadata": {},
     "output_type": "execute_result"
    }
   ],
   "source": [
    "background_s = background_s.convert('RGBA')\n",
    "background_s.mode"
   ]
  },
  {
   "cell_type": "code",
   "execution_count": 45,
   "metadata": {},
   "outputs": [],
   "source": [
    "background_s.paste(apple_s, (0,0), mask = apple_s)"
   ]
  },
  {
   "cell_type": "code",
   "execution_count": 46,
   "metadata": {},
   "outputs": [],
   "source": [
    "background_s.save(\"background_s.png\")"
   ]
  },
  {
   "cell_type": "code",
   "execution_count": 47,
   "metadata": {},
   "outputs": [],
   "source": [
    "background_s.show()"
   ]
  },
  {
   "cell_type": "markdown",
   "metadata": {},
   "source": [
    "# Convert to png"
   ]
  },
  {
   "cell_type": "code",
   "execution_count": 263,
   "metadata": {},
   "outputs": [],
   "source": [
    "#apple_conv = Image.open(\"../artificial_dataset/small-combiner-of-ingred-with-background/apple.jpg\")\n",
    "apple_conv = Image.open(\"../test_images/apple_transp_3.jpeg\")\n",
    "apple_conv = apple_conv.convert('RGBA')\n",
    "apple_conv.save(\"apple_conv.png\")"
   ]
  },
  {
   "cell_type": "code",
   "execution_count": 264,
   "metadata": {},
   "outputs": [],
   "source": [
    "apple_conv = Image.open(\"apple_conv.png\")"
   ]
  },
  {
   "cell_type": "code",
   "execution_count": 265,
   "metadata": {},
   "outputs": [],
   "source": [
    "apple_conv_w, apple_conv_h = (200, 200)"
   ]
  },
  {
   "cell_type": "code",
   "execution_count": 266,
   "metadata": {},
   "outputs": [],
   "source": [
    "apple_conv = apple_conv.resize((apple_conv_w, apple_conv_h))"
   ]
  },
  {
   "cell_type": "code",
   "execution_count": 267,
   "metadata": {},
   "outputs": [],
   "source": [
    "background_conv = Image.open(\"../artificial_dataset/small-combiner-of-ingred-with-background/background.jpg\")"
   ]
  },
  {
   "cell_type": "code",
   "execution_count": 268,
   "metadata": {},
   "outputs": [],
   "source": [
    "background_conv.paste(apple_conv,  (0,0), apple_conv)"
   ]
  },
  {
   "cell_type": "code",
   "execution_count": 269,
   "metadata": {},
   "outputs": [],
   "source": [
    "background_conv.show()"
   ]
  },
  {
   "cell_type": "markdown",
   "metadata": {},
   "source": [
    "# Add Alpha Channel"
   ]
  },
  {
   "cell_type": "markdown",
   "metadata": {},
   "source": [
    "## PIL "
   ]
  },
  {
   "cell_type": "code",
   "execution_count": 200,
   "metadata": {},
   "outputs": [],
   "source": [
    "# https://stackoverflow.com/questions/765736/using-pil-to-make-all-white-pixels-transparent\n",
    "from PIL import Image\n",
    "\n",
    "img = Image.open('../test_images/flour.jpg')\n",
    "img = img.convert(\"RGBA\")\n",
    "datas = img.getdata()\n",
    "\n",
    "newData = []\n",
    "for item in datas:\n",
    "    if item[0] > 200 and item[1] > 200 and item[2] > 200:\n",
    "        newData.append((255, 255, 255, 0))\n",
    "    else:\n",
    "        newData.append(item)\n",
    "\n",
    "img.putdata(newData)\n",
    "img.save(\"apple_transp_flour_pil_tr.png\", \"PNG\")"
   ]
  },
  {
   "cell_type": "markdown",
   "metadata": {},
   "source": [
    "## numpy"
   ]
  },
  {
   "cell_type": "code",
   "execution_count": 144,
   "metadata": {},
   "outputs": [],
   "source": [
    "# https://stackoverflow.com/questions/765736/using-pil-to-make-all-white-pixels-transparent\n",
    "import numpy as np\n",
    "\n",
    "img = Image.open('../test_images/apple_transp_3.jpeg')\n",
    "\n",
    "#def white_to_transparency(img):\n",
    "x = np.asarray(img.convert('RGBA')).copy()\n",
    "\n",
    "x[:, :, 3] = (255 * (x[:, :, :3] != 255).any(axis=2)).astype(np.uint8)\n",
    "\n",
    "new = Image.fromarray(x)\n",
    "new.show()\n",
    "new.save(\"apple_transp_3_np_tr.png\", \"PNG\")"
   ]
  },
  {
   "cell_type": "markdown",
   "metadata": {},
   "source": [
    "# Change alpha value"
   ]
  },
  {
   "cell_type": "markdown",
   "metadata": {},
   "source": [
    "### putalpha"
   ]
  },
  {
   "cell_type": "code",
   "execution_count": 270,
   "metadata": {},
   "outputs": [],
   "source": [
    "apple_mask = Image.open(\"../artificial_dataset/small-combiner-of-ingred-with-background/apple.jpg\")\n",
    "#apple_mask = apple_mask.convert('RGBA')"
   ]
  },
  {
   "cell_type": "code",
   "execution_count": 271,
   "metadata": {},
   "outputs": [],
   "source": [
    "apple_mask_w, apple_mask_h = (200, 200)"
   ]
  },
  {
   "cell_type": "code",
   "execution_count": 272,
   "metadata": {},
   "outputs": [],
   "source": [
    "apple_mask = apple_mask.resize((apple_mask_w, apple_mask_h))"
   ]
  },
  {
   "cell_type": "code",
   "execution_count": 273,
   "metadata": {},
   "outputs": [],
   "source": [
    "background_mask = Image.open(\"../artificial_dataset/small-combiner-of-ingred-with-background/background.jpg\")"
   ]
  },
  {
   "cell_type": "code",
   "execution_count": 274,
   "metadata": {},
   "outputs": [],
   "source": [
    "#mask = Image.open(\"../artificial_dataset/small-combiner-of-ingred-with-background/apple.jpg\")\n",
    "#mask = mask.resize((apple_mask_w, apple_mask_h))\n",
    "#mask = mask.convert(\"L\")\n",
    "#mask.show()"
   ]
  },
  {
   "cell_type": "code",
   "execution_count": 275,
   "metadata": {},
   "outputs": [],
   "source": [
    "#bar = Image.open(\"../artificial_dataset/small-combiner-of-ingred-with-background/apple.jpg\")\n",
    "#bar = bar.resize((apple_mask_w, apple_mask_h))\n",
    "#bar.putalpha(mask)\n",
    "apple_mask.putalpha(0)\n",
    "#bar.show()"
   ]
  },
  {
   "cell_type": "code",
   "execution_count": 276,
   "metadata": {},
   "outputs": [],
   "source": [
    "background_mask.paste(apple_mask,  (0,0), apple_mask)"
   ]
  },
  {
   "cell_type": "code",
   "execution_count": 277,
   "metadata": {},
   "outputs": [],
   "source": [
    "background_mask.show()"
   ]
  },
  {
   "cell_type": "markdown",
   "metadata": {},
   "source": [
    "### numpy manipulation"
   ]
  },
  {
   "cell_type": "code",
   "execution_count": 351,
   "metadata": {},
   "outputs": [
    {
     "data": {
      "text/plain": [
       "'RGB'"
      ]
     },
     "execution_count": 351,
     "metadata": {},
     "output_type": "execute_result"
    }
   ],
   "source": [
    "#apple_np = Image.open(\"../artificial_dataset/small-combiner-of-ingred-with-background/apple.jpg\")\n",
    "#apple_np = Image.open(\"../test_images/apple_transp.jpeg\")\n",
    "apple_np = Image.open(\"../test_images/apple_transp_3.jpeg\")\n",
    "apple_np.mode"
   ]
  },
  {
   "cell_type": "code",
   "execution_count": 352,
   "metadata": {},
   "outputs": [
    {
     "data": {
      "text/plain": [
       "'RGBA'"
      ]
     },
     "execution_count": 352,
     "metadata": {},
     "output_type": "execute_result"
    }
   ],
   "source": [
    "apple_np = apple_np.convert('RGBA')\n",
    "apple_np.mode"
   ]
  },
  {
   "cell_type": "code",
   "execution_count": 353,
   "metadata": {},
   "outputs": [],
   "source": [
    "apple_np_w, apple_np_h = (200, 200)"
   ]
  },
  {
   "cell_type": "code",
   "execution_count": 354,
   "metadata": {},
   "outputs": [],
   "source": [
    "apple_np = apple_np.resize((apple_np_w, apple_np_h))"
   ]
  },
  {
   "cell_type": "code",
   "execution_count": 355,
   "metadata": {},
   "outputs": [
    {
     "data": {
      "text/plain": [
       "'RGB'"
      ]
     },
     "execution_count": 355,
     "metadata": {},
     "output_type": "execute_result"
    }
   ],
   "source": [
    "background_np = Image.open(\"../artificial_dataset/small-combiner-of-ingred-with-background/background.jpg\")\n",
    "background_np.mode"
   ]
  },
  {
   "cell_type": "code",
   "execution_count": 356,
   "metadata": {},
   "outputs": [
    {
     "data": {
      "text/plain": [
       "'RGBA'"
      ]
     },
     "execution_count": 356,
     "metadata": {},
     "output_type": "execute_result"
    }
   ],
   "source": [
    "background_np = background_np.convert('RGBA')\n",
    "background_np.mode"
   ]
  },
  {
   "cell_type": "code",
   "execution_count": 357,
   "metadata": {},
   "outputs": [],
   "source": [
    "from numpy import asarray"
   ]
  },
  {
   "cell_type": "code",
   "execution_count": 358,
   "metadata": {},
   "outputs": [],
   "source": [
    "mask_layer = apple_np.split()[3]\n",
    "mask_layer = asarray(mask_layer) * 0\n",
    "mask_layer = Image.fromarray(mask_layer)"
   ]
  },
  {
   "cell_type": "code",
   "execution_count": 359,
   "metadata": {},
   "outputs": [],
   "source": [
    "background_np.paste(apple_np, (0,0), mask = apple_np)"
   ]
  },
  {
   "cell_type": "code",
   "execution_count": 360,
   "metadata": {},
   "outputs": [],
   "source": [
    "background_np.show()"
   ]
  },
  {
   "cell_type": "code",
   "execution_count": 228,
   "metadata": {},
   "outputs": [
    {
     "data": {
      "text/plain": [
       "array([[255, 255, 255, ..., 255, 255, 255],\n",
       "       [255, 255, 255, ..., 255, 255, 255],\n",
       "       [255, 255, 255, ..., 255, 255, 255],\n",
       "       ...,\n",
       "       [255, 255, 255, ..., 255, 255, 255],\n",
       "       [255, 255, 255, ..., 255, 255, 255],\n",
       "       [255, 255, 255, ..., 255, 255, 255]], dtype=uint8)"
      ]
     },
     "execution_count": 228,
     "metadata": {},
     "output_type": "execute_result"
    }
   ],
   "source": [
    "np.array(apple_np)[:,:,3]"
   ]
  },
  {
   "cell_type": "code",
   "execution_count": 347,
   "metadata": {},
   "outputs": [
    {
     "data": {
      "text/plain": [
       "True"
      ]
     },
     "execution_count": 347,
     "metadata": {},
     "output_type": "execute_result"
    },
    {
     "data": {
      "image/png": "[encoded data removed]",
      "text/plain": [
       "<Figure size 432x288 with 1 Axes>"
      ]
     },
     "metadata": {
      "needs_background": "light"
     },
     "output_type": "display_data"
    }
   ],
   "source": [
    "import cv2\n",
    "apple_np = cv2.imread(\"../test_images/apple_transp_3.jpeg\")\n",
    "apple_np = cv2.resize(apple_np, (200,200))\n",
    "\n",
    "gray_image = apple_np.mean(2)\n",
    "mask_transparent = gray_image > 250\n",
    "\n",
    "background_np = cv2.imread(\"../artificial_dataset/small-combiner-of-ingred-with-background/background.jpg\")\n",
    "\n",
    "x0 = 50\n",
    "y0 = 100\n",
    "for i in range(3):\n",
    "    background_np[x0:x0+apple_np.shape[0], y0:y0+apple_np.shape[1], i][~mask_transparent] +=\\\n",
    "        apple_np[~mask_transparent, i]\n",
    "\n",
    "\n",
    "#apple_np = cv2.cvtColor(apple_np, cv2.COLOR_BGR2BGRA) \n",
    "#apple_np[:,:,3] = mask_transparent.astype(int)*255\n",
    "\n",
    "#apple_pil = Image.fromarray(np.uint8(apple_np))\n",
    "#background_np.paste(apple_pil, (0,0), mask = apple_pil)\n",
    "#background_np.show()\n",
    "\n",
    "plt.imshow(background_np)\n",
    "cv2.imwrite('test_np.jpg', background_np)"
   ]
  },
  {
   "cell_type": "code",
   "execution_count": 261,
   "metadata": {},
   "outputs": [
    {
     "data": {
      "text/plain": [
       "array([[255., 255., 255., ..., 255., 255., 255.],\n",
       "       [255., 255., 255., ..., 255., 255., 255.],\n",
       "       [255., 255., 255., ..., 255., 255., 255.],\n",
       "       ...,\n",
       "       [255., 255., 255., ..., 255., 255., 255.],\n",
       "       [255., 255., 255., ..., 255., 255., 255.],\n",
       "       [255., 255., 255., ..., 255., 255., 255.]])"
      ]
     },
     "execution_count": 261,
     "metadata": {},
     "output_type": "execute_result"
    }
   ],
   "source": []
  },
  {
   "cell_type": "markdown",
   "metadata": {},
   "source": [
    "# Try with CV2"
   ]
  },
  {
   "cell_type": "code",
   "execution_count": 14,
   "metadata": {},
   "outputs": [
    {
     "data": {
      "text/plain": [
       "True"
      ]
     },
     "execution_count": 14,
     "metadata": {},
     "output_type": "execute_result"
    }
   ],
   "source": [
    "# adaptive thresholding: https://opencv-python-tutroals.readthedocs.io/en/latest/py_tutorials/py_imgproc/py_thresholding/py_thresholding.html\n",
    "# Google with the function and a lot of examples\n",
    "\n",
    "ingredient_cv = cv2.imread(\"../test_images/apple_transp_3.jpeg\")\n",
    "\n",
    "#load background\n",
    "background_cv = cv2.imread('../artificial_dataset/small-combiner-of-ingred-with-background/background.jpg')\n",
    "                \n",
    "# resize ingredient image to make sure it is always smaller than the background\n",
    "rows_i = int(background_cv.shape[0]/2)\n",
    "cols_i = int(background_cv.shape[1]/2)\n",
    "dim_res = (cols_i, rows_i)\n",
    "ingredient_res = cv2.resize(ingredient_cv, dim_res)\n",
    "                \n",
    "# Create a Region of Images (=ROI) in a randomised matter \n",
    "rows, cols, channels = ingredient_res.shape\n",
    "            \n",
    "start_rows = np.random.randint(0, background_cv.shape[0]-rows)\n",
    "end_rows = start_rows + rows\n",
    "start_cols = np.random.randint(0, background_cv.shape[1]-cols)\n",
    "end_cols = start_cols + cols\n",
    "\n",
    "roi = background_cv[start_rows:end_rows, start_cols:end_cols]\n",
    "                \n",
    "#parameters for rotation\n",
    "#M are the coordinates of the center, (cols/2, rows/2) is the center of rotation for the image\n",
    "deg = np.random.randint(0, 360)\n",
    "M = cv2.getRotationMatrix2D((cols/2, rows/2), deg, 1)\n",
    "                \n",
    "ingredient_rot = cv2.warpAffine(ingredient_res, M, (cols, rows))\n",
    "\n",
    "# Now create a mask of the ingredient and create its inverse mask also\n",
    "img2gray = cv2.cvtColor(ingredient_res, cv2.COLOR_BGR2GRAY)\n",
    "\n",
    "# everything higher than the threshold (i.e. lighter), will become black\n",
    "# the rest (i.e. the darker pixels filled by the object), will become white\n",
    "# with THRESH_OTSU the threshold is adjustable according to the image\n",
    "# similar to the idea to take the mean value between black and white as a threshold\n",
    "# the GaussianBluring smooths the image to make the black & white more precise\n",
    "blur = cv2.GaussianBlur(img2gray, (5,5), 0)\n",
    "#ret, \n",
    "mask = cv2.adaptiveThreshold(blur,255,cv2.ADAPTIVE_THRESH_GAUSSIAN_C,cv2.THRESH_BINARY,5,2)\n",
    "            #cv2.threshold(blur, 0, 255,  cv2.THRESH_BINARY_INV + cv2.THRESH_OTSU)\n",
    "mask_rot = cv2.warpAffine(mask, M, (cols, rows))\n",
    "                \n",
    "mask_inv = cv2.bitwise_not(mask_rot)\n",
    "\n",
    "# Black-out the area of the ingredient in ROI in the background image\n",
    "background_bg = cv2.bitwise_and(roi, roi, mask = mask_inv)\n",
    "\n",
    "# Take only region of the ingredient from the ingredient image.\n",
    "ingredient_fg = cv2.bitwise_and(ingredient_rot, ingredient_rot, mask = mask_rot)\n",
    "\n",
    "# Put the ingredient in ROI and modify the main image\n",
    "dst = cv2.add(background_bg, ingredient_fg)\n",
    "\n",
    "#positions are randomised (see above)\n",
    "background_cv[start_rows:end_rows, start_cols:end_cols] = dst\n",
    "                \n",
    "img_comb = background_cv\n",
    "                                         \n",
    "#filename = os.path.splitext(f)[0]\n",
    "#file_path_comb = os.path.join(root, f'{filename}_comb.jpg')\n",
    "cv2.imwrite('test_cv.jpg', img_comb)"
   ]
  },
  {
   "cell_type": "markdown",
   "metadata": {},
   "source": [
    "# OpenCV Try with edge detection"
   ]
  },
  {
   "cell_type": "code",
   "execution_count": 255,
   "metadata": {},
   "outputs": [
    {
     "data": {
      "text/plain": [
       "True"
      ]
     },
     "execution_count": 255,
     "metadata": {},
     "output_type": "execute_result"
    }
   ],
   "source": [
    "#https://stackoverflow.com/questions/52810099/making-background-transparent-in-jpeg-image-by-converting-to-png\n",
    "#Parameters\n",
    "BLUR = 21\n",
    "CANNY_THRESH_1 = 10\n",
    "CANNY_THRESH_2 = 200\n",
    "MASK_DILATE_ITER = 10\n",
    "MASK_ERODE_ITER = 10\n",
    "MASK_COLOR = (0.0,0.0,1.0) # In BGR format\n",
    "\n",
    "\n",
    "ingredient_cv = cv2.imread(\"../test_images/apple_transp_3.jpeg\")\n",
    "\n",
    "#load background\n",
    "background_cv = cv2.imread('../artificial_dataset/small-combiner-of-ingred-with-background/background.jpg')\n",
    "                \n",
    "# resize ingredient image to make sure it is always smaller than the background\n",
    "rows_i = int(background_cv.shape[0]/2)\n",
    "cols_i = int(background_cv.shape[1]/2)\n",
    "dim_res = (cols_i, rows_i)\n",
    "ingredient_res = cv2.resize(ingredient_cv, dim_res)\n",
    "                \n",
    "# Create a Region of Images (=ROI) in a randomised matter \n",
    "rows, cols, channels = ingredient_res.shape\n",
    "            \n",
    "start_rows = np.random.randint(0, background_cv.shape[0]-rows)\n",
    "end_rows = start_rows + rows\n",
    "start_cols = np.random.randint(0, background_cv.shape[1]-cols)\n",
    "end_cols = start_cols + cols\n",
    "\n",
    "roi = background_cv[start_rows:end_rows, start_cols:end_cols]\n",
    "                \n",
    "#parameters for rotation\n",
    "#M are the coordinates of the center, (cols/2, rows/2) is the center of rotation for the image\n",
    "#deg = np.random.randint(0, 360)\n",
    "#M = cv2.getRotationMatrix2D((cols/2, rows/2), deg, 1)\n",
    "                \n",
    "#ingredient_rot = cv2.warpAffine(ingredient_res, M, (cols, rows))\n",
    "\n",
    "# Now create a mask of the ingredient and create its inverse mask also\n",
    "#img2gray = cv2.cvtColor(ingredient_res, cv2.COLOR_BGR2GRAY)\n",
    "\n",
    "hsv = cv2.cvtColor(ingredient_res, cv2.COLOR_BGR2HSV)\n",
    "v = hsv[:,:,2]\n",
    "th, threshed = cv2.threshold(v, 0, 255, cv2.THRESH_OTSU|cv2.THRESH_BINARY_INV)\n",
    "threshed[-1] = 255\n",
    "\n",
    "cnts = cv2.findContours(threshed, cv2.RETR_EXTERNAL, cv2.CHAIN_APPROX_NONE)[-2]\n",
    "\n",
    "mask = np.zeros_like(threshed)\n",
    "cv2.drawContours(mask, cnts, -1, (255, 0, 0), -1, cv2.LINE_AA)\n",
    "mask = cv2.erode(mask, np.ones((3,3), np.int32), iterations=1)\n",
    "\n",
    "png = np.dstack((ingredient_res, mask))\n",
    "cv2.imwrite(\"test_hsv.png\", png)\n",
    "\n",
    "\n",
    "# everything higher than the threshold (i.e. lighter), will become black\n",
    "# the rest (i.e. the darker pixels filled by the object), will become white\n",
    "# with THRESH_OTSU the threshold is adjustable according to the image\n",
    "# similar to the idea to take the mean value between black and white as a threshold\n",
    "# the GaussianBluring smooths the image to make the black & white more precise\n",
    "\n",
    "#blur = cv2.GaussianBlur(img2gray, (5,5), 0)\n",
    "#ret, mask = cv2.threshold(blur, 0, 255, cv2.THRESH_BINARY_INV + cv2.THRESH_OTSU)\n",
    "#mask_rot = cv2.warpAffine(mask, M, (cols, rows))\n",
    "                \n",
    "#mask_inv = cv2.bitwise_not(mask_rot)\n",
    "\n",
    "# Black-out the area of the ingredient in ROI in the background image\n",
    "#background_bg = cv2.bitwise_and(roi, roi, mask = mask_inv)\n",
    "\n",
    "# Take only region of the ingredient from the ingredient image.\n",
    "#ingredient_fg = cv2.bitwise_and(ingredient_rot, ingredient_rot, mask = mask_rot)\n",
    "\n",
    "# Put the ingredient in ROI and modify the main image\n",
    "#dst = cv2.add(background_bg, ingredient_fg)\n",
    "\n",
    "#positions are randomised (see above)\n",
    "#background_cv[start_rows:end_rows, start_cols:end_cols] = dst\n",
    "                \n",
    "#img_comb = background_cv\n",
    "                                         \n",
    "#filename = os.path.splitext(f)[0]\n",
    "#file_path_comb = os.path.join(root, f'{filename}_comb.jpg')\n",
    "#cv2.imwrite('test_cv.jpg', img_comb)"
   ]
  },
  {
   "cell_type": "code",
   "execution_count": 230,
   "metadata": {},
   "outputs": [],
   "source": [
    "# https://www.nuomiphp.com/eplan/en/155124.html\n",
    "# edges and contours: https://www.pyimagesearch.com/2014/04/21/building-pokedex-python-finding-game-boy-screen-step-4-6/\n",
    "# documentation findContours: https://docs.opencv.org/2.4/modules/imgproc/doc/structural_analysis_and_shape_descriptors.html\n",
    "\n",
    "# white jpeg images into transparent & then simple copy paste\n",
    "# download png images and copy paste them ... \n",
    "# numpy png images\n",
    "\n",
    "import cv2\n",
    "import numpy as np\n",
    "\n",
    "# read image\n",
    "img = cv2.imread('../test_images/apple_transp_3.jpeg')\n",
    "\n",
    "# convert to grayscale\n",
    "gray = cv2.cvtColor(img,cv2.COLOR_BGR2GRAY)\n",
    "cv2.imshow(\"GREY\", gray)\n",
    "\n",
    "# invert gray image\n",
    "gray = 255 - gray\n",
    "cv2.imshow(\"INV_GREY\", gray)\n",
    "\n",
    "# threshold\n",
    "thresh = cv2.threshold(gray,0,255,cv2.THRESH_BINARY)[1]\n",
    "\n",
    "# apply close and open morphology to fill tiny black and white holes and save as mask\n",
    "kernel = np.ones((3,3), np.uint8)\n",
    "mask = cv2.morphologyEx(thresh, cv2.MORPH_CLOSE, kernel)\n",
    "mask = cv2.morphologyEx(mask, cv2.MORPH_OPEN, kernel)\n",
    "\n",
    "# get contours (presumably just one around the nonzero pixels) \n",
    "contours = cv2.findContours(mask, cv2.RETR_EXTERNAL, cv2.CHAIN_APPROX_SIMPLE)\n",
    "#print(contours)\n",
    "contours = contours[0] if len(contours) == 2 else contours[1]\n",
    "cntr = contours[0]\n",
    "x,y,w,h = cv2.boundingRect(cntr)\n",
    "\n",
    "# make background transparent by placing the mask into the alpha channel\n",
    "new_img = cv2.cvtColor(img, cv2.COLOR_BGR2BGRA)\n",
    "new_img[:, :, 3] = mask\n",
    "\n",
    "# then crop it to bounding rectangle\n",
    "crop = new_img[y:y+h, x:x+w]\n",
    "\n",
    "# save cropped image\n",
    "cv2.imwrite('apple_transp_3_thresh.png',thresh)\n",
    "cv2.imwrite('apple_transp_3_mask.png',mask)\n",
    "cv2.imwrite('apple_transp_3_new_img.png',new_img)\n",
    "cv2.imwrite('apple_transp_3_cropped.png',crop)\n",
    "\n",
    "# show the images\n",
    "cv2.imshow(\"THRESH\", thresh)\n",
    "cv2.imshow(\"MASK\", mask)\n",
    "cv2.imshow(\"new_img\", new_img)\n",
    "cv2.imshow(\"CROP\", crop)\n",
    "cv2.waitKey(0)\n",
    "cv2.destroyAllWindows()"
   ]
  },
  {
   "cell_type": "code",
   "execution_count": null,
   "metadata": {},
   "outputs": [],
   "source": [
    "# https://docs.opencv.org/3.4.3/d8/d83/tutorial_py_grabcut.html\n",
    "import numpy as np\n",
    "import cv2 as cv\n",
    "from matplotlib import pyplot as plt\n",
    "\n",
    "img = cv.imread('../test_images/apple_transp_3.jpeg')\n",
    "mask = np.zeros(img.shape[:2],np.uint8)\n",
    "bgdModel = np.zeros((1,65),np.float64)\n",
    "fgdModel = np.zeros((1,65),np.float64)\n",
    "rect = (50,50,450,290)\n",
    "cv.grabCut(img,mask,rect,bgdModel,fgdModel,5,cv.GC_INIT_WITH_RECT)\n",
    "mask2 = np.where((mask==2)|(mask==0),0,1).astype('uint8')\n",
    "img = img*mask2[:,:,np.newaxis]\n",
    "plt.imshow(img),plt.colorbar(),plt.show()\n",
    "\n",
    "# newmask is the mask image I manually labelled\n",
    "newmask = cv.imread('newmask.png',0)\n",
    "# wherever it is marked white (sure foreground), change mask=1\n",
    "# wherever it is marked black (sure background), change mask=0\n",
    "mask[newmask == 0] = 0\n",
    "mask[newmask == 255] = 1\n",
    "mask, bgdModel, fgdModel = cv.grabCut(img,mask,None,bgdModel,fgdModel,5,cv.GC_INIT_WITH_MASK)\n",
    "mask = np.where((mask==2)|(mask==0),0,1).astype('uint8')\n",
    "img = img*mask[:,:,np.newaxis]"
   ]
  },
  {
   "cell_type": "code",
   "execution_count": 261,
   "metadata": {},
   "outputs": [
    {
     "ename": "error",
     "evalue": "OpenCV(3.4.2) /opt/concourse/worker/volumes/live/9523d527-1b9e-48e0-7ed0-a36adde286f0/volume/opencv-suite_1535558719691/work/modules/imgproc/src/grabcut.cpp:96: error: (-5:Bad argument) _model must have CV_64FC1 type, rows == 1 and cols == 13*componentsCount in function 'GMM'\n",
     "output_type": "error",
     "traceback": [
      "\u001b[0;31m---------------------------------------------------------------------------\u001b[0m",
      "\u001b[0;31merror\u001b[0m                                     Traceback (most recent call last)",
      "\u001b[0;32m<ipython-input-261-fb7669970bce>\u001b[0m in \u001b[0;36m<module>\u001b[0;34m\u001b[0m\n\u001b[1;32m     13\u001b[0m \u001b[0;34m\u001b[0m\u001b[0m\n\u001b[1;32m     14\u001b[0m \u001b[0;31m# Grabcut\u001b[0m\u001b[0;34m\u001b[0m\u001b[0;34m\u001b[0m\u001b[0;34m\u001b[0m\u001b[0m\n\u001b[0;32m---> 15\u001b[0;31m \u001b[0mcv2\u001b[0m\u001b[0;34m.\u001b[0m\u001b[0mgrabCut\u001b[0m\u001b[0;34m(\u001b[0m\u001b[0mimg\u001b[0m\u001b[0;34m,\u001b[0m \u001b[0mmask\u001b[0m\u001b[0;34m,\u001b[0m \u001b[0mrect\u001b[0m\u001b[0;34m,\u001b[0m \u001b[0mbgdModel\u001b[0m\u001b[0;34m,\u001b[0m \u001b[0mfgdModel\u001b[0m\u001b[0;34m,\u001b[0m \u001b[0;36m5\u001b[0m\u001b[0;34m,\u001b[0m \u001b[0mcv2\u001b[0m\u001b[0;34m.\u001b[0m\u001b[0mGC_INIT_WITH_RECT\u001b[0m\u001b[0;34m)\u001b[0m\u001b[0;34m\u001b[0m\u001b[0;34m\u001b[0m\u001b[0m\n\u001b[0m\u001b[1;32m     16\u001b[0m \u001b[0;34m\u001b[0m\u001b[0m\n\u001b[1;32m     17\u001b[0m \u001b[0mr_channel\u001b[0m\u001b[0;34m,\u001b[0m \u001b[0mg_channel\u001b[0m\u001b[0;34m,\u001b[0m \u001b[0mb_channel\u001b[0m \u001b[0;34m=\u001b[0m \u001b[0mcv2\u001b[0m\u001b[0;34m.\u001b[0m\u001b[0msplit\u001b[0m\u001b[0;34m(\u001b[0m\u001b[0mimg\u001b[0m\u001b[0;34m)\u001b[0m\u001b[0;34m\u001b[0m\u001b[0;34m\u001b[0m\u001b[0m\n",
      "\u001b[0;31merror\u001b[0m: OpenCV(3.4.2) /opt/concourse/worker/volumes/live/9523d527-1b9e-48e0-7ed0-a36adde286f0/volume/opencv-suite_1535558719691/work/modules/imgproc/src/grabcut.cpp:96: error: (-5:Bad argument) _model must have CV_64FC1 type, rows == 1 and cols == 13*componentsCount in function 'GMM'\n"
     ]
    }
   ],
   "source": [
    "# https://www.thetopsites.net/article/50159769.shtml\n",
    "from matplotlib import pyplot as plt\n",
    "import numpy as np\n",
    "import cv2\n",
    "\n",
    "img = cv2.imread('../test_images/carrot.jpg')\n",
    "rows, cols, channels = img.shape\n",
    "\n",
    "mask = np.zeros(img.shape[:2], np.uint8)\n",
    "bgdModel = np.zeros((1, cols), np.float64)\n",
    "fgdModel = np.zeros((1, cols), np.float64)\n",
    "rect = (1, 1, rows, cols)\n",
    "\n",
    "# Grabcut \n",
    "cv2.grabCut(img, mask, rect, bgdModel, fgdModel, 5, cv2.GC_INIT_WITH_RECT)\n",
    "\n",
    "r_channel, g_channel, b_channel = cv2.split(img) \n",
    "a_channel = np.where((mask==2)|(mask==0), 0, 255).astype('uint8')  \n",
    "\n",
    "img_RGBA = cv2.merge((r_channel, g_channel, b_channel, a_channel))\n",
    "cv2.imwrite(\"test.png\", img_RGBA)\n",
    "\n",
    "# Now for plot correct colors : \n",
    "img_BGRA = cv2.merge((b_channel, g_channel, r_channel, a_channel))\n",
    "\n",
    "plt.imshow(img_BGRA), plt.colorbar(),plt.show()"
   ]
  },
  {
   "cell_type": "code",
   "execution_count": null,
   "metadata": {},
   "outputs": [],
   "source": []
  },
  {
   "cell_type": "code",
   "execution_count": null,
   "metadata": {},
   "outputs": [],
   "source": []
  },
  {
   "cell_type": "code",
   "execution_count": null,
   "metadata": {},
   "outputs": [],
   "source": []
  }
 ],
 "metadata": {
  "kernelspec": {
   "display_name": "deep-food",
   "language": "python",
   "name": "deep-food"
  },
  "language_info": {
   "codemirror_mode": {
    "name": "ipython",
    "version": 3
   },
   "file_extension": ".py",
   "mimetype": "text/x-python",
   "name": "python",
   "nbconvert_exporter": "python",
   "pygments_lexer": "ipython3",
   "version": "3.6.10"
  }
 },
 "nbformat": 4,
 "nbformat_minor": 4
}

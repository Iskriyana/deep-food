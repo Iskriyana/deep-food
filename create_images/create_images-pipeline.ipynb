{
 "cells": [
  {
   "cell_type": "code",
   "execution_count": 2,
   "metadata": {},
   "outputs": [],
   "source": [
    "import numpy as np\n",
    "import pandas as pd\n",
    "\n",
    "import sys\n",
    "import os\n",
    "import random\n",
    "\n",
    "from PIL import Image, ImageFont, ImageDraw\n",
    "from PIL.ImageChops import add, subtract, multiply, difference, screen\n",
    "\n",
    "import cv2\n",
    "\n",
    "import matplotlib.pyplot as plt"
   ]
  },
  {
   "cell_type": "markdown",
   "metadata": {},
   "source": [
    "# OpenCV"
   ]
  },
  {
   "cell_type": "markdown",
   "metadata": {},
   "source": [
    "## Image Overlays Using Bitwise Operations in OpenCV"
   ]
  },
  {
   "cell_type": "code",
   "execution_count": 3,
   "metadata": {},
   "outputs": [
    {
     "data": {
      "text/plain": [
       "'/Users/iskriyanavasileva/git/deep_food/gleb_google_images'"
      ]
     },
     "execution_count": 3,
     "metadata": {},
     "output_type": "execute_result"
    }
   ],
   "source": [
    "home = os.environ['HOME']\n",
    "path = os.path.join(home, 'git', 'deep_food', 'gleb_google_images')\n",
    "path"
   ]
  },
  {
   "cell_type": "code",
   "execution_count": 3,
   "metadata": {},
   "outputs": [],
   "source": [
    "def load_bg_random(path, bg_folder='background'):\n",
    "    \"\"\"\n",
    "    chooses a random background image\n",
    "    \"\"\"    \n",
    "    bg_folder = os.path.join(path, bg_folder)\n",
    "    bg_files = os.listdir(bg_folder)\n",
    "    bg_index = random.randrange(0, len(bg_files))\n",
    "    \n",
    "    bg = os.path.join(path, bg_folder, bg_files[bg_index])\n",
    "    \n",
    "    background = cv2.imread(bg)\n",
    "    rows_b, cols_b, channels_b = background.shape\n",
    "    \n",
    "    return background, rows_b, cols_b, channels_b "
   ]
  },
  {
   "cell_type": "code",
   "execution_count": 4,
   "metadata": {},
   "outputs": [],
   "source": [
    "def load_img_mask(path):\n",
    "    \"\"\"\n",
    "    creates folder for combined images\n",
    "    loads the images by category and labels them\n",
    "    creates a mask of the ingredient\n",
    "    creates a new combined image\n",
    "    \"\"\"    \n",
    "    for root, dirs, files in os.walk(path):\n",
    "        #dirs[:] = [d for d in dirs if not d[0] == '.']\n",
    "        #for dir in dirs:\n",
    "            path_comb = os.path.join(path, str(dir) + '_comb')\n",
    "            #dir_comb = os.makedirs(path_comb, exist_ok=True)\n",
    "            files = [f for f in files if not f[0] == '.']\n",
    "            for file in files:\n",
    "                file_path = os.path.join(root, file)\n",
    "                ingredient = cv2.imread(file_path)\n",
    "                \n",
    "                #load random background\n",
    "                background, rows_b, cols_b, channels_b = load_bg_random(path)\n",
    "                \n",
    "                # resize ingredient image to make sure it is always smaller than the background\n",
    "                # keep the aspect ratio by resizing                \n",
    "                aspect_ratio = float(ingredient.shape[1])/float(ingredient.shape[0])\n",
    "                rows_i = int(rows_b/2)\n",
    "                cols_i = int(rows_i/aspect_ratio)\n",
    "                dim_res = (rows_i, cols_i)\n",
    "                ingredient = cv2.resize(ingredient, dim_res)\n",
    "                \n",
    "                # Create a Region of Images (=ROI) in a randomised matter \n",
    "                rows, cols, channels = ingredient.shape\n",
    "\n",
    "                # TODO position on picture needs to be randomised\n",
    "                #start_rows = np.random.randint(0, size=rows)\n",
    "                #start_cols = np.random.randint(0, size=cols)\n",
    "                #roi = background[start_rows:rows, start_cols:cols] \n",
    "                roi = background[0:rows, 0:cols]\n",
    "\n",
    "                # Now create a mask of the ingredient and create its inverse mask also\n",
    "                img2gray = cv2.cvtColor(ingredient, cv2.COLOR_BGR2GRAY)\n",
    "\n",
    "                # everything higher than the threshold (i.e. lighter), will become black\n",
    "                # the rest (i.e. the darker pixels filled by the object), will become white\n",
    "                # with THRESH_OTSU the threshold is adjustable according to the image\n",
    "                # similar to the idea to take the mean value between black and white as a threshold\n",
    "                # the GaussianBluring smooths the image to make the black & white more precise\n",
    "                blur = cv2.GaussianBlur(img2gray, (5,5), 0)\n",
    "                ret, mask = cv2.threshold(blur, 0, 255, cv2.THRESH_BINARY_INV + cv2.THRESH_OTSU)\n",
    "                mask_inv = cv2.bitwise_not(mask)\n",
    "\n",
    "\n",
    "                # Black-out the area of the ingredient in ROI in the background image\n",
    "                background_bg = cv2.bitwise_and(roi, roi, mask = mask_inv)\n",
    "\n",
    "                # Take only region of the ingredient from the ingredient image.\n",
    "                ingredient_fg = cv2.bitwise_and(ingredient, ingredient, mask = mask)\n",
    "\n",
    "                # Put the ingredient in ROI and modify the main image\n",
    "                dst = cv2.add(background_bg, ingredient_fg)\n",
    "\n",
    "                #TODO positions need to be randomised (see above)\n",
    "                #background[start_rows:rows, start_cols:cols] = dst\n",
    "                background[0:rows, 0:cols] = dst\n",
    "                \n",
    "                img_comb = background \n",
    "                             \n",
    "                                         \n",
    "                #filename = os.path.join(path_comb, f'{file}_comb.jpg')\n",
    "                file = os.path.splitext(file)[0]\n",
    "                filename = os.path.join(root, f'{file}_comb.jpg')\n",
    "                cv2.imwrite(filename, img_comb)\n",
    "                print(filename)"
   ]
  },
  {
   "cell_type": "code",
   "execution_count": 5,
   "metadata": {},
   "outputs": [],
   "source": [
    "load_img_mask(path)"
   ]
  },
  {
   "cell_type": "code",
   "execution_count": 6,
   "metadata": {},
   "outputs": [
    {
     "ename": "NameError",
     "evalue": "name 'rows_b' is not defined",
     "output_type": "error",
     "traceback": [
      "\u001b[0;31m---------------------------------------------------------------------------\u001b[0m",
      "\u001b[0;31mNameError\u001b[0m                                 Traceback (most recent call last)",
      "\u001b[0;32m<ipython-input-6-81e25f57ec1d>\u001b[0m in \u001b[0;36m<module>\u001b[0;34m\u001b[0m\n\u001b[1;32m      8\u001b[0m \u001b[0;31m# keep the aspect ratio by resizing https://stackoverflow.com/questions/44650888/resize-an-image-without-distortion-opencv\u001b[0m\u001b[0;34m\u001b[0m\u001b[0;34m\u001b[0m\u001b[0;34m\u001b[0m\u001b[0m\n\u001b[1;32m      9\u001b[0m \u001b[0maspect_ratio\u001b[0m \u001b[0;34m=\u001b[0m \u001b[0mfloat\u001b[0m\u001b[0;34m(\u001b[0m\u001b[0mingredient\u001b[0m\u001b[0;34m.\u001b[0m\u001b[0mshape\u001b[0m\u001b[0;34m[\u001b[0m\u001b[0;36m1\u001b[0m\u001b[0;34m]\u001b[0m\u001b[0;34m)\u001b[0m\u001b[0;34m/\u001b[0m\u001b[0mfloat\u001b[0m\u001b[0;34m(\u001b[0m\u001b[0mingredient\u001b[0m\u001b[0;34m.\u001b[0m\u001b[0mshape\u001b[0m\u001b[0;34m[\u001b[0m\u001b[0;36m0\u001b[0m\u001b[0;34m]\u001b[0m\u001b[0;34m)\u001b[0m\u001b[0;34m\u001b[0m\u001b[0;34m\u001b[0m\u001b[0m\n\u001b[0;32m---> 10\u001b[0;31m \u001b[0mrows_i\u001b[0m \u001b[0;34m=\u001b[0m \u001b[0mint\u001b[0m\u001b[0;34m(\u001b[0m\u001b[0mrows_b\u001b[0m\u001b[0;34m/\u001b[0m\u001b[0;36m2\u001b[0m\u001b[0;34m)\u001b[0m\u001b[0;34m\u001b[0m\u001b[0;34m\u001b[0m\u001b[0m\n\u001b[0m\u001b[1;32m     11\u001b[0m \u001b[0mcols_i\u001b[0m \u001b[0;34m=\u001b[0m \u001b[0mint\u001b[0m\u001b[0;34m(\u001b[0m\u001b[0mrows_i\u001b[0m\u001b[0;34m/\u001b[0m\u001b[0maspect_ratio\u001b[0m\u001b[0;34m)\u001b[0m\u001b[0;34m\u001b[0m\u001b[0;34m\u001b[0m\u001b[0m\n\u001b[1;32m     12\u001b[0m \u001b[0mdim_res\u001b[0m \u001b[0;34m=\u001b[0m \u001b[0;34m(\u001b[0m\u001b[0mrows_i\u001b[0m\u001b[0;34m,\u001b[0m \u001b[0mcols_i\u001b[0m\u001b[0;34m)\u001b[0m\u001b[0;34m\u001b[0m\u001b[0;34m\u001b[0m\u001b[0m\n",
      "\u001b[0;31mNameError\u001b[0m: name 'rows_b' is not defined"
     ]
    }
   ],
   "source": [
    "# Load two images - background and ingredient \n",
    "\n",
    "\n",
    "\n",
    "ingredient = cv2.imread('../test_images/banana.jpg')\n",
    "\n",
    "# resize ingredient image to make sure it is always smaller than the background\n",
    "# keep the aspect ratio by resizing https://stackoverflow.com/questions/44650888/resize-an-image-without-distortion-opencv\n",
    "aspect_ratio = float(ingredient.shape[1])/float(ingredient.shape[0])\n",
    "rows_i = int(rows_b/2)\n",
    "cols_i = int(rows_i/aspect_ratio)\n",
    "dim_res = (rows_i, cols_i)\n",
    "ingredient = cv2.resize(ingredient, dim_res)\n",
    "\n",
    "\n",
    "# Create a Region of Images (=ROI) in a randomised matter \n",
    "# roi = Region Of Images https://opencv-python-tutroals.readthedocs.io/en/latest/py_tutorials/py_core/py_basic_ops/py_basic_ops.html\n",
    "rows, cols, channels = ingredient.shape\n",
    "\n",
    "# TODO position on picture needs to be randomised\n",
    "#start_rows = np.random.randint(0, size=rows)\n",
    "#start_cols = np.random.randint(0, size=cols)\n",
    "#roi = background[start_rows:rows, start_cols:cols] \n",
    "roi = background[0:rows, 0:cols]\n",
    "\n",
    "\n",
    "\n",
    "# Now create a mask of the ingredient and create its inverse mask also\n",
    "img2gray = cv2.cvtColor(ingredient, cv2.COLOR_BGR2GRAY)\n",
    "\n",
    "# everything higher than the threshold (i.e. lighter), will become black\n",
    "# the rest (i.e. the darker pixels filled by the object), will become white\n",
    "# with THRESH_OTSU the threshold is adjustable according to the image\n",
    "# similar to the idea to take the mean value between black and white as a threshold\n",
    "# the GaussianBluring smooths the image to make the black & white more precise\n",
    "blur = cv2.GaussianBlur(img2gray, (5,5), 0)\n",
    "ret, mask = cv2.threshold(blur, 0, 255, cv2.THRESH_BINARY_INV + cv2.THRESH_OTSU)\n",
    "mask_inv = cv2.bitwise_not(mask)\n",
    "\n",
    "\n",
    "# Black-out the area of the ingredient in ROI in the background image\n",
    "background_bg = cv2.bitwise_and(roi, roi, mask = mask_inv)\n",
    "\n",
    "# Take only region of the ingredient from the ingredient image.\n",
    "ingredient_fg = cv2.bitwise_and(ingredient, ingredient, mask = mask)\n",
    "\n",
    "# Put the ingredient in ROI and modify the main image\n",
    "dst = cv2.add(background_bg, ingredient_fg)\n",
    "\n",
    "#TODO positions need to be randomised (see above)\n",
    "#background[start_rows:rows, start_cols:cols] = dst\n",
    "background[0:rows, 0:cols] = dst\n",
    "\n",
    "cv2.imshow('res', background)\n",
    "#cv2.imshow('img2gray',img2gray)\n",
    "#cv2.imshow('mask', mask)\n",
    "#cv2.imshow('mask_inv', mask_inv)\n",
    "#cv2.imshow('ret', ret)\n",
    "#cv2.imshow('background_bg', background_bg)\n",
    "#cv2.imshow('ingredient_fg', ingredient_fg)\n",
    "#cv2.imshow('dst', dst)\n",
    "cv2.waitKey(0)\n",
    "cv2.destroyAllWindows()\n",
    "cv2.waitKey(1)"
   ]
  },
  {
   "cell_type": "code",
   "execution_count": 18,
   "metadata": {},
   "outputs": [],
   "source": [
    "for root, dirs, files in os.walk('./git/deep-food/gleb_images_google'):\n",
    "    print(root)\n",
    "        #for file in files:\n",
    "        #    print(file)"
   ]
  },
  {
   "cell_type": "code",
   "execution_count": 7,
   "metadata": {},
   "outputs": [
    {
     "ename": "NameError",
     "evalue": "name 'dirl' is not defined",
     "output_type": "error",
     "traceback": [
      "\u001b[0;31m---------------------------------------------------------------------------\u001b[0m",
      "\u001b[0;31mNameError\u001b[0m                                 Traceback (most recent call last)",
      "\u001b[0;32m<ipython-input-7-b594aa9c5cc8>\u001b[0m in \u001b[0;36m<module>\u001b[0;34m\u001b[0m\n\u001b[0;32m----> 1\u001b[0;31m \u001b[0mdirl\u001b[0m\u001b[0;34m\u001b[0m\u001b[0;34m\u001b[0m\u001b[0m\n\u001b[0m",
      "\u001b[0;31mNameError\u001b[0m: name 'dirl' is not defined"
     ]
    }
   ],
   "source": [
    "dirl"
   ]
  },
  {
   "cell_type": "code",
   "execution_count": 8,
   "metadata": {},
   "outputs": [
    {
     "data": {
      "text/plain": [
       "[]"
      ]
     },
     "execution_count": 8,
     "metadata": {},
     "output_type": "execute_result"
    }
   ],
   "source": [
    "dirs"
   ]
  },
  {
   "cell_type": "code",
   "execution_count": 11,
   "metadata": {},
   "outputs": [],
   "source": [
    "test = [os.walk(path)]"
   ]
  },
  {
   "cell_type": "code",
   "execution_count": 12,
   "metadata": {},
   "outputs": [
    {
     "data": {
      "text/plain": [
       "[<generator object walk at 0x7ffb194acbf8>]"
      ]
     },
     "execution_count": 12,
     "metadata": {},
     "output_type": "execute_result"
    }
   ],
   "source": []
  },
  {
   "cell_type": "code",
   "execution_count": 14,
   "metadata": {},
   "outputs": [],
   "source": [
    "for root, dirs, files in os.walk('./git/deep-food/gleb_images_google'):\n",
    "    print(root, dirs, files)"
   ]
  },
  {
   "cell_type": "code",
   "execution_count": null,
   "metadata": {},
   "outputs": [],
   "source": []
  }
 ],
 "metadata": {
  "kernelspec": {
   "display_name": "deep-food",
   "language": "python",
   "name": "deep-food"
  },
  "language_info": {
   "codemirror_mode": {
    "name": "ipython",
    "version": 3
   },
   "file_extension": ".py",
   "mimetype": "text/x-python",
   "name": "python",
   "nbconvert_exporter": "python",
   "pygments_lexer": "ipython3",
   "version": "3.6.10"
  }
 },
 "nbformat": 4,
 "nbformat_minor": 4
}

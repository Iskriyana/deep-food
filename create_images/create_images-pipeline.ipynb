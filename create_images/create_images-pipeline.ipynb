{
 "cells": [
  {
   "cell_type": "code",
   "execution_count": 1,
   "metadata": {},
   "outputs": [],
   "source": [
    "import numpy as np\n",
    "import pandas as pd\n",
    "\n",
    "import sys\n",
    "import os\n",
    "import random\n",
    "\n",
    "from PIL import Image, ImageFont, ImageDraw\n",
    "from PIL.ImageChops import add, subtract, multiply, difference, screen\n",
    "\n",
    "import cv2\n",
    "\n",
    "import matplotlib.pyplot as plt"
   ]
  },
  {
   "cell_type": "markdown",
   "metadata": {},
   "source": [
    "# OpenCV"
   ]
  },
  {
   "cell_type": "markdown",
   "metadata": {},
   "source": [
    "## Image Overlays Using Bitwise Operations in OpenCV"
   ]
  },
  {
   "cell_type": "code",
   "execution_count": 2,
   "metadata": {},
   "outputs": [
    {
     "data": {
      "text/plain": [
       "'/Users/iskriyanavasileva/git/deep-food/gleb_google_images'"
      ]
     },
     "execution_count": 2,
     "metadata": {},
     "output_type": "execute_result"
    }
   ],
   "source": [
    "home = os.environ['HOME']\n",
    "path = os.path.join(home, 'git', 'deep-food', 'gleb_google_images')\n",
    "path"
   ]
  },
  {
   "cell_type": "code",
   "execution_count": 3,
   "metadata": {},
   "outputs": [
    {
     "data": {
      "text/plain": [
       "'/Users/iskriyanavasileva/git/deep-food/gleb_google_images/gleb_google_images_comb'"
      ]
     },
     "execution_count": 3,
     "metadata": {},
     "output_type": "execute_result"
    }
   ],
   "source": [
    "path_comb = os.path.join(path, 'gleb_google_images' + '_comb')\n",
    "path_comb"
   ]
  },
  {
   "cell_type": "code",
   "execution_count": 4,
   "metadata": {},
   "outputs": [],
   "source": [
    "def load_bg_random(path, bg_folder='background'):\n",
    "    \"\"\"\n",
    "    chooses a random background image\n",
    "    \"\"\"    \n",
    "    bg_folder = os.path.join(path, bg_folder)\n",
    "    bg_files = os.listdir(bg_folder)\n",
    "    bg_files = [f for f in bg_files if not f[0] == '.']\n",
    "    bg_index = random.randrange(0, len(bg_files))\n",
    "    \n",
    "    bg = os.path.join(path, bg_folder, bg_files[bg_index])\n",
    "    \n",
    "    background = cv2.imread(bg)\n",
    "    rows_b, cols_b, channels_b = background.shape\n",
    "    \n",
    "    return background, rows_b, cols_b, channels_b "
   ]
  },
  {
   "cell_type": "code",
   "execution_count": 5,
   "metadata": {},
   "outputs": [],
   "source": [
    "def load_img_mask(path):\n",
    "    \"\"\"\n",
    "    creates a mask of the ingredient\n",
    "    creates a new combined image\n",
    "    \"\"\"    \n",
    "    for root, dirs, files in os.walk(path):\n",
    "            files = [f for f in files if not f[0] == '.' and f.find('background') == -1]\n",
    "            for f in files:\n",
    "                file_path = os.path.join(root, f)\n",
    "                ingredient = cv2.imread(file_path)\n",
    "                \n",
    "                #load random background\n",
    "                background, rows_b, cols_b, channels_b = load_bg_random(path)\n",
    "                \n",
    "                # resize ingredient image to make sure it is always smaller than the background\n",
    "                rows_i = int(rows_b/2)\n",
    "                cols_i = int(cols_b/2)\n",
    "                dim_res = (cols_i, rows_i)\n",
    "                ingredient_res = cv2.resize(ingredient, dim_res)\n",
    "                \n",
    "                # Create a Region of Images (=ROI) in a randomised matter \n",
    "                rows, cols, channels = ingredient_res.shape\n",
    "            \n",
    "                start_rows = np.random.randint(0, rows_b-rows)\n",
    "                end_rows = start_rows + rows\n",
    "                start_cols = np.random.randint(0, cols_b-cols)\n",
    "                end_cols = start_cols + cols\n",
    "\n",
    "                roi = background[start_rows:end_rows, start_cols:end_cols]\n",
    "                \n",
    "                #parameters for rotation\n",
    "                #M are the coordinates of the center, (cols/2, rows/2) is the center of rotation for the image\n",
    "                deg = np.random.randint(0, 360)\n",
    "                M = cv2.getRotationMatrix2D((cols/2, rows/2), deg, 1)\n",
    "                \n",
    "                ingredient_rot = cv2.warpAffine(ingredient_res, M, (cols, rows))\n",
    "\n",
    "                # Now create a mask of the ingredient and create its inverse mask also\n",
    "                img2gray = cv2.cvtColor(ingredient_res, cv2.COLOR_BGR2GRAY)\n",
    "\n",
    "                # everything higher than the threshold (i.e. lighter), will become black\n",
    "                # the rest (i.e. the darker pixels filled by the object), will become white\n",
    "                # with THRESH_OTSU the threshold is adjustable according to the image\n",
    "                # similar to the idea to take the mean value between black and white as a threshold\n",
    "                # the GaussianBluring smooths the image to make the black & white more precise\n",
    "                blur = cv2.GaussianBlur(img2gray, (5,5), 0)\n",
    "                ret, mask = cv2.threshold(blur, 0, 255, cv2.THRESH_BINARY_INV + cv2.THRESH_OTSU)\n",
    "                mask_rot = cv2.warpAffine(mask, M, (cols, rows))\n",
    "                \n",
    "                mask_inv = cv2.bitwise_not(mask_rot)\n",
    "\n",
    "                # Black-out the area of the ingredient in ROI in the background image\n",
    "                background_bg = cv2.bitwise_and(roi, roi, mask = mask_inv)\n",
    "\n",
    "                # Take only region of the ingredient from the ingredient image.\n",
    "                ingredient_fg = cv2.bitwise_and(ingredient_rot, ingredient_rot, mask = mask_rot)\n",
    "\n",
    "                # Put the ingredient in ROI and modify the main image\n",
    "                dst = cv2.add(background_bg, ingredient_fg)\n",
    "\n",
    "                #positions are randomised (see above)\n",
    "                background[start_rows:end_rows, start_cols:end_cols] = dst\n",
    "                \n",
    "                img_comb = background \n",
    "                                         \n",
    "                filename = os.path.splitext(f)[0]\n",
    "                file_path_comb = os.path.join(root, f'{filename}_comb.jpg')\n",
    "                cv2.imwrite(file_path_comb, img_comb)"
   ]
  },
  {
   "cell_type": "code",
   "execution_count": 6,
   "metadata": {},
   "outputs": [],
   "source": [
    "load_img_mask(path)"
   ]
  },
  {
   "cell_type": "code",
   "execution_count": null,
   "metadata": {},
   "outputs": [],
   "source": []
  }
 ],
 "metadata": {
  "kernelspec": {
   "display_name": "deep-food",
   "language": "python",
   "name": "deep-food"
  },
  "language_info": {
   "codemirror_mode": {
    "name": "ipython",
    "version": 3
   },
   "file_extension": ".py",
   "mimetype": "text/x-python",
   "name": "python",
   "nbconvert_exporter": "python",
   "pygments_lexer": "ipython3",
   "version": "3.6.10"
  }
 },
 "nbformat": 4,
 "nbformat_minor": 4
}

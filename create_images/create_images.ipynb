{
 "cells": [
  {
   "cell_type": "code",
   "execution_count": null,
   "metadata": {},
   "outputs": [],
   "source": [
    "import numpy as np\n",
    "import pandas as pd\n",
    "\n",
    "import sys\n",
    "import os\n",
    "\n",
    "from PIL import Image, ImageFont, ImageDraw\n",
    "from PIL.ImageChops import add, subtract, multiply, difference, screen\n",
    "\n",
    "import cv2\n",
    "\n",
    "import matplotlib.pyplot as plt"
   ]
  },
  {
   "cell_type": "markdown",
   "metadata": {},
   "source": [
    "# Pillow"
   ]
  },
  {
   "cell_type": "code",
   "execution_count": null,
   "metadata": {},
   "outputs": [],
   "source": [
    "im_tom = Image.open(\"../test_images/tomatoes.jpeg\")\n",
    "im_tom = im_tom.resize((200,200))\n",
    "im_tom"
   ]
  },
  {
   "cell_type": "code",
   "execution_count": null,
   "metadata": {},
   "outputs": [],
   "source": [
    "im_fl = Image.open(\"../test_images/flour.jpg\")\n",
    "im_fl = im_fl.resize((200,200))\n",
    "im_fl"
   ]
  },
  {
   "cell_type": "code",
   "execution_count": null,
   "metadata": {},
   "outputs": [],
   "source": [
    "bg1 = Image.open(\"../test_images/background_fridge.jpg\")\n",
    "bg1 = bg1.resize((200,200))\n",
    "bg1"
   ]
  },
  {
   "cell_type": "code",
   "execution_count": null,
   "metadata": {},
   "outputs": [],
   "source": [
    "bg2 = Image.open(\"../test_images/background_table.jpg\")\n",
    "#bg2 = tf.image.resize(bg2,[200,200])\n",
    "bg2 = bg2.resize((200,200))\n",
    "bg2"
   ]
  },
  {
   "cell_type": "code",
   "execution_count": null,
   "metadata": {},
   "outputs": [],
   "source": [
    "im_apple = Image.open(\"../test_images/apple.jpeg\")\n",
    "im_apple = im_apple.resize((300,200))\n",
    "im_apple"
   ]
  },
  {
   "cell_type": "markdown",
   "metadata": {},
   "source": [
    "# OpenCV"
   ]
  },
  {
   "cell_type": "markdown",
   "metadata": {},
   "source": [
    "## Image Overlays Using Bitwise Operations in OpenCV"
   ]
  },
  {
   "cell_type": "code",
   "execution_count": null,
   "metadata": {},
   "outputs": [],
   "source": [
    "# Load two images - background and ingredient \n",
    "# TODO: pipeline for images\n",
    "background = cv2.imread('../test_images/background_table.jpg')\n",
    "rows_b, cols_b, channels_b = background.shape\n",
    "\n",
    "ingredient = cv2.imread('../test_images/banana.jpg')\n",
    "\n",
    "# resize ingredient image to make sure it is always smaller than the background\n",
    "# keep the aspect ratio by resizing https://stackoverflow.com/questions/44650888/resize-an-image-without-distortion-opencv\n",
    "aspect_ratio = float(ingredient.shape[1])/float(ingredient.shape[0])\n",
    "rows_i = int(rows_b/2)\n",
    "cols_i = int(rows_i/aspect_ratio)\n",
    "dim_res = (rows_i, cols_i)\n",
    "ingredient = cv2.resize(ingredient, dim_res)\n",
    "\n",
    "\n",
    "# Create a Region of Images (=ROI) in a randomised matter \n",
    "# roi = Region Of Images https://opencv-python-tutroals.readthedocs.io/en/latest/py_tutorials/py_core/py_basic_ops/py_basic_ops.html\n",
    "rows, cols, channels = ingredient.shape\n",
    "\n",
    "# TODO position on picture needs to be randomised\n",
    "#start_rows = np.random.randint(0, size=rows)\n",
    "#start_cols = np.random.randint(0, size=cols)\n",
    "#roi = background[start_rows:rows, start_cols:cols] \n",
    "roi = background[0:rows, 0:cols]\n",
    "\n",
    "\n",
    "\n",
    "# Now create a mask of the ingredient and create its inverse mask also\n",
    "img2gray = cv2.cvtColor(ingredient, cv2.COLOR_BGR2GRAY)\n",
    "\n",
    "# everything higher than the threshold (i.e. lighter), will become black\n",
    "# the rest (i.e. the darker pixels filled by the object), will become white\n",
    "# with THRESH_OTSU the threshold is adjustable according to the image\n",
    "# similar to the idea to take the mean value between black and white as a threshold\n",
    "# the GaussianBluring smooths the image to make the black & white more precise\n",
    "blur = cv2.GaussianBlur(img2gray, (5,5), 0)\n",
    "ret, mask = cv2.threshold(blur, 0, 255, cv2.THRESH_BINARY_INV + cv2.THRESH_OTSU)\n",
    "mask_inv = cv2.bitwise_not(mask)\n",
    "\n",
    "\n",
    "# Black-out the area of the ingredient in ROI in the background image\n",
    "background_bg = cv2.bitwise_and(roi, roi, mask = mask_inv)\n",
    "\n",
    "# Take only region of the ingredient from the ingredient image.\n",
    "ingredient_fg = cv2.bitwise_and(ingredient, ingredient, mask = mask)\n",
    "\n",
    "# Put the ingredient in ROI and modify the main image\n",
    "dst = cv2.add(background_bg, ingredient_fg)\n",
    "\n",
    "#TODO positions need to be randomised (see above)\n",
    "#background[start_rows:rows, start_cols:cols] = dst\n",
    "background[0:rows, 0:cols] = dst\n",
    "\n",
    "cv2.imshow('res', background)\n",
    "#cv2.imshow('img2gray',img2gray)\n",
    "#cv2.imshow('mask', mask)\n",
    "#cv2.imshow('mask_inv', mask_inv)\n",
    "#cv2.imshow('ret', ret)\n",
    "#cv2.imshow('background_bg', background_bg)\n",
    "#cv2.imshow('ingredient_fg', ingredient_fg)\n",
    "#cv2.imshow('dst', dst)\n",
    "cv2.waitKey(0)\n",
    "cv2.destroyAllWindows()\n",
    "cv2.waitKey(1)"
   ]
  },
  {
   "cell_type": "code",
   "execution_count": null,
   "metadata": {},
   "outputs": [],
   "source": []
  }
 ],
 "metadata": {
  "kernelspec": {
   "display_name": "deep-food",
   "language": "python",
   "name": "deep-food"
  },
  "language_info": {
   "codemirror_mode": {
    "name": "ipython",
    "version": 3
   },
   "file_extension": ".py",
   "mimetype": "text/x-python",
   "name": "python",
   "nbconvert_exporter": "python",
   "pygments_lexer": "ipython3",
   "version": "3.6.10"
  }
 },
 "nbformat": 4,
 "nbformat_minor": 4
}

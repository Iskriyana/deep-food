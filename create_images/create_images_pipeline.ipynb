{
 "cells": [
  {
   "cell_type": "code",
   "execution_count": 1,
   "metadata": {},
   "outputs": [],
   "source": [
    "import numpy as np\n",
    "import pandas as pd\n",
    "\n",
    "import sys\n",
    "import os\n",
    "import random\n",
    "\n",
    "from PIL import Image, ImageFont, ImageDraw\n",
    "from PIL.ImageChops import add, subtract, multiply, difference, screen\n",
    "\n",
    "import cv2\n",
    "\n",
    "import matplotlib.pyplot as plt"
   ]
  },
  {
   "cell_type": "markdown",
   "metadata": {},
   "source": [
    "# OpenCV"
   ]
  },
  {
   "cell_type": "markdown",
   "metadata": {},
   "source": [
    "## Image Overlays Using Bitwise Operations in OpenCV"
   ]
  },
  {
   "cell_type": "code",
   "execution_count": 2,
   "metadata": {},
   "outputs": [
    {
     "data": {
      "text/plain": [
       "'/Users/iskriyanavasileva/git/deep-food/deep-food-img-initial'"
      ]
     },
     "execution_count": 2,
     "metadata": {},
     "output_type": "execute_result"
    }
   ],
   "source": [
    "home = os.environ['HOME']\n",
    "path = os.path.join(home, 'git', 'deep-food', 'deep-food-img-initial')\n",
    "path"
   ]
  },
  {
   "cell_type": "code",
   "execution_count": 3,
   "metadata": {},
   "outputs": [
    {
     "data": {
      "text/plain": [
       "'/Users/iskriyanavasileva/git/deep-food/deep-food-img-initial/deep-food-img-initial_comb'"
      ]
     },
     "execution_count": 3,
     "metadata": {},
     "output_type": "execute_result"
    }
   ],
   "source": [
    "path_comb = os.path.join(path, 'deep-food-img-initial' + '_comb')\n",
    "path_comb"
   ]
  },
  {
   "cell_type": "code",
   "execution_count": 2,
   "metadata": {},
   "outputs": [],
   "source": [
    "def load_bg_random(path, bg_folder='background'):\n",
    "    \"\"\"\n",
    "    chooses a random background image\n",
    "    \"\"\"    \n",
    "    bg_folder = os.path.join(path, bg_folder)\n",
    "    bg_files = os.listdir(bg_folder)\n",
    "    bg_files = [f for f in bg_files if not f[0] == '.']\n",
    "    bg_index = random.randrange(0, len(bg_files))\n",
    "    \n",
    "    bg = os.path.join(path, bg_folder, bg_files[bg_index])\n",
    "    \n",
    "    background = cv2.imread(bg)\n",
    "    rows_b, cols_b, channels_b = background.shape\n",
    "    \n",
    "    return background, rows_b, cols_b, channels_b "
   ]
  },
  {
   "cell_type": "code",
   "execution_count": 5,
   "metadata": {},
   "outputs": [],
   "source": [
    "def load_img_mask(path):\n",
    "    \"\"\"\n",
    "    creates a mask of the ingredient\n",
    "    creates a new combined image\n",
    "    \"\"\"    \n",
    "    for root, dirs, files in os.walk(path):\n",
    "            files = [f for f in files if not f[0] == '.' and f.find('background') == -1]\n",
    "            for f in files:\n",
    "                file_path = os.path.join(root, f)\n",
    "                ingredient = cv2.imread(file_path)\n",
    "                \n",
    "                #load random background\n",
    "                background, rows_b, cols_b, channels_b = load_bg_random(path)\n",
    "                \n",
    "                # resize ingredient image to make sure it is always smaller than the background\n",
    "                rows_i = int(rows_b/2)\n",
    "                cols_i = int(cols_b/2)\n",
    "                dim_res = (cols_i, rows_i)\n",
    "                ingredient_res = cv2.resize(ingredient, dim_res)\n",
    "                \n",
    "                # Create a Region of Images (=ROI) in a randomised matter \n",
    "                rows, cols, channels = ingredient_res.shape\n",
    "            \n",
    "                start_rows = np.random.randint(0, rows_b-rows)\n",
    "                end_rows = start_rows + rows\n",
    "                start_cols = np.random.randint(0, cols_b-cols)\n",
    "                end_cols = start_cols + cols\n",
    "\n",
    "                roi = background[start_rows:end_rows, start_cols:end_cols]\n",
    "                \n",
    "                #parameters for rotation\n",
    "                #M are the coordinates of the center, (cols/2, rows/2) is the center of rotation for the image\n",
    "                deg = np.random.randint(0, 360)\n",
    "                M = cv2.getRotationMatrix2D((cols/2, rows/2), deg, 1)\n",
    "                \n",
    "                ingredient_rot = cv2.warpAffine(ingredient_res, M, (cols, rows))\n",
    "\n",
    "                # Now create a mask of the ingredient and create its inverse mask also\n",
    "                img2gray = cv2.cvtColor(ingredient_res, cv2.COLOR_BGR2GRAY)\n",
    "\n",
    "                # everything higher than the threshold (i.e. lighter), will become black\n",
    "                # the rest (i.e. the darker pixels filled by the object), will become white\n",
    "                # with THRESH_OTSU the threshold is adjustable according to the image\n",
    "                # similar to the idea to take the mean value between black and white as a threshold\n",
    "                # the GaussianBluring smooths the image to make the black & white more precise\n",
    "                blur = cv2.GaussianBlur(img2gray, (5,5), 0)\n",
    "                ret, mask = cv2.threshold(blur, 0, 255, cv2.THRESH_BINARY_INV + cv2.THRESH_OTSU)\n",
    "                mask_rot = cv2.warpAffine(mask, M, (cols, rows))\n",
    "                \n",
    "                mask_inv = cv2.bitwise_not(mask_rot)\n",
    "\n",
    "                # Black-out the area of the ingredient in ROI in the background image\n",
    "                background_bg = cv2.bitwise_and(roi, roi, mask = mask_inv)\n",
    "\n",
    "                # Take only region of the ingredient from the ingredient image.\n",
    "                ingredient_fg = cv2.bitwise_and(ingredient_rot, ingredient_rot, mask = mask_rot)\n",
    "\n",
    "                # Put the ingredient in ROI and modify the main image\n",
    "                dst = cv2.add(background_bg, ingredient_fg)\n",
    "\n",
    "                #positions are randomised (see above)\n",
    "                background[start_rows:end_rows, start_cols:end_cols] = dst\n",
    "                \n",
    "                img_comb = background \n",
    "                                         \n",
    "                filename = os.path.splitext(f)[0]\n",
    "                file_path_comb = os.path.join(root, f'{filename}_comb.jpg')\n",
    "                cv2.imwrite(file_path_comb, img_comb)"
   ]
  },
  {
   "cell_type": "code",
   "execution_count": 7,
   "metadata": {},
   "outputs": [],
   "source": [
    "#load_img_mask(path)"
   ]
  },
  {
   "cell_type": "markdown",
   "metadata": {},
   "source": [
    "# Assembled images simple pasting total random pasting"
   ]
  },
  {
   "cell_type": "code",
   "execution_count": 8,
   "metadata": {},
   "outputs": [],
   "source": [
    "def assemble_img(path, ingr_dict, bg_size):\n",
    "    background = load_bg_random(path)[0]\n",
    "    background = cv2.cvtColor(background, cv2.COLOR_BGR2RGB)\n",
    "    background = Image.fromarray(background)\n",
    "    bg = background.resize(bg_size).copy()\n",
    "    rows_b, cols_b = bg.size\n",
    "    print(rows_b, cols_b)\n",
    "\n",
    "    dirs = list(ingr_dict.keys())\n",
    "    \n",
    "    for dir in dirs:\n",
    "        ingr_folder = os.path.join(path, dir) \n",
    "        ingr_files = os.listdir(ingr_folder)\n",
    "        ingr_files = [f for f in ingr_files if not f[0] == '.']\n",
    "\n",
    "        sample_size = ingr_dict[dir]\n",
    "        #random choice of image with repetition\n",
    "        #https://pynative.com/python-random-sample/\n",
    "        ingredient_index = random.choices(ingr_files, k=sample_size)\n",
    "        \n",
    "        for ing in ingredient_index:\n",
    "            ingredient_path = os.path.join(path, ingr_folder, ing)\n",
    "            ingredient = Image.open(ingredient_path)\n",
    "            \n",
    "\n",
    "            #make sure ingredient is smaller than background\n",
    "            if ingredient.size[0] <= 512 or ingredient.size[1] <= 1024:\n",
    "                rows, cols = ingredient.size\n",
    "            else:\n",
    "                rows_if_img_big = int(rows_b/2/ sample_size)\n",
    "                cols_if_img_big = int(cols_b/2/ sample_size )\n",
    "                rows, cols = rows_if_img_big, cols_if_img_big\n",
    "                \n",
    "            ingredient = ingredient.resize((rows, cols))\n",
    "            #ramdom choice of position without repetition to avoid 100% overlapping\n",
    "            start_rows = np.random.choice(rows_b-rows, 1, replace=False)\n",
    "            start_cols = np.random.choice(cols_b-cols, 1, replace=False)\n",
    "            bg.paste(ingredient, (int(start_rows), int(start_cols)))\n",
    "    return bg"
   ]
  },
  {
   "cell_type": "code",
   "execution_count": 9,
   "metadata": {},
   "outputs": [
    {
     "name": "stdout",
     "output_type": "stream",
     "text": [
      "512 1024\n"
     ]
    }
   ],
   "source": [
    "path = os.path.join(home, 'git', 'deep-food', 'deep-food')\n",
    "ingr_dict = {'orange': 3, \n",
    "             'banana': 2, \n",
    "             'watermelon': 1\n",
    "            }\n",
    "bg_size = (512, 1024)\n",
    "\n",
    "bg = assemble_img(path, ingr_dict, bg_size)"
   ]
  },
  {
   "cell_type": "code",
   "execution_count": 10,
   "metadata": {},
   "outputs": [],
   "source": [
    "bg.show()"
   ]
  },
  {
   "cell_type": "markdown",
   "metadata": {},
   "source": [
    "# Assembled images simple pasting grid"
   ]
  },
  {
   "cell_type": "code",
   "execution_count": 79,
   "metadata": {},
   "outputs": [],
   "source": [
    "def assemble_img_grid(path, ingr_dict, ingr_size, grid_step):\n",
    "    \"\"\"\n",
    "    takes in a dictionary of ingredients and their quantities\n",
    "    randomly picks a number of images from the specified ingredient category\n",
    "    randomly picks a background image\n",
    "    creates a grid on the background image\n",
    "    pastes the ingredient images on the background image\n",
    "    \"\"\"\n",
    "    # list with ingredient images\n",
    "    ingredients = []\n",
    "    dirs = list(ingr_dict.keys())\n",
    "    n_ingr = sum(ingr_dict.values())\n",
    "    \n",
    "    for dir in dirs:\n",
    "        ingr_folder = os.path.join(path, dir) \n",
    "        ingr_files = os.listdir(ingr_folder)\n",
    "        ingr_files = [f for f in ingr_files if not f[0] == '.']\n",
    "\n",
    "        sample_size = ingr_dict[dir]\n",
    "        #random choice of image with repetition\n",
    "        ingredient_index = random.choices(ingr_files, k=sample_size)\n",
    "        rows, cols = ingr_size\n",
    "\n",
    "        for ing in ingredient_index:\n",
    "            ingredient_path = os.path.join(path, ingr_folder, ing)\n",
    "            ingredient = Image.open(ingredient_path)\n",
    "            ingredient = ingredient.resize((rows, cols))\n",
    "            ingredients.append(ingredient)\n",
    "    \n",
    "    # background generation\n",
    "    background = load_bg_random(path)[0]\n",
    "    background = cv2.cvtColor(background, cv2.COLOR_BGR2RGB)\n",
    "    background = Image.fromarray(background)\n",
    "    bg = background.resize((512, 1024)).copy()\n",
    "    rows_b, cols_b = bg.size\n",
    "    \n",
    "    # grid definition\n",
    "    grid_width = bg.size[0]\n",
    "    grid_height = bg.size[1]\n",
    "    grid_step = grid_step\n",
    "    x = np.arange(0, grid_width, grid_step)\n",
    "    y = np.arange(0, grid_height, grid_step)\n",
    "    X,Y = np.meshgrid(x,y)\n",
    "    coords = np.array(list(zip(X.flatten(), Y.flatten())))\n",
    "    #no replacement, because otherwise the images get overwritten\n",
    "    coords = coords[np.random.choice(np.arange(len(coords)), size = n_ingr, replace = False), :]\n",
    "    \n",
    "    # image pasting\n",
    "    for i, ingredient in enumerate(ingredients):\n",
    "        # if an image is close to the max coordinates, it needs to be \"brought back\" in the grid\n",
    "        \n",
    "        if tuple(coords[i])[0] == max(x):\n",
    "            rows_adj = tuple(coords[i])[0] - rows\n",
    "        else: \n",
    "            rows_adj = tuple(coords[i])[0]\n",
    "            \n",
    "        if tuple(coords[i])[1] == max(y):\n",
    "            cols_adj = tuple(coords[i])[1] - cols\n",
    "        else:\n",
    "            cols_adj = tuple(coords[i])[1]\n",
    "            \n",
    "        bg.paste(ingredient, (rows_adj, cols_adj))  \n",
    "    \n",
    "    return bg, ingredients, coords"
   ]
  },
  {
   "cell_type": "code",
   "execution_count": 136,
   "metadata": {},
   "outputs": [],
   "source": [
    "def load_bg_random2(path):\n",
    "    \"\"\"\n",
    "    chooses a random background image\n",
    "    \"\"\"    \n",
    "    bg_folder = path\n",
    "    bg_files = os.listdir(bg_folder)\n",
    "    bg_files = [f for f in bg_files if not f[0] == '.']\n",
    "    bg_index = random.randrange(0, len(bg_files))\n",
    "    \n",
    "    bg = os.path.join(path, bg_files[bg_index])\n",
    "    \n",
    "    background = cv2.imread(bg)\n",
    "    rows_b, cols_b, channels_b = background.shape\n",
    "    \n",
    "    return background, rows_b, cols_b, channels_b \n",
    "\n",
    "\n",
    "def assemble_img_grid_from_df(data_df, bg_path, ingr_dict, ingr_size, grid_step):\n",
    "    \"\"\"\n",
    "    takes in a dictionary of ingredients and their quantities\n",
    "    randomly picks a number of images from the specified ingredient category\n",
    "    randomly picks a background image\n",
    "    creates a grid on the background image\n",
    "    pastes the ingredient images on the background image\n",
    "    \"\"\"\n",
    "    # list with ingredient images\n",
    "    ingredients = []\n",
    "    labels = list(ingr_dict.keys())\n",
    "    n_ingr = sum(ingr_dict.values())\n",
    "    \n",
    "    for label in labels:\n",
    "        ingr_files = data_df.set_index('label').loc[label].values\n",
    "\n",
    "        sample_size = ingr_dict[label]\n",
    "        #random choice of image with repetition\n",
    "        ingredient_basket = random.choices(ingr_files, k=sample_size)\n",
    "        rows, cols = ingr_size\n",
    "\n",
    "        for ing in ingredient_basket:\n",
    "            #ingredient_path = os.path.join(path, ingr_folder, ing)\n",
    "            ingredient = Image.open(ing[0])\n",
    "            ingredient = ingredient.resize((rows, cols))\n",
    "            ingredients.append(ingredient)\n",
    "    \n",
    "    # background generation\n",
    "    background = load_bg_random2(bg_path)[0]\n",
    "    background = cv2.cvtColor(background, cv2.COLOR_BGR2RGB)\n",
    "    background = Image.fromarray(background)\n",
    "    bg = background.resize((512, 1024)).copy()\n",
    "    rows_b, cols_b = bg.size\n",
    "    \n",
    "    # grid definition\n",
    "    grid_width = bg.size[0]\n",
    "    grid_height = bg.size[1]\n",
    "    grid_step = grid_step\n",
    "    x = np.arange(0, grid_width - ingr_size[0], grid_step)\n",
    "    y = np.arange(0, grid_height - ingr_size[1], grid_step)\n",
    "    X,Y = np.meshgrid(x,y)\n",
    "    coords = np.array(list(zip(X.flatten(), Y.flatten())))\n",
    "    #no replacement, because otherwise the images get overwritten\n",
    "    coords = coords[np.random.choice(np.arange(len(coords)), size = n_ingr, replace = False), :]\n",
    "    \n",
    "    # image pasting\n",
    "    for i, ingredient in enumerate(ingredients):\n",
    "        # if an image is close to the max coordinates, it needs to be \"brought back\" in the grid\n",
    "        \n",
    "        #if tuple(coords[i])[0] == max(x):\n",
    "        #    rows_adj = tuple(coords[i])[0] - rows\n",
    "        #else: \n",
    "        #    rows_adj = tuple(coords[i])[0]\n",
    "            \n",
    "        #if tuple(coords[i])[1] == max(y):\n",
    "        #    cols_adj = tuple(coords[i])[1] - cols\n",
    "        #else:\n",
    "        #    cols_adj = tuple(coords[i])[1]\n",
    "            \n",
    "        bg.paste(ingredient, (coords[i][0], coords[i][1]))  \n",
    "    \n",
    "    print(list(zip(labels, coords)))\n",
    "    return bg, ingredients, coords"
   ]
  },
  {
   "cell_type": "code",
   "execution_count": 108,
   "metadata": {},
   "outputs": [
    {
     "data": {
      "text/html": [
       "<div>\n",
       "<style scoped>\n",
       "    .dataframe tbody tr th:only-of-type {\n",
       "        vertical-align: middle;\n",
       "    }\n",
       "\n",
       "    .dataframe tbody tr th {\n",
       "        vertical-align: top;\n",
       "    }\n",
       "\n",
       "    .dataframe thead th {\n",
       "        text-align: right;\n",
       "    }\n",
       "</style>\n",
       "<table border=\"1\" class=\"dataframe\">\n",
       "  <thead>\n",
       "    <tr style=\"text-align: right;\">\n",
       "      <th></th>\n",
       "      <th>file</th>\n",
       "    </tr>\n",
       "    <tr>\n",
       "      <th>label</th>\n",
       "      <th></th>\n",
       "    </tr>\n",
       "  </thead>\n",
       "  <tbody>\n",
       "    <tr>\n",
       "      <th>apple</th>\n",
       "      <td>/Users/iskriyanavasileva/git/deep-food/deep-fo...</td>\n",
       "    </tr>\n",
       "    <tr>\n",
       "      <th>apple</th>\n",
       "      <td>/Users/iskriyanavasileva/git/deep-food/deep-fo...</td>\n",
       "    </tr>\n",
       "    <tr>\n",
       "      <th>apple</th>\n",
       "      <td>/Users/iskriyanavasileva/git/deep-food/deep-fo...</td>\n",
       "    </tr>\n",
       "    <tr>\n",
       "      <th>apple</th>\n",
       "      <td>/Users/iskriyanavasileva/git/deep-food/deep-fo...</td>\n",
       "    </tr>\n",
       "    <tr>\n",
       "      <th>apple</th>\n",
       "      <td>/Users/iskriyanavasileva/git/deep-food/deep-fo...</td>\n",
       "    </tr>\n",
       "    <tr>\n",
       "      <th>...</th>\n",
       "      <td>...</td>\n",
       "    </tr>\n",
       "    <tr>\n",
       "      <th>apple</th>\n",
       "      <td>/Users/iskriyanavasileva/git/deep-food/deep-fo...</td>\n",
       "    </tr>\n",
       "    <tr>\n",
       "      <th>apple</th>\n",
       "      <td>/Users/iskriyanavasileva/git/deep-food/deep-fo...</td>\n",
       "    </tr>\n",
       "    <tr>\n",
       "      <th>apple</th>\n",
       "      <td>/Users/iskriyanavasileva/git/deep-food/deep-fo...</td>\n",
       "    </tr>\n",
       "    <tr>\n",
       "      <th>apple</th>\n",
       "      <td>/Users/iskriyanavasileva/git/deep-food/deep-fo...</td>\n",
       "    </tr>\n",
       "    <tr>\n",
       "      <th>apple</th>\n",
       "      <td>/Users/iskriyanavasileva/git/deep-food/deep-fo...</td>\n",
       "    </tr>\n",
       "  </tbody>\n",
       "</table>\n",
       "<p>158 rows × 1 columns</p>\n",
       "</div>"
      ],
      "text/plain": [
       "                                                    file\n",
       "label                                                   \n",
       "apple  /Users/iskriyanavasileva/git/deep-food/deep-fo...\n",
       "apple  /Users/iskriyanavasileva/git/deep-food/deep-fo...\n",
       "apple  /Users/iskriyanavasileva/git/deep-food/deep-fo...\n",
       "apple  /Users/iskriyanavasileva/git/deep-food/deep-fo...\n",
       "apple  /Users/iskriyanavasileva/git/deep-food/deep-fo...\n",
       "...                                                  ...\n",
       "apple  /Users/iskriyanavasileva/git/deep-food/deep-fo...\n",
       "apple  /Users/iskriyanavasileva/git/deep-food/deep-fo...\n",
       "apple  /Users/iskriyanavasileva/git/deep-food/deep-fo...\n",
       "apple  /Users/iskriyanavasileva/git/deep-food/deep-fo...\n",
       "apple  /Users/iskriyanavasileva/git/deep-food/deep-fo...\n",
       "\n",
       "[158 rows x 1 columns]"
      ]
     },
     "execution_count": 108,
     "metadata": {},
     "output_type": "execute_result"
    }
   ],
   "source": [
    "import glob as glob\n",
    "home = os.environ['HOME']\n",
    "path = os.path.join(home, 'git', 'deep-food', 'deep-food')\n",
    "\n",
    "def is_image(filename):\n",
    "    _, ext = os.path.splitext(filename)\n",
    "    return ext in {'.jpg', '.jpeg'}\n",
    "\n",
    "all_files = glob.glob(os.path.join(path, '*/*'))\n",
    "filenames = []\n",
    "labels = []\n",
    "for path in all_files:\n",
    "    if is_image(path):\n",
    "        filenames.append(path)\n",
    "        \n",
    "        parent_folder, _ = os.path.split(path)\n",
    "        _, folder = os.path.split(parent_folder)\n",
    "        labels.append(folder)\n",
    "        \n",
    "data_df = pd.DataFrame({'file': filenames, 'label': labels})\n",
    "\n",
    "data_df.set_index('label').loc['apple']"
   ]
  },
  {
   "cell_type": "code",
   "execution_count": 156,
   "metadata": {},
   "outputs": [],
   "source": [
    "home = os.environ['HOME']\n",
    "path = os.path.join(home, 'git', 'deep-food', 'deep-food')\n",
    "ingr_dict = {'orange': 1, \n",
    "             'banana': 1, \n",
    "             'watermelon': 1,\n",
    "             'chocolate': 1\n",
    "            }\n",
    "ingr_size = (180, 180)\n",
    "grid_step = 200"
   ]
  },
  {
   "cell_type": "code",
   "execution_count": 157,
   "metadata": {},
   "outputs": [
    {
     "name": "stdout",
     "output_type": "stream",
     "text": [
      "[('orange', array([200, 800])), ('banana', array([200, 600])), ('watermelon', array([200,   0])), ('chocolate', array([200, 400]))]\n"
     ]
    },
    {
     "data": {
      "text/plain": [
       "array([[200, 800],\n",
       "       [200, 600],\n",
       "       [200,   0],\n",
       "       [200, 400]])"
      ]
     },
     "execution_count": 157,
     "metadata": {},
     "output_type": "execute_result"
    }
   ],
   "source": [
    "bg_path = os.path.join(home, 'git', 'deep-food', 'deep-food', 'background')\n",
    "bg, ingredients, coords = assemble_img_grid_from_df(data_df, bg_path, ingr_dict, ingr_size, grid_step)\n",
    "\n",
    "bg.show()\n",
    "coords"
   ]
  },
  {
   "cell_type": "code",
   "execution_count": 92,
   "metadata": {},
   "outputs": [
    {
     "ename": "IndexError",
     "evalue": "list index out of range",
     "output_type": "error",
     "traceback": [
      "\u001b[0;31m---------------------------------------------------------------------------\u001b[0m",
      "\u001b[0;31mIndexError\u001b[0m                                Traceback (most recent call last)",
      "\u001b[0;32m<ipython-input-92-067a9cdb8556>\u001b[0m in \u001b[0;36m<module>\u001b[0;34m\u001b[0m\n\u001b[0;32m----> 1\u001b[0;31m \u001b[0mingredients\u001b[0m\u001b[0;34m[\u001b[0m\u001b[0;36m6\u001b[0m\u001b[0;34m]\u001b[0m\u001b[0;34m.\u001b[0m\u001b[0mshow\u001b[0m\u001b[0;34m(\u001b[0m\u001b[0;34m)\u001b[0m\u001b[0;34m\u001b[0m\u001b[0;34m\u001b[0m\u001b[0m\n\u001b[0m\u001b[1;32m      2\u001b[0m \u001b[0;31m#2, 5 not there --> assumption - -values\u001b[0m\u001b[0;34m\u001b[0m\u001b[0;34m\u001b[0m\u001b[0;34m\u001b[0m\u001b[0m\n",
      "\u001b[0;31mIndexError\u001b[0m: list index out of range"
     ]
    }
   ],
   "source": [
    "ingredients[6].show()\n",
    "#2, 5 not there --> assumption - -values"
   ]
  },
  {
   "cell_type": "code",
   "execution_count": 118,
   "metadata": {},
   "outputs": [
    {
     "data": {
      "text/plain": [
       "[array(['/Users/iskriyanavasileva/git/deep-food/deep-food/apple/apple+1599070664377598583+.jpg'],\n",
       "       dtype=object),\n",
       " array(['/Users/iskriyanavasileva/git/deep-food/deep-food/apple/apple+1599070654260105645+.jpg'],\n",
       "       dtype=object),\n",
       " array(['/Users/iskriyanavasileva/git/deep-food/deep-food/apple/apple+1599070665878493472+.jpg'],\n",
       "       dtype=object),\n",
       " array(['/Users/iskriyanavasileva/git/deep-food/deep-food/apple/apple+1599070597896032347+.jpg'],\n",
       "       dtype=object),\n",
       " array(['/Users/iskriyanavasileva/git/deep-food/deep-food/apple/apple+1599070636478899380+.jpg'],\n",
       "       dtype=object)]"
      ]
     },
     "execution_count": 118,
     "metadata": {},
     "output_type": "execute_result"
    }
   ],
   "source": [
    "random.choices(data_df.set_index('label').loc['apple'].values, k = 5)"
   ]
  },
  {
   "cell_type": "code",
   "execution_count": null,
   "metadata": {},
   "outputs": [],
   "source": []
  }
 ],
 "metadata": {
  "kernelspec": {
   "display_name": "deep-food",
   "language": "python",
   "name": "deep-food"
  },
  "language_info": {
   "codemirror_mode": {
    "name": "ipython",
    "version": 3
   },
   "file_extension": ".py",
   "mimetype": "text/x-python",
   "name": "python",
   "nbconvert_exporter": "python",
   "pygments_lexer": "ipython3",
   "version": "3.6.10"
  }
 },
 "nbformat": 4,
 "nbformat_minor": 4
}

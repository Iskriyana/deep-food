{
 "cells": [
  {
   "cell_type": "code",
   "execution_count": 1,
   "metadata": {},
   "outputs": [],
   "source": [
    "import numpy as np\n",
    "import pandas as pd\n",
    "\n",
    "import sys\n",
    "import os\n",
    "import random\n",
    "\n",
    "from PIL import Image, ImageFont, ImageDraw\n",
    "from PIL.ImageChops import add, subtract, multiply, difference, screen\n",
    "\n",
    "import cv2\n",
    "\n",
    "import matplotlib.pyplot as plt"
   ]
  },
  {
   "cell_type": "markdown",
   "metadata": {},
   "source": [
    "https://pillow.readthedocs.io/en/stable/reference/Image.html"
   ]
  },
  {
   "cell_type": "markdown",
   "metadata": {},
   "source": [
    "# OpenCV"
   ]
  },
  {
   "cell_type": "markdown",
   "metadata": {},
   "source": [
    "http://www-cs.ccny.cuny.edu/~wolberg/capstone/opencv/LearningOpenCV.pdf\n",
    "\n",
    "http://opencvexamples.blogspot.com/p/learning-opencv-functions-step-by-step.html\n",
    "\n",
    "https://opencv.org/\n",
    "\n",
    "https://github.com/opencv/opencv/tree/master/.github\n",
    "\n",
    "https://pythonprogramming.net/corner-detection-python-opencv-tutorial/"
   ]
  },
  {
   "cell_type": "markdown",
   "metadata": {},
   "source": [
    "## Image Overlays Using Bitwise Operations in OpenCV"
   ]
  },
  {
   "cell_type": "code",
   "execution_count": 2,
   "metadata": {},
   "outputs": [
    {
     "data": {
      "text/plain": [
       "'/Users/iskriyanavasileva/git/deep-food/gleb_google_images'"
      ]
     },
     "execution_count": 2,
     "metadata": {},
     "output_type": "execute_result"
    }
   ],
   "source": [
    "home = os.environ['HOME']\n",
    "#https://medium.com/@ageitgey/python-3-quick-tip-the-easy-way-to-deal-with-file-paths-on-windows-mac-and-linux-11a072b58d5f\n",
    "\n",
    "path = os.path.join(home, 'git', 'deep-food', 'gleb_google_images')\n",
    "path"
   ]
  },
  {
   "cell_type": "code",
   "execution_count": 3,
   "metadata": {},
   "outputs": [
    {
     "data": {
      "text/plain": [
       "'/Users/iskriyanavasileva/git/deep-food/gleb_google_images/gleb_google_images_comb'"
      ]
     },
     "execution_count": 3,
     "metadata": {},
     "output_type": "execute_result"
    }
   ],
   "source": [
    "path_comb = os.path.join(path, 'gleb_google_images' + '_comb')\n",
    "path_comb"
   ]
  },
  {
   "cell_type": "code",
   "execution_count": 4,
   "metadata": {},
   "outputs": [],
   "source": [
    "def load_bg_random(path, bg_folder='background'):\n",
    "    \"\"\"\n",
    "    chooses a random background image\n",
    "    \"\"\"    \n",
    "    #https://stackoverflow.com/questions/701402/best-way-to-choose-a-random-file-from-a-directory\n",
    "    #https://www.techtrekking.com/how-to-randomly-select-files-from-folder-using-python/\n",
    "    #https://docs.scipy.org/doc/numpy-1.15.1/reference/generated/numpy.random.randint.html\n",
    "    bg_folder = os.path.join(path, bg_folder)\n",
    "    bg_files = os.listdir(bg_folder)\n",
    "    bg_files = [f for f in bg_files if not f[0] == '.']\n",
    "    bg_index = random.randrange(0, len(bg_files))\n",
    "    \n",
    "    bg = os.path.join(path, bg_folder, bg_files[bg_index])\n",
    "    \n",
    "    background = cv2.imread(bg)\n",
    "    rows_b, cols_b, channels_b = background.shape\n",
    "    \n",
    "    return background, rows_b, cols_b, channels_b "
   ]
  },
  {
   "cell_type": "code",
   "execution_count": 1,
   "metadata": {},
   "outputs": [],
   "source": [
    "def load_img_mask(path):\n",
    "    \"\"\"\n",
    "    creates a mask of the ingredient\n",
    "    creates a new combined image\n",
    "    \"\"\"        \n",
    "    for root, dirs, files in os.walk(path):\n",
    "            #https://stackabuse.com/python-check-if-string-contains-substring/\n",
    "            #https://cyluun.github.io/blog/manipulating-python-oswalk\n",
    "            #https://bugsdb.com/_en/debug/064b3876f2e6bc643f0553131e2776b4\n",
    "            \n",
    "            files = [f for f in files if not f[0] == '.' and f.find('background') == -1]\n",
    "            for f in files:\n",
    "                file_path = os.path.join(root, f)\n",
    "                \n",
    "                #https://www.geeksforgeeks.org/reading-images-in-python/\n",
    "                ingredient = cv2.imread(file_path)\n",
    "                \n",
    "                #load random background\n",
    "                background, rows_b, cols_b, channels_b = load_bg_random(path)\n",
    "                \n",
    "                # resize ingredient image to make sure it is always smaller than the background\n",
    "                #resize (cols, rows)\n",
    "                #https://www.tutorialkart.com/opencv/python/opencv-python-resize-image/\n",
    "                #https://stackoverflow.com/questions/44650888/resize-an-image-without-distortion-opencv\n",
    "                #https://www.tutorialkart.com/opencv/python/opencv-python-resize-image/\n",
    "                #https://www.pyimagesearch.com/2014/01/20/basic-image-manipulations-in-python-and-opencv-resizing-scaling-rotating-and-cropping/\n",
    "                \n",
    "                #ASPECT RATIOS\n",
    "                #https://support.squarespace.com/hc/en-us/articles/115008538927-Understanding-aspect-ratios#:~:text=An%20aspect%20ratio%20is%20a,and%20width%20are%20the%20same.\n",
    "                #https://stackoverflow.com/questions/44650888/resize-an-image-without-distortion-opencv\n",
    "                #https://stackoverflow.com/questions/2232742/does-python-pil-resize-maintain-the-aspect-ratio\n",
    "                \n",
    "                rows_i = int(rows_b/2)\n",
    "                cols_i = int(cols_b/2)\n",
    "                dim_res = (cols_i, rows_i)\n",
    "                ingredient_res = cv2.resize(ingredient, dim_res)\n",
    "                \n",
    "                # Create a Region of Images (=ROI) in a randomised matter \n",
    "                rows, cols, channels = ingredient_res.shape\n",
    "                \n",
    "                #https://pynative.com/python-random-randrange/\n",
    "                start_rows = np.random.randint(0, rows_b-rows)\n",
    "                end_rows = start_rows + rows\n",
    "                start_cols = np.random.randint(0, cols_b-cols)\n",
    "                end_cols = start_cols + cols\n",
    "\n",
    "                #https://opencv-python-tutroals.readthedocs.io/en/latest/py_tutorials/py_core/py_basic_ops/py_basic_ops.html\n",
    "                #https://www.learnopencv.com/how-to-select-a-bounding-box-roi-in-opencv-cpp-python/\n",
    "                roi = background[start_rows:end_rows, start_cols:end_cols]\n",
    "                \n",
    "                #parameters for rotation\n",
    "                #M are the coordinates of the center, (cols/2, rows/2) is the center of rotation for the image\n",
    "                #https://livecodestream.dev/post/2020-06-11-essential-opencv-functions-to-get-you-started-into-computer-vision/\n",
    "                deg = np.random.randint(0, 360)\n",
    "                M = cv2.getRotationMatrix2D((cols/2, rows/2), deg, 1)\n",
    "                \n",
    "                ingredient_rot = cv2.warpAffine(ingredient_res, M, (cols, rows))\n",
    "\n",
    "                # Now create a mask of the ingredient and create its inverse mask also\n",
    "                #https://techtutorialsx.com/2019/04/13/python-opencv-converting-image-to-black-and-white/#:~:text=Converting%20an%20image%20to%20black%20and%20white%20with%20OpenCV%20can,the%20value%200%20(black).\n",
    "                #https://docs.opencv.org/3.4/d7/d4d/tutorial_py_thresholding.html\n",
    "                img2gray = cv2.cvtColor(ingredient_res, cv2.COLOR_BGR2GRAY)\n",
    "\n",
    "                # everything higher than the threshold (i.e. lighter), will become black\n",
    "                # the rest (i.e. the darker pixels filled by the object), will become white\n",
    "                # with THRESH_OTSU the threshold is adjustable according to the image\n",
    "                # similar to the idea to take the mean value between black and white as a threshold\n",
    "                # the GaussianBluring smooths the image to make the black & white more precise\n",
    "                blur = cv2.GaussianBlur(img2gray, (5,5), 0)\n",
    "                \n",
    "                #https://docs.opencv.org/2.4/modules/imgproc/doc/miscellaneous_transformations.html\n",
    "                #https://stackoverflow.com/questions/22240220/thresholding-image-in-opencv-for-a-range-of-max-and-min-values\n",
    "                #https://docs.opencv.org/3.4/db/d8e/tutorial_threshold.html\n",
    "                #https://docs.opencv.org/master/d7/d4d/tutorial_py_thresholding.html\n",
    "                ret, mask = cv2.threshold(blur, 0, 255, cv2.THRESH_BINARY_INV + cv2.THRESH_OTSU)\n",
    "                \n",
    "                #MAIN LINKS MASKING\n",
    "                #https://theailearner.com/2019/03/26/image-overlays-using-bitwise-operations-opencv-python/\n",
    "                #https://towardsdatascience.com/weekend-project-detecting-solar-panels-from-satellite-imagery-f6f5d5e0da40\n",
    "                #https://docs.opencv.org/master/d0/d86/tutorial_py_image_arithmetics.html\n",
    "                #https://www.learnopencv.com/alpha-blending-using-opencv-cpp-python/\n",
    "                #https://www.geeksforgeeks.org/arithmetic-operations-on-images-using-opencv-set-2-bitwise-operations-on-binary-images/\n",
    "                #https://opencv-python-tutroals.readthedocs.io/en/latest/py_tutorials/py_core/py_image_arithmetics/py_image_arithmetics.html\n",
    "                #https://note.nkmk.me/en/python-opencv-numpy-alpha-blend-mask/\n",
    "                #https://medium.com/@vishwasu2001/basic-arithmetic-and-bitwise-operations-on-images-with-open-cv-part-4-87d04e2a42c\n",
    "                #https://towardsdatascience.com/understanding-the-basics-of-digital-image-processing-and-computer-vision-using-opencv-8bc0e67243c8\n",
    "                #https://towardsdatascience.com/practical-image-process-with-opencv-8405772c603e\n",
    "                \n",
    "                #https://scikit-image.org/docs/dev/user_guide/transforming_image_data.html\n",
    "                #https://scikit-image.org/\n",
    "                #https://stackoverflow.com/questions/10469235/opencv-apply-mask-to-a-color-image/38493075\n",
    "                #https://towardsdatascience.com/extracting-faces-using-opencv-face-detection-neural-network-475c5cd0c260\n",
    "                #https://towardsdatascience.com/facial-keypoints-detection-deep-learning-737547f73515\n",
    "                #https://towardsdatascience.com/image-panorama-stitching-with-opencv-2402bde6b46c\n",
    "                #https://datacarpentry.org/image-processing/04-drawing/\n",
    "                #https://stackoverflow.com/questions/2169605/use-numpy-to-mask-an-image-with-a-pattern\n",
    "                #https://likegeeks.com/python-image-processing/\n",
    "                #https://ai.stackexchange.com/questions/13476/how-to-mask-an-image-using-numpy-opencv\n",
    "                #https://campus.datacamp.com/courses/biomedical-image-analysis-in-python/masks-and-filters?ex=6\n",
    "                \n",
    "                #TO CHECK\n",
    "                #https://www.tutorialfor.com/questions-99662.htm\n",
    "                #https://towardsdatascience.com/practical-image-process-with-opencv-8405772c603e\n",
    "                \n",
    "                    \n",
    "                mask_rot = cv2.warpAffine(mask, M, (cols, rows))\n",
    "                \n",
    "                #https://docs.opencv.org/4.1.2/d0/d86/tutorial_py_image_arithmetics.html                \n",
    "                mask_inv = cv2.bitwise_not(mask_rot)\n",
    "\n",
    "                # Black-out the area of the ingredient in ROI in the background image\n",
    "                background_bg = cv2.bitwise_and(roi, roi, mask = mask_inv)\n",
    "\n",
    "                # Take only region of the ingredient from the ingredient image.\n",
    "                ingredient_fg = cv2.bitwise_and(ingredient_rot, ingredient_rot, mask = mask_rot)\n",
    "\n",
    "                # Put the ingredient in ROI and modify the main image\n",
    "                dst = cv2.add(background_bg, ingredient_fg)\n",
    "\n",
    "                #positions are randomised (see above)\n",
    "                background[start_rows:end_rows, start_cols:end_cols] = dst\n",
    "                \n",
    "                img_comb = background \n",
    "                           \n",
    "                # select only the filename: https://stackoverflow.com/questions/678236/how-to-get-the-filename-without-the-extension-from-a-path-in-python?rq=1\n",
    "                filename = os.path.splitext(f)[0]\n",
    "                file_path_comb = os.path.join(root, f'{filename}_comb.jpg')\n",
    "                #https://www.geeksforgeeks.org/python-opencv-cv2-imwrite-method/\n",
    "                cv2.imwrite(file_path_comb, img_comb)"
   ]
  },
  {
   "cell_type": "code",
   "execution_count": 6,
   "metadata": {},
   "outputs": [],
   "source": [
    "load_img_mask(path)"
   ]
  },
  {
   "cell_type": "code",
   "execution_count": null,
   "metadata": {},
   "outputs": [],
   "source": []
  }
 ],
 "metadata": {
  "kernelspec": {
   "display_name": "deep-food",
   "language": "python",
   "name": "deep-food"
  },
  "language_info": {
   "codemirror_mode": {
    "name": "ipython",
    "version": 3
   },
   "file_extension": ".py",
   "mimetype": "text/x-python",
   "name": "python",
   "nbconvert_exporter": "python",
   "pygments_lexer": "ipython3",
   "version": "3.6.10"
  }
 },
 "nbformat": 4,
 "nbformat_minor": 4
}

{
 "cells": [
  {
   "cell_type": "code",
   "execution_count": 1,
   "metadata": {},
   "outputs": [],
   "source": [
    "import pandas as pd\n",
    "import numpy as np"
   ]
  },
  {
   "cell_type": "code",
   "execution_count": 6,
   "metadata": {},
   "outputs": [
    {
     "data": {
      "text/html": [
       "<div>\n",
       "<style scoped>\n",
       "    .dataframe tbody tr th:only-of-type {\n",
       "        vertical-align: middle;\n",
       "    }\n",
       "\n",
       "    .dataframe tbody tr th {\n",
       "        vertical-align: top;\n",
       "    }\n",
       "\n",
       "    .dataframe thead th {\n",
       "        text-align: right;\n",
       "    }\n",
       "</style>\n",
       "<table border=\"1\" class=\"dataframe\">\n",
       "  <thead>\n",
       "    <tr style=\"text-align: right;\">\n",
       "      <th></th>\n",
       "      <th>Name</th>\n",
       "      <th>URL</th>\n",
       "      <th>Ingredients</th>\n",
       "      <th>Instructions</th>\n",
       "    </tr>\n",
       "  </thead>\n",
       "  <tbody>\n",
       "    <tr>\n",
       "      <th>0</th>\n",
       "      <td>Keto Paprika And Garlic Roasted Radishes</td>\n",
       "      <td>https://www.carbmanager.com/recipe/keto-paprik...</td>\n",
       "      <td>Radish, Raw\\n10-_ ounce\\n(298g)\\nOlive Oil\\n1-...</td>\n",
       "      <td>1. Preheat the oven to 400 degrees Fahrenheit....</td>\n",
       "    </tr>\n",
       "    <tr>\n",
       "      <th>1</th>\n",
       "      <td>PAPRIKA ROASTED RADISHES WITH ONIONS Ð LOW CAR...</td>\n",
       "      <td>https://peaceloveandlowcarb.com/paprika-roaste...</td>\n",
       "      <td>2 large bunches radishes, cleaned and halved\\n...</td>\n",
       "      <td>Preheat oven to 350¡ Line a rimmed baking shee...</td>\n",
       "    </tr>\n",
       "    <tr>\n",
       "      <th>2</th>\n",
       "      <td>Roasted Radishes With Rosemary And Smoked Paprika</td>\n",
       "      <td>https://deliciousaffood.com/roasted-radishes-r...</td>\n",
       "      <td>20 radishes (sliced in half)\\n1 tbsp fresh ros...</td>\n",
       "      <td>Preheat your oven to 425.\\n\\nWash and slice th...</td>\n",
       "    </tr>\n",
       "  </tbody>\n",
       "</table>\n",
       "</div>"
      ],
      "text/plain": [
       "                                                Name  \\\n",
       "0           Keto Paprika And Garlic Roasted Radishes   \n",
       "1  PAPRIKA ROASTED RADISHES WITH ONIONS Ð LOW CAR...   \n",
       "2  Roasted Radishes With Rosemary And Smoked Paprika   \n",
       "\n",
       "                                                 URL  \\\n",
       "0  https://www.carbmanager.com/recipe/keto-paprik...   \n",
       "1  https://peaceloveandlowcarb.com/paprika-roaste...   \n",
       "2  https://deliciousaffood.com/roasted-radishes-r...   \n",
       "\n",
       "                                         Ingredients  \\\n",
       "0  Radish, Raw\\n10-_ ounce\\n(298g)\\nOlive Oil\\n1-...   \n",
       "1  2 large bunches radishes, cleaned and halved\\n...   \n",
       "2  20 radishes (sliced in half)\\n1 tbsp fresh ros...   \n",
       "\n",
       "                                        Instructions  \n",
       "0  1. Preheat the oven to 400 degrees Fahrenheit....  \n",
       "1  Preheat oven to 350¡ Line a rimmed baking shee...  \n",
       "2  Preheat your oven to 425.\\n\\nWash and slice th...  "
      ]
     },
     "execution_count": 6,
     "metadata": {},
     "output_type": "execute_result"
    }
   ],
   "source": [
    "test = pd.read_csv('recipes.csv', delimiter = ';', encoding = \"ISO-8859-1\")\n",
    "test"
   ]
  },
  {
   "cell_type": "code",
   "execution_count": 19,
   "metadata": {},
   "outputs": [],
   "source": [
    "recipe_name = test.loc[:, 'Name']#[0]\n",
    "recipes_ingr = test.loc[:, 'Ingredients'][0]\n",
    "recipes_instructions = test.loc[:, 'Instructions'][0]\n",
    "recipe_url = test.loc[:, 'URL'][0]"
   ]
  },
  {
   "cell_type": "code",
   "execution_count": 24,
   "metadata": {},
   "outputs": [
    {
     "data": {
      "text/plain": [
       "0             Keto Paprika And Garlic Roasted Radishes\n",
       "1    PAPRIKA ROASTED RADISHES WITH ONIONS Ð LOW CAR...\n",
       "2    Roasted Radishes With Rosemary And Smoked Paprika\n",
       "Name: Name, dtype: object"
      ]
     },
     "execution_count": 24,
     "metadata": {},
     "output_type": "execute_result"
    }
   ],
   "source": [
    "recipe_name"
   ]
  },
  {
   "cell_type": "code",
   "execution_count": 27,
   "metadata": {},
   "outputs": [],
   "source": [
    "test_dict = test.to_dict()"
   ]
  },
  {
   "cell_type": "code",
   "execution_count": 29,
   "metadata": {},
   "outputs": [],
   "source": [
    "#test_dict"
   ]
  },
  {
   "cell_type": "code",
   "execution_count": 33,
   "metadata": {},
   "outputs": [
    {
     "data": {
      "text/plain": [
       "Name                     Keto Paprika And Garlic Roasted Radishes\n",
       "URL             https://www.carbmanager.com/recipe/keto-paprik...\n",
       "Ingredients     Radish, Raw\\n10-_ ounce\\n(298g)\\nOlive Oil\\n1-...\n",
       "Instructions    1. Preheat the oven to 400 degrees Fahrenheit....\n",
       "Name: 0, dtype: object"
      ]
     },
     "execution_count": 33,
     "metadata": {},
     "output_type": "execute_result"
    }
   ],
   "source": [
    "test.iloc[0, :]"
   ]
  },
  {
   "cell_type": "code",
   "execution_count": 36,
   "metadata": {},
   "outputs": [
    {
     "data": {
      "text/plain": [
       "3"
      ]
     },
     "execution_count": 36,
     "metadata": {},
     "output_type": "execute_result"
    }
   ],
   "source": [
    "test.shape[0]"
   ]
  },
  {
   "cell_type": "code",
   "execution_count": null,
   "metadata": {},
   "outputs": [],
   "source": []
  }
 ],
 "metadata": {
  "kernelspec": {
   "display_name": "deep-food",
   "language": "python",
   "name": "deep-food"
  },
  "language_info": {
   "codemirror_mode": {
    "name": "ipython",
    "version": 3
   },
   "file_extension": ".py",
   "mimetype": "text/x-python",
   "name": "python",
   "nbconvert_exporter": "python",
   "pygments_lexer": "ipython3",
   "version": "3.6.10"
  }
 },
 "nbformat": 4,
 "nbformat_minor": 4
}

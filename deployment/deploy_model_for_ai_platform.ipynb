{
 "cells": [
  {
   "cell_type": "code",
   "execution_count": null,
   "metadata": {},
   "outputs": [],
   "source": [
    "%matplotlib inline\n",
    "%load_ext autoreload\n",
    "%autoreload 2\n",
    "\n",
    "import tensorflow as tf\n",
    "import os\n",
    "import json\n",
    "import numpy as np\n",
    "from PIL import Image\n",
    "import cv2\n",
    "import sys\n",
    "import matplotlib.pyplot as plt\n",
    "from pathlib import Path\n",
    "import datetime\n",
    "\n",
    "sys.path.append('..')\n",
    "import food_identification.models.model_helpers as model_helpers\n",
    "import data.data_helpers as data_helpers\n",
    "from tensorflow.keras.applications.inception_v3 import preprocess_input as preprocess_inception_v3\n",
    "from tensorflow.keras.models import Sequential, save_model, load_model\n",
    "\n",
    "print(sys.executable)\n",
    "tf.__version__"
   ]
  },
  {
   "cell_type": "code",
   "execution_count": null,
   "metadata": {},
   "outputs": [],
   "source": [
    "CLASSES = ['almond', 'apple', 'apricot', 'avocado', 'banana', 'beef', 'blackberry', 'blueberry', 'broccoli', 'cabbage', \n",
    "           'carrot', 'cauliflower', 'celery', 'cheese', 'cherry', 'chicken_breast', 'chocolate', 'corn', 'cucumber',\n",
    "           'egg', 'eggplant', 'fig', 'grapefruit', 'grapes', 'grated_cheese', 'kiwi', 'lemon', 'lettuce', 'lime',\n",
    "           'mango', 'melon', 'mushroom', 'olive', 'onion', 'orange', 'other', 'paprika', 'passionfruit','peach',\n",
    "           'pear','pineapple', 'plum', 'pomegranate', 'pork', 'radish', 'raspberry', 'salami', 'scallion',\n",
    "           'strawberry', 'tomato', 'watermelon', 'whole_chicken', 'zucchini']\n",
    "\n",
    "IND2CLASS = {0: 'almond', 1: 'apple', 2: 'apricot', 3: 'avocado', 4: 'banana', 5: 'beef', 6: 'blackberry', 7: 'blueberry',\n",
    "             8: 'broccoli', 9: 'cabbage', 10: 'carrot', 11: 'cauliflower', 12: 'celery', 13: 'cheese', 14: 'cherry',\n",
    "             15: 'chicken_breast', 16: 'chocolate', 17: 'corn', 18: 'cucumber', 19: 'egg', 20: 'eggplant', 21: 'fig',\n",
    "             22: 'grapefruit', 23: 'grapes', 24: 'grated_cheese', 25: 'kiwi', 26: 'lemon', 27: 'lettuce', 28: 'lime',\n",
    "             29: 'mango', 30: 'melon', 31: 'mushroom', 32: 'olive', 33: 'onion', 34: 'orange', 35: 'other', 36: 'paprika',\n",
    "             37: 'passionfruit', 38: 'peach', 39: 'pear', 40: 'pineapple', 41: 'plum', 42: 'pomegranate', 43: 'pork',\n",
    "             44: 'radish', 45: 'raspberry', 46: 'salami', 47: 'scallion', 48: 'strawberry', 49: 'tomato', 50: 'watermelon',\n",
    "             51: 'whole_chicken', 52: 'zucchini'}\n",
    "\n",
    "\n",
    "CLASS2IND = {v:k for (k,v) in IND2CLASS.items()}\n",
    "\n",
    "FINAL_MODEL_PATH = '../food_identification/models/final_model/'\n",
    "EXPORT_DIR = 'output'\n",
    "EXPORT_MODEL = 'exported_model'"
   ]
  },
  {
   "cell_type": "markdown",
   "metadata": {},
   "source": [
    "#### Load final (trained) model"
   ]
  },
  {
   "cell_type": "code",
   "execution_count": null,
   "metadata": {},
   "outputs": [],
   "source": [
    "loaded_model = load_model(\n",
    "    FINAL_MODEL_PATH,\n",
    "    custom_objects=None,\n",
    "    compile=True\n",
    ")"
   ]
  },
  {
   "cell_type": "markdown",
   "metadata": {},
   "source": [
    "#### Deploy model\n",
    "\n",
    "- Add Input layer for processing JSON inputs\n",
    "- Add preprocessing layer as a part of the deployed model\n",
    "- Take probabilities and class predicitions as outputs"
   ]
  },
  {
   "cell_type": "code",
   "execution_count": null,
   "metadata": {},
   "outputs": [],
   "source": [
    "# helper functions for deployment \n",
    "\n",
    "def prepare_prediction_image(image_str_tensor):\n",
    "    \"\"\"Prepare an image tensor for prediction.\n",
    "    Takes a string tensor containing a binary jpeg image and returns\n",
    "    a tensor object of the image with dtype float32.\n",
    "\n",
    "    Parameters:\n",
    "        image_str_tensor: a tensor containing a binary jpeg image as a string\n",
    "    Returns:\n",
    "        image: A tensor representing an image.\n",
    "    \"\"\"\n",
    "    image_str_tensor = tf.cast(image_str_tensor, tf.string)\n",
    "    image = tf.image.decode_jpeg(image_str_tensor, channels=3)\n",
    "    image = tf.cast(image, dtype=tf.uint8)\n",
    "    return image\n",
    "\n",
    "def prepare_prediction_image_batch(image_str_tensor):\n",
    "    \"\"\"Prepare a batch of images for prediction.\"\"\"\n",
    "    return tf.map_fn(prepare_prediction_image, image_str_tensor,\n",
    "                     dtype=tf.uint8)"
   ]
  },
  {
   "cell_type": "code",
   "execution_count": null,
   "metadata": {},
   "outputs": [],
   "source": [
    "prediction_input = tf.keras.Input(\n",
    "    dtype=tf.string, name='bytes', shape=())\n",
    "\n",
    "prediction_output = tf.keras.layers.Lambda(\n",
    "    prepare_prediction_image_batch)(prediction_input)\n",
    "\n",
    "prediction_output = tf.cast(prediction_output, dtype=tf.float32)\n",
    "prediction_output = preprocess_inception_v3(prediction_output)\n",
    "\n",
    "prediction_output = loaded_model(prediction_output)\n",
    "\n",
    "prediction_output = tf.keras.layers.Lambda(\n",
    "        lambda x: x, name='PROBABILITIES')(prediction_output)\n",
    "\n",
    "prediction_class = tf.keras.layers.Lambda(\n",
    "        lambda x: tf.argmax(x, 1), name='CLASSES')(prediction_output)\n",
    "\n",
    "ml_model = tf.keras.models.Model(prediction_input, outputs=[prediction_class, prediction_output])\n",
    "\n",
    "export_dir = 'output'\n",
    "model_dir = 'exported_model'\n",
    "model_path = Path(export_dir) / model_dir\n",
    "if model_path.exists():\n",
    "    timestamp = datetime.datetime.now().strftime(\"-%Y-%m-%d-%H-%M-%S\")\n",
    "    model_path = Path(str(model_path) + timestamp)\n",
    "\n",
    "# save model\n",
    "tf.saved_model.save(ml_model, str(model_path))"
   ]
  },
  {
   "cell_type": "markdown",
   "metadata": {},
   "source": [
    "#### Test deployment\n",
    "\n",
    "- Save two sample JSON files, one single window and a full image stack\n",
    "\n",
    "- Test deployment locally using:\n",
    "\n",
    "`gcloud ai-platform local predict --model-dir <EXPORT_DIR>/<EXPORT_MODEL> \\\n",
    "  --json-instances check_deployed_model/<JSON_FILE> \\\n",
    "  --framework tensorflow`\n",
    "  \n",
    "- Deploy model on Google AI platform using the guide (https://cloud.google.com/ai-platform/prediction/docs/deploying-models)\n",
    "\n",
    "- Test remote deployment.\n"
   ]
  },
  {
   "cell_type": "code",
   "execution_count": null,
   "metadata": {},
   "outputs": [],
   "source": [
    "# load example image\n",
    "file = '../../deep-food_old/data/validation_real/example15.jpg'\n",
    "\n",
    "img = np.array(Image.open(file))\n",
    "img = data_helpers.resize_image_to_1024(img)\n",
    "plt.imshow(img)\n",
    "plt.xticks([])\n",
    "plt.yticks([])\n",
    "\n",
    "# convert to strided stack\n",
    "kernel_size = 224\n",
    "new_img, x0, y0 = model_helpers.imageRGB_as_strided(img, kernel_size=kernel_size, stride=112)\n",
    "\n",
    "stack = new_img.reshape((-1, kernel_size, kernel_size, 3))\n",
    "x0 = x0.flatten()\n",
    "y0 = y0.flatten()"
   ]
  },
  {
   "cell_type": "code",
   "execution_count": null,
   "metadata": {},
   "outputs": [],
   "source": [
    "# generate sample instance\n",
    "im_test, encoded_string = data_helpers.convert_numpy_image_to_json_instance(stack[15])\n",
    "with open('check_deployed_model/test_1_window.json', 'w') as fp:\n",
    "    json.dump({'bytes': {'b64': encoded_string}}, fp)\n",
    "\n",
    "im_test"
   ]
  },
  {
   "cell_type": "code",
   "execution_count": null,
   "metadata": {},
   "outputs": [],
   "source": [
    "# generate sample stack\n",
    "instances = data_helpers.encode_stack_as_JSON(stack)\n",
    "\n",
    "with open('check_deployed_model/test_stack.json', 'w') as f:\n",
    "    for ins in instances:\n",
    "        f.write(json.dumps(ins)+'\\n')\n"
   ]
  },
  {
   "cell_type": "markdown",
   "metadata": {},
   "source": [
    "#### Test core functionality"
   ]
  },
  {
   "cell_type": "code",
   "execution_count": null,
   "metadata": {},
   "outputs": [],
   "source": [
    "# get predictions from deployed model on Google AI platform\n",
    "\n",
    "# set path to key credentials\n",
    "os.environ['GOOGLE_APPLICATION_CREDENTIALS'] = \"my-ml6-challenge-2462e6522a17.json\"\n",
    "\n",
    "# specifiy model and version\n",
    "project = 'my-ml6-challenge'\n",
    "model = 'food_classifier'\n",
    "version = 'v0_1'\n",
    "\n",
    "responses = model_helpers.ai_platform_predict_json(project, model, instances, version=version)"
   ]
  },
  {
   "cell_type": "markdown",
   "metadata": {},
   "source": [
    "#### Test main function"
   ]
  },
  {
   "cell_type": "code",
   "execution_count": null,
   "metadata": {},
   "outputs": [],
   "source": [
    "# set path to key credentials\n",
    "os.environ['GOOGLE_APPLICATION_CREDENTIALS'] = \"my-ml6-challenge-2462e6522a17.json\"\n",
    "\n",
    "model_info = {'project': 'my-ml6-challenge',\n",
    "              'model': 'food_classifier', \n",
    "              'version': 'v0_1'}\n",
    "\n",
    "pred_labels, probabilities, x0, y0, windowsize = \\\n",
    "    model_helpers.object_detection_sliding_window(model=model_info, \n",
    "                                                  input_img=img, \n",
    "                                                  preprocess_function=preprocess_inception_v3, \n",
    "                                                  kernel_size=224, \n",
    "                                                  ind2class=IND2CLASS, \n",
    "                                                  scaling_factors=[1.5], \n",
    "                                                  sliding_strides=[64], \n",
    "                                                  thr=0.95, \n",
    "                                                  overlap_thr=0.2)\n"
   ]
  },
  {
   "cell_type": "code",
   "execution_count": null,
   "metadata": {},
   "outputs": [],
   "source": [
    "fig = model_helpers.visualize_predictions(img, \n",
    "                                          pred_labels, \n",
    "                                          probabilities, \n",
    "                                          x0, \n",
    "                                          y0,\n",
    "                                          windowsize)"
   ]
  },
  {
   "cell_type": "code",
   "execution_count": null,
   "metadata": {},
   "outputs": [],
   "source": []
  },
  {
   "cell_type": "code",
   "execution_count": null,
   "metadata": {},
   "outputs": [],
   "source": []
  },
  {
   "cell_type": "code",
   "execution_count": null,
   "metadata": {},
   "outputs": [],
   "source": []
  },
  {
   "cell_type": "code",
   "execution_count": null,
   "metadata": {},
   "outputs": [],
   "source": []
  },
  {
   "cell_type": "code",
   "execution_count": null,
   "metadata": {},
   "outputs": [],
   "source": []
  },
  {
   "cell_type": "code",
   "execution_count": null,
   "metadata": {},
   "outputs": [],
   "source": []
  },
  {
   "cell_type": "code",
   "execution_count": null,
   "metadata": {},
   "outputs": [],
   "source": []
  },
  {
   "cell_type": "code",
   "execution_count": null,
   "metadata": {},
   "outputs": [],
   "source": []
  },
  {
   "cell_type": "code",
   "execution_count": null,
   "metadata": {},
   "outputs": [],
   "source": []
  },
  {
   "cell_type": "code",
   "execution_count": null,
   "metadata": {},
   "outputs": [],
   "source": []
  },
  {
   "cell_type": "code",
   "execution_count": null,
   "metadata": {},
   "outputs": [],
   "source": []
  },
  {
   "cell_type": "code",
   "execution_count": null,
   "metadata": {},
   "outputs": [],
   "source": []
  }
 ],
 "metadata": {
  "kernelspec": {
   "display_name": "deep-food_test",
   "language": "python",
   "name": "deep-food_test"
  },
  "language_info": {
   "codemirror_mode": {
    "name": "ipython",
    "version": 3
   },
   "file_extension": ".py",
   "mimetype": "text/x-python",
   "name": "python",
   "nbconvert_exporter": "python",
   "pygments_lexer": "ipython3",
   "version": "3.6.10"
  }
 },
 "nbformat": 4,
 "nbformat_minor": 4
}
